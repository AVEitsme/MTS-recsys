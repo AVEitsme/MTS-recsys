{
 "cells": [
  {
   "cell_type": "code",
   "execution_count": 1,
   "id": "2d36edff",
   "metadata": {},
   "outputs": [],
   "source": [
    "import implicit\n",
    "import pickle\n",
    "import pandas as pd\n",
    "\n",
    "from scipy.sparse import csr_matrix\n",
    "from src.config import Config\n",
    "from src.dataset import DatasetProcessor\n",
    "from src.metrics import PrecisionAtK, RecallAtK"
   ]
  },
  {
   "cell_type": "code",
   "execution_count": 2,
   "id": "c139ad9d",
   "metadata": {},
   "outputs": [],
   "source": [
    "with Config.PREPROCESSED_INTERACTIONS_PATH.open(\"rb\") as file_object:\n",
    "    interactions = pickle.load(file_object)"
   ]
  },
  {
   "cell_type": "code",
   "execution_count": 3,
   "id": "5d710626",
   "metadata": {},
   "outputs": [],
   "source": [
    "interactions[\"interest_score\"] = ((interactions[\"progress\"].fillna(0.0) / 100) + (interactions[\"rating\"].astype(float).fillna(0.0) / 5)) / 2"
   ]
  },
  {
   "cell_type": "code",
   "execution_count": 4,
   "id": "22c9d2b3",
   "metadata": {},
   "outputs": [
    {
     "data": {
      "text/html": [
       "<div>\n",
       "<style scoped>\n",
       "    .dataframe tbody tr th:only-of-type {\n",
       "        vertical-align: middle;\n",
       "    }\n",
       "\n",
       "    .dataframe tbody tr th {\n",
       "        vertical-align: top;\n",
       "    }\n",
       "\n",
       "    .dataframe thead th {\n",
       "        text-align: right;\n",
       "    }\n",
       "</style>\n",
       "<table border=\"1\" class=\"dataframe\">\n",
       "  <thead>\n",
       "    <tr style=\"text-align: right;\">\n",
       "      <th></th>\n",
       "      <th>user_id</th>\n",
       "      <th>item_id</th>\n",
       "      <th>progress</th>\n",
       "      <th>rating</th>\n",
       "      <th>start_date</th>\n",
       "      <th>interest_score</th>\n",
       "    </tr>\n",
       "  </thead>\n",
       "  <tbody>\n",
       "    <tr>\n",
       "      <th>0</th>\n",
       "      <td>126706</td>\n",
       "      <td>14433</td>\n",
       "      <td>80</td>\n",
       "      <td>NaN</td>\n",
       "      <td>2018-01-01</td>\n",
       "      <td>0.400</td>\n",
       "    </tr>\n",
       "    <tr>\n",
       "      <th>1</th>\n",
       "      <td>127290</td>\n",
       "      <td>140952</td>\n",
       "      <td>58</td>\n",
       "      <td>NaN</td>\n",
       "      <td>2018-01-01</td>\n",
       "      <td>0.290</td>\n",
       "    </tr>\n",
       "    <tr>\n",
       "      <th>2</th>\n",
       "      <td>66991</td>\n",
       "      <td>198453</td>\n",
       "      <td>89</td>\n",
       "      <td>NaN</td>\n",
       "      <td>2018-01-01</td>\n",
       "      <td>0.445</td>\n",
       "    </tr>\n",
       "    <tr>\n",
       "      <th>3</th>\n",
       "      <td>46791</td>\n",
       "      <td>83486</td>\n",
       "      <td>23</td>\n",
       "      <td>5.0</td>\n",
       "      <td>2018-01-01</td>\n",
       "      <td>0.615</td>\n",
       "    </tr>\n",
       "    <tr>\n",
       "      <th>4</th>\n",
       "      <td>79313</td>\n",
       "      <td>188770</td>\n",
       "      <td>88</td>\n",
       "      <td>5.0</td>\n",
       "      <td>2018-01-01</td>\n",
       "      <td>0.940</td>\n",
       "    </tr>\n",
       "    <tr>\n",
       "      <th>...</th>\n",
       "      <td>...</td>\n",
       "      <td>...</td>\n",
       "      <td>...</td>\n",
       "      <td>...</td>\n",
       "      <td>...</td>\n",
       "      <td>...</td>\n",
       "    </tr>\n",
       "    <tr>\n",
       "      <th>1532993</th>\n",
       "      <td>153908</td>\n",
       "      <td>98585</td>\n",
       "      <td>44</td>\n",
       "      <td>NaN</td>\n",
       "      <td>2019-02-11</td>\n",
       "      <td>0.220</td>\n",
       "    </tr>\n",
       "    <tr>\n",
       "      <th>1532994</th>\n",
       "      <td>154008</td>\n",
       "      <td>251969</td>\n",
       "      <td>4</td>\n",
       "      <td>NaN</td>\n",
       "      <td>2018-04-08</td>\n",
       "      <td>0.020</td>\n",
       "    </tr>\n",
       "    <tr>\n",
       "      <th>1532995</th>\n",
       "      <td>154892</td>\n",
       "      <td>298192</td>\n",
       "      <td>68</td>\n",
       "      <td>5.0</td>\n",
       "      <td>2019-02-16</td>\n",
       "      <td>0.840</td>\n",
       "    </tr>\n",
       "    <tr>\n",
       "      <th>1532996</th>\n",
       "      <td>156948</td>\n",
       "      <td>38118</td>\n",
       "      <td>78</td>\n",
       "      <td>5.0</td>\n",
       "      <td>2018-08-19</td>\n",
       "      <td>0.890</td>\n",
       "    </tr>\n",
       "    <tr>\n",
       "      <th>1532997</th>\n",
       "      <td>158041</td>\n",
       "      <td>208145</td>\n",
       "      <td>64</td>\n",
       "      <td>4.0</td>\n",
       "      <td>2019-06-16</td>\n",
       "      <td>0.720</td>\n",
       "    </tr>\n",
       "  </tbody>\n",
       "</table>\n",
       "<p>1532998 rows × 6 columns</p>\n",
       "</div>"
      ],
      "text/plain": [
       "         user_id  item_id  progress  rating start_date  interest_score\n",
       "0         126706    14433        80     NaN 2018-01-01           0.400\n",
       "1         127290   140952        58     NaN 2018-01-01           0.290\n",
       "2          66991   198453        89     NaN 2018-01-01           0.445\n",
       "3          46791    83486        23     5.0 2018-01-01           0.615\n",
       "4          79313   188770        88     5.0 2018-01-01           0.940\n",
       "...          ...      ...       ...     ...        ...             ...\n",
       "1532993   153908    98585        44     NaN 2019-02-11           0.220\n",
       "1532994   154008   251969         4     NaN 2018-04-08           0.020\n",
       "1532995   154892   298192        68     5.0 2019-02-16           0.840\n",
       "1532996   156948    38118        78     5.0 2018-08-19           0.890\n",
       "1532997   158041   208145        64     4.0 2019-06-16           0.720\n",
       "\n",
       "[1532998 rows x 6 columns]"
      ]
     },
     "execution_count": 4,
     "metadata": {},
     "output_type": "execute_result"
    }
   ],
   "source": [
    "interactions"
   ]
  },
  {
   "cell_type": "code",
   "execution_count": 5,
   "id": "5c112d5b",
   "metadata": {},
   "outputs": [],
   "source": [
    "train, test = DatasetProcessor.split_train_test(interactions, \"start_date\", Config.TEST_DAYS)\n",
    "train = train[[\"user_id\", \"item_id\", \"interest_score\"]]\n",
    "test = test[[\"user_id\", \"item_id\", \"interest_score\"]]"
   ]
  },
  {
   "cell_type": "code",
   "execution_count": 6,
   "id": "ab56b337",
   "metadata": {},
   "outputs": [
    {
     "data": {
      "text/html": [
       "<div>\n",
       "<style scoped>\n",
       "    .dataframe tbody tr th:only-of-type {\n",
       "        vertical-align: middle;\n",
       "    }\n",
       "\n",
       "    .dataframe tbody tr th {\n",
       "        vertical-align: top;\n",
       "    }\n",
       "\n",
       "    .dataframe thead th {\n",
       "        text-align: right;\n",
       "    }\n",
       "</style>\n",
       "<table border=\"1\" class=\"dataframe\">\n",
       "  <thead>\n",
       "    <tr style=\"text-align: right;\">\n",
       "      <th></th>\n",
       "      <th>user_id</th>\n",
       "      <th>item_id</th>\n",
       "      <th>interest_score</th>\n",
       "    </tr>\n",
       "  </thead>\n",
       "  <tbody>\n",
       "    <tr>\n",
       "      <th>0</th>\n",
       "      <td>126706</td>\n",
       "      <td>14433</td>\n",
       "      <td>0.400</td>\n",
       "    </tr>\n",
       "    <tr>\n",
       "      <th>1</th>\n",
       "      <td>127290</td>\n",
       "      <td>140952</td>\n",
       "      <td>0.290</td>\n",
       "    </tr>\n",
       "    <tr>\n",
       "      <th>2</th>\n",
       "      <td>66991</td>\n",
       "      <td>198453</td>\n",
       "      <td>0.445</td>\n",
       "    </tr>\n",
       "    <tr>\n",
       "      <th>3</th>\n",
       "      <td>46791</td>\n",
       "      <td>83486</td>\n",
       "      <td>0.615</td>\n",
       "    </tr>\n",
       "    <tr>\n",
       "      <th>4</th>\n",
       "      <td>79313</td>\n",
       "      <td>188770</td>\n",
       "      <td>0.940</td>\n",
       "    </tr>\n",
       "    <tr>\n",
       "      <th>...</th>\n",
       "      <td>...</td>\n",
       "      <td>...</td>\n",
       "      <td>...</td>\n",
       "    </tr>\n",
       "    <tr>\n",
       "      <th>1532993</th>\n",
       "      <td>153908</td>\n",
       "      <td>98585</td>\n",
       "      <td>0.220</td>\n",
       "    </tr>\n",
       "    <tr>\n",
       "      <th>1532994</th>\n",
       "      <td>154008</td>\n",
       "      <td>251969</td>\n",
       "      <td>0.020</td>\n",
       "    </tr>\n",
       "    <tr>\n",
       "      <th>1532995</th>\n",
       "      <td>154892</td>\n",
       "      <td>298192</td>\n",
       "      <td>0.840</td>\n",
       "    </tr>\n",
       "    <tr>\n",
       "      <th>1532996</th>\n",
       "      <td>156948</td>\n",
       "      <td>38118</td>\n",
       "      <td>0.890</td>\n",
       "    </tr>\n",
       "    <tr>\n",
       "      <th>1532997</th>\n",
       "      <td>158041</td>\n",
       "      <td>208145</td>\n",
       "      <td>0.720</td>\n",
       "    </tr>\n",
       "  </tbody>\n",
       "</table>\n",
       "<p>1520069 rows × 3 columns</p>\n",
       "</div>"
      ],
      "text/plain": [
       "         user_id  item_id  interest_score\n",
       "0         126706    14433           0.400\n",
       "1         127290   140952           0.290\n",
       "2          66991   198453           0.445\n",
       "3          46791    83486           0.615\n",
       "4          79313   188770           0.940\n",
       "...          ...      ...             ...\n",
       "1532993   153908    98585           0.220\n",
       "1532994   154008   251969           0.020\n",
       "1532995   154892   298192           0.840\n",
       "1532996   156948    38118           0.890\n",
       "1532997   158041   208145           0.720\n",
       "\n",
       "[1520069 rows x 3 columns]"
      ]
     },
     "execution_count": 6,
     "metadata": {},
     "output_type": "execute_result"
    }
   ],
   "source": [
    "train"
   ]
  },
  {
   "cell_type": "code",
   "execution_count": 7,
   "id": "42a0b614",
   "metadata": {},
   "outputs": [
    {
     "data": {
      "text/html": [
       "<div>\n",
       "<style scoped>\n",
       "    .dataframe tbody tr th:only-of-type {\n",
       "        vertical-align: middle;\n",
       "    }\n",
       "\n",
       "    .dataframe tbody tr th {\n",
       "        vertical-align: top;\n",
       "    }\n",
       "\n",
       "    .dataframe thead th {\n",
       "        text-align: right;\n",
       "    }\n",
       "</style>\n",
       "<table border=\"1\" class=\"dataframe\">\n",
       "  <thead>\n",
       "    <tr style=\"text-align: right;\">\n",
       "      <th></th>\n",
       "      <th>user_id</th>\n",
       "      <th>item_id</th>\n",
       "      <th>interest_score</th>\n",
       "    </tr>\n",
       "  </thead>\n",
       "  <tbody>\n",
       "    <tr>\n",
       "      <th>1517914</th>\n",
       "      <td>38753</td>\n",
       "      <td>135245</td>\n",
       "      <td>0.000</td>\n",
       "    </tr>\n",
       "    <tr>\n",
       "      <th>1517915</th>\n",
       "      <td>101642</td>\n",
       "      <td>319500</td>\n",
       "      <td>0.835</td>\n",
       "    </tr>\n",
       "    <tr>\n",
       "      <th>1517916</th>\n",
       "      <td>13548</td>\n",
       "      <td>251184</td>\n",
       "      <td>0.000</td>\n",
       "    </tr>\n",
       "    <tr>\n",
       "      <th>1517917</th>\n",
       "      <td>130425</td>\n",
       "      <td>193445</td>\n",
       "      <td>0.490</td>\n",
       "    </tr>\n",
       "    <tr>\n",
       "      <th>1517918</th>\n",
       "      <td>93986</td>\n",
       "      <td>80733</td>\n",
       "      <td>0.235</td>\n",
       "    </tr>\n",
       "    <tr>\n",
       "      <th>...</th>\n",
       "      <td>...</td>\n",
       "      <td>...</td>\n",
       "      <td>...</td>\n",
       "    </tr>\n",
       "    <tr>\n",
       "      <th>1530838</th>\n",
       "      <td>141930</td>\n",
       "      <td>219928</td>\n",
       "      <td>0.450</td>\n",
       "    </tr>\n",
       "    <tr>\n",
       "      <th>1530839</th>\n",
       "      <td>53358</td>\n",
       "      <td>42887</td>\n",
       "      <td>0.290</td>\n",
       "    </tr>\n",
       "    <tr>\n",
       "      <th>1530840</th>\n",
       "      <td>151170</td>\n",
       "      <td>284652</td>\n",
       "      <td>0.135</td>\n",
       "    </tr>\n",
       "    <tr>\n",
       "      <th>1530841</th>\n",
       "      <td>141293</td>\n",
       "      <td>273421</td>\n",
       "      <td>0.240</td>\n",
       "    </tr>\n",
       "    <tr>\n",
       "      <th>1530842</th>\n",
       "      <td>65459</td>\n",
       "      <td>109030</td>\n",
       "      <td>0.365</td>\n",
       "    </tr>\n",
       "  </tbody>\n",
       "</table>\n",
       "<p>12929 rows × 3 columns</p>\n",
       "</div>"
      ],
      "text/plain": [
       "         user_id  item_id  interest_score\n",
       "1517914    38753   135245           0.000\n",
       "1517915   101642   319500           0.835\n",
       "1517916    13548   251184           0.000\n",
       "1517917   130425   193445           0.490\n",
       "1517918    93986    80733           0.235\n",
       "...          ...      ...             ...\n",
       "1530838   141930   219928           0.450\n",
       "1530839    53358    42887           0.290\n",
       "1530840   151170   284652           0.135\n",
       "1530841   141293   273421           0.240\n",
       "1530842    65459   109030           0.365\n",
       "\n",
       "[12929 rows x 3 columns]"
      ]
     },
     "execution_count": 7,
     "metadata": {},
     "output_type": "execute_result"
    }
   ],
   "source": [
    "test"
   ]
  },
  {
   "cell_type": "code",
   "execution_count": 8,
   "id": "f56cb5f9",
   "metadata": {},
   "outputs": [
    {
     "data": {
      "text/plain": [
       "9513"
      ]
     },
     "execution_count": 8,
     "metadata": {},
     "output_type": "execute_result"
    }
   ],
   "source": [
    "test.item_id.nunique()"
   ]
  },
  {
   "cell_type": "code",
   "execution_count": 9,
   "id": "14cee42a",
   "metadata": {},
   "outputs": [
    {
     "data": {
      "text/plain": [
       "<159613x321752 sparse matrix of type '<class 'numpy.float64'>'\n",
       "\twith 1520069 stored elements in Compressed Sparse Row format>"
      ]
     },
     "execution_count": 9,
     "metadata": {},
     "output_type": "execute_result"
    }
   ],
   "source": [
    "csr_train = csr_matrix(\n",
    "    (train[\"interest_score\"], (train[\"user_id\"], train[\"item_id\"]))\n",
    ")\n",
    "csr_train"
   ]
  },
  {
   "cell_type": "code",
   "execution_count": 10,
   "id": "9576521b",
   "metadata": {},
   "outputs": [
    {
     "data": {
      "text/plain": [
       "<159589x321708 sparse matrix of type '<class 'numpy.float64'>'\n",
       "\twith 12929 stored elements in Compressed Sparse Row format>"
      ]
     },
     "execution_count": 10,
     "metadata": {},
     "output_type": "execute_result"
    }
   ],
   "source": [
    "csr_test = csr_matrix(\n",
    "    (test[\"interest_score\"], (test[\"user_id\"], test[\"item_id\"]))\n",
    ")\n",
    "csr_test"
   ]
  },
  {
   "cell_type": "code",
   "execution_count": 11,
   "id": "6a889734",
   "metadata": {},
   "outputs": [],
   "source": [
    "precision = PrecisionAtK(Config.K)\n",
    "recall = RecallAtK(Config.K)\n",
    "metrics = {\n",
    "    \"precision\": precision,\n",
    "    \"recall\": recall\n",
    "}"
   ]
  },
  {
   "cell_type": "code",
   "execution_count": 12,
   "id": "ee4f5210",
   "metadata": {},
   "outputs": [
    {
     "data": {
      "application/vnd.jupyter.widget-view+json": {
       "model_id": "5ada7f4256de41baada4c76f8da1407c",
       "version_major": 2,
       "version_minor": 0
      },
      "text/plain": [
       "  0%|          | 0/30 [00:00<?, ?it/s]"
      ]
     },
     "metadata": {},
     "output_type": "display_data"
    }
   ],
   "source": [
    "als = implicit.als.AlternatingLeastSquares(factors=32, iterations=30, num_threads=4)\n",
    "als.fit(csr_train)"
   ]
  },
  {
   "cell_type": "code",
   "execution_count": 13,
   "id": "32437fe3",
   "metadata": {},
   "outputs": [
    {
     "data": {
      "application/vnd.jupyter.widget-view+json": {
       "model_id": "a2d8e2dd1cff48bb85ce875c2a4c52e6",
       "version_major": 2,
       "version_minor": 0
      },
      "text/plain": [
       "  0%|          | 0/321752 [00:00<?, ?it/s]"
      ]
     },
     "metadata": {},
     "output_type": "display_data"
    }
   ],
   "source": [
    "cosine = implicit.nearest_neighbours.CosineRecommender(K=Config.BASE_RECS_COUNT)\n",
    "cosine.fit(csr_train)"
   ]
  },
  {
   "cell_type": "code",
   "execution_count": 14,
   "id": "82d09f4d",
   "metadata": {},
   "outputs": [],
   "source": [
    "models = {\n",
    "    \"als\": als,\n",
    "    \"cosine\": cosine\n",
    "}"
   ]
  },
  {
   "cell_type": "code",
   "execution_count": 15,
   "id": "29ef4663",
   "metadata": {},
   "outputs": [
    {
     "name": "stdout",
     "output_type": "stream",
     "text": [
      "Model 'als':\n",
      "\tMetric precision@10: 0.005027457653337487\n",
      "\tMetric recall@10: 0.005027457653337487\n",
      "Model 'cosine':\n",
      "\tMetric precision@10: 0.008113543197463036\n",
      "\tMetric recall@10: 0.0008113543197462968\n"
     ]
    }
   ],
   "source": [
    "pred = pd.DataFrame(test[\"user_id\"].drop_duplicates())\n",
    "for model_name, model in models.items():\n",
    "    print(f\"Model '{model_name}':\")\n",
    "    pred[\"item_id\"] = pred[\"user_id\"].apply(\n",
    "    lambda user_id: \n",
    "        model.recommend(\n",
    "            user_id, \n",
    "            csr_train[user_id],\n",
    "            N=Config.K,\n",
    "            filter_already_liked_items=True\n",
    "        )[0]\n",
    "    )\n",
    "    pred = pred.explode(\"item_id\")\n",
    "    for metric_name, metric in metrics.items():\n",
    "        metric_val = test[\"user_id\"].apply(lambda user: \n",
    "            metric.calculate(\n",
    "                test[test[\"user_id\"] == user][\"item_id\"],\n",
    "                pred[pred[\"user_id\"] == user][\"item_id\"]\n",
    "            )\n",
    "        ).mean()\n",
    "        print(f\"\\tMetric {metric_name}@{Config.K}: {metric_val}\")"
   ]
  },
  {
   "cell_type": "code",
   "execution_count": 16,
   "id": "95b3df27",
   "metadata": {},
   "outputs": [],
   "source": [
    "with Config.IMPLICIT_PATH.open(\"wb\") as file_object:\n",
    "    pickle.dump(als, file_object)"
   ]
  },
  {
   "cell_type": "code",
   "execution_count": null,
   "id": "44601423",
   "metadata": {},
   "outputs": [],
   "source": []
  }
 ],
 "metadata": {
  "kernelspec": {
   "display_name": "core",
   "language": "python",
   "name": "python3"
  },
  "language_info": {
   "codemirror_mode": {
    "name": "ipython",
    "version": 3
   },
   "file_extension": ".py",
   "mimetype": "text/x-python",
   "name": "python",
   "nbconvert_exporter": "python",
   "pygments_lexer": "ipython3",
   "version": "3.10.9"
  },
  "vscode": {
   "interpreter": {
    "hash": "009d69282f0b7257078526d54b136153003b0cf2c7ed5bb47bc5d27e99d5a7ba"
   }
  }
 },
 "nbformat": 4,
 "nbformat_minor": 5
}

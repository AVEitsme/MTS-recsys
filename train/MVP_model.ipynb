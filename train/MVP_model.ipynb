{
 "cells": [
  {
   "cell_type": "code",
   "execution_count": 1,
   "metadata": {},
   "outputs": [],
   "source": [
    "import os\n",
    "os.chdir(\"..\")"
   ]
  },
  {
   "cell_type": "code",
   "execution_count": 2,
   "metadata": {},
   "outputs": [],
   "source": [
    "import pickle\n",
    "import pandas as pd\n",
    "from implicit.als import AlternatingLeastSquares\n",
    "from scipy.sparse import csr_matrix\n",
    "from typing import Callable\n",
    "from src.config import Config\n",
    "from src.dataset import Interactions\n",
    "from src.metrics import PrecisionAtK, RecallAtK\n",
    "from src.optimizer import OptunaMaximizer"
   ]
  },
  {
   "cell_type": "code",
   "execution_count": 3,
   "metadata": {},
   "outputs": [],
   "source": [
    "with Config.PREPROCESSED_INTERACTIONS_PATH.open(\"rb\") as file_object:\n",
    "    interactions = pickle.load(file_object)"
   ]
  },
  {
   "cell_type": "code",
   "execution_count": 4,
   "metadata": {},
   "outputs": [],
   "source": [
    "interactions[\"interest_score_binary\"] = 0\n",
    "interactions.loc[interactions[\"interest_score\" ]>= .7, [\"interest_score_binary\"]] = 1"
   ]
  },
  {
   "cell_type": "code",
   "execution_count": 5,
   "metadata": {},
   "outputs": [
    {
     "data": {
      "text/html": [
       "<div>\n",
       "<style scoped>\n",
       "    .dataframe tbody tr th:only-of-type {\n",
       "        vertical-align: middle;\n",
       "    }\n",
       "\n",
       "    .dataframe tbody tr th {\n",
       "        vertical-align: top;\n",
       "    }\n",
       "\n",
       "    .dataframe thead th {\n",
       "        text-align: right;\n",
       "    }\n",
       "</style>\n",
       "<table border=\"1\" class=\"dataframe\">\n",
       "  <thead>\n",
       "    <tr style=\"text-align: right;\">\n",
       "      <th></th>\n",
       "      <th>user_id</th>\n",
       "      <th>item_id</th>\n",
       "      <th>progress</th>\n",
       "      <th>rating</th>\n",
       "      <th>start_date</th>\n",
       "      <th>interest_score</th>\n",
       "      <th>interest_score_binary</th>\n",
       "    </tr>\n",
       "  </thead>\n",
       "  <tbody>\n",
       "    <tr>\n",
       "      <th>0</th>\n",
       "      <td>126706</td>\n",
       "      <td>14433</td>\n",
       "      <td>80</td>\n",
       "      <td>NaN</td>\n",
       "      <td>2018-01-01</td>\n",
       "      <td>0.400</td>\n",
       "      <td>0</td>\n",
       "    </tr>\n",
       "    <tr>\n",
       "      <th>1</th>\n",
       "      <td>127290</td>\n",
       "      <td>140952</td>\n",
       "      <td>58</td>\n",
       "      <td>NaN</td>\n",
       "      <td>2018-01-01</td>\n",
       "      <td>0.290</td>\n",
       "      <td>0</td>\n",
       "    </tr>\n",
       "    <tr>\n",
       "      <th>2</th>\n",
       "      <td>66991</td>\n",
       "      <td>198453</td>\n",
       "      <td>89</td>\n",
       "      <td>NaN</td>\n",
       "      <td>2018-01-01</td>\n",
       "      <td>0.445</td>\n",
       "      <td>0</td>\n",
       "    </tr>\n",
       "    <tr>\n",
       "      <th>3</th>\n",
       "      <td>46791</td>\n",
       "      <td>83486</td>\n",
       "      <td>23</td>\n",
       "      <td>5.0</td>\n",
       "      <td>2018-01-01</td>\n",
       "      <td>0.615</td>\n",
       "      <td>0</td>\n",
       "    </tr>\n",
       "    <tr>\n",
       "      <th>4</th>\n",
       "      <td>79313</td>\n",
       "      <td>188770</td>\n",
       "      <td>88</td>\n",
       "      <td>5.0</td>\n",
       "      <td>2018-01-01</td>\n",
       "      <td>0.940</td>\n",
       "      <td>1</td>\n",
       "    </tr>\n",
       "    <tr>\n",
       "      <th>...</th>\n",
       "      <td>...</td>\n",
       "      <td>...</td>\n",
       "      <td>...</td>\n",
       "      <td>...</td>\n",
       "      <td>...</td>\n",
       "      <td>...</td>\n",
       "      <td>...</td>\n",
       "    </tr>\n",
       "    <tr>\n",
       "      <th>1532993</th>\n",
       "      <td>153908</td>\n",
       "      <td>98585</td>\n",
       "      <td>44</td>\n",
       "      <td>NaN</td>\n",
       "      <td>2019-02-11</td>\n",
       "      <td>0.220</td>\n",
       "      <td>0</td>\n",
       "    </tr>\n",
       "    <tr>\n",
       "      <th>1532994</th>\n",
       "      <td>154008</td>\n",
       "      <td>251969</td>\n",
       "      <td>4</td>\n",
       "      <td>NaN</td>\n",
       "      <td>2018-04-08</td>\n",
       "      <td>0.020</td>\n",
       "      <td>0</td>\n",
       "    </tr>\n",
       "    <tr>\n",
       "      <th>1532995</th>\n",
       "      <td>154892</td>\n",
       "      <td>298192</td>\n",
       "      <td>68</td>\n",
       "      <td>5.0</td>\n",
       "      <td>2019-02-16</td>\n",
       "      <td>0.840</td>\n",
       "      <td>1</td>\n",
       "    </tr>\n",
       "    <tr>\n",
       "      <th>1532996</th>\n",
       "      <td>156948</td>\n",
       "      <td>38118</td>\n",
       "      <td>78</td>\n",
       "      <td>5.0</td>\n",
       "      <td>2018-08-19</td>\n",
       "      <td>0.890</td>\n",
       "      <td>1</td>\n",
       "    </tr>\n",
       "    <tr>\n",
       "      <th>1532997</th>\n",
       "      <td>158041</td>\n",
       "      <td>208145</td>\n",
       "      <td>64</td>\n",
       "      <td>4.0</td>\n",
       "      <td>2019-06-16</td>\n",
       "      <td>0.720</td>\n",
       "      <td>1</td>\n",
       "    </tr>\n",
       "  </tbody>\n",
       "</table>\n",
       "<p>1332091 rows × 7 columns</p>\n",
       "</div>"
      ],
      "text/plain": [
       "         user_id  item_id  progress  rating start_date  interest_score  \\\n",
       "0         126706    14433        80     NaN 2018-01-01           0.400   \n",
       "1         127290   140952        58     NaN 2018-01-01           0.290   \n",
       "2          66991   198453        89     NaN 2018-01-01           0.445   \n",
       "3          46791    83486        23     5.0 2018-01-01           0.615   \n",
       "4          79313   188770        88     5.0 2018-01-01           0.940   \n",
       "...          ...      ...       ...     ...        ...             ...   \n",
       "1532993   153908    98585        44     NaN 2019-02-11           0.220   \n",
       "1532994   154008   251969         4     NaN 2018-04-08           0.020   \n",
       "1532995   154892   298192        68     5.0 2019-02-16           0.840   \n",
       "1532996   156948    38118        78     5.0 2018-08-19           0.890   \n",
       "1532997   158041   208145        64     4.0 2019-06-16           0.720   \n",
       "\n",
       "         interest_score_binary  \n",
       "0                            0  \n",
       "1                            0  \n",
       "2                            0  \n",
       "3                            0  \n",
       "4                            1  \n",
       "...                        ...  \n",
       "1532993                      0  \n",
       "1532994                      0  \n",
       "1532995                      1  \n",
       "1532996                      1  \n",
       "1532997                      1  \n",
       "\n",
       "[1332091 rows x 7 columns]"
      ]
     },
     "execution_count": 5,
     "metadata": {},
     "output_type": "execute_result"
    }
   ],
   "source": [
    "interactions"
   ]
  },
  {
   "cell_type": "code",
   "execution_count": 6,
   "metadata": {},
   "outputs": [],
   "source": [
    "interactions = Interactions(interactions, test_days=30, valid_days=60)"
   ]
  },
  {
   "cell_type": "code",
   "execution_count": 7,
   "metadata": {},
   "outputs": [
    {
     "data": {
      "text/html": [
       "<div>\n",
       "<style scoped>\n",
       "    .dataframe tbody tr th:only-of-type {\n",
       "        vertical-align: middle;\n",
       "    }\n",
       "\n",
       "    .dataframe tbody tr th {\n",
       "        vertical-align: top;\n",
       "    }\n",
       "\n",
       "    .dataframe thead th {\n",
       "        text-align: right;\n",
       "    }\n",
       "</style>\n",
       "<table border=\"1\" class=\"dataframe\">\n",
       "  <thead>\n",
       "    <tr style=\"text-align: right;\">\n",
       "      <th></th>\n",
       "      <th>user_id</th>\n",
       "      <th>item_id</th>\n",
       "      <th>progress</th>\n",
       "      <th>rating</th>\n",
       "      <th>start_date</th>\n",
       "      <th>interest_score</th>\n",
       "      <th>interest_score_binary</th>\n",
       "    </tr>\n",
       "  </thead>\n",
       "  <tbody>\n",
       "    <tr>\n",
       "      <th>0</th>\n",
       "      <td>126706</td>\n",
       "      <td>14433</td>\n",
       "      <td>80</td>\n",
       "      <td>NaN</td>\n",
       "      <td>2018-01-01</td>\n",
       "      <td>0.400</td>\n",
       "      <td>0</td>\n",
       "    </tr>\n",
       "    <tr>\n",
       "      <th>1</th>\n",
       "      <td>127290</td>\n",
       "      <td>140952</td>\n",
       "      <td>58</td>\n",
       "      <td>NaN</td>\n",
       "      <td>2018-01-01</td>\n",
       "      <td>0.290</td>\n",
       "      <td>0</td>\n",
       "    </tr>\n",
       "    <tr>\n",
       "      <th>2</th>\n",
       "      <td>66991</td>\n",
       "      <td>198453</td>\n",
       "      <td>89</td>\n",
       "      <td>NaN</td>\n",
       "      <td>2018-01-01</td>\n",
       "      <td>0.445</td>\n",
       "      <td>0</td>\n",
       "    </tr>\n",
       "    <tr>\n",
       "      <th>3</th>\n",
       "      <td>46791</td>\n",
       "      <td>83486</td>\n",
       "      <td>23</td>\n",
       "      <td>5.0</td>\n",
       "      <td>2018-01-01</td>\n",
       "      <td>0.615</td>\n",
       "      <td>0</td>\n",
       "    </tr>\n",
       "    <tr>\n",
       "      <th>4</th>\n",
       "      <td>79313</td>\n",
       "      <td>188770</td>\n",
       "      <td>88</td>\n",
       "      <td>5.0</td>\n",
       "      <td>2018-01-01</td>\n",
       "      <td>0.940</td>\n",
       "      <td>1</td>\n",
       "    </tr>\n",
       "    <tr>\n",
       "      <th>...</th>\n",
       "      <td>...</td>\n",
       "      <td>...</td>\n",
       "      <td>...</td>\n",
       "      <td>...</td>\n",
       "      <td>...</td>\n",
       "      <td>...</td>\n",
       "      <td>...</td>\n",
       "    </tr>\n",
       "    <tr>\n",
       "      <th>1532993</th>\n",
       "      <td>153908</td>\n",
       "      <td>98585</td>\n",
       "      <td>44</td>\n",
       "      <td>NaN</td>\n",
       "      <td>2019-02-11</td>\n",
       "      <td>0.220</td>\n",
       "      <td>0</td>\n",
       "    </tr>\n",
       "    <tr>\n",
       "      <th>1532994</th>\n",
       "      <td>154008</td>\n",
       "      <td>251969</td>\n",
       "      <td>4</td>\n",
       "      <td>NaN</td>\n",
       "      <td>2018-04-08</td>\n",
       "      <td>0.020</td>\n",
       "      <td>0</td>\n",
       "    </tr>\n",
       "    <tr>\n",
       "      <th>1532995</th>\n",
       "      <td>154892</td>\n",
       "      <td>298192</td>\n",
       "      <td>68</td>\n",
       "      <td>5.0</td>\n",
       "      <td>2019-02-16</td>\n",
       "      <td>0.840</td>\n",
       "      <td>1</td>\n",
       "    </tr>\n",
       "    <tr>\n",
       "      <th>1532996</th>\n",
       "      <td>156948</td>\n",
       "      <td>38118</td>\n",
       "      <td>78</td>\n",
       "      <td>5.0</td>\n",
       "      <td>2018-08-19</td>\n",
       "      <td>0.890</td>\n",
       "      <td>1</td>\n",
       "    </tr>\n",
       "    <tr>\n",
       "      <th>1532997</th>\n",
       "      <td>158041</td>\n",
       "      <td>208145</td>\n",
       "      <td>64</td>\n",
       "      <td>4.0</td>\n",
       "      <td>2019-06-16</td>\n",
       "      <td>0.720</td>\n",
       "      <td>1</td>\n",
       "    </tr>\n",
       "  </tbody>\n",
       "</table>\n",
       "<p>1217429 rows × 7 columns</p>\n",
       "</div>"
      ],
      "text/plain": [
       "         user_id  item_id  progress  rating start_date  interest_score  \\\n",
       "0         126706    14433        80     NaN 2018-01-01           0.400   \n",
       "1         127290   140952        58     NaN 2018-01-01           0.290   \n",
       "2          66991   198453        89     NaN 2018-01-01           0.445   \n",
       "3          46791    83486        23     5.0 2018-01-01           0.615   \n",
       "4          79313   188770        88     5.0 2018-01-01           0.940   \n",
       "...          ...      ...       ...     ...        ...             ...   \n",
       "1532993   153908    98585        44     NaN 2019-02-11           0.220   \n",
       "1532994   154008   251969         4     NaN 2018-04-08           0.020   \n",
       "1532995   154892   298192        68     5.0 2019-02-16           0.840   \n",
       "1532996   156948    38118        78     5.0 2018-08-19           0.890   \n",
       "1532997   158041   208145        64     4.0 2019-06-16           0.720   \n",
       "\n",
       "         interest_score_binary  \n",
       "0                            0  \n",
       "1                            0  \n",
       "2                            0  \n",
       "3                            0  \n",
       "4                            1  \n",
       "...                        ...  \n",
       "1532993                      0  \n",
       "1532994                      0  \n",
       "1532995                      1  \n",
       "1532996                      1  \n",
       "1532997                      1  \n",
       "\n",
       "[1217429 rows x 7 columns]"
      ]
     },
     "execution_count": 7,
     "metadata": {},
     "output_type": "execute_result"
    }
   ],
   "source": [
    "interactions.train"
   ]
  },
  {
   "cell_type": "code",
   "execution_count": 8,
   "metadata": {},
   "outputs": [
    {
     "data": {
      "text/html": [
       "<div>\n",
       "<style scoped>\n",
       "    .dataframe tbody tr th:only-of-type {\n",
       "        vertical-align: middle;\n",
       "    }\n",
       "\n",
       "    .dataframe tbody tr th {\n",
       "        vertical-align: top;\n",
       "    }\n",
       "\n",
       "    .dataframe thead th {\n",
       "        text-align: right;\n",
       "    }\n",
       "</style>\n",
       "<table border=\"1\" class=\"dataframe\">\n",
       "  <thead>\n",
       "    <tr style=\"text-align: right;\">\n",
       "      <th></th>\n",
       "      <th>user_id</th>\n",
       "      <th>item_id</th>\n",
       "      <th>progress</th>\n",
       "      <th>rating</th>\n",
       "      <th>start_date</th>\n",
       "      <th>interest_score</th>\n",
       "      <th>interest_score_binary</th>\n",
       "    </tr>\n",
       "  </thead>\n",
       "  <tbody>\n",
       "    <tr>\n",
       "      <th>0</th>\n",
       "      <td>126706</td>\n",
       "      <td>14433</td>\n",
       "      <td>80</td>\n",
       "      <td>NaN</td>\n",
       "      <td>2018-01-01</td>\n",
       "      <td>0.400</td>\n",
       "      <td>0</td>\n",
       "    </tr>\n",
       "    <tr>\n",
       "      <th>1</th>\n",
       "      <td>127290</td>\n",
       "      <td>140952</td>\n",
       "      <td>58</td>\n",
       "      <td>NaN</td>\n",
       "      <td>2018-01-01</td>\n",
       "      <td>0.290</td>\n",
       "      <td>0</td>\n",
       "    </tr>\n",
       "    <tr>\n",
       "      <th>2</th>\n",
       "      <td>66991</td>\n",
       "      <td>198453</td>\n",
       "      <td>89</td>\n",
       "      <td>NaN</td>\n",
       "      <td>2018-01-01</td>\n",
       "      <td>0.445</td>\n",
       "      <td>0</td>\n",
       "    </tr>\n",
       "    <tr>\n",
       "      <th>3</th>\n",
       "      <td>46791</td>\n",
       "      <td>83486</td>\n",
       "      <td>23</td>\n",
       "      <td>5.0</td>\n",
       "      <td>2018-01-01</td>\n",
       "      <td>0.615</td>\n",
       "      <td>0</td>\n",
       "    </tr>\n",
       "    <tr>\n",
       "      <th>4</th>\n",
       "      <td>79313</td>\n",
       "      <td>188770</td>\n",
       "      <td>88</td>\n",
       "      <td>5.0</td>\n",
       "      <td>2018-01-01</td>\n",
       "      <td>0.940</td>\n",
       "      <td>1</td>\n",
       "    </tr>\n",
       "    <tr>\n",
       "      <th>...</th>\n",
       "      <td>...</td>\n",
       "      <td>...</td>\n",
       "      <td>...</td>\n",
       "      <td>...</td>\n",
       "      <td>...</td>\n",
       "      <td>...</td>\n",
       "      <td>...</td>\n",
       "    </tr>\n",
       "    <tr>\n",
       "      <th>1469712</th>\n",
       "      <td>142744</td>\n",
       "      <td>230067</td>\n",
       "      <td>3</td>\n",
       "      <td>NaN</td>\n",
       "      <td>2019-12-01</td>\n",
       "      <td>0.015</td>\n",
       "      <td>0</td>\n",
       "    </tr>\n",
       "    <tr>\n",
       "      <th>1469713</th>\n",
       "      <td>73145</td>\n",
       "      <td>223263</td>\n",
       "      <td>6</td>\n",
       "      <td>NaN</td>\n",
       "      <td>2019-12-01</td>\n",
       "      <td>0.030</td>\n",
       "      <td>0</td>\n",
       "    </tr>\n",
       "    <tr>\n",
       "      <th>1469715</th>\n",
       "      <td>100060</td>\n",
       "      <td>313623</td>\n",
       "      <td>11</td>\n",
       "      <td>5.0</td>\n",
       "      <td>2019-12-01</td>\n",
       "      <td>0.555</td>\n",
       "      <td>0</td>\n",
       "    </tr>\n",
       "    <tr>\n",
       "      <th>1469717</th>\n",
       "      <td>82749</td>\n",
       "      <td>165018</td>\n",
       "      <td>2</td>\n",
       "      <td>NaN</td>\n",
       "      <td>2019-12-01</td>\n",
       "      <td>0.010</td>\n",
       "      <td>0</td>\n",
       "    </tr>\n",
       "    <tr>\n",
       "      <th>1469718</th>\n",
       "      <td>28384</td>\n",
       "      <td>68875</td>\n",
       "      <td>100</td>\n",
       "      <td>NaN</td>\n",
       "      <td>2019-12-01</td>\n",
       "      <td>0.500</td>\n",
       "      <td>0</td>\n",
       "    </tr>\n",
       "  </tbody>\n",
       "</table>\n",
       "<p>1316432 rows × 7 columns</p>\n",
       "</div>"
      ],
      "text/plain": [
       "         user_id  item_id  progress  rating start_date  interest_score  \\\n",
       "0         126706    14433        80     NaN 2018-01-01           0.400   \n",
       "1         127290   140952        58     NaN 2018-01-01           0.290   \n",
       "2          66991   198453        89     NaN 2018-01-01           0.445   \n",
       "3          46791    83486        23     5.0 2018-01-01           0.615   \n",
       "4          79313   188770        88     5.0 2018-01-01           0.940   \n",
       "...          ...      ...       ...     ...        ...             ...   \n",
       "1469712   142744   230067         3     NaN 2019-12-01           0.015   \n",
       "1469713    73145   223263         6     NaN 2019-12-01           0.030   \n",
       "1469715   100060   313623        11     5.0 2019-12-01           0.555   \n",
       "1469717    82749   165018         2     NaN 2019-12-01           0.010   \n",
       "1469718    28384    68875       100     NaN 2019-12-01           0.500   \n",
       "\n",
       "         interest_score_binary  \n",
       "0                            0  \n",
       "1                            0  \n",
       "2                            0  \n",
       "3                            0  \n",
       "4                            1  \n",
       "...                        ...  \n",
       "1469712                      0  \n",
       "1469713                      0  \n",
       "1469715                      0  \n",
       "1469717                      0  \n",
       "1469718                      0  \n",
       "\n",
       "[1316432 rows x 7 columns]"
      ]
     },
     "execution_count": 8,
     "metadata": {},
     "output_type": "execute_result"
    }
   ],
   "source": [
    "interactions.train = pd.concat(\n",
    "    [\n",
    "        interactions.train,\n",
    "        interactions.test[interactions.test[\"interest_score_binary\"] == 0].copy(),\n",
    "        interactions.valid[interactions.valid[\"interest_score_binary\"] == 0].copy()\n",
    "    ]\n",
    ")\n",
    "interactions.train"
   ]
  },
  {
   "cell_type": "code",
   "execution_count": 9,
   "metadata": {},
   "outputs": [
    {
     "data": {
      "text/html": [
       "<div>\n",
       "<style scoped>\n",
       "    .dataframe tbody tr th:only-of-type {\n",
       "        vertical-align: middle;\n",
       "    }\n",
       "\n",
       "    .dataframe tbody tr th {\n",
       "        vertical-align: top;\n",
       "    }\n",
       "\n",
       "    .dataframe thead th {\n",
       "        text-align: right;\n",
       "    }\n",
       "</style>\n",
       "<table border=\"1\" class=\"dataframe\">\n",
       "  <thead>\n",
       "    <tr style=\"text-align: right;\">\n",
       "      <th></th>\n",
       "      <th>user_id</th>\n",
       "      <th>item_id</th>\n",
       "      <th>progress</th>\n",
       "      <th>rating</th>\n",
       "      <th>start_date</th>\n",
       "      <th>interest_score</th>\n",
       "      <th>interest_score_binary</th>\n",
       "    </tr>\n",
       "  </thead>\n",
       "  <tbody>\n",
       "    <tr>\n",
       "      <th>1469727</th>\n",
       "      <td>129896</td>\n",
       "      <td>168726</td>\n",
       "      <td>100</td>\n",
       "      <td>5.0</td>\n",
       "      <td>2019-12-02</td>\n",
       "      <td>1.000</td>\n",
       "      <td>1</td>\n",
       "    </tr>\n",
       "    <tr>\n",
       "      <th>1469756</th>\n",
       "      <td>89727</td>\n",
       "      <td>75814</td>\n",
       "      <td>75</td>\n",
       "      <td>5.0</td>\n",
       "      <td>2019-12-02</td>\n",
       "      <td>0.875</td>\n",
       "      <td>1</td>\n",
       "    </tr>\n",
       "    <tr>\n",
       "      <th>1469772</th>\n",
       "      <td>49785</td>\n",
       "      <td>252986</td>\n",
       "      <td>99</td>\n",
       "      <td>5.0</td>\n",
       "      <td>2019-12-02</td>\n",
       "      <td>0.995</td>\n",
       "      <td>1</td>\n",
       "    </tr>\n",
       "    <tr>\n",
       "      <th>1469775</th>\n",
       "      <td>135061</td>\n",
       "      <td>141047</td>\n",
       "      <td>49</td>\n",
       "      <td>5.0</td>\n",
       "      <td>2019-12-02</td>\n",
       "      <td>0.745</td>\n",
       "      <td>1</td>\n",
       "    </tr>\n",
       "    <tr>\n",
       "      <th>1469777</th>\n",
       "      <td>47747</td>\n",
       "      <td>55458</td>\n",
       "      <td>99</td>\n",
       "      <td>3.0</td>\n",
       "      <td>2019-12-02</td>\n",
       "      <td>0.795</td>\n",
       "      <td>1</td>\n",
       "    </tr>\n",
       "    <tr>\n",
       "      <th>...</th>\n",
       "      <td>...</td>\n",
       "      <td>...</td>\n",
       "      <td>...</td>\n",
       "      <td>...</td>\n",
       "      <td>...</td>\n",
       "      <td>...</td>\n",
       "      <td>...</td>\n",
       "    </tr>\n",
       "    <tr>\n",
       "      <th>1530792</th>\n",
       "      <td>113785</td>\n",
       "      <td>230592</td>\n",
       "      <td>100</td>\n",
       "      <td>5.0</td>\n",
       "      <td>2019-12-30</td>\n",
       "      <td>1.000</td>\n",
       "      <td>1</td>\n",
       "    </tr>\n",
       "    <tr>\n",
       "      <th>1530793</th>\n",
       "      <td>49989</td>\n",
       "      <td>234938</td>\n",
       "      <td>99</td>\n",
       "      <td>5.0</td>\n",
       "      <td>2019-12-30</td>\n",
       "      <td>0.995</td>\n",
       "      <td>1</td>\n",
       "    </tr>\n",
       "    <tr>\n",
       "      <th>1530794</th>\n",
       "      <td>96202</td>\n",
       "      <td>230592</td>\n",
       "      <td>100</td>\n",
       "      <td>5.0</td>\n",
       "      <td>2019-12-30</td>\n",
       "      <td>1.000</td>\n",
       "      <td>1</td>\n",
       "    </tr>\n",
       "    <tr>\n",
       "      <th>1530799</th>\n",
       "      <td>29877</td>\n",
       "      <td>162000</td>\n",
       "      <td>79</td>\n",
       "      <td>5.0</td>\n",
       "      <td>2019-12-30</td>\n",
       "      <td>0.895</td>\n",
       "      <td>1</td>\n",
       "    </tr>\n",
       "    <tr>\n",
       "      <th>1530813</th>\n",
       "      <td>105961</td>\n",
       "      <td>270415</td>\n",
       "      <td>73</td>\n",
       "      <td>4.0</td>\n",
       "      <td>2019-12-30</td>\n",
       "      <td>0.765</td>\n",
       "      <td>1</td>\n",
       "    </tr>\n",
       "  </tbody>\n",
       "</table>\n",
       "<p>7394 rows × 7 columns</p>\n",
       "</div>"
      ],
      "text/plain": [
       "         user_id  item_id  progress  rating start_date  interest_score  \\\n",
       "1469727   129896   168726       100     5.0 2019-12-02           1.000   \n",
       "1469756    89727    75814        75     5.0 2019-12-02           0.875   \n",
       "1469772    49785   252986        99     5.0 2019-12-02           0.995   \n",
       "1469775   135061   141047        49     5.0 2019-12-02           0.745   \n",
       "1469777    47747    55458        99     3.0 2019-12-02           0.795   \n",
       "...          ...      ...       ...     ...        ...             ...   \n",
       "1530792   113785   230592       100     5.0 2019-12-30           1.000   \n",
       "1530793    49989   234938        99     5.0 2019-12-30           0.995   \n",
       "1530794    96202   230592       100     5.0 2019-12-30           1.000   \n",
       "1530799    29877   162000        79     5.0 2019-12-30           0.895   \n",
       "1530813   105961   270415        73     4.0 2019-12-30           0.765   \n",
       "\n",
       "         interest_score_binary  \n",
       "1469727                      1  \n",
       "1469756                      1  \n",
       "1469772                      1  \n",
       "1469775                      1  \n",
       "1469777                      1  \n",
       "...                        ...  \n",
       "1530792                      1  \n",
       "1530793                      1  \n",
       "1530794                      1  \n",
       "1530799                      1  \n",
       "1530813                      1  \n",
       "\n",
       "[7394 rows x 7 columns]"
      ]
     },
     "execution_count": 9,
     "metadata": {},
     "output_type": "execute_result"
    }
   ],
   "source": [
    "interactions.test = interactions.test[interactions.test[\"interest_score_binary\"] == 1]\n",
    "interactions.test"
   ]
  },
  {
   "cell_type": "code",
   "execution_count": 10,
   "metadata": {},
   "outputs": [
    {
     "data": {
      "text/html": [
       "<div>\n",
       "<style scoped>\n",
       "    .dataframe tbody tr th:only-of-type {\n",
       "        vertical-align: middle;\n",
       "    }\n",
       "\n",
       "    .dataframe tbody tr th {\n",
       "        vertical-align: top;\n",
       "    }\n",
       "\n",
       "    .dataframe thead th {\n",
       "        text-align: right;\n",
       "    }\n",
       "</style>\n",
       "<table border=\"1\" class=\"dataframe\">\n",
       "  <thead>\n",
       "    <tr style=\"text-align: right;\">\n",
       "      <th></th>\n",
       "      <th>user_id</th>\n",
       "      <th>item_id</th>\n",
       "      <th>progress</th>\n",
       "      <th>rating</th>\n",
       "      <th>start_date</th>\n",
       "      <th>interest_score</th>\n",
       "      <th>interest_score_binary</th>\n",
       "    </tr>\n",
       "  </thead>\n",
       "  <tbody>\n",
       "    <tr>\n",
       "      <th>1406113</th>\n",
       "      <td>135781</td>\n",
       "      <td>266343</td>\n",
       "      <td>85</td>\n",
       "      <td>5.0</td>\n",
       "      <td>2019-11-02</td>\n",
       "      <td>0.925</td>\n",
       "      <td>1</td>\n",
       "    </tr>\n",
       "    <tr>\n",
       "      <th>1406118</th>\n",
       "      <td>140910</td>\n",
       "      <td>136327</td>\n",
       "      <td>100</td>\n",
       "      <td>5.0</td>\n",
       "      <td>2019-11-02</td>\n",
       "      <td>1.000</td>\n",
       "      <td>1</td>\n",
       "    </tr>\n",
       "    <tr>\n",
       "      <th>1406122</th>\n",
       "      <td>33450</td>\n",
       "      <td>109201</td>\n",
       "      <td>98</td>\n",
       "      <td>5.0</td>\n",
       "      <td>2019-11-02</td>\n",
       "      <td>0.990</td>\n",
       "      <td>1</td>\n",
       "    </tr>\n",
       "    <tr>\n",
       "      <th>1406130</th>\n",
       "      <td>159354</td>\n",
       "      <td>78547</td>\n",
       "      <td>91</td>\n",
       "      <td>5.0</td>\n",
       "      <td>2019-11-02</td>\n",
       "      <td>0.955</td>\n",
       "      <td>1</td>\n",
       "    </tr>\n",
       "    <tr>\n",
       "      <th>1406148</th>\n",
       "      <td>83685</td>\n",
       "      <td>168854</td>\n",
       "      <td>99</td>\n",
       "      <td>3.0</td>\n",
       "      <td>2019-11-02</td>\n",
       "      <td>0.795</td>\n",
       "      <td>1</td>\n",
       "    </tr>\n",
       "    <tr>\n",
       "      <th>...</th>\n",
       "      <td>...</td>\n",
       "      <td>...</td>\n",
       "      <td>...</td>\n",
       "      <td>...</td>\n",
       "      <td>...</td>\n",
       "      <td>...</td>\n",
       "      <td>...</td>\n",
       "    </tr>\n",
       "    <tr>\n",
       "      <th>1469657</th>\n",
       "      <td>2681</td>\n",
       "      <td>70828</td>\n",
       "      <td>86</td>\n",
       "      <td>5.0</td>\n",
       "      <td>2019-12-01</td>\n",
       "      <td>0.930</td>\n",
       "      <td>1</td>\n",
       "    </tr>\n",
       "    <tr>\n",
       "      <th>1469667</th>\n",
       "      <td>3951</td>\n",
       "      <td>239790</td>\n",
       "      <td>99</td>\n",
       "      <td>5.0</td>\n",
       "      <td>2019-12-01</td>\n",
       "      <td>0.995</td>\n",
       "      <td>1</td>\n",
       "    </tr>\n",
       "    <tr>\n",
       "      <th>1469689</th>\n",
       "      <td>10808</td>\n",
       "      <td>72830</td>\n",
       "      <td>88</td>\n",
       "      <td>5.0</td>\n",
       "      <td>2019-12-01</td>\n",
       "      <td>0.940</td>\n",
       "      <td>1</td>\n",
       "    </tr>\n",
       "    <tr>\n",
       "      <th>1469701</th>\n",
       "      <td>45181</td>\n",
       "      <td>310618</td>\n",
       "      <td>73</td>\n",
       "      <td>5.0</td>\n",
       "      <td>2019-12-01</td>\n",
       "      <td>0.865</td>\n",
       "      <td>1</td>\n",
       "    </tr>\n",
       "    <tr>\n",
       "      <th>1469702</th>\n",
       "      <td>104680</td>\n",
       "      <td>194283</td>\n",
       "      <td>100</td>\n",
       "      <td>5.0</td>\n",
       "      <td>2019-12-01</td>\n",
       "      <td>1.000</td>\n",
       "      <td>1</td>\n",
       "    </tr>\n",
       "  </tbody>\n",
       "</table>\n",
       "<p>8265 rows × 7 columns</p>\n",
       "</div>"
      ],
      "text/plain": [
       "         user_id  item_id  progress  rating start_date  interest_score  \\\n",
       "1406113   135781   266343        85     5.0 2019-11-02           0.925   \n",
       "1406118   140910   136327       100     5.0 2019-11-02           1.000   \n",
       "1406122    33450   109201        98     5.0 2019-11-02           0.990   \n",
       "1406130   159354    78547        91     5.0 2019-11-02           0.955   \n",
       "1406148    83685   168854        99     3.0 2019-11-02           0.795   \n",
       "...          ...      ...       ...     ...        ...             ...   \n",
       "1469657     2681    70828        86     5.0 2019-12-01           0.930   \n",
       "1469667     3951   239790        99     5.0 2019-12-01           0.995   \n",
       "1469689    10808    72830        88     5.0 2019-12-01           0.940   \n",
       "1469701    45181   310618        73     5.0 2019-12-01           0.865   \n",
       "1469702   104680   194283       100     5.0 2019-12-01           1.000   \n",
       "\n",
       "         interest_score_binary  \n",
       "1406113                      1  \n",
       "1406118                      1  \n",
       "1406122                      1  \n",
       "1406130                      1  \n",
       "1406148                      1  \n",
       "...                        ...  \n",
       "1469657                      1  \n",
       "1469667                      1  \n",
       "1469689                      1  \n",
       "1469701                      1  \n",
       "1469702                      1  \n",
       "\n",
       "[8265 rows x 7 columns]"
      ]
     },
     "execution_count": 10,
     "metadata": {},
     "output_type": "execute_result"
    }
   ],
   "source": [
    "interactions.valid = interactions.valid[interactions.valid[\"interest_score_binary\"] == 1]\n",
    "interactions.valid"
   ]
  },
  {
   "cell_type": "code",
   "execution_count": 11,
   "metadata": {},
   "outputs": [],
   "source": [
    "interactions.train = interactions.train[[\"user_id\", \"item_id\", \"interest_score_binary\"]]\n",
    "interactions.test = interactions.test[[\"user_id\", \"item_id\", \"interest_score_binary\"]]\n",
    "interactions.valid = interactions.valid[[\"user_id\", \"item_id\", \"interest_score_binary\"]]"
   ]
  },
  {
   "cell_type": "code",
   "execution_count": 12,
   "metadata": {},
   "outputs": [
    {
     "data": {
      "text/plain": [
       "<159613x321752 sparse matrix of type '<class 'numpy.int64'>'\n",
       "\twith 1316432 stored elements in Compressed Sparse Row format>"
      ]
     },
     "execution_count": 12,
     "metadata": {},
     "output_type": "execute_result"
    }
   ],
   "source": [
    "csr_train = csr_matrix(\n",
    "    (interactions.train[\"interest_score_binary\"], \n",
    "    (interactions.train[\"user_id\"], interactions.train[\"item_id\"]))\n",
    ")\n",
    "csr_train"
   ]
  },
  {
   "cell_type": "code",
   "execution_count": 13,
   "metadata": {},
   "outputs": [],
   "source": [
    "class Objective:\n",
    "    def __init__(self, train: csr_matrix, valid: pd.DataFrame, metric: Callable):\n",
    "        self.train = train\n",
    "        self.valid = valid\n",
    "        self.metric = metric\n",
    "\n",
    "    def __call__(self, trial) -> float:\n",
    "        search_space = {\n",
    "            \"factors\": trial.suggest_int(\"factors\", 4, 256),\n",
    "            \"regularization\": trial.suggest_float(\"regularization\", 1e-8, 0.1),\n",
    "            \"iterations\": trial.suggest_int(\"iterations\", 8, 64),\n",
    "            \"num_threads\": Config.NUM_THREADS\n",
    "        }\n",
    "        model = AlternatingLeastSquares(**search_space)\n",
    "        model.fit(self.train)\n",
    "        predictions = pd.DataFrame(self.valid[\"user_id\"].drop_duplicates())\n",
    "        predictions[\"item_id\"] = predictions[\"user_id\"].apply(\n",
    "            lambda user_id: \n",
    "                model.recommend(\n",
    "                    user_id, \n",
    "                    self.train[user_id],\n",
    "                    N=Config.K,\n",
    "                    filter_already_liked_items=True\n",
    "                )[0]\n",
    "        )\n",
    "        predictions = predictions.explode(\"item_id\")\n",
    "        return self.valid[\"user_id\"].drop_duplicates().apply(\n",
    "            lambda user_id: \n",
    "                self.metric.calculate(\n",
    "                    predictions[predictions[\"user_id\"] == user_id][\"item_id\"],\n",
    "                    self.valid[self.valid[\"user_id\"] == user_id][\"item_id\"]\n",
    "                )\n",
    "        ).mean()"
   ]
  },
  {
   "cell_type": "code",
   "execution_count": 14,
   "metadata": {},
   "outputs": [],
   "source": [
    "recall = RecallAtK(Config.K)\n",
    "precision = PrecisionAtK(Config.K)"
   ]
  },
  {
   "cell_type": "code",
   "execution_count": 15,
   "metadata": {},
   "outputs": [
    {
     "name": "stderr",
     "output_type": "stream",
     "text": [
      "\u001b[32m[I 2023-03-11 12:58:50,108]\u001b[0m A new study created in memory with name: ALS precision maximize\u001b[0m\n",
      "/home/aveitsme/miniconda3/envs/core/lib/python3.10/site-packages/optuna/progress_bar.py:56: ExperimentalWarning: Progress bar is experimental (supported from v1.2.0). The interface can change in the future.\n",
      "  self._init_valid()\n"
     ]
    },
    {
     "data": {
      "application/vnd.jupyter.widget-view+json": {
       "model_id": "da626bc50b31439287f3d9f2ed0c62f1",
       "version_major": 2,
       "version_minor": 0
      },
      "text/plain": [
       "  0%|          | 0/100 [00:00<?, ?it/s]"
      ]
     },
     "metadata": {},
     "output_type": "display_data"
    },
    {
     "data": {
      "application/vnd.jupyter.widget-view+json": {
       "model_id": "ceb303503ce64e72af1b1dfc97706776",
       "version_major": 2,
       "version_minor": 0
      },
      "text/plain": [
       "  0%|          | 0/10 [00:00<?, ?it/s]"
      ]
     },
     "metadata": {},
     "output_type": "display_data"
    },
    {
     "name": "stdout",
     "output_type": "stream",
     "text": [
      "\u001b[32m[I 2023-03-11 12:58:55,849]\u001b[0m Trial 0 finished with value: 0.0037897586284683037 and parameters: {'factors': 126, 'regularization': 0.022618699036281446, 'iterations': 10}. Best is trial 0 with value: 0.0037897586284683037.\u001b[0m\n"
     ]
    },
    {
     "data": {
      "application/vnd.jupyter.widget-view+json": {
       "model_id": "d0fd9c2007914cf5875c62edb3e56c5b",
       "version_major": 2,
       "version_minor": 0
      },
      "text/plain": [
       "  0%|          | 0/34 [00:00<?, ?it/s]"
      ]
     },
     "metadata": {},
     "output_type": "display_data"
    },
    {
     "name": "stdout",
     "output_type": "stream",
     "text": [
      "\u001b[32m[I 2023-03-11 12:58:59,692]\u001b[0m Trial 1 finished with value: 0.0030904579291676027 and parameters: {'factors': 41, 'regularization': 0.09106332119201567, 'iterations': 34}. Best is trial 0 with value: 0.0037897586284683037.\u001b[0m\n"
     ]
    },
    {
     "data": {
      "application/vnd.jupyter.widget-view+json": {
       "model_id": "4e1b88acf53144cab64403dd2f72695b",
       "version_major": 2,
       "version_minor": 0
      },
      "text/plain": [
       "  0%|          | 0/38 [00:00<?, ?it/s]"
      ]
     },
     "metadata": {},
     "output_type": "display_data"
    },
    {
     "name": "stdout",
     "output_type": "stream",
     "text": [
      "\u001b[32m[I 2023-03-11 12:59:11,515]\u001b[0m Trial 2 finished with value: 0.004331152718249495 and parameters: {'factors': 234, 'regularization': 0.06677505963776753, 'iterations': 38}. Best is trial 2 with value: 0.004331152718249495.\u001b[0m\n"
     ]
    },
    {
     "data": {
      "application/vnd.jupyter.widget-view+json": {
       "model_id": "3ef353be0df54c0780baade13d6e5c9b",
       "version_major": 2,
       "version_minor": 0
      },
      "text/plain": [
       "  0%|          | 0/63 [00:00<?, ?it/s]"
      ]
     },
     "metadata": {},
     "output_type": "display_data"
    },
    {
     "name": "stdout",
     "output_type": "stream",
     "text": [
      "\u001b[32m[I 2023-03-11 12:59:24,240]\u001b[0m Trial 3 finished with value: 0.003992781412136249 and parameters: {'factors': 195, 'regularization': 0.05596335908122881, 'iterations': 63}. Best is trial 2 with value: 0.004331152718249495.\u001b[0m\n"
     ]
    },
    {
     "data": {
      "application/vnd.jupyter.widget-view+json": {
       "model_id": "e482ad9e4399422fa430250dbfe6c905",
       "version_major": 2,
       "version_minor": 0
      },
      "text/plain": [
       "  0%|          | 0/31 [00:00<?, ?it/s]"
      ]
     },
     "metadata": {},
     "output_type": "display_data"
    },
    {
     "name": "stdout",
     "output_type": "stream",
     "text": [
      "\u001b[32m[I 2023-03-11 12:59:33,732]\u001b[0m Trial 4 finished with value: 0.004150688021655764 and parameters: {'factors': 197, 'regularization': 0.026948533814286368, 'iterations': 31}. Best is trial 2 with value: 0.004331152718249495.\u001b[0m\n"
     ]
    },
    {
     "data": {
      "application/vnd.jupyter.widget-view+json": {
       "model_id": "dcba6644c2fe4589bbcf2e495ab3f4d4",
       "version_major": 2,
       "version_minor": 0
      },
      "text/plain": [
       "  0%|          | 0/23 [00:00<?, ?it/s]"
      ]
     },
     "metadata": {},
     "output_type": "display_data"
    },
    {
     "name": "stdout",
     "output_type": "stream",
     "text": [
      "\u001b[32m[I 2023-03-11 12:59:39,073]\u001b[0m Trial 5 finished with value: 0.003541619670651924 and parameters: {'factors': 100, 'regularization': 0.08330676340620381, 'iterations': 23}. Best is trial 2 with value: 0.004331152718249495.\u001b[0m\n"
     ]
    },
    {
     "data": {
      "application/vnd.jupyter.widget-view+json": {
       "model_id": "1ffeb9d0f8b1467db274844f47b99923",
       "version_major": 2,
       "version_minor": 0
      },
      "text/plain": [
       "  0%|          | 0/31 [00:00<?, ?it/s]"
      ]
     },
     "metadata": {},
     "output_type": "display_data"
    },
    {
     "name": "stdout",
     "output_type": "stream",
     "text": [
      "\u001b[32m[I 2023-03-11 12:59:42,839]\u001b[0m Trial 6 finished with value: 0.003067899842093387 and parameters: {'factors': 36, 'regularization': 0.0667089374645675, 'iterations': 31}. Best is trial 2 with value: 0.004331152718249495.\u001b[0m\n"
     ]
    },
    {
     "data": {
      "application/vnd.jupyter.widget-view+json": {
       "model_id": "69ed3c51f9c54f4daeed4d8ce30f9f01",
       "version_major": 2,
       "version_minor": 0
      },
      "text/plain": [
       "  0%|          | 0/61 [00:00<?, ?it/s]"
      ]
     },
     "metadata": {},
     "output_type": "display_data"
    },
    {
     "name": "stdout",
     "output_type": "stream",
     "text": [
      "\u001b[32m[I 2023-03-11 12:59:58,210]\u001b[0m Trial 7 finished with value: 0.004218362282878414 and parameters: {'factors': 235, 'regularization': 0.024804369882455088, 'iterations': 61}. Best is trial 2 with value: 0.004331152718249495.\u001b[0m\n"
     ]
    },
    {
     "data": {
      "application/vnd.jupyter.widget-view+json": {
       "model_id": "58c4d44ebcb940d7bc40a5db2ad6b03a",
       "version_major": 2,
       "version_minor": 0
      },
      "text/plain": [
       "  0%|          | 0/33 [00:00<?, ?it/s]"
      ]
     },
     "metadata": {},
     "output_type": "display_data"
    },
    {
     "name": "stdout",
     "output_type": "stream",
     "text": [
      "\u001b[32m[I 2023-03-11 13:00:05,289]\u001b[0m Trial 8 finished with value: 0.003654410106023005 and parameters: {'factors': 116, 'regularization': 0.09310678766013543, 'iterations': 33}. Best is trial 2 with value: 0.004331152718249495.\u001b[0m\n"
     ]
    },
    {
     "data": {
      "application/vnd.jupyter.widget-view+json": {
       "model_id": "17d9450956594af19d08f8db451fdb08",
       "version_major": 2,
       "version_minor": 0
      },
      "text/plain": [
       "  0%|          | 0/23 [00:00<?, ?it/s]"
      ]
     },
     "metadata": {},
     "output_type": "display_data"
    },
    {
     "name": "stdout",
     "output_type": "stream",
     "text": [
      "\u001b[32m[I 2023-03-11 13:00:13,849]\u001b[0m Trial 9 finished with value: 0.004240920369952626 and parameters: {'factors': 165, 'regularization': 0.07748073569956508, 'iterations': 23}. Best is trial 2 with value: 0.004331152718249495.\u001b[0m\n"
     ]
    },
    {
     "data": {
      "application/vnd.jupyter.widget-view+json": {
       "model_id": "1a6034c7c4a24cbd9fc6e07bdb6c2b20",
       "version_major": 2,
       "version_minor": 0
      },
      "text/plain": [
       "  0%|          | 0/50 [00:00<?, ?it/s]"
      ]
     },
     "metadata": {},
     "output_type": "display_data"
    },
    {
     "name": "stdout",
     "output_type": "stream",
     "text": [
      "\u001b[32m[I 2023-03-11 13:00:32,200]\u001b[0m Trial 10 finished with value: 0.004015339499210467 and parameters: {'factors': 248, 'regularization': 0.04464925058418682, 'iterations': 50}. Best is trial 2 with value: 0.004331152718249495.\u001b[0m\n"
     ]
    },
    {
     "data": {
      "application/vnd.jupyter.widget-view+json": {
       "model_id": "dc5683ff1d13420895c7ada65d89ebd4",
       "version_major": 2,
       "version_minor": 0
      },
      "text/plain": [
       "  0%|          | 0/17 [00:00<?, ?it/s]"
      ]
     },
     "metadata": {},
     "output_type": "display_data"
    },
    {
     "name": "stdout",
     "output_type": "stream",
     "text": [
      "\u001b[32m[I 2023-03-11 13:00:41,197]\u001b[0m Trial 11 finished with value: 0.004218362282878414 and parameters: {'factors': 177, 'regularization': 0.07259292552516539, 'iterations': 17}. Best is trial 2 with value: 0.004331152718249495.\u001b[0m\n"
     ]
    },
    {
     "data": {
      "application/vnd.jupyter.widget-view+json": {
       "model_id": "2e2c27616a214524a6ab15b7a1b2f293",
       "version_major": 2,
       "version_minor": 0
      },
      "text/plain": [
       "  0%|          | 0/46 [00:00<?, ?it/s]"
      ]
     },
     "metadata": {},
     "output_type": "display_data"
    },
    {
     "name": "stdout",
     "output_type": "stream",
     "text": [
      "\u001b[32m[I 2023-03-11 13:00:59,230]\u001b[0m Trial 12 finished with value: 0.004105571847507331 and parameters: {'factors': 169, 'regularization': 0.07410781155778096, 'iterations': 46}. Best is trial 2 with value: 0.004331152718249495.\u001b[0m\n"
     ]
    },
    {
     "data": {
      "application/vnd.jupyter.widget-view+json": {
       "model_id": "e2eaa0e0897b4a2cbc8c207fb2475cb8",
       "version_major": 2,
       "version_minor": 0
      },
      "text/plain": [
       "  0%|          | 0/42 [00:00<?, ?it/s]"
      ]
     },
     "metadata": {},
     "output_type": "display_data"
    },
    {
     "name": "stdout",
     "output_type": "stream",
     "text": [
      "\u001b[32m[I 2023-03-11 13:01:21,332]\u001b[0m Trial 13 finished with value: 0.0042634784570268446 and parameters: {'factors': 220, 'regularization': 0.0023375497571714934, 'iterations': 42}. Best is trial 2 with value: 0.004331152718249495.\u001b[0m\n"
     ]
    },
    {
     "data": {
      "application/vnd.jupyter.widget-view+json": {
       "model_id": "436d43f55aa04da6bb55067632b2bd40",
       "version_major": 2,
       "version_minor": 0
      },
      "text/plain": [
       "  0%|          | 0/46 [00:00<?, ?it/s]"
      ]
     },
     "metadata": {},
     "output_type": "display_data"
    },
    {
     "name": "stdout",
     "output_type": "stream",
     "text": [
      "\u001b[32m[I 2023-03-11 13:01:36,905]\u001b[0m Trial 14 finished with value: 0.004060455673358898 and parameters: {'factors': 222, 'regularization': 0.009663227765690799, 'iterations': 46}. Best is trial 2 with value: 0.004331152718249495.\u001b[0m\n"
     ]
    },
    {
     "data": {
      "application/vnd.jupyter.widget-view+json": {
       "model_id": "278b4c117ed84db0bb466cabce2b62c1",
       "version_major": 2,
       "version_minor": 0
      },
      "text/plain": [
       "  0%|          | 0/41 [00:00<?, ?it/s]"
      ]
     },
     "metadata": {},
     "output_type": "display_data"
    },
    {
     "name": "stdout",
     "output_type": "stream",
     "text": [
      "\u001b[32m[I 2023-03-11 13:01:53,307]\u001b[0m Trial 15 finished with value: 0.00424092036995263 and parameters: {'factors': 256, 'regularization': 0.002312636483268309, 'iterations': 41}. Best is trial 2 with value: 0.004331152718249495.\u001b[0m\n"
     ]
    },
    {
     "data": {
      "application/vnd.jupyter.widget-view+json": {
       "model_id": "dec6e58988f1419da766bad94b927c37",
       "version_major": 2,
       "version_minor": 0
      },
      "text/plain": [
       "  0%|          | 0/55 [00:00<?, ?it/s]"
      ]
     },
     "metadata": {},
     "output_type": "display_data"
    },
    {
     "name": "stdout",
     "output_type": "stream",
     "text": [
      "\u001b[32m[I 2023-03-11 13:02:09,386]\u001b[0m Trial 16 finished with value: 0.003970223325062031 and parameters: {'factors': 212, 'regularization': 0.04220182640785501, 'iterations': 55}. Best is trial 2 with value: 0.004331152718249495.\u001b[0m\n"
     ]
    },
    {
     "data": {
      "application/vnd.jupyter.widget-view+json": {
       "model_id": "7383391e5c114bb3a3ceb6b4f5a47201",
       "version_major": 2,
       "version_minor": 0
      },
      "text/plain": [
       "  0%|          | 0/40 [00:00<?, ?it/s]"
      ]
     },
     "metadata": {},
     "output_type": "display_data"
    },
    {
     "name": "stdout",
     "output_type": "stream",
     "text": [
      "\u001b[32m[I 2023-03-11 13:02:15,182]\u001b[0m Trial 17 finished with value: 0.0037446424543198715 and parameters: {'factors': 75, 'regularization': 0.05957224353691369, 'iterations': 40}. Best is trial 2 with value: 0.004331152718249495.\u001b[0m\n"
     ]
    },
    {
     "data": {
      "application/vnd.jupyter.widget-view+json": {
       "model_id": "6148affdcd0e44bd891cb74c1c5c4de1",
       "version_major": 2,
       "version_minor": 0
      },
      "text/plain": [
       "  0%|          | 0/54 [00:00<?, ?it/s]"
      ]
     },
     "metadata": {},
     "output_type": "display_data"
    },
    {
     "name": "stdout",
     "output_type": "stream",
     "text": [
      "\u001b[32m[I 2023-03-11 13:02:26,385]\u001b[0m Trial 18 finished with value: 0.0037220843672456537 and parameters: {'factors': 153, 'regularization': 0.09989806539057167, 'iterations': 54}. Best is trial 2 with value: 0.004331152718249495.\u001b[0m\n"
     ]
    },
    {
     "data": {
      "application/vnd.jupyter.widget-view+json": {
       "model_id": "638df6edc38e4479be82b9ffdf026fa9",
       "version_major": 2,
       "version_minor": 0
      },
      "text/plain": [
       "  0%|          | 0/40 [00:00<?, ?it/s]"
      ]
     },
     "metadata": {},
     "output_type": "display_data"
    },
    {
     "name": "stdout",
     "output_type": "stream",
     "text": [
      "\u001b[32m[I 2023-03-11 13:02:39,155]\u001b[0m Trial 19 finished with value: 0.0039927814121362495 and parameters: {'factors': 217, 'regularization': 0.04091173913631528, 'iterations': 40}. Best is trial 2 with value: 0.004331152718249495.\u001b[0m\n"
     ]
    },
    {
     "data": {
      "application/vnd.jupyter.widget-view+json": {
       "model_id": "90af67a5ce8a4f7cbacb435da4e19473",
       "version_major": 2,
       "version_minor": 0
      },
      "text/plain": [
       "  0%|          | 0/24 [00:00<?, ?it/s]"
      ]
     },
     "metadata": {},
     "output_type": "display_data"
    },
    {
     "name": "stdout",
     "output_type": "stream",
     "text": [
      "\u001b[32m[I 2023-03-11 13:02:42,430]\u001b[0m Trial 20 finished with value: 0.0022106925332731767 and parameters: {'factors': 9, 'regularization': 0.052451428594913314, 'iterations': 24}. Best is trial 2 with value: 0.004331152718249495.\u001b[0m\n"
     ]
    },
    {
     "data": {
      "application/vnd.jupyter.widget-view+json": {
       "model_id": "9a5f471f610544eba56b6d982ac538c3",
       "version_major": 2,
       "version_minor": 0
      },
      "text/plain": [
       "  0%|          | 0/40 [00:00<?, ?it/s]"
      ]
     },
     "metadata": {},
     "output_type": "display_data"
    },
    {
     "name": "stdout",
     "output_type": "stream",
     "text": [
      "\u001b[32m[I 2023-03-11 13:02:57,070]\u001b[0m Trial 21 finished with value: 0.00399278141213625 and parameters: {'factors': 253, 'regularization': 0.005360198495633323, 'iterations': 40}. Best is trial 2 with value: 0.004331152718249495.\u001b[0m\n"
     ]
    },
    {
     "data": {
      "application/vnd.jupyter.widget-view+json": {
       "model_id": "8b55869ca82b4aa0af4f87fa4cbc178e",
       "version_major": 2,
       "version_minor": 0
      },
      "text/plain": [
       "  0%|          | 0/46 [00:00<?, ?it/s]"
      ]
     },
     "metadata": {},
     "output_type": "display_data"
    },
    {
     "name": "stdout",
     "output_type": "stream",
     "text": [
      "\u001b[32m[I 2023-03-11 13:03:11,908]\u001b[0m Trial 22 finished with value: 0.0041958041958041975 and parameters: {'factors': 250, 'regularization': 0.001987748484152738, 'iterations': 46}. Best is trial 2 with value: 0.004331152718249495.\u001b[0m\n",
      "EarlyStopping Exceeded: No new best scores on iters 20\n"
     ]
    }
   ],
   "source": [
    "precision_objective = Objective(csr_train, interactions.valid, precision)\n",
    "precision_optimizer = OptunaMaximizer(precision_objective, \"ALS precision maximize\")\n",
    "precision_best_trial = precision_optimizer.optimize(Config.ITERATIONS, Config.STOP_ITERATION)"
   ]
  },
  {
   "cell_type": "code",
   "execution_count": 16,
   "metadata": {},
   "outputs": [
    {
     "name": "stderr",
     "output_type": "stream",
     "text": [
      "\u001b[32m[I 2023-03-11 13:03:11,995]\u001b[0m A new study created in memory with name: ALS recall maximize\u001b[0m\n",
      "/home/aveitsme/miniconda3/envs/core/lib/python3.10/site-packages/optuna/progress_bar.py:56: ExperimentalWarning: Progress bar is experimental (supported from v1.2.0). The interface can change in the future.\n",
      "  self._init_valid()\n"
     ]
    },
    {
     "data": {
      "application/vnd.jupyter.widget-view+json": {
       "model_id": "ba8fca8ec5534b4faceae4ae5756b48c",
       "version_major": 2,
       "version_minor": 0
      },
      "text/plain": [
       "  0%|          | 0/100 [00:00<?, ?it/s]"
      ]
     },
     "metadata": {},
     "output_type": "display_data"
    },
    {
     "data": {
      "application/vnd.jupyter.widget-view+json": {
       "model_id": "7ee1269d0d1c4399975940361520a2dc",
       "version_major": 2,
       "version_minor": 0
      },
      "text/plain": [
       "  0%|          | 0/53 [00:00<?, ?it/s]"
      ]
     },
     "metadata": {},
     "output_type": "display_data"
    },
    {
     "name": "stdout",
     "output_type": "stream",
     "text": [
      "\u001b[32m[I 2023-03-11 13:03:22,314]\u001b[0m Trial 0 finished with value: 0.010714116914709991 and parameters: {'factors': 159, 'regularization': 0.08825201092591779, 'iterations': 53}. Best is trial 0 with value: 0.010714116914709991.\u001b[0m\n"
     ]
    },
    {
     "data": {
      "application/vnd.jupyter.widget-view+json": {
       "model_id": "7ff81f937879451383a071fbcd97868a",
       "version_major": 2,
       "version_minor": 0
      },
      "text/plain": [
       "  0%|          | 0/25 [00:00<?, ?it/s]"
      ]
     },
     "metadata": {},
     "output_type": "display_data"
    },
    {
     "name": "stdout",
     "output_type": "stream",
     "text": [
      "\u001b[32m[I 2023-03-11 13:03:28,697]\u001b[0m Trial 1 finished with value: 0.010603754971896242 and parameters: {'factors': 114, 'regularization': 0.031087197986788554, 'iterations': 25}. Best is trial 0 with value: 0.010714116914709991.\u001b[0m\n"
     ]
    },
    {
     "data": {
      "application/vnd.jupyter.widget-view+json": {
       "model_id": "fa994cdb6c6e45d5bb1028ecf226c8fb",
       "version_major": 2,
       "version_minor": 0
      },
      "text/plain": [
       "  0%|          | 0/12 [00:00<?, ?it/s]"
      ]
     },
     "metadata": {},
     "output_type": "display_data"
    },
    {
     "name": "stdout",
     "output_type": "stream",
     "text": [
      "\u001b[32m[I 2023-03-11 13:03:35,057]\u001b[0m Trial 2 finished with value: 0.012689109939846495 and parameters: {'factors': 144, 'regularization': 0.09408982873820526, 'iterations': 12}. Best is trial 2 with value: 0.012689109939846495.\u001b[0m\n"
     ]
    },
    {
     "data": {
      "application/vnd.jupyter.widget-view+json": {
       "model_id": "8de756980999401195d814f5016c757a",
       "version_major": 2,
       "version_minor": 0
      },
      "text/plain": [
       "  0%|          | 0/50 [00:00<?, ?it/s]"
      ]
     },
     "metadata": {},
     "output_type": "display_data"
    },
    {
     "name": "stdout",
     "output_type": "stream",
     "text": [
      "\u001b[32m[I 2023-03-11 13:03:41,505]\u001b[0m Trial 3 finished with value: 0.009395158507349144 and parameters: {'factors': 87, 'regularization': 0.017456538412264105, 'iterations': 50}. Best is trial 2 with value: 0.012689109939846495.\u001b[0m\n"
     ]
    },
    {
     "data": {
      "application/vnd.jupyter.widget-view+json": {
       "model_id": "f966d08d82414bd2b83753dd116d3504",
       "version_major": 2,
       "version_minor": 0
      },
      "text/plain": [
       "  0%|          | 0/51 [00:00<?, ?it/s]"
      ]
     },
     "metadata": {},
     "output_type": "display_data"
    },
    {
     "name": "stdout",
     "output_type": "stream",
     "text": [
      "\u001b[32m[I 2023-03-11 13:03:55,673]\u001b[0m Trial 4 finished with value: 0.011813483556771328 and parameters: {'factors': 213, 'regularization': 0.08810212483929034, 'iterations': 51}. Best is trial 2 with value: 0.012689109939846495.\u001b[0m\n"
     ]
    },
    {
     "data": {
      "application/vnd.jupyter.widget-view+json": {
       "model_id": "652e1b07af8b47ebadb6f8e5010303e5",
       "version_major": 2,
       "version_minor": 0
      },
      "text/plain": [
       "  0%|          | 0/30 [00:00<?, ?it/s]"
      ]
     },
     "metadata": {},
     "output_type": "display_data"
    },
    {
     "name": "stdout",
     "output_type": "stream",
     "text": [
      "\u001b[32m[I 2023-03-11 13:04:05,275]\u001b[0m Trial 5 finished with value: 0.01263439481332771 and parameters: {'factors': 186, 'regularization': 0.09401353155873074, 'iterations': 30}. Best is trial 2 with value: 0.012689109939846495.\u001b[0m\n"
     ]
    },
    {
     "data": {
      "application/vnd.jupyter.widget-view+json": {
       "model_id": "aa46dd8af6b643d391604855d246e2d1",
       "version_major": 2,
       "version_minor": 0
      },
      "text/plain": [
       "  0%|          | 0/45 [00:00<?, ?it/s]"
      ]
     },
     "metadata": {},
     "output_type": "display_data"
    },
    {
     "name": "stdout",
     "output_type": "stream",
     "text": [
      "\u001b[32m[I 2023-03-11 13:04:11,538]\u001b[0m Trial 6 finished with value: 0.010311371286929837 and parameters: {'factors': 69, 'regularization': 0.06402226968500528, 'iterations': 45}. Best is trial 2 with value: 0.012689109939846495.\u001b[0m\n"
     ]
    },
    {
     "data": {
      "application/vnd.jupyter.widget-view+json": {
       "model_id": "f81cc49c36b94ada9011be39743fe696",
       "version_major": 2,
       "version_minor": 0
      },
      "text/plain": [
       "  0%|          | 0/32 [00:00<?, ?it/s]"
      ]
     },
     "metadata": {},
     "output_type": "display_data"
    },
    {
     "name": "stdout",
     "output_type": "stream",
     "text": [
      "\u001b[32m[I 2023-03-11 13:04:18,561]\u001b[0m Trial 7 finished with value: 0.011469794152679614 and parameters: {'factors': 119, 'regularization': 0.038497013950776135, 'iterations': 32}. Best is trial 2 with value: 0.012689109939846495.\u001b[0m\n"
     ]
    },
    {
     "data": {
      "application/vnd.jupyter.widget-view+json": {
       "model_id": "ba0b5e280f7f4849bcb503d4f36ac963",
       "version_major": 2,
       "version_minor": 0
      },
      "text/plain": [
       "  0%|          | 0/35 [00:00<?, ?it/s]"
      ]
     },
     "metadata": {},
     "output_type": "display_data"
    },
    {
     "name": "stdout",
     "output_type": "stream",
     "text": [
      "\u001b[32m[I 2023-03-11 13:04:22,076]\u001b[0m Trial 8 finished with value: 0.005936624717019416 and parameters: {'factors': 16, 'regularization': 0.0516959505254502, 'iterations': 35}. Best is trial 2 with value: 0.012689109939846495.\u001b[0m\n"
     ]
    },
    {
     "data": {
      "application/vnd.jupyter.widget-view+json": {
       "model_id": "c1d69f3c60b24672ae741e9b5005bdbd",
       "version_major": 2,
       "version_minor": 0
      },
      "text/plain": [
       "  0%|          | 0/59 [00:00<?, ?it/s]"
      ]
     },
     "metadata": {},
     "output_type": "display_data"
    },
    {
     "name": "stdout",
     "output_type": "stream",
     "text": [
      "\u001b[32m[I 2023-03-11 13:04:35,897]\u001b[0m Trial 9 finished with value: 0.012921108800580798 and parameters: {'factors': 206, 'regularization': 0.06508502391564211, 'iterations': 59}. Best is trial 9 with value: 0.012921108800580798.\u001b[0m\n"
     ]
    },
    {
     "data": {
      "application/vnd.jupyter.widget-view+json": {
       "model_id": "79323463338b4422b69bbb6bd80d15fe",
       "version_major": 2,
       "version_minor": 0
      },
      "text/plain": [
       "  0%|          | 0/64 [00:00<?, ?it/s]"
      ]
     },
     "metadata": {},
     "output_type": "display_data"
    },
    {
     "name": "stdout",
     "output_type": "stream",
     "text": [
      "\u001b[32m[I 2023-03-11 13:04:54,397]\u001b[0m Trial 10 finished with value: 0.012667300104849368 and parameters: {'factors': 250, 'regularization': 0.008571923825535115, 'iterations': 64}. Best is trial 9 with value: 0.012921108800580798.\u001b[0m\n"
     ]
    },
    {
     "data": {
      "application/vnd.jupyter.widget-view+json": {
       "model_id": "f8922794a1bb4c61a4aec282b5cb1f7c",
       "version_major": 2,
       "version_minor": 0
      },
      "text/plain": [
       "  0%|          | 0/16 [00:00<?, ?it/s]"
      ]
     },
     "metadata": {},
     "output_type": "display_data"
    },
    {
     "name": "stdout",
     "output_type": "stream",
     "text": [
      "\u001b[32m[I 2023-03-11 13:05:01,965]\u001b[0m Trial 11 finished with value: 0.013763672593826262 and parameters: {'factors': 174, 'regularization': 0.07055367183915115, 'iterations': 16}. Best is trial 11 with value: 0.013763672593826262.\u001b[0m\n"
     ]
    },
    {
     "data": {
      "application/vnd.jupyter.widget-view+json": {
       "model_id": "5e3316d78b03461eb48fe44d087f81a5",
       "version_major": 2,
       "version_minor": 0
      },
      "text/plain": [
       "  0%|          | 0/12 [00:00<?, ?it/s]"
      ]
     },
     "metadata": {},
     "output_type": "display_data"
    },
    {
     "name": "stdout",
     "output_type": "stream",
     "text": [
      "\u001b[32m[I 2023-03-11 13:05:10,395]\u001b[0m Trial 12 finished with value: 0.01539939925274829 and parameters: {'factors': 217, 'regularization': 0.06961014348889616, 'iterations': 12}. Best is trial 12 with value: 0.01539939925274829.\u001b[0m\n"
     ]
    },
    {
     "data": {
      "application/vnd.jupyter.widget-view+json": {
       "model_id": "28f811844b604b6e80b35173aaa4d5e2",
       "version_major": 2,
       "version_minor": 0
      },
      "text/plain": [
       "  0%|          | 0/8 [00:00<?, ?it/s]"
      ]
     },
     "metadata": {},
     "output_type": "display_data"
    },
    {
     "name": "stdout",
     "output_type": "stream",
     "text": [
      "\u001b[32m[I 2023-03-11 13:05:19,007]\u001b[0m Trial 13 finished with value: 0.01589968091021336 and parameters: {'factors': 248, 'regularization': 0.07299855012333815, 'iterations': 8}. Best is trial 13 with value: 0.01589968091021336.\u001b[0m\n"
     ]
    },
    {
     "data": {
      "application/vnd.jupyter.widget-view+json": {
       "model_id": "dbc2141864df410a8eca04acad29d367",
       "version_major": 2,
       "version_minor": 0
      },
      "text/plain": [
       "  0%|          | 0/20 [00:00<?, ?it/s]"
      ]
     },
     "metadata": {},
     "output_type": "display_data"
    },
    {
     "name": "stdout",
     "output_type": "stream",
     "text": [
      "\u001b[32m[I 2023-03-11 13:05:30,520]\u001b[0m Trial 14 finished with value: 0.014568630198309868 and parameters: {'factors': 255, 'regularization': 0.07607701027304488, 'iterations': 20}. Best is trial 13 with value: 0.01589968091021336.\u001b[0m\n"
     ]
    },
    {
     "data": {
      "application/vnd.jupyter.widget-view+json": {
       "model_id": "ba55806e5089422cac5ac70743189254",
       "version_major": 2,
       "version_minor": 0
      },
      "text/plain": [
       "  0%|          | 0/9 [00:00<?, ?it/s]"
      ]
     },
     "metadata": {},
     "output_type": "display_data"
    },
    {
     "name": "stdout",
     "output_type": "stream",
     "text": [
      "\u001b[32m[I 2023-03-11 13:05:38,713]\u001b[0m Trial 15 finished with value: 0.01467372115479568 and parameters: {'factors': 225, 'regularization': 0.05432481359946307, 'iterations': 9}. Best is trial 13 with value: 0.01589968091021336.\u001b[0m\n"
     ]
    },
    {
     "data": {
      "application/vnd.jupyter.widget-view+json": {
       "model_id": "b500cd22cd794fd896d82ecab1ceadf8",
       "version_major": 2,
       "version_minor": 0
      },
      "text/plain": [
       "  0%|          | 0/8 [00:00<?, ?it/s]"
      ]
     },
     "metadata": {},
     "output_type": "display_data"
    },
    {
     "name": "stdout",
     "output_type": "stream",
     "text": [
      "\u001b[32m[I 2023-03-11 13:05:46,830]\u001b[0m Trial 16 finished with value: 0.015717448820447226 and parameters: {'factors': 231, 'regularization': 0.07966850448962176, 'iterations': 8}. Best is trial 13 with value: 0.01589968091021336.\u001b[0m\n"
     ]
    },
    {
     "data": {
      "application/vnd.jupyter.widget-view+json": {
       "model_id": "0280e23f84ee41d3aa30da6ea49e7374",
       "version_major": 2,
       "version_minor": 0
      },
      "text/plain": [
       "  0%|          | 0/22 [00:00<?, ?it/s]"
      ]
     },
     "metadata": {},
     "output_type": "display_data"
    },
    {
     "name": "stdout",
     "output_type": "stream",
     "text": [
      "\u001b[32m[I 2023-03-11 13:05:57,841]\u001b[0m Trial 17 finished with value: 0.014715918702095068 and parameters: {'factors': 240, 'regularization': 0.08076264198735539, 'iterations': 22}. Best is trial 13 with value: 0.01589968091021336.\u001b[0m\n"
     ]
    },
    {
     "data": {
      "application/vnd.jupyter.widget-view+json": {
       "model_id": "77b83af9cc6944d8b6269e06b02937e1",
       "version_major": 2,
       "version_minor": 0
      },
      "text/plain": [
       "  0%|          | 0/15 [00:00<?, ?it/s]"
      ]
     },
     "metadata": {},
     "output_type": "display_data"
    },
    {
     "name": "stdout",
     "output_type": "stream",
     "text": [
      "\u001b[32m[I 2023-03-11 13:06:05,445]\u001b[0m Trial 18 finished with value: 0.014291088101740903 and parameters: {'factors': 186, 'regularization': 0.09795008337452082, 'iterations': 15}. Best is trial 13 with value: 0.01589968091021336.\u001b[0m\n"
     ]
    },
    {
     "data": {
      "application/vnd.jupyter.widget-view+json": {
       "model_id": "4ffab1151d12425795a8a1abe3fcef02",
       "version_major": 2,
       "version_minor": 0
      },
      "text/plain": [
       "  0%|          | 0/41 [00:00<?, ?it/s]"
      ]
     },
     "metadata": {},
     "output_type": "display_data"
    },
    {
     "name": "stdout",
     "output_type": "stream",
     "text": [
      "\u001b[32m[I 2023-03-11 13:06:16,852]\u001b[0m Trial 19 finished with value: 0.014004521172089621 and parameters: {'factors': 196, 'regularization': 0.07887535785676394, 'iterations': 41}. Best is trial 13 with value: 0.01589968091021336.\u001b[0m\n"
     ]
    },
    {
     "data": {
      "application/vnd.jupyter.widget-view+json": {
       "model_id": "7ef5b63e9c0c44d1929075b71a0a1bf8",
       "version_major": 2,
       "version_minor": 0
      },
      "text/plain": [
       "  0%|          | 0/27 [00:00<?, ?it/s]"
      ]
     },
     "metadata": {},
     "output_type": "display_data"
    },
    {
     "name": "stdout",
     "output_type": "stream",
     "text": [
      "\u001b[32m[I 2023-03-11 13:06:20,038]\u001b[0m Trial 20 finished with value: 0.005917196144624264 and parameters: {'factors': 10, 'regularization': 0.06115968512273271, 'iterations': 27}. Best is trial 13 with value: 0.01589968091021336.\u001b[0m\n"
     ]
    },
    {
     "data": {
      "application/vnd.jupyter.widget-view+json": {
       "model_id": "cbac94b3246f459bbce941d20dc7206d",
       "version_major": 2,
       "version_minor": 0
      },
      "text/plain": [
       "  0%|          | 0/8 [00:00<?, ?it/s]"
      ]
     },
     "metadata": {},
     "output_type": "display_data"
    },
    {
     "name": "stdout",
     "output_type": "stream",
     "text": [
      "\u001b[32m[I 2023-03-11 13:06:27,809]\u001b[0m Trial 21 finished with value: 0.015910344160401393 and parameters: {'factors': 227, 'regularization': 0.07242167369751908, 'iterations': 8}. Best is trial 21 with value: 0.015910344160401393.\u001b[0m\n"
     ]
    },
    {
     "data": {
      "application/vnd.jupyter.widget-view+json": {
       "model_id": "6fbb7d8b47114d878554d1e50288289b",
       "version_major": 2,
       "version_minor": 0
      },
      "text/plain": [
       "  0%|          | 0/18 [00:00<?, ?it/s]"
      ]
     },
     "metadata": {},
     "output_type": "display_data"
    },
    {
     "name": "stdout",
     "output_type": "stream",
     "text": [
      "\u001b[32m[I 2023-03-11 13:06:38,100]\u001b[0m Trial 22 finished with value: 0.01528005905700742 and parameters: {'factors': 241, 'regularization': 0.08130916973722578, 'iterations': 18}. Best is trial 21 with value: 0.015910344160401393.\u001b[0m\n"
     ]
    },
    {
     "data": {
      "application/vnd.jupyter.widget-view+json": {
       "model_id": "17b5a74d9ef047ec87370f9a05406158",
       "version_major": 2,
       "version_minor": 0
      },
      "text/plain": [
       "  0%|          | 0/8 [00:00<?, ?it/s]"
      ]
     },
     "metadata": {},
     "output_type": "display_data"
    },
    {
     "name": "stdout",
     "output_type": "stream",
     "text": [
      "\u001b[32m[I 2023-03-11 13:06:46,442]\u001b[0m Trial 23 finished with value: 0.015399927065869732 and parameters: {'factors': 229, 'regularization': 0.07399670307035859, 'iterations': 8}. Best is trial 21 with value: 0.015910344160401393.\u001b[0m\n"
     ]
    },
    {
     "data": {
      "application/vnd.jupyter.widget-view+json": {
       "model_id": "4ccbba29620a4d2980585ec97a23338e",
       "version_major": 2,
       "version_minor": 0
      },
      "text/plain": [
       "  0%|          | 0/12 [00:00<?, ?it/s]"
      ]
     },
     "metadata": {},
     "output_type": "display_data"
    },
    {
     "name": "stdout",
     "output_type": "stream",
     "text": [
      "\u001b[32m[I 2023-03-11 13:06:54,111]\u001b[0m Trial 24 finished with value: 0.015966633899042813 and parameters: {'factors': 166, 'regularization': 0.05720020359641188, 'iterations': 12}. Best is trial 24 with value: 0.015966633899042813.\u001b[0m\n"
     ]
    },
    {
     "data": {
      "application/vnd.jupyter.widget-view+json": {
       "model_id": "f6fd1254875a4fc6831facbfd8a20ff3",
       "version_major": 2,
       "version_minor": 0
      },
      "text/plain": [
       "  0%|          | 0/14 [00:00<?, ?it/s]"
      ]
     },
     "metadata": {},
     "output_type": "display_data"
    },
    {
     "name": "stdout",
     "output_type": "stream",
     "text": [
      "\u001b[32m[I 2023-03-11 13:07:01,246]\u001b[0m Trial 25 finished with value: 0.01322324753624903 and parameters: {'factors': 160, 'regularization': 0.05769688298791661, 'iterations': 14}. Best is trial 24 with value: 0.015966633899042813.\u001b[0m\n"
     ]
    },
    {
     "data": {
      "application/vnd.jupyter.widget-view+json": {
       "model_id": "9da2f063ba25482bb42408b949744605",
       "version_major": 2,
       "version_minor": 0
      },
      "text/plain": [
       "  0%|          | 0/23 [00:00<?, ?it/s]"
      ]
     },
     "metadata": {},
     "output_type": "display_data"
    },
    {
     "name": "stdout",
     "output_type": "stream",
     "text": [
      "\u001b[32m[I 2023-03-11 13:07:08,041]\u001b[0m Trial 26 finished with value: 0.011450230765032286 and parameters: {'factors': 136, 'regularization': 0.04051340529031838, 'iterations': 23}. Best is trial 24 with value: 0.015966633899042813.\u001b[0m\n"
     ]
    },
    {
     "data": {
      "application/vnd.jupyter.widget-view+json": {
       "model_id": "d60c4025a7a74ae4b4a56705f6722f24",
       "version_major": 2,
       "version_minor": 0
      },
      "text/plain": [
       "  0%|          | 0/18 [00:00<?, ?it/s]"
      ]
     },
     "metadata": {},
     "output_type": "display_data"
    },
    {
     "name": "stdout",
     "output_type": "stream",
     "text": [
      "\u001b[32m[I 2023-03-11 13:07:16,106]\u001b[0m Trial 27 finished with value: 0.013380387467648296 and parameters: {'factors': 166, 'regularization': 0.05876045090124159, 'iterations': 18}. Best is trial 24 with value: 0.015966633899042813.\u001b[0m\n"
     ]
    },
    {
     "data": {
      "application/vnd.jupyter.widget-view+json": {
       "model_id": "cb617676c6174cca8b72ae4e49a4e75a",
       "version_major": 2,
       "version_minor": 0
      },
      "text/plain": [
       "  0%|          | 0/12 [00:00<?, ?it/s]"
      ]
     },
     "metadata": {},
     "output_type": "display_data"
    },
    {
     "name": "stdout",
     "output_type": "stream",
     "text": [
      "\u001b[32m[I 2023-03-11 13:07:24,363]\u001b[0m Trial 28 finished with value: 0.01550755656327846 and parameters: {'factors': 202, 'regularization': 0.06710869334808733, 'iterations': 12}. Best is trial 24 with value: 0.015966633899042813.\u001b[0m\n"
     ]
    },
    {
     "data": {
      "application/vnd.jupyter.widget-view+json": {
       "model_id": "49b0cef41cc94fcab60d0859e8981968",
       "version_major": 2,
       "version_minor": 0
      },
      "text/plain": [
       "  0%|          | 0/8 [00:00<?, ?it/s]"
      ]
     },
     "metadata": {},
     "output_type": "display_data"
    },
    {
     "name": "stdout",
     "output_type": "stream",
     "text": [
      "\u001b[32m[I 2023-03-11 13:07:29,551]\u001b[0m Trial 29 finished with value: 0.010162160824008386 and parameters: {'factors': 98, 'regularization': 0.0454340494838624, 'iterations': 8}. Best is trial 24 with value: 0.015966633899042813.\u001b[0m\n"
     ]
    },
    {
     "data": {
      "application/vnd.jupyter.widget-view+json": {
       "model_id": "8d912af0a63f4ce1833c4dd11637c2b9",
       "version_major": 2,
       "version_minor": 0
      },
      "text/plain": [
       "  0%|          | 0/41 [00:00<?, ?it/s]"
      ]
     },
     "metadata": {},
     "output_type": "display_data"
    },
    {
     "name": "stdout",
     "output_type": "stream",
     "text": [
      "\u001b[32m[I 2023-03-11 13:07:38,773]\u001b[0m Trial 30 finished with value: 0.011096646581511013 and parameters: {'factors': 148, 'regularization': 0.04924546568272155, 'iterations': 41}. Best is trial 24 with value: 0.015966633899042813.\u001b[0m\n"
     ]
    },
    {
     "data": {
      "application/vnd.jupyter.widget-view+json": {
       "model_id": "5056ec14224146c8ae9d247a2944f7bd",
       "version_major": 2,
       "version_minor": 0
      },
      "text/plain": [
       "  0%|          | 0/8 [00:00<?, ?it/s]"
      ]
     },
     "metadata": {},
     "output_type": "display_data"
    },
    {
     "name": "stdout",
     "output_type": "stream",
     "text": [
      "\u001b[32m[I 2023-03-11 13:07:46,769]\u001b[0m Trial 31 finished with value: 0.016071360379367374 and parameters: {'factors': 233, 'regularization': 0.08783474796634028, 'iterations': 8}. Best is trial 31 with value: 0.016071360379367374.\u001b[0m\n"
     ]
    },
    {
     "data": {
      "application/vnd.jupyter.widget-view+json": {
       "model_id": "de70712726474be09b6cff9c135ecaef",
       "version_major": 2,
       "version_minor": 0
      },
      "text/plain": [
       "  0%|          | 0/11 [00:00<?, ?it/s]"
      ]
     },
     "metadata": {},
     "output_type": "display_data"
    },
    {
     "name": "stdout",
     "output_type": "stream",
     "text": [
      "\u001b[32m[I 2023-03-11 13:07:55,759]\u001b[0m Trial 32 finished with value: 0.01392597747055301 and parameters: {'factors': 254, 'regularization': 0.08619495327083522, 'iterations': 11}. Best is trial 31 with value: 0.016071360379367374.\u001b[0m\n"
     ]
    },
    {
     "data": {
      "application/vnd.jupyter.widget-view+json": {
       "model_id": "342fd94b56894afb966cd6f92cbb10e5",
       "version_major": 2,
       "version_minor": 0
      },
      "text/plain": [
       "  0%|          | 0/15 [00:00<?, ?it/s]"
      ]
     },
     "metadata": {},
     "output_type": "display_data"
    },
    {
     "name": "stdout",
     "output_type": "stream",
     "text": [
      "\u001b[32m[I 2023-03-11 13:08:03,082]\u001b[0m Trial 33 finished with value: 0.014472319083251448 and parameters: {'factors': 178, 'regularization': 0.08545711951011917, 'iterations': 15}. Best is trial 31 with value: 0.016071360379367374.\u001b[0m\n"
     ]
    },
    {
     "data": {
      "application/vnd.jupyter.widget-view+json": {
       "model_id": "1a882b09172f4f5eb742056b413d8c41",
       "version_major": 2,
       "version_minor": 0
      },
      "text/plain": [
       "  0%|          | 0/26 [00:00<?, ?it/s]"
      ]
     },
     "metadata": {},
     "output_type": "display_data"
    },
    {
     "name": "stdout",
     "output_type": "stream",
     "text": [
      "\u001b[32m[I 2023-03-11 13:08:13,454]\u001b[0m Trial 34 finished with value: 0.013907710649840834 and parameters: {'factors': 218, 'regularization': 0.07209590242566129, 'iterations': 26}. Best is trial 31 with value: 0.016071360379367374.\u001b[0m\n"
     ]
    },
    {
     "data": {
      "application/vnd.jupyter.widget-view+json": {
       "model_id": "b458159457be4cf198d5b7ccaaf59ecc",
       "version_major": 2,
       "version_minor": 0
      },
      "text/plain": [
       "  0%|          | 0/11 [00:00<?, ?it/s]"
      ]
     },
     "metadata": {},
     "output_type": "display_data"
    },
    {
     "name": "stdout",
     "output_type": "stream",
     "text": [
      "\u001b[32m[I 2023-03-11 13:08:22,435]\u001b[0m Trial 35 finished with value: 0.017430806262161168 and parameters: {'factors': 237, 'regularization': 0.09128734640602251, 'iterations': 11}. Best is trial 35 with value: 0.017430806262161168.\u001b[0m\n"
     ]
    },
    {
     "data": {
      "application/vnd.jupyter.widget-view+json": {
       "model_id": "4e986827c41a416eb9e8a2a77cdef25d",
       "version_major": 2,
       "version_minor": 0
      },
      "text/plain": [
       "  0%|          | 0/20 [00:00<?, ?it/s]"
      ]
     },
     "metadata": {},
     "output_type": "display_data"
    },
    {
     "name": "stdout",
     "output_type": "stream",
     "text": [
      "\u001b[32m[I 2023-03-11 13:08:31,297]\u001b[0m Trial 36 finished with value: 0.013539037816969286 and parameters: {'factors': 193, 'regularization': 0.0912172506094052, 'iterations': 20}. Best is trial 35 with value: 0.017430806262161168.\u001b[0m\n"
     ]
    },
    {
     "data": {
      "application/vnd.jupyter.widget-view+json": {
       "model_id": "31e26c76820f4ad7af6f8ee86c6567f3",
       "version_major": 2,
       "version_minor": 0
      },
      "text/plain": [
       "  0%|          | 0/13 [00:00<?, ?it/s]"
      ]
     },
     "metadata": {},
     "output_type": "display_data"
    },
    {
     "name": "stdout",
     "output_type": "stream",
     "text": [
      "\u001b[32m[I 2023-03-11 13:08:35,039]\u001b[0m Trial 37 finished with value: 0.008626707504636247 and parameters: {'factors': 38, 'regularization': 0.09324618115841976, 'iterations': 13}. Best is trial 35 with value: 0.017430806262161168.\u001b[0m\n"
     ]
    },
    {
     "data": {
      "application/vnd.jupyter.widget-view+json": {
       "model_id": "523dc58302a24a63ba053a7917eca2a8",
       "version_major": 2,
       "version_minor": 0
      },
      "text/plain": [
       "  0%|          | 0/17 [00:00<?, ?it/s]"
      ]
     },
     "metadata": {},
     "output_type": "display_data"
    },
    {
     "name": "stdout",
     "output_type": "stream",
     "text": [
      "\u001b[32m[I 2023-03-11 13:08:44,102]\u001b[0m Trial 38 finished with value: 0.013504620847705958 and parameters: {'factors': 210, 'regularization': 0.0973480006053106, 'iterations': 17}. Best is trial 35 with value: 0.017430806262161168.\u001b[0m\n"
     ]
    },
    {
     "data": {
      "application/vnd.jupyter.widget-view+json": {
       "model_id": "0d3762aa039542539ec77bac9371da0f",
       "version_major": 2,
       "version_minor": 0
      },
      "text/plain": [
       "  0%|          | 0/11 [00:00<?, ?it/s]"
      ]
     },
     "metadata": {},
     "output_type": "display_data"
    },
    {
     "name": "stdout",
     "output_type": "stream",
     "text": [
      "\u001b[32m[I 2023-03-11 13:08:50,635]\u001b[0m Trial 39 finished with value: 0.01332605182269834 and parameters: {'factors': 149, 'regularization': 0.08887654401510975, 'iterations': 11}. Best is trial 35 with value: 0.017430806262161168.\u001b[0m\n"
     ]
    },
    {
     "data": {
      "application/vnd.jupyter.widget-view+json": {
       "model_id": "378c29f977ea44f8bee6cd2b307693cc",
       "version_major": 2,
       "version_minor": 0
      },
      "text/plain": [
       "  0%|          | 0/28 [00:00<?, ?it/s]"
      ]
     },
     "metadata": {},
     "output_type": "display_data"
    },
    {
     "name": "stdout",
     "output_type": "stream",
     "text": [
      "\u001b[32m[I 2023-03-11 13:09:01,803]\u001b[0m Trial 40 finished with value: 0.014195353698539769 and parameters: {'factors': 233, 'regularization': 0.08337103352827392, 'iterations': 28}. Best is trial 35 with value: 0.017430806262161168.\u001b[0m\n"
     ]
    },
    {
     "data": {
      "application/vnd.jupyter.widget-view+json": {
       "model_id": "9c4b04a14919413c872dfb2b26391c4b",
       "version_major": 2,
       "version_minor": 0
      },
      "text/plain": [
       "  0%|          | 0/10 [00:00<?, ?it/s]"
      ]
     },
     "metadata": {},
     "output_type": "display_data"
    },
    {
     "name": "stdout",
     "output_type": "stream",
     "text": [
      "\u001b[32m[I 2023-03-11 13:09:10,718]\u001b[0m Trial 41 finished with value: 0.01603340705950662 and parameters: {'factors': 235, 'regularization': 0.07502345556349099, 'iterations': 10}. Best is trial 35 with value: 0.017430806262161168.\u001b[0m\n"
     ]
    },
    {
     "data": {
      "application/vnd.jupyter.widget-view+json": {
       "model_id": "afd494c465a74d639b303d3773eec4c7",
       "version_major": 2,
       "version_minor": 0
      },
      "text/plain": [
       "  0%|          | 0/11 [00:00<?, ?it/s]"
      ]
     },
     "metadata": {},
     "output_type": "display_data"
    },
    {
     "name": "stdout",
     "output_type": "stream",
     "text": [
      "\u001b[32m[I 2023-03-11 13:09:19,086]\u001b[0m Trial 42 finished with value: 0.015010804365862846 and parameters: {'factors': 221, 'regularization': 0.08899151678073094, 'iterations': 11}. Best is trial 35 with value: 0.017430806262161168.\u001b[0m\n"
     ]
    },
    {
     "data": {
      "application/vnd.jupyter.widget-view+json": {
       "model_id": "757e5fedfdca4e6cb61fa15a07a0b75e",
       "version_major": 2,
       "version_minor": 0
      },
      "text/plain": [
       "  0%|          | 0/14 [00:00<?, ?it/s]"
      ]
     },
     "metadata": {},
     "output_type": "display_data"
    },
    {
     "name": "stdout",
     "output_type": "stream",
     "text": [
      "\u001b[32m[I 2023-03-11 13:09:28,430]\u001b[0m Trial 43 finished with value: 0.01402442338162433 and parameters: {'factors': 238, 'regularization': 0.09924951265634153, 'iterations': 14}. Best is trial 35 with value: 0.017430806262161168.\u001b[0m\n"
     ]
    },
    {
     "data": {
      "application/vnd.jupyter.widget-view+json": {
       "model_id": "9e3a868e4c384460b8ba727602550482",
       "version_major": 2,
       "version_minor": 0
      },
      "text/plain": [
       "  0%|          | 0/20 [00:00<?, ?it/s]"
      ]
     },
     "metadata": {},
     "output_type": "display_data"
    },
    {
     "name": "stdout",
     "output_type": "stream",
     "text": [
      "\u001b[32m[I 2023-03-11 13:09:37,520]\u001b[0m Trial 44 finished with value: 0.014766296175858699 and parameters: {'factors': 205, 'regularization': 0.06328084826796766, 'iterations': 20}. Best is trial 35 with value: 0.017430806262161168.\u001b[0m\n"
     ]
    },
    {
     "data": {
      "application/vnd.jupyter.widget-view+json": {
       "model_id": "c3b43f12f6714cecbb531cbd45febbd0",
       "version_major": 2,
       "version_minor": 0
      },
      "text/plain": [
       "  0%|          | 0/10 [00:00<?, ?it/s]"
      ]
     },
     "metadata": {},
     "output_type": "display_data"
    },
    {
     "name": "stdout",
     "output_type": "stream",
     "text": [
      "\u001b[32m[I 2023-03-11 13:09:42,124]\u001b[0m Trial 45 finished with value: 0.010601483810020677 and parameters: {'factors': 75, 'regularization': 0.07663655287133894, 'iterations': 10}. Best is trial 35 with value: 0.017430806262161168.\u001b[0m\n"
     ]
    },
    {
     "data": {
      "application/vnd.jupyter.widget-view+json": {
       "model_id": "4147ad29315644f7b7036e9626c49aa5",
       "version_major": 2,
       "version_minor": 0
      },
      "text/plain": [
       "  0%|          | 0/33 [00:00<?, ?it/s]"
      ]
     },
     "metadata": {},
     "output_type": "display_data"
    },
    {
     "name": "stdout",
     "output_type": "stream",
     "text": [
      "\u001b[32m[I 2023-03-11 13:09:48,803]\u001b[0m Trial 46 finished with value: 0.01155181863621382 and parameters: {'factors': 113, 'regularization': 0.06784211465990819, 'iterations': 33}. Best is trial 35 with value: 0.017430806262161168.\u001b[0m\n"
     ]
    },
    {
     "data": {
      "application/vnd.jupyter.widget-view+json": {
       "model_id": "fdfd296b9c834483b8879751cb9d9f72",
       "version_major": 2,
       "version_minor": 0
      },
      "text/plain": [
       "  0%|          | 0/24 [00:00<?, ?it/s]"
      ]
     },
     "metadata": {},
     "output_type": "display_data"
    },
    {
     "name": "stdout",
     "output_type": "stream",
     "text": [
      "\u001b[32m[I 2023-03-11 13:10:00,059]\u001b[0m Trial 47 finished with value: 0.015056247289658542 and parameters: {'factors': 245, 'regularization': 0.08392815140499577, 'iterations': 24}. Best is trial 35 with value: 0.017430806262161168.\u001b[0m\n"
     ]
    },
    {
     "data": {
      "application/vnd.jupyter.widget-view+json": {
       "model_id": "b910a6b4e5904a969f43c0d03dc628e9",
       "version_major": 2,
       "version_minor": 0
      },
      "text/plain": [
       "  0%|          | 0/17 [00:00<?, ?it/s]"
      ]
     },
     "metadata": {},
     "output_type": "display_data"
    },
    {
     "name": "stdout",
     "output_type": "stream",
     "text": [
      "\u001b[32m[I 2023-03-11 13:10:09,056]\u001b[0m Trial 48 finished with value: 0.014683801076508043 and parameters: {'factors': 214, 'regularization': 0.09333131459708965, 'iterations': 17}. Best is trial 35 with value: 0.017430806262161168.\u001b[0m\n"
     ]
    },
    {
     "data": {
      "application/vnd.jupyter.widget-view+json": {
       "model_id": "d11981dd290640b0bc5094bb02463297",
       "version_major": 2,
       "version_minor": 0
      },
      "text/plain": [
       "  0%|          | 0/13 [00:00<?, ?it/s]"
      ]
     },
     "metadata": {},
     "output_type": "display_data"
    },
    {
     "name": "stdout",
     "output_type": "stream",
     "text": [
      "\u001b[32m[I 2023-03-11 13:10:16,430]\u001b[0m Trial 49 finished with value: 0.01540525710584347 and parameters: {'factors': 185, 'regularization': 0.07597191151664977, 'iterations': 13}. Best is trial 35 with value: 0.017430806262161168.\u001b[0m\n"
     ]
    },
    {
     "data": {
      "application/vnd.jupyter.widget-view+json": {
       "model_id": "81f7a6cb41b24871a99b82fc90b2b9fd",
       "version_major": 2,
       "version_minor": 0
      },
      "text/plain": [
       "  0%|          | 0/10 [00:00<?, ?it/s]"
      ]
     },
     "metadata": {},
     "output_type": "display_data"
    },
    {
     "name": "stdout",
     "output_type": "stream",
     "text": [
      "\u001b[32m[I 2023-03-11 13:10:24,409]\u001b[0m Trial 50 finished with value: 0.016370318200206832 and parameters: {'factors': 224, 'regularization': 0.07005488226839858, 'iterations': 10}. Best is trial 35 with value: 0.017430806262161168.\u001b[0m\n"
     ]
    },
    {
     "data": {
      "application/vnd.jupyter.widget-view+json": {
       "model_id": "b00b8f0db04a4ca29c2dfc7ca156b48a",
       "version_major": 2,
       "version_minor": 0
      },
      "text/plain": [
       "  0%|          | 0/10 [00:00<?, ?it/s]"
      ]
     },
     "metadata": {},
     "output_type": "display_data"
    },
    {
     "name": "stdout",
     "output_type": "stream",
     "text": [
      "\u001b[32m[I 2023-03-11 13:10:32,629]\u001b[0m Trial 51 finished with value: 0.016441258871208328 and parameters: {'factors': 228, 'regularization': 0.06804851522297199, 'iterations': 10}. Best is trial 35 with value: 0.017430806262161168.\u001b[0m\n"
     ]
    },
    {
     "data": {
      "application/vnd.jupyter.widget-view+json": {
       "model_id": "bd6cf29821ff4774ac9c3396f9292b63",
       "version_major": 2,
       "version_minor": 0
      },
      "text/plain": [
       "  0%|          | 0/10 [00:00<?, ?it/s]"
      ]
     },
     "metadata": {},
     "output_type": "display_data"
    },
    {
     "name": "stdout",
     "output_type": "stream",
     "text": [
      "\u001b[32m[I 2023-03-11 13:10:41,419]\u001b[0m Trial 52 finished with value: 0.015196196510747932 and parameters: {'factors': 256, 'regularization': 0.06373528990507984, 'iterations': 10}. Best is trial 35 with value: 0.017430806262161168.\u001b[0m\n"
     ]
    },
    {
     "data": {
      "application/vnd.jupyter.widget-view+json": {
       "model_id": "4f4ae7ed5684474a996bc4df014bff33",
       "version_major": 2,
       "version_minor": 0
      },
      "text/plain": [
       "  0%|          | 0/15 [00:00<?, ?it/s]"
      ]
     },
     "metadata": {},
     "output_type": "display_data"
    },
    {
     "name": "stdout",
     "output_type": "stream",
     "text": [
      "\u001b[32m[I 2023-03-11 13:10:49,245]\u001b[0m Trial 53 finished with value: 0.014454096400862737 and parameters: {'factors': 198, 'regularization': 0.06683824093610942, 'iterations': 15}. Best is trial 35 with value: 0.017430806262161168.\u001b[0m\n"
     ]
    },
    {
     "data": {
      "application/vnd.jupyter.widget-view+json": {
       "model_id": "cdba01d272e144efb05100a8068c2aa8",
       "version_major": 2,
       "version_minor": 0
      },
      "text/plain": [
       "  0%|          | 0/12 [00:00<?, ?it/s]"
      ]
     },
     "metadata": {},
     "output_type": "display_data"
    },
    {
     "name": "stdout",
     "output_type": "stream",
     "text": [
      "\u001b[32m[I 2023-03-11 13:10:57,925]\u001b[0m Trial 54 finished with value: 0.014726191717370668 and parameters: {'factors': 237, 'regularization': 0.07069193279712754, 'iterations': 12}. Best is trial 35 with value: 0.017430806262161168.\u001b[0m\n"
     ]
    },
    {
     "data": {
      "application/vnd.jupyter.widget-view+json": {
       "model_id": "2ae82391608d43b387d6aa57e54cd7bc",
       "version_major": 2,
       "version_minor": 0
      },
      "text/plain": [
       "  0%|          | 0/47 [00:00<?, ?it/s]"
      ]
     },
     "metadata": {},
     "output_type": "display_data"
    },
    {
     "name": "stdout",
     "output_type": "stream",
     "text": [
      "\u001b[32m[I 2023-03-11 13:11:10,545]\u001b[0m Trial 55 finished with value: 0.012952984349757708 and parameters: {'factors': 224, 'regularization': 0.0782656620644333, 'iterations': 47}. Best is trial 35 with value: 0.017430806262161168.\u001b[0m\n",
      "EarlyStopping Exceeded: No new best scores on iters 20\n"
     ]
    }
   ],
   "source": [
    "recall_objective = Objective(csr_train, interactions.valid, recall)\n",
    "recall_optimizer = OptunaMaximizer(recall_objective, \"ALS recall maximize\")\n",
    "recall_best_trial = recall_optimizer.optimize(Config.ITERATIONS, Config.STOP_ITERATION)"
   ]
  },
  {
   "cell_type": "code",
   "execution_count": 17,
   "metadata": {},
   "outputs": [
    {
     "data": {
      "application/vnd.jupyter.widget-view+json": {
       "model_id": "fa500e3292b149b1b2bccb146e9e3d26",
       "version_major": 2,
       "version_minor": 0
      },
      "text/plain": [
       "  0%|          | 0/38 [00:00<?, ?it/s]"
      ]
     },
     "metadata": {},
     "output_type": "display_data"
    }
   ],
   "source": [
    "precision_model = AlternatingLeastSquares(**precision_best_trial.params)\n",
    "precision_model.fit(csr_train)"
   ]
  },
  {
   "cell_type": "code",
   "execution_count": 18,
   "metadata": {},
   "outputs": [
    {
     "data": {
      "application/vnd.jupyter.widget-view+json": {
       "model_id": "0aecc292fa64476ab9ca9dce30f16c8d",
       "version_major": 2,
       "version_minor": 0
      },
      "text/plain": [
       "  0%|          | 0/11 [00:00<?, ?it/s]"
      ]
     },
     "metadata": {},
     "output_type": "display_data"
    }
   ],
   "source": [
    "recall_model = AlternatingLeastSquares(**recall_best_trial.params)\n",
    "recall_model.fit(csr_train)"
   ]
  },
  {
   "cell_type": "code",
   "execution_count": 19,
   "metadata": {},
   "outputs": [],
   "source": [
    "models = {\n",
    "    \"recall_model\": recall_model,\n",
    "    \"precision_model\": precision_model\n",
    "}"
   ]
  },
  {
   "cell_type": "code",
   "execution_count": 20,
   "metadata": {},
   "outputs": [],
   "source": [
    "metrics = {\n",
    "    \"precision\": precision,\n",
    "    \"recall\": recall\n",
    "}"
   ]
  },
  {
   "cell_type": "code",
   "execution_count": 21,
   "metadata": {},
   "outputs": [
    {
     "name": "stdout",
     "output_type": "stream",
     "text": [
      "Model 'recall_model':\n",
      "\tMetric precision@10: 0.0023210831721469983\n",
      "\tMetric recall@10: 0.008298372726564213\n",
      "Model 'precision_model':\n",
      "\tMetric precision@10: 0.0019825918762088955\n",
      "\tMetric recall@10: 0.006664199736024153\n"
     ]
    }
   ],
   "source": [
    "for model_name, model in models.items():\n",
    "    pred = pd.DataFrame(interactions.test[\"user_id\"].drop_duplicates())\n",
    "    print(f\"Model '{model_name}':\")\n",
    "    pred[\"item_id\"] = pred[\"user_id\"].apply(\n",
    "        lambda user_id: \n",
    "            model.recommend(\n",
    "                user_id, \n",
    "                csr_train[user_id],\n",
    "                N=Config.K,\n",
    "                filter_already_liked_items=True\n",
    "            )[0]\n",
    "    )\n",
    "    pred = pred.explode(\"item_id\")\n",
    "    for metric_name, metric in metrics.items():\n",
    "        metric_val = interactions.test[\"user_id\"].drop_duplicates().apply(\n",
    "            lambda user_id: \n",
    "                metric.calculate(\n",
    "                    pred[pred[\"user_id\"] == user_id][\"item_id\"],\n",
    "                    interactions.test[interactions.test[\"user_id\"] == user_id][\"item_id\"]\n",
    "                )\n",
    "        ).mean()\n",
    "        print(f\"\\tMetric {metric_name}@{Config.K}: {metric_val}\")"
   ]
  },
  {
   "cell_type": "code",
   "execution_count": 22,
   "metadata": {},
   "outputs": [],
   "source": [
    "with (Config.MODEL_PATH / \"als_binary.pickle\").open(\"wb\") as file_object:\n",
    "    pickle.dump(recall_model, file_object)"
   ]
  }
 ],
 "metadata": {
  "kernelspec": {
   "display_name": "core_39",
   "language": "python",
   "name": "python3"
  },
  "language_info": {
   "codemirror_mode": {
    "name": "ipython",
    "version": 3
   },
   "file_extension": ".py",
   "mimetype": "text/x-python",
   "name": "python",
   "nbconvert_exporter": "python",
   "pygments_lexer": "ipython3",
   "version": "3.10.9"
  },
  "orig_nbformat": 4
 },
 "nbformat": 4,
 "nbformat_minor": 2
}

{
 "cells": [
  {
   "cell_type": "code",
   "execution_count": 1,
   "metadata": {},
   "outputs": [],
   "source": [
    "import os\n",
    "os.chdir(\"../\")\n",
    "import pickle\n",
    "import pandas as pd\n",
    "\n",
    "from implicit.als import AlternatingLeastSquares\n",
    "from scipy.sparse import csr_matrix\n",
    "from typing import Callable\n",
    "from src.config import Config\n",
    "from src.dataset import Interactions\n",
    "from src.metrics import PrecisionAtK, RecallAtK, FScoreAtK\n",
    "from src.optimizer import OptunaMaximizer"
   ]
  },
  {
   "cell_type": "code",
   "execution_count": 2,
   "metadata": {},
   "outputs": [],
   "source": [
    "with Config.PREPROCESSED_INTERACTIONS_PATH.open(\"rb\") as file_object:\n",
    "    interactions = Interactions(pickle.load(file_object))"
   ]
  },
  {
   "cell_type": "code",
   "execution_count": 3,
   "metadata": {},
   "outputs": [],
   "source": [
    "interactions.train = interactions.train[[\"user_id\", \"item_id\", \"interest_score\"]]\n",
    "interactions.test = interactions.test[[\"user_id\", \"item_id\", \"interest_score\"]]\n",
    "interactions.valid = interactions.valid[[\"user_id\", \"item_id\", \"interest_score\"]]"
   ]
  },
  {
   "cell_type": "code",
   "execution_count": 4,
   "metadata": {},
   "outputs": [
    {
     "data": {
      "text/html": [
       "<div>\n",
       "<style scoped>\n",
       "    .dataframe tbody tr th:only-of-type {\n",
       "        vertical-align: middle;\n",
       "    }\n",
       "\n",
       "    .dataframe tbody tr th {\n",
       "        vertical-align: top;\n",
       "    }\n",
       "\n",
       "    .dataframe thead th {\n",
       "        text-align: right;\n",
       "    }\n",
       "</style>\n",
       "<table border=\"1\" class=\"dataframe\">\n",
       "  <thead>\n",
       "    <tr style=\"text-align: right;\">\n",
       "      <th></th>\n",
       "      <th>user_id</th>\n",
       "      <th>item_id</th>\n",
       "      <th>interest_score</th>\n",
       "    </tr>\n",
       "  </thead>\n",
       "  <tbody>\n",
       "    <tr>\n",
       "      <th>0</th>\n",
       "      <td>126706</td>\n",
       "      <td>14433</td>\n",
       "      <td>0.400</td>\n",
       "    </tr>\n",
       "    <tr>\n",
       "      <th>1</th>\n",
       "      <td>127290</td>\n",
       "      <td>140952</td>\n",
       "      <td>0.290</td>\n",
       "    </tr>\n",
       "    <tr>\n",
       "      <th>2</th>\n",
       "      <td>66991</td>\n",
       "      <td>198453</td>\n",
       "      <td>0.445</td>\n",
       "    </tr>\n",
       "    <tr>\n",
       "      <th>3</th>\n",
       "      <td>46791</td>\n",
       "      <td>83486</td>\n",
       "      <td>0.615</td>\n",
       "    </tr>\n",
       "    <tr>\n",
       "      <th>4</th>\n",
       "      <td>79313</td>\n",
       "      <td>188770</td>\n",
       "      <td>0.940</td>\n",
       "    </tr>\n",
       "    <tr>\n",
       "      <th>...</th>\n",
       "      <td>...</td>\n",
       "      <td>...</td>\n",
       "      <td>...</td>\n",
       "    </tr>\n",
       "    <tr>\n",
       "      <th>1532993</th>\n",
       "      <td>153908</td>\n",
       "      <td>98585</td>\n",
       "      <td>0.220</td>\n",
       "    </tr>\n",
       "    <tr>\n",
       "      <th>1532994</th>\n",
       "      <td>154008</td>\n",
       "      <td>251969</td>\n",
       "      <td>0.020</td>\n",
       "    </tr>\n",
       "    <tr>\n",
       "      <th>1532995</th>\n",
       "      <td>154892</td>\n",
       "      <td>298192</td>\n",
       "      <td>0.840</td>\n",
       "    </tr>\n",
       "    <tr>\n",
       "      <th>1532996</th>\n",
       "      <td>156948</td>\n",
       "      <td>38118</td>\n",
       "      <td>0.890</td>\n",
       "    </tr>\n",
       "    <tr>\n",
       "      <th>1532997</th>\n",
       "      <td>158041</td>\n",
       "      <td>208145</td>\n",
       "      <td>0.720</td>\n",
       "    </tr>\n",
       "  </tbody>\n",
       "</table>\n",
       "<p>1306588 rows × 3 columns</p>\n",
       "</div>"
      ],
      "text/plain": [
       "         user_id  item_id  interest_score\n",
       "0         126706    14433           0.400\n",
       "1         127290   140952           0.290\n",
       "2          66991   198453           0.445\n",
       "3          46791    83486           0.615\n",
       "4          79313   188770           0.940\n",
       "...          ...      ...             ...\n",
       "1532993   153908    98585           0.220\n",
       "1532994   154008   251969           0.020\n",
       "1532995   154892   298192           0.840\n",
       "1532996   156948    38118           0.890\n",
       "1532997   158041   208145           0.720\n",
       "\n",
       "[1306588 rows x 3 columns]"
      ]
     },
     "execution_count": 4,
     "metadata": {},
     "output_type": "execute_result"
    }
   ],
   "source": [
    "interactions.train"
   ]
  },
  {
   "cell_type": "code",
   "execution_count": 5,
   "metadata": {},
   "outputs": [
    {
     "data": {
      "text/html": [
       "<div>\n",
       "<style scoped>\n",
       "    .dataframe tbody tr th:only-of-type {\n",
       "        vertical-align: middle;\n",
       "    }\n",
       "\n",
       "    .dataframe tbody tr th {\n",
       "        vertical-align: top;\n",
       "    }\n",
       "\n",
       "    .dataframe thead th {\n",
       "        text-align: right;\n",
       "    }\n",
       "</style>\n",
       "<table border=\"1\" class=\"dataframe\">\n",
       "  <thead>\n",
       "    <tr style=\"text-align: right;\">\n",
       "      <th></th>\n",
       "      <th>user_id</th>\n",
       "      <th>item_id</th>\n",
       "      <th>interest_score</th>\n",
       "    </tr>\n",
       "  </thead>\n",
       "  <tbody>\n",
       "    <tr>\n",
       "      <th>1517915</th>\n",
       "      <td>101642</td>\n",
       "      <td>319500</td>\n",
       "      <td>0.835</td>\n",
       "    </tr>\n",
       "    <tr>\n",
       "      <th>1517917</th>\n",
       "      <td>130425</td>\n",
       "      <td>193445</td>\n",
       "      <td>0.490</td>\n",
       "    </tr>\n",
       "    <tr>\n",
       "      <th>1517918</th>\n",
       "      <td>93986</td>\n",
       "      <td>80733</td>\n",
       "      <td>0.235</td>\n",
       "    </tr>\n",
       "    <tr>\n",
       "      <th>1517919</th>\n",
       "      <td>159466</td>\n",
       "      <td>124115</td>\n",
       "      <td>0.420</td>\n",
       "    </tr>\n",
       "    <tr>\n",
       "      <th>1517920</th>\n",
       "      <td>158775</td>\n",
       "      <td>223806</td>\n",
       "      <td>0.270</td>\n",
       "    </tr>\n",
       "    <tr>\n",
       "      <th>...</th>\n",
       "      <td>...</td>\n",
       "      <td>...</td>\n",
       "      <td>...</td>\n",
       "    </tr>\n",
       "    <tr>\n",
       "      <th>1530838</th>\n",
       "      <td>141930</td>\n",
       "      <td>219928</td>\n",
       "      <td>0.450</td>\n",
       "    </tr>\n",
       "    <tr>\n",
       "      <th>1530839</th>\n",
       "      <td>53358</td>\n",
       "      <td>42887</td>\n",
       "      <td>0.290</td>\n",
       "    </tr>\n",
       "    <tr>\n",
       "      <th>1530840</th>\n",
       "      <td>151170</td>\n",
       "      <td>284652</td>\n",
       "      <td>0.135</td>\n",
       "    </tr>\n",
       "    <tr>\n",
       "      <th>1530841</th>\n",
       "      <td>141293</td>\n",
       "      <td>273421</td>\n",
       "      <td>0.240</td>\n",
       "    </tr>\n",
       "    <tr>\n",
       "      <th>1530842</th>\n",
       "      <td>65459</td>\n",
       "      <td>109030</td>\n",
       "      <td>0.365</td>\n",
       "    </tr>\n",
       "  </tbody>\n",
       "</table>\n",
       "<p>11828 rows × 3 columns</p>\n",
       "</div>"
      ],
      "text/plain": [
       "         user_id  item_id  interest_score\n",
       "1517915   101642   319500           0.835\n",
       "1517917   130425   193445           0.490\n",
       "1517918    93986    80733           0.235\n",
       "1517919   159466   124115           0.420\n",
       "1517920   158775   223806           0.270\n",
       "...          ...      ...             ...\n",
       "1530838   141930   219928           0.450\n",
       "1530839    53358    42887           0.290\n",
       "1530840   151170   284652           0.135\n",
       "1530841   141293   273421           0.240\n",
       "1530842    65459   109030           0.365\n",
       "\n",
       "[11828 rows x 3 columns]"
      ]
     },
     "execution_count": 5,
     "metadata": {},
     "output_type": "execute_result"
    }
   ],
   "source": [
    "interactions.test"
   ]
  },
  {
   "cell_type": "code",
   "execution_count": 6,
   "metadata": {},
   "outputs": [
    {
     "data": {
      "text/html": [
       "<div>\n",
       "<style scoped>\n",
       "    .dataframe tbody tr th:only-of-type {\n",
       "        vertical-align: middle;\n",
       "    }\n",
       "\n",
       "    .dataframe tbody tr th {\n",
       "        vertical-align: top;\n",
       "    }\n",
       "\n",
       "    .dataframe thead th {\n",
       "        text-align: right;\n",
       "    }\n",
       "</style>\n",
       "<table border=\"1\" class=\"dataframe\">\n",
       "  <thead>\n",
       "    <tr style=\"text-align: right;\">\n",
       "      <th></th>\n",
       "      <th>user_id</th>\n",
       "      <th>item_id</th>\n",
       "      <th>interest_score</th>\n",
       "    </tr>\n",
       "  </thead>\n",
       "  <tbody>\n",
       "    <tr>\n",
       "      <th>1503047</th>\n",
       "      <td>22032</td>\n",
       "      <td>287219</td>\n",
       "      <td>0.275</td>\n",
       "    </tr>\n",
       "    <tr>\n",
       "      <th>1503048</th>\n",
       "      <td>84214</td>\n",
       "      <td>121609</td>\n",
       "      <td>1.000</td>\n",
       "    </tr>\n",
       "    <tr>\n",
       "      <th>1503049</th>\n",
       "      <td>28992</td>\n",
       "      <td>11482</td>\n",
       "      <td>0.110</td>\n",
       "    </tr>\n",
       "    <tr>\n",
       "      <th>1503050</th>\n",
       "      <td>23345</td>\n",
       "      <td>281921</td>\n",
       "      <td>1.000</td>\n",
       "    </tr>\n",
       "    <tr>\n",
       "      <th>1503051</th>\n",
       "      <td>49466</td>\n",
       "      <td>2880</td>\n",
       "      <td>0.010</td>\n",
       "    </tr>\n",
       "    <tr>\n",
       "      <th>...</th>\n",
       "      <td>...</td>\n",
       "      <td>...</td>\n",
       "      <td>...</td>\n",
       "    </tr>\n",
       "    <tr>\n",
       "      <th>1517908</th>\n",
       "      <td>81768</td>\n",
       "      <td>294370</td>\n",
       "      <td>0.850</td>\n",
       "    </tr>\n",
       "    <tr>\n",
       "      <th>1517910</th>\n",
       "      <td>158991</td>\n",
       "      <td>99669</td>\n",
       "      <td>0.815</td>\n",
       "    </tr>\n",
       "    <tr>\n",
       "      <th>1517911</th>\n",
       "      <td>77232</td>\n",
       "      <td>142149</td>\n",
       "      <td>0.020</td>\n",
       "    </tr>\n",
       "    <tr>\n",
       "      <th>1517912</th>\n",
       "      <td>17843</td>\n",
       "      <td>174535</td>\n",
       "      <td>0.060</td>\n",
       "    </tr>\n",
       "    <tr>\n",
       "      <th>1517913</th>\n",
       "      <td>104746</td>\n",
       "      <td>55913</td>\n",
       "      <td>0.050</td>\n",
       "    </tr>\n",
       "  </tbody>\n",
       "</table>\n",
       "<p>13675 rows × 3 columns</p>\n",
       "</div>"
      ],
      "text/plain": [
       "         user_id  item_id  interest_score\n",
       "1503047    22032   287219           0.275\n",
       "1503048    84214   121609           1.000\n",
       "1503049    28992    11482           0.110\n",
       "1503050    23345   281921           1.000\n",
       "1503051    49466     2880           0.010\n",
       "...          ...      ...             ...\n",
       "1517908    81768   294370           0.850\n",
       "1517910   158991    99669           0.815\n",
       "1517911    77232   142149           0.020\n",
       "1517912    17843   174535           0.060\n",
       "1517913   104746    55913           0.050\n",
       "\n",
       "[13675 rows x 3 columns]"
      ]
     },
     "execution_count": 6,
     "metadata": {},
     "output_type": "execute_result"
    }
   ],
   "source": [
    "interactions.valid"
   ]
  },
  {
   "cell_type": "code",
   "execution_count": 7,
   "metadata": {},
   "outputs": [
    {
     "data": {
      "text/plain": [
       "<159613x321752 sparse matrix of type '<class 'numpy.float32'>'\n",
       "\twith 1306588 stored elements in Compressed Sparse Row format>"
      ]
     },
     "execution_count": 7,
     "metadata": {},
     "output_type": "execute_result"
    }
   ],
   "source": [
    "csr_train = csr_matrix(\n",
    "    (interactions.train[\"interest_score\"], \n",
    "    (interactions.train[\"user_id\"], interactions.train[\"item_id\"]))\n",
    ")\n",
    "csr_train"
   ]
  },
  {
   "cell_type": "code",
   "execution_count": 8,
   "metadata": {},
   "outputs": [],
   "source": [
    "class Objective:\n",
    "    def __init__(self, train: csr_matrix, valid: pd.DataFrame, metric: Callable):\n",
    "        self.train = train\n",
    "        self.valid = valid\n",
    "        self.metric = metric\n",
    "\n",
    "    def __call__(self, trial) -> float:\n",
    "        search_space = {\n",
    "            \"factors\": trial.suggest_int(\"factors\", 4, 256),\n",
    "            \"regularization\": trial.suggest_float(\"regularization\", 1e-8, 0.1),\n",
    "            \"iterations\": trial.suggest_int(\"iterations\", 8, 64),\n",
    "            \"num_threads\": Config.NUM_THREADS\n",
    "        }\n",
    "        model = AlternatingLeastSquares(**search_space)\n",
    "        model.fit(self.train)\n",
    "        predictions = pd.DataFrame(self.valid[\"user_id\"].drop_duplicates())\n",
    "        predictions[\"item_id\"] = predictions[\"user_id\"].apply(\n",
    "            lambda user_id: \n",
    "                model.recommend(\n",
    "                    user_id, \n",
    "                    self.train[user_id],\n",
    "                    N=Config.K,\n",
    "                    filter_already_liked_items=True\n",
    "                )[0]\n",
    "        )\n",
    "        predictions = predictions.explode(\"item_id\")\n",
    "        return self.valid[\"user_id\"].drop_duplicates().apply(\n",
    "            lambda user_id: \n",
    "                self.metric.calculate(\n",
    "                    predictions[predictions[\"user_id\"] == user_id][\"item_id\"],\n",
    "                    self.valid[self.valid[\"user_id\"] == user_id][\"item_id\"]\n",
    "                )\n",
    "        ).mean()"
   ]
  },
  {
   "cell_type": "code",
   "execution_count": 10,
   "metadata": {},
   "outputs": [],
   "source": [
    "recall = RecallAtK(Config.K)\n",
    "precision = PrecisionAtK(Config.K)"
   ]
  },
  {
   "cell_type": "code",
   "execution_count": 11,
   "metadata": {},
   "outputs": [
    {
     "name": "stderr",
     "output_type": "stream",
     "text": [
      "\u001b[32m[I 2023-03-10 19:07:08,006]\u001b[0m A new study created in memory with name: ALS precision maximize\u001b[0m\n",
      "/home/aveitsme/miniconda3/envs/core/lib/python3.10/site-packages/optuna/progress_bar.py:56: ExperimentalWarning: Progress bar is experimental (supported from v1.2.0). The interface can change in the future.\n",
      "  self._init_valid()\n"
     ]
    },
    {
     "data": {
      "application/vnd.jupyter.widget-view+json": {
       "model_id": "5d7f569426de43bd9f2a7077fe870cbc",
       "version_major": 2,
       "version_minor": 0
      },
      "text/plain": [
       "  0%|          | 0/100 [00:00<?, ?it/s]"
      ]
     },
     "metadata": {},
     "output_type": "display_data"
    },
    {
     "data": {
      "application/vnd.jupyter.widget-view+json": {
       "model_id": "288789243c854d5684ad0601dbae3144",
       "version_major": 2,
       "version_minor": 0
      },
      "text/plain": [
       "  0%|          | 0/21 [00:00<?, ?it/s]"
      ]
     },
     "metadata": {},
     "output_type": "display_data"
    },
    {
     "name": "stdout",
     "output_type": "stream",
     "text": [
      "\u001b[32m[I 2023-03-10 19:07:48,621]\u001b[0m Trial 0 finished with value: 0.001788782213239008 and parameters: {'factors': 83, 'regularization': 0.030671577732026258, 'iterations': 21}. Best is trial 0 with value: 0.001788782213239008.\u001b[0m\n"
     ]
    },
    {
     "data": {
      "application/vnd.jupyter.widget-view+json": {
       "model_id": "62caa86b743f4434b41b9d3c0f4338f0",
       "version_major": 2,
       "version_minor": 0
      },
      "text/plain": [
       "  0%|          | 0/45 [00:00<?, ?it/s]"
      ]
     },
     "metadata": {},
     "output_type": "display_data"
    },
    {
     "name": "stdout",
     "output_type": "stream",
     "text": [
      "\u001b[32m[I 2023-03-10 19:09:17,855]\u001b[0m Trial 1 finished with value: 0.002283981808994446 and parameters: {'factors': 198, 'regularization': 0.05702905104311832, 'iterations': 45}. Best is trial 1 with value: 0.002283981808994446.\u001b[0m\n"
     ]
    },
    {
     "data": {
      "application/vnd.jupyter.widget-view+json": {
       "model_id": "045d5202255a479aa3ff2abde62c0466",
       "version_major": 2,
       "version_minor": 0
      },
      "text/plain": [
       "  0%|          | 0/25 [00:00<?, ?it/s]"
      ]
     },
     "metadata": {},
     "output_type": "display_data"
    },
    {
     "name": "stdout",
     "output_type": "stream",
     "text": [
      "\u001b[32m[I 2023-03-10 19:09:43,983]\u001b[0m Trial 2 finished with value: 0.001616978271854469 and parameters: {'factors': 47, 'regularization': 0.09043733214900626, 'iterations': 25}. Best is trial 1 with value: 0.002283981808994446.\u001b[0m\n"
     ]
    },
    {
     "data": {
      "application/vnd.jupyter.widget-view+json": {
       "model_id": "1fa3f508a09e47049f97ad5a2e22e585",
       "version_major": 2,
       "version_minor": 0
      },
      "text/plain": [
       "  0%|          | 0/43 [00:00<?, ?it/s]"
      ]
     },
     "metadata": {},
     "output_type": "display_data"
    },
    {
     "name": "stdout",
     "output_type": "stream",
     "text": [
      "\u001b[32m[I 2023-03-10 19:10:02,859]\u001b[0m Trial 3 finished with value: 0.0011116725618999478 and parameters: {'factors': 24, 'regularization': 0.007987769495773345, 'iterations': 43}. Best is trial 1 with value: 0.002283981808994446.\u001b[0m\n"
     ]
    },
    {
     "data": {
      "application/vnd.jupyter.widget-view+json": {
       "model_id": "42b9d471193a452e93753fbe5d99c846",
       "version_major": 2,
       "version_minor": 0
      },
      "text/plain": [
       "  0%|          | 0/61 [00:00<?, ?it/s]"
      ]
     },
     "metadata": {},
     "output_type": "display_data"
    },
    {
     "name": "stdout",
     "output_type": "stream",
     "text": [
      "\u001b[32m[I 2023-03-10 19:10:45,416]\u001b[0m Trial 4 finished with value: 0.0017988883274380994 and parameters: {'factors': 83, 'regularization': 0.030524770726276112, 'iterations': 61}. Best is trial 1 with value: 0.002283981808994446.\u001b[0m\n"
     ]
    },
    {
     "data": {
      "application/vnd.jupyter.widget-view+json": {
       "model_id": "6515ca9b26eb46238be489a1bc25e106",
       "version_major": 2,
       "version_minor": 0
      },
      "text/plain": [
       "  0%|          | 0/55 [00:00<?, ?it/s]"
      ]
     },
     "metadata": {},
     "output_type": "display_data"
    },
    {
     "name": "stdout",
     "output_type": "stream",
     "text": [
      "\u001b[32m[I 2023-03-10 19:12:37,234]\u001b[0m Trial 5 finished with value: 0.002324406265790809 and parameters: {'factors': 233, 'regularization': 0.0030947458023845432, 'iterations': 55}. Best is trial 5 with value: 0.002324406265790809.\u001b[0m\n"
     ]
    },
    {
     "data": {
      "application/vnd.jupyter.widget-view+json": {
       "model_id": "9b8643141665469a93ed0349a2773d23",
       "version_major": 2,
       "version_minor": 0
      },
      "text/plain": [
       "  0%|          | 0/62 [00:00<?, ?it/s]"
      ]
     },
     "metadata": {},
     "output_type": "display_data"
    },
    {
     "name": "stdout",
     "output_type": "stream",
     "text": [
      "\u001b[32m[I 2023-03-10 19:13:01,053]\u001b[0m Trial 6 finished with value: 0.0014148559878726609 and parameters: {'factors': 37, 'regularization': 0.048738059075112514, 'iterations': 62}. Best is trial 5 with value: 0.002324406265790809.\u001b[0m\n"
     ]
    },
    {
     "data": {
      "application/vnd.jupyter.widget-view+json": {
       "model_id": "7ab4eaecb344437eb936839e52074004",
       "version_major": 2,
       "version_minor": 0
      },
      "text/plain": [
       "  0%|          | 0/33 [00:00<?, ?it/s]"
      ]
     },
     "metadata": {},
     "output_type": "display_data"
    },
    {
     "name": "stdout",
     "output_type": "stream",
     "text": [
      "\u001b[32m[I 2023-03-10 19:14:27,431]\u001b[0m Trial 7 finished with value: 0.0021627084386053592 and parameters: {'factors': 198, 'regularization': 0.06194426616244957, 'iterations': 33}. Best is trial 5 with value: 0.002324406265790809.\u001b[0m\n"
     ]
    },
    {
     "data": {
      "application/vnd.jupyter.widget-view+json": {
       "model_id": "14b704804c904a3c9c3eab2b5e0b5cda",
       "version_major": 2,
       "version_minor": 0
      },
      "text/plain": [
       "  0%|          | 0/10 [00:00<?, ?it/s]"
      ]
     },
     "metadata": {},
     "output_type": "display_data"
    },
    {
     "name": "stdout",
     "output_type": "stream",
     "text": [
      "\u001b[32m[I 2023-03-10 19:15:56,289]\u001b[0m Trial 8 finished with value: 0.002657908034360796 and parameters: {'factors': 228, 'regularization': 0.09379858785960193, 'iterations': 10}. Best is trial 8 with value: 0.002657908034360796.\u001b[0m\n"
     ]
    },
    {
     "data": {
      "application/vnd.jupyter.widget-view+json": {
       "model_id": "450c030130fd422b9affb2266ba5488e",
       "version_major": 2,
       "version_minor": 0
      },
      "text/plain": [
       "  0%|          | 0/36 [00:00<?, ?it/s]"
      ]
     },
     "metadata": {},
     "output_type": "display_data"
    },
    {
     "name": "stdout",
     "output_type": "stream",
     "text": [
      "\u001b[32m[I 2023-03-10 19:16:24,306]\u001b[0m Trial 9 finished with value: 0.0017281455280444649 and parameters: {'factors': 65, 'regularization': 0.05744992912922361, 'iterations': 36}. Best is trial 8 with value: 0.002657908034360796.\u001b[0m\n"
     ]
    },
    {
     "data": {
      "application/vnd.jupyter.widget-view+json": {
       "model_id": "cade91cc91cd4276a76ddc775c8165c8",
       "version_major": 2,
       "version_minor": 0
      },
      "text/plain": [
       "  0%|          | 0/10 [00:00<?, ?it/s]"
      ]
     },
     "metadata": {},
     "output_type": "display_data"
    },
    {
     "name": "stdout",
     "output_type": "stream",
     "text": [
      "\u001b[32m[I 2023-03-10 19:16:38,570]\u001b[0m Trial 10 finished with value: 0.0022738756947953544 and parameters: {'factors': 146, 'regularization': 0.09616806047956591, 'iterations': 10}. Best is trial 8 with value: 0.002657908034360796.\u001b[0m\n"
     ]
    },
    {
     "data": {
      "application/vnd.jupyter.widget-view+json": {
       "model_id": "4d6c435f7a734b069687bfa7d3a5e492",
       "version_major": 2,
       "version_minor": 0
      },
      "text/plain": [
       "  0%|          | 0/9 [00:00<?, ?it/s]"
      ]
     },
     "metadata": {},
     "output_type": "display_data"
    },
    {
     "name": "stdout",
     "output_type": "stream",
     "text": [
      "\u001b[32m[I 2023-03-10 19:16:55,156]\u001b[0m Trial 11 finished with value: 0.0027488630621526114 and parameters: {'factors': 252, 'regularization': 0.0009609926864804453, 'iterations': 9}. Best is trial 11 with value: 0.0027488630621526114.\u001b[0m\n"
     ]
    },
    {
     "data": {
      "application/vnd.jupyter.widget-view+json": {
       "model_id": "5e7a33e7216b47cda948f58bfd96315d",
       "version_major": 2,
       "version_minor": 0
      },
      "text/plain": [
       "  0%|          | 0/9 [00:00<?, ?it/s]"
      ]
     },
     "metadata": {},
     "output_type": "display_data"
    },
    {
     "name": "stdout",
     "output_type": "stream",
     "text": [
      "\u001b[32m[I 2023-03-10 19:17:11,951]\u001b[0m Trial 12 finished with value: 0.0027185447195553405 and parameters: {'factors': 255, 'regularization': 0.08079229839776317, 'iterations': 9}. Best is trial 11 with value: 0.0027488630621526114.\u001b[0m\n"
     ]
    },
    {
     "data": {
      "application/vnd.jupyter.widget-view+json": {
       "model_id": "1dd9abd8062846359e7ecf595f34771c",
       "version_major": 2,
       "version_minor": 0
      },
      "text/plain": [
       "  0%|          | 0/19 [00:00<?, ?it/s]"
      ]
     },
     "metadata": {},
     "output_type": "display_data"
    },
    {
     "name": "stdout",
     "output_type": "stream",
     "text": [
      "\u001b[32m[I 2023-03-10 19:17:30,596]\u001b[0m Trial 13 finished with value: 0.002577059120768073 and parameters: {'factors': 252, 'regularization': 0.0773736356604047, 'iterations': 19}. Best is trial 11 with value: 0.0027488630621526114.\u001b[0m\n"
     ]
    },
    {
     "data": {
      "application/vnd.jupyter.widget-view+json": {
       "model_id": "762f7d7eff424c98b794a03b2045c9a3",
       "version_major": 2,
       "version_minor": 0
      },
      "text/plain": [
       "  0%|          | 0/8 [00:00<?, ?it/s]"
      ]
     },
     "metadata": {},
     "output_type": "display_data"
    },
    {
     "name": "stdout",
     "output_type": "stream",
     "text": [
      "\u001b[32m[I 2023-03-10 19:17:42,656]\u001b[0m Trial 14 finished with value: 0.002213239009600813 and parameters: {'factors': 142, 'regularization': 0.07499221654573365, 'iterations': 8}. Best is trial 11 with value: 0.0027488630621526114.\u001b[0m\n"
     ]
    },
    {
     "data": {
      "application/vnd.jupyter.widget-view+json": {
       "model_id": "0aa619b7c95f4f1cada326ad6a08a974",
       "version_major": 2,
       "version_minor": 0
      },
      "text/plain": [
       "  0%|          | 0/16 [00:00<?, ?it/s]"
      ]
     },
     "metadata": {},
     "output_type": "display_data"
    },
    {
     "name": "stdout",
     "output_type": "stream",
     "text": [
      "\u001b[32m[I 2023-03-10 19:17:57,362]\u001b[0m Trial 15 finished with value: 0.002395149065184442 and parameters: {'factors': 184, 'regularization': 0.017574945198963698, 'iterations': 16}. Best is trial 11 with value: 0.0027488630621526114.\u001b[0m\n"
     ]
    },
    {
     "data": {
      "application/vnd.jupyter.widget-view+json": {
       "model_id": "07e05f81e7284b46afd456334c6f5a8f",
       "version_major": 2,
       "version_minor": 0
      },
      "text/plain": [
       "  0%|          | 0/27 [00:00<?, ?it/s]"
      ]
     },
     "metadata": {},
     "output_type": "display_data"
    },
    {
     "name": "stdout",
     "output_type": "stream",
     "text": [
      "\u001b[32m[I 2023-03-10 19:18:17,958]\u001b[0m Trial 16 finished with value: 0.0025366346639717104 and parameters: {'factors': 254, 'regularization': 0.00045710918590640554, 'iterations': 27}. Best is trial 11 with value: 0.0027488630621526114.\u001b[0m\n"
     ]
    },
    {
     "data": {
      "application/vnd.jupyter.widget-view+json": {
       "model_id": "67b001eb5ee94a2c98235856ea742179",
       "version_major": 2,
       "version_minor": 0
      },
      "text/plain": [
       "  0%|          | 0/15 [00:00<?, ?it/s]"
      ]
     },
     "metadata": {},
     "output_type": "display_data"
    },
    {
     "name": "stdout",
     "output_type": "stream",
     "text": [
      "\u001b[32m[I 2023-03-10 19:18:32,372]\u001b[0m Trial 17 finished with value: 0.002223345123799902 and parameters: {'factors': 173, 'regularization': 0.04281030684913233, 'iterations': 15}. Best is trial 11 with value: 0.0027488630621526114.\u001b[0m\n"
     ]
    },
    {
     "data": {
      "application/vnd.jupyter.widget-view+json": {
       "model_id": "0b388cca5dd34939b093626b5724df97",
       "version_major": 2,
       "version_minor": 0
      },
      "text/plain": [
       "  0%|          | 0/28 [00:00<?, ?it/s]"
      ]
     },
     "metadata": {},
     "output_type": "display_data"
    },
    {
     "name": "stdout",
     "output_type": "stream",
     "text": [
      "\u001b[32m[I 2023-03-10 19:18:44,539]\u001b[0m Trial 18 finished with value: 0.001970692268822639 and parameters: {'factors': 112, 'regularization': 0.013707969884734557, 'iterations': 28}. Best is trial 11 with value: 0.0027488630621526114.\u001b[0m\n"
     ]
    },
    {
     "data": {
      "application/vnd.jupyter.widget-view+json": {
       "model_id": "745c4f7efb384298a18415800ac6de8d",
       "version_major": 2,
       "version_minor": 0
      },
      "text/plain": [
       "  0%|          | 0/43 [00:00<?, ?it/s]"
      ]
     },
     "metadata": {},
     "output_type": "display_data"
    },
    {
     "name": "stdout",
     "output_type": "stream",
     "text": [
      "\u001b[32m[I 2023-03-10 19:19:05,997]\u001b[0m Trial 19 finished with value: 0.002334512379989899 and parameters: {'factors': 223, 'regularization': 0.023559493823836625, 'iterations': 43}. Best is trial 11 with value: 0.0027488630621526114.\u001b[0m\n"
     ]
    },
    {
     "data": {
      "application/vnd.jupyter.widget-view+json": {
       "model_id": "156b092283cb4392a61b51045b4855ea",
       "version_major": 2,
       "version_minor": 0
      },
      "text/plain": [
       "  0%|          | 0/13 [00:00<?, ?it/s]"
      ]
     },
     "metadata": {},
     "output_type": "display_data"
    },
    {
     "name": "stdout",
     "output_type": "stream",
     "text": [
      "\u001b[32m[I 2023-03-10 19:19:12,917]\u001b[0m Trial 20 finished with value: 0.0007882769075290545 and parameters: {'factors': 5, 'regularization': 0.037717239066698965, 'iterations': 13}. Best is trial 11 with value: 0.0027488630621526114.\u001b[0m\n"
     ]
    },
    {
     "data": {
      "application/vnd.jupyter.widget-view+json": {
       "model_id": "182051be39aa4bce9d656496b9d7fa24",
       "version_major": 2,
       "version_minor": 0
      },
      "text/plain": [
       "  0%|          | 0/8 [00:00<?, ?it/s]"
      ]
     },
     "metadata": {},
     "output_type": "display_data"
    },
    {
     "name": "stdout",
     "output_type": "stream",
     "text": [
      "\u001b[32m[I 2023-03-10 19:19:28,350]\u001b[0m Trial 21 finished with value: 0.0025467407781708 and parameters: {'factors': 219, 'regularization': 0.09972184696517383, 'iterations': 8}. Best is trial 11 with value: 0.0027488630621526114.\u001b[0m\n"
     ]
    },
    {
     "data": {
      "application/vnd.jupyter.widget-view+json": {
       "model_id": "2879d69417b04659bb73d72b0f1afda2",
       "version_major": 2,
       "version_minor": 0
      },
      "text/plain": [
       "  0%|          | 0/21 [00:00<?, ?it/s]"
      ]
     },
     "metadata": {},
     "output_type": "display_data"
    },
    {
     "name": "stdout",
     "output_type": "stream",
     "text": [
      "\u001b[32m[I 2023-03-10 19:19:47,187]\u001b[0m Trial 22 finished with value: 0.0025265285497726195 and parameters: {'factors': 238, 'regularization': 0.084853445421712, 'iterations': 21}. Best is trial 11 with value: 0.0027488630621526114.\u001b[0m\n"
     ]
    },
    {
     "data": {
      "application/vnd.jupyter.widget-view+json": {
       "model_id": "1d0844d68c0943d5a865e665ba9dd123",
       "version_major": 2,
       "version_minor": 0
      },
      "text/plain": [
       "  0%|          | 0/14 [00:00<?, ?it/s]"
      ]
     },
     "metadata": {},
     "output_type": "display_data"
    },
    {
     "name": "stdout",
     "output_type": "stream",
     "text": [
      "\u001b[32m[I 2023-03-10 19:20:03,880]\u001b[0m Trial 23 finished with value: 0.002526528549772619 and parameters: {'factors': 212, 'regularization': 0.06989850392147001, 'iterations': 14}. Best is trial 11 with value: 0.0027488630621526114.\u001b[0m\n"
     ]
    },
    {
     "data": {
      "application/vnd.jupyter.widget-view+json": {
       "model_id": "c0c8356ff24445108431a28df13c12b8",
       "version_major": 2,
       "version_minor": 0
      },
      "text/plain": [
       "  0%|          | 0/11 [00:00<?, ?it/s]"
      ]
     },
     "metadata": {},
     "output_type": "display_data"
    },
    {
     "name": "stdout",
     "output_type": "stream",
     "text": [
      "\u001b[32m[I 2023-03-10 19:20:17,718]\u001b[0m Trial 24 finished with value: 0.002253663466397174 and parameters: {'factors': 167, 'regularization': 0.08788223822609476, 'iterations': 11}. Best is trial 11 with value: 0.0027488630621526114.\u001b[0m\n"
     ]
    },
    {
     "data": {
      "application/vnd.jupyter.widget-view+json": {
       "model_id": "ddd9431b6df64f85a8d4d4bf7f570f76",
       "version_major": 2,
       "version_minor": 0
      },
      "text/plain": [
       "  0%|          | 0/18 [00:00<?, ?it/s]"
      ]
     },
     "metadata": {},
     "output_type": "display_data"
    },
    {
     "name": "stdout",
     "output_type": "stream",
     "text": [
      "\u001b[32m[I 2023-03-10 19:20:36,878]\u001b[0m Trial 25 finished with value: 0.0025669530065689813 and parameters: {'factors': 253, 'regularization': 0.08090717334507658, 'iterations': 18}. Best is trial 11 with value: 0.0027488630621526114.\u001b[0m\n"
     ]
    },
    {
     "data": {
      "application/vnd.jupyter.widget-view+json": {
       "model_id": "33868d96cdeb48a0b41a15177cd3b3ce",
       "version_major": 2,
       "version_minor": 0
      },
      "text/plain": [
       "  0%|          | 0/22 [00:00<?, ?it/s]"
      ]
     },
     "metadata": {},
     "output_type": "display_data"
    },
    {
     "name": "stdout",
     "output_type": "stream",
     "text": [
      "\u001b[32m[I 2023-03-10 19:20:54,287]\u001b[0m Trial 26 finished with value: 0.0024052551793835326 and parameters: {'factors': 208, 'regularization': 0.07104415366119154, 'iterations': 22}. Best is trial 11 with value: 0.0027488630621526114.\u001b[0m\n"
     ]
    },
    {
     "data": {
      "application/vnd.jupyter.widget-view+json": {
       "model_id": "97484e8f6c3d47d58279a17634296d01",
       "version_major": 2,
       "version_minor": 0
      },
      "text/plain": [
       "  0%|          | 0/12 [00:00<?, ?it/s]"
      ]
     },
     "metadata": {},
     "output_type": "display_data"
    },
    {
     "name": "stdout",
     "output_type": "stream",
     "text": [
      "\u001b[32m[I 2023-03-10 19:21:12,418]\u001b[0m Trial 27 finished with value: 0.0026478019201617055 and parameters: {'factors': 241, 'regularization': 0.09364418911985527, 'iterations': 12}. Best is trial 11 with value: 0.0027488630621526114.\u001b[0m\n"
     ]
    },
    {
     "data": {
      "application/vnd.jupyter.widget-view+json": {
       "model_id": "869b868968304547bbad89583011299f",
       "version_major": 2,
       "version_minor": 0
      },
      "text/plain": [
       "  0%|          | 0/31 [00:00<?, ?it/s]"
      ]
     },
     "metadata": {},
     "output_type": "display_data"
    },
    {
     "name": "stdout",
     "output_type": "stream",
     "text": [
      "\u001b[32m[I 2023-03-10 19:21:33,114]\u001b[0m Trial 28 finished with value: 0.002374936836786262 and parameters: {'factors': 229, 'regularization': 0.0844145521843311, 'iterations': 31}. Best is trial 11 with value: 0.0027488630621526114.\u001b[0m\n"
     ]
    },
    {
     "data": {
      "application/vnd.jupyter.widget-view+json": {
       "model_id": "d64f46e2e76546af8e98053b1ffc8eaa",
       "version_major": 2,
       "version_minor": 0
      },
      "text/plain": [
       "  0%|          | 0/24 [00:00<?, ?it/s]"
      ]
     },
     "metadata": {},
     "output_type": "display_data"
    },
    {
     "name": "stdout",
     "output_type": "stream",
     "text": [
      "\u001b[32m[I 2023-03-10 19:21:45,681]\u001b[0m Trial 29 finished with value: 0.0020313289540171827 and parameters: {'factors': 111, 'regularization': 0.0932047531694253, 'iterations': 24}. Best is trial 11 with value: 0.0027488630621526114.\u001b[0m\n"
     ]
    },
    {
     "data": {
      "application/vnd.jupyter.widget-view+json": {
       "model_id": "c4faee28c71b42c099527328960a47f1",
       "version_major": 2,
       "version_minor": 0
      },
      "text/plain": [
       "  0%|          | 0/9 [00:00<?, ?it/s]"
      ]
     },
     "metadata": {},
     "output_type": "display_data"
    },
    {
     "name": "stdout",
     "output_type": "stream",
     "text": [
      "\u001b[32m[I 2023-03-10 19:22:00,391]\u001b[0m Trial 30 finished with value: 0.002435573521980805 and parameters: {'factors': 190, 'regularization': 0.06737352875277082, 'iterations': 9}. Best is trial 11 with value: 0.0027488630621526114.\u001b[0m\n"
     ]
    },
    {
     "data": {
      "application/vnd.jupyter.widget-view+json": {
       "model_id": "b6d4b0680cca4e96a3d05bedf3057282",
       "version_major": 2,
       "version_minor": 0
      },
      "text/plain": [
       "  0%|          | 0/13 [00:00<?, ?it/s]"
      ]
     },
     "metadata": {},
     "output_type": "display_data"
    },
    {
     "name": "stdout",
     "output_type": "stream",
     "text": [
      "\u001b[32m[I 2023-03-10 19:22:18,012]\u001b[0m Trial 31 finished with value: 0.0027084386053562496 and parameters: {'factors': 240, 'regularization': 0.09389889279604427, 'iterations': 13}. Best is trial 11 with value: 0.0027488630621526114.\u001b[0m\n",
      "EarlyStopping Exceeded: No new best scores on iters 20\n"
     ]
    }
   ],
   "source": [
    "precision_objective = Objective(csr_train, interactions.valid, precision)\n",
    "precision_optimizer = OptunaMaximizer(precision_objective, \"ALS precision maximize\")\n",
    "precision_best_trial = precision_optimizer.optimize(Config.ITERATIONS, Config.STOP_ITERATION)"
   ]
  },
  {
   "cell_type": "code",
   "execution_count": 12,
   "metadata": {},
   "outputs": [
    {
     "name": "stderr",
     "output_type": "stream",
     "text": [
      "\u001b[32m[I 2023-03-10 19:22:19,976]\u001b[0m A new study created in memory with name: ALS recall maximize\u001b[0m\n",
      "/home/aveitsme/miniconda3/envs/core/lib/python3.10/site-packages/optuna/progress_bar.py:56: ExperimentalWarning: Progress bar is experimental (supported from v1.2.0). The interface can change in the future.\n",
      "  self._init_valid()\n"
     ]
    },
    {
     "data": {
      "application/vnd.jupyter.widget-view+json": {
       "model_id": "a4227d70fff54cdd9f93c943cf8ed4af",
       "version_major": 2,
       "version_minor": 0
      },
      "text/plain": [
       "  0%|          | 0/100 [00:00<?, ?it/s]"
      ]
     },
     "metadata": {},
     "output_type": "display_data"
    },
    {
     "data": {
      "application/vnd.jupyter.widget-view+json": {
       "model_id": "1ce199e99f3e40bba18f1360093602ca",
       "version_major": 2,
       "version_minor": 0
      },
      "text/plain": [
       "  0%|          | 0/64 [00:00<?, ?it/s]"
      ]
     },
     "metadata": {},
     "output_type": "display_data"
    },
    {
     "name": "stdout",
     "output_type": "stream",
     "text": [
      "\u001b[32m[I 2023-03-10 19:22:35,042]\u001b[0m Trial 0 finished with value: 0.008247920318410465 and parameters: {'factors': 113, 'regularization': 0.09391687455263865, 'iterations': 64}. Best is trial 0 with value: 0.008247920318410465.\u001b[0m\n"
     ]
    },
    {
     "data": {
      "application/vnd.jupyter.widget-view+json": {
       "model_id": "0f6160625a824a8cb42a2de99413a375",
       "version_major": 2,
       "version_minor": 0
      },
      "text/plain": [
       "  0%|          | 0/52 [00:00<?, ?it/s]"
      ]
     },
     "metadata": {},
     "output_type": "display_data"
    },
    {
     "name": "stdout",
     "output_type": "stream",
     "text": [
      "\u001b[32m[I 2023-03-10 19:22:44,188]\u001b[0m Trial 1 finished with value: 0.006628666747907909 and parameters: {'factors': 36, 'regularization': 0.05120279467247359, 'iterations': 52}. Best is trial 0 with value: 0.008247920318410465.\u001b[0m\n"
     ]
    },
    {
     "data": {
      "application/vnd.jupyter.widget-view+json": {
       "model_id": "af6ca9b4d3df4c67a4d42b40f51c6016",
       "version_major": 2,
       "version_minor": 0
      },
      "text/plain": [
       "  0%|          | 0/32 [00:00<?, ?it/s]"
      ]
     },
     "metadata": {},
     "output_type": "display_data"
    },
    {
     "name": "stdout",
     "output_type": "stream",
     "text": [
      "\u001b[32m[I 2023-03-10 19:23:00,949]\u001b[0m Trial 2 finished with value: 0.010028413139833048 and parameters: {'factors': 176, 'regularization': 0.04100125238185799, 'iterations': 32}. Best is trial 2 with value: 0.010028413139833048.\u001b[0m\n"
     ]
    },
    {
     "data": {
      "application/vnd.jupyter.widget-view+json": {
       "model_id": "f4995925d7fb441baad7054e99e6eda1",
       "version_major": 2,
       "version_minor": 0
      },
      "text/plain": [
       "  0%|          | 0/10 [00:00<?, ?it/s]"
      ]
     },
     "metadata": {},
     "output_type": "display_data"
    },
    {
     "name": "stdout",
     "output_type": "stream",
     "text": [
      "\u001b[32m[I 2023-03-10 19:23:15,779]\u001b[0m Trial 3 finished with value: 0.010175268978957713 and parameters: {'factors': 153, 'regularization': 0.06012885694308886, 'iterations': 10}. Best is trial 3 with value: 0.010175268978957713.\u001b[0m\n"
     ]
    },
    {
     "data": {
      "application/vnd.jupyter.widget-view+json": {
       "model_id": "c8c0eca464ae42f78a194b67fc685181",
       "version_major": 2,
       "version_minor": 0
      },
      "text/plain": [
       "  0%|          | 0/37 [00:00<?, ?it/s]"
      ]
     },
     "metadata": {},
     "output_type": "display_data"
    },
    {
     "name": "stdout",
     "output_type": "stream",
     "text": [
      "\u001b[32m[I 2023-03-10 19:23:31,785]\u001b[0m Trial 4 finished with value: 0.009552722928659394 and parameters: {'factors': 159, 'regularization': 0.05902700639922944, 'iterations': 37}. Best is trial 3 with value: 0.010175268978957713.\u001b[0m\n"
     ]
    },
    {
     "data": {
      "application/vnd.jupyter.widget-view+json": {
       "model_id": "b4cb20aa2a604679b7a739a59905d913",
       "version_major": 2,
       "version_minor": 0
      },
      "text/plain": [
       "  0%|          | 0/49 [00:00<?, ?it/s]"
      ]
     },
     "metadata": {},
     "output_type": "display_data"
    },
    {
     "name": "stdout",
     "output_type": "stream",
     "text": [
      "\u001b[32m[I 2023-03-10 19:23:45,052]\u001b[0m Trial 5 finished with value: 0.007902745870153653 and parameters: {'factors': 103, 'regularization': 0.03755675770188025, 'iterations': 49}. Best is trial 3 with value: 0.010175268978957713.\u001b[0m\n"
     ]
    },
    {
     "data": {
      "application/vnd.jupyter.widget-view+json": {
       "model_id": "7aadf49fb7c3429285bb933ff623751e",
       "version_major": 2,
       "version_minor": 0
      },
      "text/plain": [
       "  0%|          | 0/26 [00:00<?, ?it/s]"
      ]
     },
     "metadata": {},
     "output_type": "display_data"
    },
    {
     "name": "stdout",
     "output_type": "stream",
     "text": [
      "\u001b[32m[I 2023-03-10 19:23:54,545]\u001b[0m Trial 6 finished with value: 0.007073369615057335 and parameters: {'factors': 49, 'regularization': 0.0035435955382560756, 'iterations': 26}. Best is trial 3 with value: 0.010175268978957713.\u001b[0m\n"
     ]
    },
    {
     "data": {
      "application/vnd.jupyter.widget-view+json": {
       "model_id": "818dbd6b5be741afb9f4031115b740a7",
       "version_major": 2,
       "version_minor": 0
      },
      "text/plain": [
       "  0%|          | 0/33 [00:00<?, ?it/s]"
      ]
     },
     "metadata": {},
     "output_type": "display_data"
    },
    {
     "name": "stdout",
     "output_type": "stream",
     "text": [
      "\u001b[32m[I 2023-03-10 19:24:13,189]\u001b[0m Trial 7 finished with value: 0.01062086403294084 and parameters: {'factors': 199, 'regularization': 0.09148623867640078, 'iterations': 33}. Best is trial 7 with value: 0.01062086403294084.\u001b[0m\n"
     ]
    },
    {
     "data": {
      "application/vnd.jupyter.widget-view+json": {
       "model_id": "2829ba2c32014b37b7198b204319c7a7",
       "version_major": 2,
       "version_minor": 0
      },
      "text/plain": [
       "  0%|          | 0/21 [00:00<?, ?it/s]"
      ]
     },
     "metadata": {},
     "output_type": "display_data"
    },
    {
     "name": "stdout",
     "output_type": "stream",
     "text": [
      "\u001b[32m[I 2023-03-10 19:24:20,429]\u001b[0m Trial 8 finished with value: 0.0035113513251351855 and parameters: {'factors': 8, 'regularization': 0.04290722539499346, 'iterations': 21}. Best is trial 7 with value: 0.01062086403294084.\u001b[0m\n"
     ]
    },
    {
     "data": {
      "application/vnd.jupyter.widget-view+json": {
       "model_id": "2a45f9fd48fd485aa951d3c487b9e095",
       "version_major": 2,
       "version_minor": 0
      },
      "text/plain": [
       "  0%|          | 0/18 [00:00<?, ?it/s]"
      ]
     },
     "metadata": {},
     "output_type": "display_data"
    },
    {
     "name": "stdout",
     "output_type": "stream",
     "text": [
      "\u001b[32m[I 2023-03-10 19:24:36,197]\u001b[0m Trial 9 finished with value: 0.010081105660943964 and parameters: {'factors': 190, 'regularization': 0.07559174908070387, 'iterations': 18}. Best is trial 7 with value: 0.01062086403294084.\u001b[0m\n"
     ]
    },
    {
     "data": {
      "application/vnd.jupyter.widget-view+json": {
       "model_id": "b8b57d7bc47744f1bafe938dcf2d8dd0",
       "version_major": 2,
       "version_minor": 0
      },
      "text/plain": [
       "  0%|          | 0/41 [00:00<?, ?it/s]"
      ]
     },
     "metadata": {},
     "output_type": "display_data"
    },
    {
     "name": "stdout",
     "output_type": "stream",
     "text": [
      "\u001b[32m[I 2023-03-10 19:24:59,899]\u001b[0m Trial 10 finished with value: 0.010934165211578046 and parameters: {'factors': 243, 'regularization': 0.09031432220054049, 'iterations': 41}. Best is trial 10 with value: 0.010934165211578046.\u001b[0m\n"
     ]
    },
    {
     "data": {
      "application/vnd.jupyter.widget-view+json": {
       "model_id": "7a533cb3dc5641599fe727733e3e3c7d",
       "version_major": 2,
       "version_minor": 0
      },
      "text/plain": [
       "  0%|          | 0/41 [00:00<?, ?it/s]"
      ]
     },
     "metadata": {},
     "output_type": "display_data"
    },
    {
     "name": "stdout",
     "output_type": "stream",
     "text": [
      "\u001b[32m[I 2023-03-10 19:25:22,778]\u001b[0m Trial 11 finished with value: 0.011410045796099359 and parameters: {'factors': 240, 'regularization': 0.09940301542706396, 'iterations': 41}. Best is trial 11 with value: 0.011410045796099359.\u001b[0m\n"
     ]
    },
    {
     "data": {
      "application/vnd.jupyter.widget-view+json": {
       "model_id": "d888bf7044834c07a5ecfe45c6b7e7ac",
       "version_major": 2,
       "version_minor": 0
      },
      "text/plain": [
       "  0%|          | 0/45 [00:00<?, ?it/s]"
      ]
     },
     "metadata": {},
     "output_type": "display_data"
    },
    {
     "name": "stdout",
     "output_type": "stream",
     "text": [
      "\u001b[32m[I 2023-03-10 19:25:47,461]\u001b[0m Trial 12 finished with value: 0.010797135883037852 and parameters: {'factors': 241, 'regularization': 0.09889029222274809, 'iterations': 45}. Best is trial 11 with value: 0.011410045796099359.\u001b[0m\n"
     ]
    },
    {
     "data": {
      "application/vnd.jupyter.widget-view+json": {
       "model_id": "0f3636d41dcd4f69a98bb41b7c40d158",
       "version_major": 2,
       "version_minor": 0
      },
      "text/plain": [
       "  0%|          | 0/42 [00:00<?, ?it/s]"
      ]
     },
     "metadata": {},
     "output_type": "display_data"
    },
    {
     "name": "stdout",
     "output_type": "stream",
     "text": [
      "\u001b[32m[I 2023-03-10 19:26:11,764]\u001b[0m Trial 13 finished with value: 0.011183231407323505 and parameters: {'factors': 256, 'regularization': 0.0810270667633612, 'iterations': 42}. Best is trial 11 with value: 0.011410045796099359.\u001b[0m\n"
     ]
    },
    {
     "data": {
      "application/vnd.jupyter.widget-view+json": {
       "model_id": "70cba80905374b7184dec87d3eb26889",
       "version_major": 2,
       "version_minor": 0
      },
      "text/plain": [
       "  0%|          | 0/58 [00:00<?, ?it/s]"
      ]
     },
     "metadata": {},
     "output_type": "display_data"
    },
    {
     "name": "stdout",
     "output_type": "stream",
     "text": [
      "\u001b[32m[I 2023-03-10 19:26:36,177]\u001b[0m Trial 14 finished with value: 0.010210446030304545 and parameters: {'factors': 219, 'regularization': 0.07794697722593145, 'iterations': 58}. Best is trial 11 with value: 0.011410045796099359.\u001b[0m\n"
     ]
    },
    {
     "data": {
      "application/vnd.jupyter.widget-view+json": {
       "model_id": "f7979928edb14456b98a5163336015c0",
       "version_major": 2,
       "version_minor": 0
      },
      "text/plain": [
       "  0%|          | 0/53 [00:00<?, ?it/s]"
      ]
     },
     "metadata": {},
     "output_type": "display_data"
    },
    {
     "name": "stdout",
     "output_type": "stream",
     "text": [
      "\u001b[32m[I 2023-03-10 19:27:02,444]\u001b[0m Trial 15 finished with value: 0.010869884936826956 and parameters: {'factors': 256, 'regularization': 0.0758288282002099, 'iterations': 53}. Best is trial 11 with value: 0.011410045796099359.\u001b[0m\n"
     ]
    },
    {
     "data": {
      "application/vnd.jupyter.widget-view+json": {
       "model_id": "b1f68c0eac0b40a28100c6d8e6e1ac73",
       "version_major": 2,
       "version_minor": 0
      },
      "text/plain": [
       "  0%|          | 0/41 [00:00<?, ?it/s]"
      ]
     },
     "metadata": {},
     "output_type": "display_data"
    },
    {
     "name": "stdout",
     "output_type": "stream",
     "text": [
      "\u001b[32m[I 2023-03-10 19:27:23,953]\u001b[0m Trial 16 finished with value: 0.010548473339024124 and parameters: {'factors': 212, 'regularization': 0.09863842341496179, 'iterations': 41}. Best is trial 11 with value: 0.011410045796099359.\u001b[0m\n"
     ]
    },
    {
     "data": {
      "application/vnd.jupyter.widget-view+json": {
       "model_id": "9729ab271ccc4b658403ff98b37ef1b5",
       "version_major": 2,
       "version_minor": 0
      },
      "text/plain": [
       "  0%|          | 0/28 [00:00<?, ?it/s]"
      ]
     },
     "metadata": {},
     "output_type": "display_data"
    },
    {
     "name": "stdout",
     "output_type": "stream",
     "text": [
      "\u001b[32m[I 2023-03-10 19:27:43,990]\u001b[0m Trial 17 finished with value: 0.01098036935833803 and parameters: {'factors': 230, 'regularization': 0.0831417683176579, 'iterations': 28}. Best is trial 11 with value: 0.011410045796099359.\u001b[0m\n"
     ]
    },
    {
     "data": {
      "application/vnd.jupyter.widget-view+json": {
       "model_id": "60d9ad217b564975aeaed2788cdd8dcf",
       "version_major": 2,
       "version_minor": 0
      },
      "text/plain": [
       "  0%|          | 0/44 [00:00<?, ?it/s]"
      ]
     },
     "metadata": {},
     "output_type": "display_data"
    },
    {
     "name": "stdout",
     "output_type": "stream",
     "text": [
      "\u001b[32m[I 2023-03-10 19:27:55,475]\u001b[0m Trial 18 finished with value: 0.007895021855355356 and parameters: {'factors': 80, 'regularization': 0.08448792893032309, 'iterations': 44}. Best is trial 11 with value: 0.011410045796099359.\u001b[0m\n"
     ]
    },
    {
     "data": {
      "application/vnd.jupyter.widget-view+json": {
       "model_id": "1bc231dfd7c34e1398ff59ae96d53a07",
       "version_major": 2,
       "version_minor": 0
      },
      "text/plain": [
       "  0%|          | 0/38 [00:00<?, ?it/s]"
      ]
     },
     "metadata": {},
     "output_type": "display_data"
    },
    {
     "name": "stdout",
     "output_type": "stream",
     "text": [
      "\u001b[32m[I 2023-03-10 19:28:12,619]\u001b[0m Trial 19 finished with value: 0.008624174797747311 and parameters: {'factors': 140, 'regularization': 0.06905083519751586, 'iterations': 38}. Best is trial 11 with value: 0.011410045796099359.\u001b[0m\n"
     ]
    },
    {
     "data": {
      "application/vnd.jupyter.widget-view+json": {
       "model_id": "9df304df58664051aae6f444083e70f7",
       "version_major": 2,
       "version_minor": 0
      },
      "text/plain": [
       "  0%|          | 0/58 [00:00<?, ?it/s]"
      ]
     },
     "metadata": {},
     "output_type": "display_data"
    },
    {
     "name": "stdout",
     "output_type": "stream",
     "text": [
      "\u001b[32m[I 2023-03-10 19:28:33,321]\u001b[0m Trial 20 finished with value: 0.009866070008818874 and parameters: {'factors': 178, 'regularization': 0.09907061176702411, 'iterations': 58}. Best is trial 11 with value: 0.011410045796099359.\u001b[0m\n"
     ]
    },
    {
     "data": {
      "application/vnd.jupyter.widget-view+json": {
       "model_id": "bf9a397475e642f4bfa630bc17fdd70f",
       "version_major": 2,
       "version_minor": 0
      },
      "text/plain": [
       "  0%|          | 0/26 [00:00<?, ?it/s]"
      ]
     },
     "metadata": {},
     "output_type": "display_data"
    },
    {
     "name": "stdout",
     "output_type": "stream",
     "text": [
      "\u001b[32m[I 2023-03-10 19:28:52,844]\u001b[0m Trial 21 finished with value: 0.011300161855998135 and parameters: {'factors': 227, 'regularization': 0.08442895286991793, 'iterations': 26}. Best is trial 11 with value: 0.011410045796099359.\u001b[0m\n"
     ]
    },
    {
     "data": {
      "application/vnd.jupyter.widget-view+json": {
       "model_id": "b91afd2efe3a4c64a7757d507b3d09d0",
       "version_major": 2,
       "version_minor": 0
      },
      "text/plain": [
       "  0%|          | 0/27 [00:00<?, ?it/s]"
      ]
     },
     "metadata": {},
     "output_type": "display_data"
    },
    {
     "name": "stdout",
     "output_type": "stream",
     "text": [
      "\u001b[32m[I 2023-03-10 19:29:14,247]\u001b[0m Trial 22 finished with value: 0.012021542266615535 and parameters: {'factors': 251, 'regularization': 0.08474473367166906, 'iterations': 27}. Best is trial 22 with value: 0.012021542266615535.\u001b[0m\n"
     ]
    },
    {
     "data": {
      "application/vnd.jupyter.widget-view+json": {
       "model_id": "6a449a76d33142dd8e04156d1e33ad34",
       "version_major": 2,
       "version_minor": 0
      },
      "text/plain": [
       "  0%|          | 0/21 [00:00<?, ?it/s]"
      ]
     },
     "metadata": {},
     "output_type": "display_data"
    },
    {
     "name": "stdout",
     "output_type": "stream",
     "text": [
      "\u001b[32m[I 2023-03-10 19:29:32,640]\u001b[0m Trial 23 finished with value: 0.010834344758043598 and parameters: {'factors': 214, 'regularization': 0.0885267956712537, 'iterations': 21}. Best is trial 22 with value: 0.012021542266615535.\u001b[0m\n"
     ]
    },
    {
     "data": {
      "application/vnd.jupyter.widget-view+json": {
       "model_id": "dfc456ae6124468b909319e5180e0cce",
       "version_major": 2,
       "version_minor": 0
      },
      "text/plain": [
       "  0%|          | 0/12 [00:00<?, ?it/s]"
      ]
     },
     "metadata": {},
     "output_type": "display_data"
    },
    {
     "name": "stdout",
     "output_type": "stream",
     "text": [
      "\u001b[32m[I 2023-03-10 19:29:50,133]\u001b[0m Trial 24 finished with value: 0.01238645653375315 and parameters: {'factors': 229, 'regularization': 0.08807343274177562, 'iterations': 12}. Best is trial 24 with value: 0.01238645653375315.\u001b[0m\n"
     ]
    },
    {
     "data": {
      "application/vnd.jupyter.widget-view+json": {
       "model_id": "af99f15579c141668e0439c9fda08022",
       "version_major": 2,
       "version_minor": 0
      },
      "text/plain": [
       "  0%|          | 0/8 [00:00<?, ?it/s]"
      ]
     },
     "metadata": {},
     "output_type": "display_data"
    },
    {
     "name": "stdout",
     "output_type": "stream",
     "text": [
      "\u001b[32m[I 2023-03-10 19:30:05,536]\u001b[0m Trial 25 finished with value: 0.011444505048598027 and parameters: {'factors': 200, 'regularization': 0.09358071235000723, 'iterations': 8}. Best is trial 24 with value: 0.01238645653375315.\u001b[0m\n"
     ]
    },
    {
     "data": {
      "application/vnd.jupyter.widget-view+json": {
       "model_id": "c21d8957c842431ebe83cf0ed820c77a",
       "version_major": 2,
       "version_minor": 0
      },
      "text/plain": [
       "  0%|          | 0/8 [00:00<?, ?it/s]"
      ]
     },
     "metadata": {},
     "output_type": "display_data"
    },
    {
     "name": "stdout",
     "output_type": "stream",
     "text": [
      "\u001b[32m[I 2023-03-10 19:30:20,757]\u001b[0m Trial 26 finished with value: 0.011370814724012432 and parameters: {'factors': 196, 'regularization': 0.06779706341792173, 'iterations': 8}. Best is trial 24 with value: 0.01238645653375315.\u001b[0m\n"
     ]
    },
    {
     "data": {
      "application/vnd.jupyter.widget-view+json": {
       "model_id": "2890fe44bf9e45a9b7e9576c4f6fe57b",
       "version_major": 2,
       "version_minor": 0
      },
      "text/plain": [
       "  0%|          | 0/13 [00:00<?, ?it/s]"
      ]
     },
     "metadata": {},
     "output_type": "display_data"
    },
    {
     "name": "stdout",
     "output_type": "stream",
     "text": [
      "\u001b[32m[I 2023-03-10 19:30:37,081]\u001b[0m Trial 27 finished with value: 0.011163693277134411 and parameters: {'factors': 203, 'regularization': 0.08888887913302163, 'iterations': 13}. Best is trial 24 with value: 0.01238645653375315.\u001b[0m\n"
     ]
    },
    {
     "data": {
      "application/vnd.jupyter.widget-view+json": {
       "model_id": "d2198f6562094940997c1eb0443f27c6",
       "version_major": 2,
       "version_minor": 0
      },
      "text/plain": [
       "  0%|          | 0/15 [00:00<?, ?it/s]"
      ]
     },
     "metadata": {},
     "output_type": "display_data"
    },
    {
     "name": "stdout",
     "output_type": "stream",
     "text": [
      "\u001b[32m[I 2023-03-10 19:30:52,541]\u001b[0m Trial 28 finished with value: 0.010801126194001386 and parameters: {'factors': 182, 'regularization': 0.073911642193842, 'iterations': 15}. Best is trial 24 with value: 0.01238645653375315.\u001b[0m\n"
     ]
    },
    {
     "data": {
      "application/vnd.jupyter.widget-view+json": {
       "model_id": "6262115b641749f6969d22a0b591a278",
       "version_major": 2,
       "version_minor": 0
      },
      "text/plain": [
       "  0%|          | 0/12 [00:00<?, ?it/s]"
      ]
     },
     "metadata": {},
     "output_type": "display_data"
    },
    {
     "name": "stdout",
     "output_type": "stream",
     "text": [
      "\u001b[32m[I 2023-03-10 19:31:04,937]\u001b[0m Trial 29 finished with value: 0.009650505717964032 and parameters: {'factors': 126, 'regularization': 0.09300264310472277, 'iterations': 12}. Best is trial 24 with value: 0.01238645653375315.\u001b[0m\n"
     ]
    },
    {
     "data": {
      "application/vnd.jupyter.widget-view+json": {
       "model_id": "4e2f9b8b3cb44194838c99c4ede29d75",
       "version_major": 2,
       "version_minor": 0
      },
      "text/plain": [
       "  0%|          | 0/17 [00:00<?, ?it/s]"
      ]
     },
     "metadata": {},
     "output_type": "display_data"
    },
    {
     "name": "stdout",
     "output_type": "stream",
     "text": [
      "\u001b[32m[I 2023-03-10 19:31:21,780]\u001b[0m Trial 30 finished with value: 0.00966996326900319 and parameters: {'factors': 162, 'regularization': 0.08436202545810965, 'iterations': 17}. Best is trial 24 with value: 0.01238645653375315.\u001b[0m\n"
     ]
    },
    {
     "data": {
      "application/vnd.jupyter.widget-view+json": {
       "model_id": "cf160e498ec141d2960287f9bb3dfe13",
       "version_major": 2,
       "version_minor": 0
      },
      "text/plain": [
       "  0%|          | 0/21 [00:00<?, ?it/s]"
      ]
     },
     "metadata": {},
     "output_type": "display_data"
    },
    {
     "name": "stdout",
     "output_type": "stream",
     "text": [
      "\u001b[32m[I 2023-03-10 19:31:41,399]\u001b[0m Trial 31 finished with value: 0.01155227228167009 and parameters: {'factors': 238, 'regularization': 0.09395045573669941, 'iterations': 21}. Best is trial 24 with value: 0.01238645653375315.\u001b[0m\n"
     ]
    },
    {
     "data": {
      "application/vnd.jupyter.widget-view+json": {
       "model_id": "288e358725c341ca9666f7e8c0daef44",
       "version_major": 2,
       "version_minor": 0
      },
      "text/plain": [
       "  0%|          | 0/21 [00:00<?, ?it/s]"
      ]
     },
     "metadata": {},
     "output_type": "display_data"
    },
    {
     "name": "stdout",
     "output_type": "stream",
     "text": [
      "\u001b[32m[I 2023-03-10 19:32:00,734]\u001b[0m Trial 32 finished with value: 0.011472082462481655 and parameters: {'factors': 230, 'regularization': 0.09263504339475297, 'iterations': 21}. Best is trial 24 with value: 0.01238645653375315.\u001b[0m\n"
     ]
    },
    {
     "data": {
      "application/vnd.jupyter.widget-view+json": {
       "model_id": "02f66472d61d4e9b87571bab2313380c",
       "version_major": 2,
       "version_minor": 0
      },
      "text/plain": [
       "  0%|          | 0/22 [00:00<?, ?it/s]"
      ]
     },
     "metadata": {},
     "output_type": "display_data"
    },
    {
     "name": "stdout",
     "output_type": "stream",
     "text": [
      "\u001b[32m[I 2023-03-10 19:32:20,029]\u001b[0m Trial 33 finished with value: 0.011394181165530332 and parameters: {'factors': 231, 'regularization': 0.08914837603718993, 'iterations': 22}. Best is trial 24 with value: 0.01238645653375315.\u001b[0m\n"
     ]
    },
    {
     "data": {
      "application/vnd.jupyter.widget-view+json": {
       "model_id": "4aa584a8ccb34a6d8bfb3f287f714630",
       "version_major": 2,
       "version_minor": 0
      },
      "text/plain": [
       "  0%|          | 0/28 [00:00<?, ?it/s]"
      ]
     },
     "metadata": {},
     "output_type": "display_data"
    },
    {
     "name": "stdout",
     "output_type": "stream",
     "text": [
      "\u001b[32m[I 2023-03-10 19:32:41,779]\u001b[0m Trial 34 finished with value: 0.01152885540883432 and parameters: {'factors': 248, 'regularization': 0.0951710232998412, 'iterations': 28}. Best is trial 24 with value: 0.01238645653375315.\u001b[0m\n"
     ]
    },
    {
     "data": {
      "application/vnd.jupyter.widget-view+json": {
       "model_id": "4aea51bf9f014422a9b89914957f1aa0",
       "version_major": 2,
       "version_minor": 0
      },
      "text/plain": [
       "  0%|          | 0/30 [00:00<?, ?it/s]"
      ]
     },
     "metadata": {},
     "output_type": "display_data"
    },
    {
     "name": "stdout",
     "output_type": "stream",
     "text": [
      "\u001b[32m[I 2023-03-10 19:33:03,613]\u001b[0m Trial 35 finished with value: 0.011706347895573897 and parameters: {'factors': 251, 'regularization': 0.08057804107742401, 'iterations': 30}. Best is trial 24 with value: 0.01238645653375315.\u001b[0m\n"
     ]
    },
    {
     "data": {
      "application/vnd.jupyter.widget-view+json": {
       "model_id": "f93207f848284d61b05729d217cb0952",
       "version_major": 2,
       "version_minor": 0
      },
      "text/plain": [
       "  0%|          | 0/33 [00:00<?, ?it/s]"
      ]
     },
     "metadata": {},
     "output_type": "display_data"
    },
    {
     "name": "stdout",
     "output_type": "stream",
     "text": [
      "\u001b[32m[I 2023-03-10 19:33:23,820]\u001b[0m Trial 36 finished with value: 0.011438408175396554 and parameters: {'factors': 216, 'regularization': 0.08178017891013739, 'iterations': 33}. Best is trial 24 with value: 0.01238645653375315.\u001b[0m\n"
     ]
    },
    {
     "data": {
      "application/vnd.jupyter.widget-view+json": {
       "model_id": "6911798b69504bc581408c84fad90cf0",
       "version_major": 2,
       "version_minor": 0
      },
      "text/plain": [
       "  0%|          | 0/30 [00:00<?, ?it/s]"
      ]
     },
     "metadata": {},
     "output_type": "display_data"
    },
    {
     "name": "stdout",
     "output_type": "stream",
     "text": [
      "\u001b[32m[I 2023-03-10 19:33:45,864]\u001b[0m Trial 37 finished with value: 0.011482428076667594 and parameters: {'factors': 255, 'regularization': 0.07089733505990624, 'iterations': 30}. Best is trial 24 with value: 0.01238645653375315.\u001b[0m\n"
     ]
    },
    {
     "data": {
      "application/vnd.jupyter.widget-view+json": {
       "model_id": "a3c54f6d4b90488e9422afdd84f41bb0",
       "version_major": 2,
       "version_minor": 0
      },
      "text/plain": [
       "  0%|          | 0/25 [00:00<?, ?it/s]"
      ]
     },
     "metadata": {},
     "output_type": "display_data"
    },
    {
     "name": "stdout",
     "output_type": "stream",
     "text": [
      "\u001b[32m[I 2023-03-10 19:34:05,957]\u001b[0m Trial 38 finished with value: 0.011471404346593836 and parameters: {'factors': 239, 'regularization': 0.06468100917751185, 'iterations': 25}. Best is trial 24 with value: 0.01238645653375315.\u001b[0m\n"
     ]
    },
    {
     "data": {
      "application/vnd.jupyter.widget-view+json": {
       "model_id": "bf6543fda324482c82388a3f4e94412c",
       "version_major": 2,
       "version_minor": 0
      },
      "text/plain": [
       "  0%|          | 0/17 [00:00<?, ?it/s]"
      ]
     },
     "metadata": {},
     "output_type": "display_data"
    },
    {
     "name": "stdout",
     "output_type": "stream",
     "text": [
      "\u001b[32m[I 2023-03-10 19:34:20,726]\u001b[0m Trial 39 finished with value: 0.009495753109952201 and parameters: {'factors': 167, 'regularization': 0.07660894439528808, 'iterations': 17}. Best is trial 24 with value: 0.01238645653375315.\u001b[0m\n"
     ]
    },
    {
     "data": {
      "application/vnd.jupyter.widget-view+json": {
       "model_id": "eec8d9c9fbba4f68a3933e713bcc7905",
       "version_major": 2,
       "version_minor": 0
      },
      "text/plain": [
       "  0%|          | 0/35 [00:00<?, ?it/s]"
      ]
     },
     "metadata": {},
     "output_type": "display_data"
    },
    {
     "name": "stdout",
     "output_type": "stream",
     "text": [
      "\u001b[32m[I 2023-03-10 19:34:33,081]\u001b[0m Trial 40 finished with value: 0.008124161644879179 and parameters: {'factors': 100, 'regularization': 0.07931960603042912, 'iterations': 35}. Best is trial 24 with value: 0.01238645653375315.\u001b[0m\n"
     ]
    },
    {
     "data": {
      "application/vnd.jupyter.widget-view+json": {
       "model_id": "e67bcdb7cbe5422d83d703136bc4cf3b",
       "version_major": 2,
       "version_minor": 0
      },
      "text/plain": [
       "  0%|          | 0/29 [00:00<?, ?it/s]"
      ]
     },
     "metadata": {},
     "output_type": "display_data"
    },
    {
     "name": "stdout",
     "output_type": "stream",
     "text": [
      "\u001b[32m[I 2023-03-10 19:34:54,586]\u001b[0m Trial 41 finished with value: 0.011446031601907429 and parameters: {'factors': 244, 'regularization': 0.09572052962139486, 'iterations': 29}. Best is trial 24 with value: 0.01238645653375315.\u001b[0m\n"
     ]
    },
    {
     "data": {
      "application/vnd.jupyter.widget-view+json": {
       "model_id": "8f4d9bd40bfd4ecd8b9e40454fe56871",
       "version_major": 2,
       "version_minor": 0
      },
      "text/plain": [
       "  0%|          | 0/30 [00:00<?, ?it/s]"
      ]
     },
     "metadata": {},
     "output_type": "display_data"
    },
    {
     "name": "stdout",
     "output_type": "stream",
     "text": [
      "\u001b[32m[I 2023-03-10 19:35:16,206]\u001b[0m Trial 42 finished with value: 0.010957939042061458 and parameters: {'factors': 249, 'regularization': 0.0869259753372426, 'iterations': 30}. Best is trial 24 with value: 0.01238645653375315.\u001b[0m\n"
     ]
    },
    {
     "data": {
      "application/vnd.jupyter.widget-view+json": {
       "model_id": "363279aa0835444eb62ae175196e7eb3",
       "version_major": 2,
       "version_minor": 0
      },
      "text/plain": [
       "  0%|          | 0/24 [00:00<?, ?it/s]"
      ]
     },
     "metadata": {},
     "output_type": "display_data"
    },
    {
     "name": "stdout",
     "output_type": "stream",
     "text": [
      "\u001b[32m[I 2023-03-10 19:35:34,820]\u001b[0m Trial 43 finished with value: 0.011838623450548664 and parameters: {'factors': 224, 'regularization': 0.09385199441832266, 'iterations': 24}. Best is trial 24 with value: 0.01238645653375315.\u001b[0m\n"
     ]
    },
    {
     "data": {
      "application/vnd.jupyter.widget-view+json": {
       "model_id": "cd2d46b60ae745c1b442ce601480c66e",
       "version_major": 2,
       "version_minor": 0
      },
      "text/plain": [
       "  0%|          | 0/24 [00:00<?, ?it/s]"
      ]
     },
     "metadata": {},
     "output_type": "display_data"
    },
    {
     "name": "stdout",
     "output_type": "stream",
     "text": [
      "\u001b[32m[I 2023-03-10 19:35:53,730]\u001b[0m Trial 44 finished with value: 0.011117075333851485 and parameters: {'factors': 222, 'regularization': 0.08676798017721617, 'iterations': 24}. Best is trial 24 with value: 0.01238645653375315.\u001b[0m\n",
      "EarlyStopping Exceeded: No new best scores on iters 20\n"
     ]
    }
   ],
   "source": [
    "recall_objective = Objective(csr_train, interactions.valid, recall)\n",
    "recall_optimizer = OptunaMaximizer(recall_objective, \"ALS recall maximize\")\n",
    "recall_best_trial = recall_optimizer.optimize(Config.ITERATIONS, Config.STOP_ITERATION)"
   ]
  },
  {
   "cell_type": "code",
   "execution_count": 13,
   "metadata": {},
   "outputs": [
    {
     "data": {
      "application/vnd.jupyter.widget-view+json": {
       "model_id": "dcce581f6b5c4e8aa7fe16df1f17430a",
       "version_major": 2,
       "version_minor": 0
      },
      "text/plain": [
       "  0%|          | 0/9 [00:00<?, ?it/s]"
      ]
     },
     "metadata": {},
     "output_type": "display_data"
    }
   ],
   "source": [
    "precision_model = AlternatingLeastSquares(**precision_best_trial.params)\n",
    "precision_model.fit(csr_train)"
   ]
  },
  {
   "cell_type": "code",
   "execution_count": 14,
   "metadata": {},
   "outputs": [
    {
     "data": {
      "application/vnd.jupyter.widget-view+json": {
       "model_id": "2bbd815bf6c3417287c44daabf66f534",
       "version_major": 2,
       "version_minor": 0
      },
      "text/plain": [
       "  0%|          | 0/12 [00:00<?, ?it/s]"
      ]
     },
     "metadata": {},
     "output_type": "display_data"
    }
   ],
   "source": [
    "recall_model = AlternatingLeastSquares(**recall_best_trial.params)\n",
    "recall_model.fit(csr_train)"
   ]
  },
  {
   "cell_type": "code",
   "execution_count": 15,
   "metadata": {},
   "outputs": [],
   "source": [
    "models = {\n",
    "    \"recall_model\": recall_model,\n",
    "    \"precision_model\": precision_model\n",
    "}"
   ]
  },
  {
   "cell_type": "code",
   "execution_count": 16,
   "metadata": {},
   "outputs": [],
   "source": [
    "metrics = {\n",
    "    \"precision\": precision,\n",
    "    \"recall\": recall\n",
    "}"
   ]
  },
  {
   "cell_type": "code",
   "execution_count": 17,
   "metadata": {},
   "outputs": [
    {
     "name": "stdout",
     "output_type": "stream",
     "text": [
      "Model 'recall_model':\n",
      "\tMetric precision@10: 0.0015958040397277059\n",
      "\tMetric recall@10: 0.008367300098133712\n",
      "Model 'precision_model':\n",
      "\tMetric precision@10: 0.001752036603057691\n",
      "\tMetric recall@10: 0.009572124177078983\n"
     ]
    }
   ],
   "source": [
    "for model_name, model in models.items():\n",
    "    pred = pd.DataFrame(interactions.test[\"user_id\"].drop_duplicates())\n",
    "    print(f\"Model '{model_name}':\")\n",
    "    pred[\"item_id\"] = pred[\"user_id\"].apply(\n",
    "        lambda user_id: \n",
    "            model.recommend(\n",
    "                user_id, \n",
    "                csr_train[user_id],\n",
    "                N=Config.K,\n",
    "                filter_already_liked_items=True\n",
    "            )[0]\n",
    "    )\n",
    "    pred = pred.explode(\"item_id\")\n",
    "    for metric_name, metric in metrics.items():\n",
    "        metric_val = interactions.test[\"user_id\"].drop_duplicates().apply(\n",
    "            lambda user_id: \n",
    "                metric.calculate(\n",
    "                    pred[pred[\"user_id\"] == user_id][\"item_id\"],\n",
    "                    interactions.test[interactions.test[\"user_id\"] == user_id][\"item_id\"]\n",
    "                )\n",
    "        ).mean()\n",
    "        print(f\"\\tMetric {metric_name}@{Config.K}: {metric_val}\")"
   ]
  },
  {
   "cell_type": "code",
   "execution_count": 18,
   "metadata": {},
   "outputs": [],
   "source": [
    "with Config.IMPLICIT_ALS_PATH.open(\"wb\") as file_object:\n",
    "    pickle.dump(precision_model, file_object)"
   ]
  }
 ],
 "metadata": {
  "kernelspec": {
   "display_name": "core",
   "language": "python",
   "name": "python3"
  },
  "language_info": {
   "codemirror_mode": {
    "name": "ipython",
    "version": 3
   },
   "file_extension": ".py",
   "mimetype": "text/x-python",
   "name": "python",
   "nbconvert_exporter": "python",
   "pygments_lexer": "ipython3",
   "version": "3.10.9"
  },
  "orig_nbformat": 4,
  "vscode": {
   "interpreter": {
    "hash": "009d69282f0b7257078526d54b136153003b0cf2c7ed5bb47bc5d27e99d5a7ba"
   }
  }
 },
 "nbformat": 4,
 "nbformat_minor": 2
}

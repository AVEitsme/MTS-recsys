{
 "cells": [
  {
   "cell_type": "code",
   "execution_count": 1,
   "metadata": {},
   "outputs": [],
   "source": [
    "import os\n",
    "os.chdir(\"../\")\n",
    "import pickle\n",
    "import pandas as pd\n",
    "\n",
    "from implicit.als import AlternatingLeastSquares\n",
    "from scipy.sparse import csr_matrix\n",
    "from typing import Callable\n",
    "from src.config import Config\n",
    "from src.dataset import Interactions\n",
    "from src.metrics import PrecisionAtK, RecallAtK, FScoreAtK\n",
    "from src.optimizer import OptunaMaximizer"
   ]
  },
  {
   "cell_type": "code",
   "execution_count": 2,
   "metadata": {},
   "outputs": [],
   "source": [
    "with Config.PREPROCESSED_INTERACTIONS_PATH.open(\"rb\") as file_object:\n",
    "    interactions = Interactions(pickle.load(file_object), test_days=7, valid_days=14)"
   ]
  },
  {
   "cell_type": "code",
   "execution_count": 3,
   "metadata": {},
   "outputs": [],
   "source": [
    "interactions.train = interactions.train[[\"user_id\", \"item_id\", \"interest_score\"]]\n",
    "interactions.test = interactions.test[[\"user_id\", \"item_id\", \"interest_score\"]]\n",
    "interactions.valid = interactions.valid[[\"user_id\", \"item_id\", \"interest_score\"]]"
   ]
  },
  {
   "cell_type": "code",
   "execution_count": 4,
   "metadata": {},
   "outputs": [
    {
     "data": {
      "text/html": [
       "<div>\n",
       "<style scoped>\n",
       "    .dataframe tbody tr th:only-of-type {\n",
       "        vertical-align: middle;\n",
       "    }\n",
       "\n",
       "    .dataframe tbody tr th {\n",
       "        vertical-align: top;\n",
       "    }\n",
       "\n",
       "    .dataframe thead th {\n",
       "        text-align: right;\n",
       "    }\n",
       "</style>\n",
       "<table border=\"1\" class=\"dataframe\">\n",
       "  <thead>\n",
       "    <tr style=\"text-align: right;\">\n",
       "      <th></th>\n",
       "      <th>user_id</th>\n",
       "      <th>item_id</th>\n",
       "      <th>interest_score</th>\n",
       "    </tr>\n",
       "  </thead>\n",
       "  <tbody>\n",
       "    <tr>\n",
       "      <th>0</th>\n",
       "      <td>126706</td>\n",
       "      <td>14433</td>\n",
       "      <td>0.400</td>\n",
       "    </tr>\n",
       "    <tr>\n",
       "      <th>1</th>\n",
       "      <td>127290</td>\n",
       "      <td>140952</td>\n",
       "      <td>0.290</td>\n",
       "    </tr>\n",
       "    <tr>\n",
       "      <th>2</th>\n",
       "      <td>66991</td>\n",
       "      <td>198453</td>\n",
       "      <td>0.445</td>\n",
       "    </tr>\n",
       "    <tr>\n",
       "      <th>3</th>\n",
       "      <td>46791</td>\n",
       "      <td>83486</td>\n",
       "      <td>0.615</td>\n",
       "    </tr>\n",
       "    <tr>\n",
       "      <th>4</th>\n",
       "      <td>79313</td>\n",
       "      <td>188770</td>\n",
       "      <td>0.940</td>\n",
       "    </tr>\n",
       "    <tr>\n",
       "      <th>...</th>\n",
       "      <td>...</td>\n",
       "      <td>...</td>\n",
       "      <td>...</td>\n",
       "    </tr>\n",
       "    <tr>\n",
       "      <th>1532993</th>\n",
       "      <td>153908</td>\n",
       "      <td>98585</td>\n",
       "      <td>0.220</td>\n",
       "    </tr>\n",
       "    <tr>\n",
       "      <th>1532994</th>\n",
       "      <td>154008</td>\n",
       "      <td>251969</td>\n",
       "      <td>0.020</td>\n",
       "    </tr>\n",
       "    <tr>\n",
       "      <th>1532995</th>\n",
       "      <td>154892</td>\n",
       "      <td>298192</td>\n",
       "      <td>0.840</td>\n",
       "    </tr>\n",
       "    <tr>\n",
       "      <th>1532996</th>\n",
       "      <td>156948</td>\n",
       "      <td>38118</td>\n",
       "      <td>0.890</td>\n",
       "    </tr>\n",
       "    <tr>\n",
       "      <th>1532997</th>\n",
       "      <td>158041</td>\n",
       "      <td>208145</td>\n",
       "      <td>0.720</td>\n",
       "    </tr>\n",
       "  </tbody>\n",
       "</table>\n",
       "<p>1306588 rows × 3 columns</p>\n",
       "</div>"
      ],
      "text/plain": [
       "         user_id  item_id  interest_score\n",
       "0         126706    14433           0.400\n",
       "1         127290   140952           0.290\n",
       "2          66991   198453           0.445\n",
       "3          46791    83486           0.615\n",
       "4          79313   188770           0.940\n",
       "...          ...      ...             ...\n",
       "1532993   153908    98585           0.220\n",
       "1532994   154008   251969           0.020\n",
       "1532995   154892   298192           0.840\n",
       "1532996   156948    38118           0.890\n",
       "1532997   158041   208145           0.720\n",
       "\n",
       "[1306588 rows x 3 columns]"
      ]
     },
     "execution_count": 4,
     "metadata": {},
     "output_type": "execute_result"
    }
   ],
   "source": [
    "interactions.train"
   ]
  },
  {
   "cell_type": "code",
   "execution_count": 5,
   "metadata": {},
   "outputs": [
    {
     "data": {
      "text/html": [
       "<div>\n",
       "<style scoped>\n",
       "    .dataframe tbody tr th:only-of-type {\n",
       "        vertical-align: middle;\n",
       "    }\n",
       "\n",
       "    .dataframe tbody tr th {\n",
       "        vertical-align: top;\n",
       "    }\n",
       "\n",
       "    .dataframe thead th {\n",
       "        text-align: right;\n",
       "    }\n",
       "</style>\n",
       "<table border=\"1\" class=\"dataframe\">\n",
       "  <thead>\n",
       "    <tr style=\"text-align: right;\">\n",
       "      <th></th>\n",
       "      <th>user_id</th>\n",
       "      <th>item_id</th>\n",
       "      <th>interest_score</th>\n",
       "    </tr>\n",
       "  </thead>\n",
       "  <tbody>\n",
       "    <tr>\n",
       "      <th>1517915</th>\n",
       "      <td>101642</td>\n",
       "      <td>319500</td>\n",
       "      <td>0.835</td>\n",
       "    </tr>\n",
       "    <tr>\n",
       "      <th>1517917</th>\n",
       "      <td>130425</td>\n",
       "      <td>193445</td>\n",
       "      <td>0.490</td>\n",
       "    </tr>\n",
       "    <tr>\n",
       "      <th>1517918</th>\n",
       "      <td>93986</td>\n",
       "      <td>80733</td>\n",
       "      <td>0.235</td>\n",
       "    </tr>\n",
       "    <tr>\n",
       "      <th>1517919</th>\n",
       "      <td>159466</td>\n",
       "      <td>124115</td>\n",
       "      <td>0.420</td>\n",
       "    </tr>\n",
       "    <tr>\n",
       "      <th>1517920</th>\n",
       "      <td>158775</td>\n",
       "      <td>223806</td>\n",
       "      <td>0.270</td>\n",
       "    </tr>\n",
       "    <tr>\n",
       "      <th>...</th>\n",
       "      <td>...</td>\n",
       "      <td>...</td>\n",
       "      <td>...</td>\n",
       "    </tr>\n",
       "    <tr>\n",
       "      <th>1530838</th>\n",
       "      <td>141930</td>\n",
       "      <td>219928</td>\n",
       "      <td>0.450</td>\n",
       "    </tr>\n",
       "    <tr>\n",
       "      <th>1530839</th>\n",
       "      <td>53358</td>\n",
       "      <td>42887</td>\n",
       "      <td>0.290</td>\n",
       "    </tr>\n",
       "    <tr>\n",
       "      <th>1530840</th>\n",
       "      <td>151170</td>\n",
       "      <td>284652</td>\n",
       "      <td>0.135</td>\n",
       "    </tr>\n",
       "    <tr>\n",
       "      <th>1530841</th>\n",
       "      <td>141293</td>\n",
       "      <td>273421</td>\n",
       "      <td>0.240</td>\n",
       "    </tr>\n",
       "    <tr>\n",
       "      <th>1530842</th>\n",
       "      <td>65459</td>\n",
       "      <td>109030</td>\n",
       "      <td>0.365</td>\n",
       "    </tr>\n",
       "  </tbody>\n",
       "</table>\n",
       "<p>11828 rows × 3 columns</p>\n",
       "</div>"
      ],
      "text/plain": [
       "         user_id  item_id  interest_score\n",
       "1517915   101642   319500           0.835\n",
       "1517917   130425   193445           0.490\n",
       "1517918    93986    80733           0.235\n",
       "1517919   159466   124115           0.420\n",
       "1517920   158775   223806           0.270\n",
       "...          ...      ...             ...\n",
       "1530838   141930   219928           0.450\n",
       "1530839    53358    42887           0.290\n",
       "1530840   151170   284652           0.135\n",
       "1530841   141293   273421           0.240\n",
       "1530842    65459   109030           0.365\n",
       "\n",
       "[11828 rows x 3 columns]"
      ]
     },
     "execution_count": 5,
     "metadata": {},
     "output_type": "execute_result"
    }
   ],
   "source": [
    "interactions.test"
   ]
  },
  {
   "cell_type": "code",
   "execution_count": 6,
   "metadata": {},
   "outputs": [
    {
     "data": {
      "text/html": [
       "<div>\n",
       "<style scoped>\n",
       "    .dataframe tbody tr th:only-of-type {\n",
       "        vertical-align: middle;\n",
       "    }\n",
       "\n",
       "    .dataframe tbody tr th {\n",
       "        vertical-align: top;\n",
       "    }\n",
       "\n",
       "    .dataframe thead th {\n",
       "        text-align: right;\n",
       "    }\n",
       "</style>\n",
       "<table border=\"1\" class=\"dataframe\">\n",
       "  <thead>\n",
       "    <tr style=\"text-align: right;\">\n",
       "      <th></th>\n",
       "      <th>user_id</th>\n",
       "      <th>item_id</th>\n",
       "      <th>interest_score</th>\n",
       "    </tr>\n",
       "  </thead>\n",
       "  <tbody>\n",
       "    <tr>\n",
       "      <th>1503047</th>\n",
       "      <td>22032</td>\n",
       "      <td>287219</td>\n",
       "      <td>0.275</td>\n",
       "    </tr>\n",
       "    <tr>\n",
       "      <th>1503048</th>\n",
       "      <td>84214</td>\n",
       "      <td>121609</td>\n",
       "      <td>1.000</td>\n",
       "    </tr>\n",
       "    <tr>\n",
       "      <th>1503049</th>\n",
       "      <td>28992</td>\n",
       "      <td>11482</td>\n",
       "      <td>0.110</td>\n",
       "    </tr>\n",
       "    <tr>\n",
       "      <th>1503050</th>\n",
       "      <td>23345</td>\n",
       "      <td>281921</td>\n",
       "      <td>1.000</td>\n",
       "    </tr>\n",
       "    <tr>\n",
       "      <th>1503051</th>\n",
       "      <td>49466</td>\n",
       "      <td>2880</td>\n",
       "      <td>0.010</td>\n",
       "    </tr>\n",
       "    <tr>\n",
       "      <th>...</th>\n",
       "      <td>...</td>\n",
       "      <td>...</td>\n",
       "      <td>...</td>\n",
       "    </tr>\n",
       "    <tr>\n",
       "      <th>1517908</th>\n",
       "      <td>81768</td>\n",
       "      <td>294370</td>\n",
       "      <td>0.850</td>\n",
       "    </tr>\n",
       "    <tr>\n",
       "      <th>1517910</th>\n",
       "      <td>158991</td>\n",
       "      <td>99669</td>\n",
       "      <td>0.815</td>\n",
       "    </tr>\n",
       "    <tr>\n",
       "      <th>1517911</th>\n",
       "      <td>77232</td>\n",
       "      <td>142149</td>\n",
       "      <td>0.020</td>\n",
       "    </tr>\n",
       "    <tr>\n",
       "      <th>1517912</th>\n",
       "      <td>17843</td>\n",
       "      <td>174535</td>\n",
       "      <td>0.060</td>\n",
       "    </tr>\n",
       "    <tr>\n",
       "      <th>1517913</th>\n",
       "      <td>104746</td>\n",
       "      <td>55913</td>\n",
       "      <td>0.050</td>\n",
       "    </tr>\n",
       "  </tbody>\n",
       "</table>\n",
       "<p>13675 rows × 3 columns</p>\n",
       "</div>"
      ],
      "text/plain": [
       "         user_id  item_id  interest_score\n",
       "1503047    22032   287219           0.275\n",
       "1503048    84214   121609           1.000\n",
       "1503049    28992    11482           0.110\n",
       "1503050    23345   281921           1.000\n",
       "1503051    49466     2880           0.010\n",
       "...          ...      ...             ...\n",
       "1517908    81768   294370           0.850\n",
       "1517910   158991    99669           0.815\n",
       "1517911    77232   142149           0.020\n",
       "1517912    17843   174535           0.060\n",
       "1517913   104746    55913           0.050\n",
       "\n",
       "[13675 rows x 3 columns]"
      ]
     },
     "execution_count": 6,
     "metadata": {},
     "output_type": "execute_result"
    }
   ],
   "source": [
    "interactions.valid"
   ]
  },
  {
   "cell_type": "code",
   "execution_count": 7,
   "metadata": {},
   "outputs": [
    {
     "data": {
      "text/plain": [
       "<159613x321752 sparse matrix of type '<class 'numpy.float32'>'\n",
       "\twith 1306588 stored elements in Compressed Sparse Row format>"
      ]
     },
     "execution_count": 7,
     "metadata": {},
     "output_type": "execute_result"
    }
   ],
   "source": [
    "csr_train = csr_matrix(\n",
    "    (interactions.train[\"interest_score\"], \n",
    "    (interactions.train[\"user_id\"], interactions.train[\"item_id\"]))\n",
    ")\n",
    "csr_train"
   ]
  },
  {
   "cell_type": "code",
   "execution_count": 8,
   "metadata": {},
   "outputs": [],
   "source": [
    "class Objective:\n",
    "    def __init__(self, train: csr_matrix, valid: pd.DataFrame, metric: Callable):\n",
    "        self.train = train\n",
    "        self.valid = valid\n",
    "        self.metric = metric\n",
    "\n",
    "    def __call__(self, trial) -> float:\n",
    "        search_space = {\n",
    "            \"factors\": trial.suggest_int(\"factors\", 4, 256),\n",
    "            \"regularization\": trial.suggest_float(\"regularization\", 1e-8, 0.1),\n",
    "            \"iterations\": trial.suggest_int(\"iterations\", 8, 64),\n",
    "            \"num_threads\": Config.NUM_THREADS\n",
    "        }\n",
    "        model = AlternatingLeastSquares(**search_space)\n",
    "        model.fit(self.train)\n",
    "        predictions = pd.DataFrame(self.valid[\"user_id\"].drop_duplicates())\n",
    "        predictions[\"item_id\"] = predictions[\"user_id\"].apply(\n",
    "            lambda user_id: \n",
    "                model.recommend(\n",
    "                    user_id, \n",
    "                    self.train[user_id],\n",
    "                    N=Config.K,\n",
    "                    filter_already_liked_items=True\n",
    "                )[0]\n",
    "        )\n",
    "        predictions = predictions.explode(\"item_id\")\n",
    "        return self.valid[\"user_id\"].drop_duplicates().apply(\n",
    "            lambda user_id: \n",
    "                self.metric.calculate(\n",
    "                    predictions[predictions[\"user_id\"] == user_id][\"item_id\"],\n",
    "                    self.valid[self.valid[\"user_id\"] == user_id][\"item_id\"]\n",
    "                )\n",
    "        ).mean()"
   ]
  },
  {
   "cell_type": "code",
   "execution_count": 9,
   "metadata": {},
   "outputs": [],
   "source": [
    "recall = RecallAtK(Config.K)\n",
    "precision = PrecisionAtK(Config.K)"
   ]
  },
  {
   "cell_type": "code",
   "execution_count": 10,
   "metadata": {},
   "outputs": [
    {
     "name": "stderr",
     "output_type": "stream",
     "text": [
      "\u001b[32m[I 2023-03-11 14:25:03,901]\u001b[0m A new study created in memory with name: ALS precision maximize\u001b[0m\n",
      "/home/aveitsme/miniconda3/envs/core/lib/python3.10/site-packages/optuna/progress_bar.py:56: ExperimentalWarning: Progress bar is experimental (supported from v1.2.0). The interface can change in the future.\n",
      "  self._init_valid()\n"
     ]
    },
    {
     "data": {
      "application/vnd.jupyter.widget-view+json": {
       "model_id": "2bb48c4f42994d5bb3fa3a14e7d23c5e",
       "version_major": 2,
       "version_minor": 0
      },
      "text/plain": [
       "  0%|          | 0/100 [00:00<?, ?it/s]"
      ]
     },
     "metadata": {},
     "output_type": "display_data"
    },
    {
     "data": {
      "application/vnd.jupyter.widget-view+json": {
       "model_id": "b48aa97f0a1946cb9be83af7497fb74e",
       "version_major": 2,
       "version_minor": 0
      },
      "text/plain": [
       "  0%|          | 0/33 [00:00<?, ?it/s]"
      ]
     },
     "metadata": {},
     "output_type": "display_data"
    },
    {
     "name": "stdout",
     "output_type": "stream",
     "text": [
      "\u001b[32m[I 2023-03-11 14:25:14,031]\u001b[0m Trial 0 finished with value: 0.0017079332996462837 and parameters: {'factors': 68, 'regularization': 0.08287552288829421, 'iterations': 33}. Best is trial 0 with value: 0.0017079332996462837.\u001b[0m\n"
     ]
    },
    {
     "data": {
      "application/vnd.jupyter.widget-view+json": {
       "model_id": "d9c8d028217f46e78e30de6de023d132",
       "version_major": 2,
       "version_minor": 0
      },
      "text/plain": [
       "  0%|          | 0/19 [00:00<?, ?it/s]"
      ]
     },
     "metadata": {},
     "output_type": "display_data"
    },
    {
     "name": "stdout",
     "output_type": "stream",
     "text": [
      "\u001b[32m[I 2023-03-11 14:25:26,990]\u001b[0m Trial 1 finished with value: 0.002162708438605359 and parameters: {'factors': 159, 'regularization': 0.028882696999654466, 'iterations': 19}. Best is trial 1 with value: 0.002162708438605359.\u001b[0m\n"
     ]
    },
    {
     "data": {
      "application/vnd.jupyter.widget-view+json": {
       "model_id": "f225608b2f5840c595f192bb94dccc86",
       "version_major": 2,
       "version_minor": 0
      },
      "text/plain": [
       "  0%|          | 0/38 [00:00<?, ?it/s]"
      ]
     },
     "metadata": {},
     "output_type": "display_data"
    },
    {
     "name": "stdout",
     "output_type": "stream",
     "text": [
      "\u001b[32m[I 2023-03-11 14:25:46,270]\u001b[0m Trial 2 finished with value: 0.0023446184941889898 and parameters: {'factors': 219, 'regularization': 0.008968596290308448, 'iterations': 38}. Best is trial 2 with value: 0.0023446184941889898.\u001b[0m\n"
     ]
    },
    {
     "data": {
      "application/vnd.jupyter.widget-view+json": {
       "model_id": "e26da2d63a114d13a7db90dd99d8f966",
       "version_major": 2,
       "version_minor": 0
      },
      "text/plain": [
       "  0%|          | 0/8 [00:00<?, ?it/s]"
      ]
     },
     "metadata": {},
     "output_type": "display_data"
    },
    {
     "name": "stdout",
     "output_type": "stream",
     "text": [
      "\u001b[32m[I 2023-03-11 14:25:56,933]\u001b[0m Trial 3 finished with value: 0.0021627084386053592 and parameters: {'factors': 128, 'regularization': 0.05097699916460718, 'iterations': 8}. Best is trial 2 with value: 0.0023446184941889898.\u001b[0m\n"
     ]
    },
    {
     "data": {
      "application/vnd.jupyter.widget-view+json": {
       "model_id": "520e336ff06947b6ae42259c97977d07",
       "version_major": 2,
       "version_minor": 0
      },
      "text/plain": [
       "  0%|          | 0/50 [00:00<?, ?it/s]"
      ]
     },
     "metadata": {},
     "output_type": "display_data"
    },
    {
     "name": "stdout",
     "output_type": "stream",
     "text": [
      "\u001b[32m[I 2023-03-11 14:26:12,887]\u001b[0m Trial 4 finished with value: 0.00199090449722082 and parameters: {'factors': 157, 'regularization': 0.07789434936917536, 'iterations': 50}. Best is trial 2 with value: 0.0023446184941889898.\u001b[0m\n"
     ]
    },
    {
     "data": {
      "application/vnd.jupyter.widget-view+json": {
       "model_id": "ba51799fc24346e9a3e1323c9a1d39e3",
       "version_major": 2,
       "version_minor": 0
      },
      "text/plain": [
       "  0%|          | 0/18 [00:00<?, ?it/s]"
      ]
     },
     "metadata": {},
     "output_type": "display_data"
    },
    {
     "name": "stdout",
     "output_type": "stream",
     "text": [
      "\u001b[32m[I 2023-03-11 14:26:26,396]\u001b[0m Trial 5 finished with value: 0.002162708438605359 and parameters: {'factors': 163, 'regularization': 0.0555650504586655, 'iterations': 18}. Best is trial 2 with value: 0.0023446184941889898.\u001b[0m\n"
     ]
    },
    {
     "data": {
      "application/vnd.jupyter.widget-view+json": {
       "model_id": "c1722d0e676144a9a06d38d5658cbf46",
       "version_major": 2,
       "version_minor": 0
      },
      "text/plain": [
       "  0%|          | 0/23 [00:00<?, ?it/s]"
      ]
     },
     "metadata": {},
     "output_type": "display_data"
    },
    {
     "name": "stdout",
     "output_type": "stream",
     "text": [
      "\u001b[32m[I 2023-03-11 14:26:41,597]\u001b[0m Trial 6 finished with value: 0.002031328954017182 and parameters: {'factors': 155, 'regularization': 0.0011357038136145634, 'iterations': 23}. Best is trial 2 with value: 0.0023446184941889898.\u001b[0m\n"
     ]
    },
    {
     "data": {
      "application/vnd.jupyter.widget-view+json": {
       "model_id": "dfc5d6c63d394058b76c0d045d0c08a3",
       "version_major": 2,
       "version_minor": 0
      },
      "text/plain": [
       "  0%|          | 0/38 [00:00<?, ?it/s]"
      ]
     },
     "metadata": {},
     "output_type": "display_data"
    },
    {
     "name": "stdout",
     "output_type": "stream",
     "text": [
      "\u001b[32m[I 2023-03-11 14:27:03,960]\u001b[0m Trial 7 finished with value: 0.0024254674077817157 and parameters: {'factors': 255, 'regularization': 0.06514828270236057, 'iterations': 38}. Best is trial 7 with value: 0.0024254674077817157.\u001b[0m\n"
     ]
    },
    {
     "data": {
      "application/vnd.jupyter.widget-view+json": {
       "model_id": "3df10eed50e34faea01b19a504e0569c",
       "version_major": 2,
       "version_minor": 0
      },
      "text/plain": [
       "  0%|          | 0/25 [00:00<?, ?it/s]"
      ]
     },
     "metadata": {},
     "output_type": "display_data"
    },
    {
     "name": "stdout",
     "output_type": "stream",
     "text": [
      "\u001b[32m[I 2023-03-11 14:27:19,751]\u001b[0m Trial 8 finished with value: 0.0022132390096008124 and parameters: {'factors': 189, 'regularization': 0.07100575423680579, 'iterations': 25}. Best is trial 7 with value: 0.0024254674077817157.\u001b[0m\n"
     ]
    },
    {
     "data": {
      "application/vnd.jupyter.widget-view+json": {
       "model_id": "dfbbf821d2354f77a8bb7ed19c5f4d77",
       "version_major": 2,
       "version_minor": 0
      },
      "text/plain": [
       "  0%|          | 0/52 [00:00<?, ?it/s]"
      ]
     },
     "metadata": {},
     "output_type": "display_data"
    },
    {
     "name": "stdout",
     "output_type": "stream",
     "text": [
      "\u001b[32m[I 2023-03-11 14:27:40,774]\u001b[0m Trial 9 finished with value: 0.002233451237998994 and parameters: {'factors': 203, 'regularization': 0.027521841569363586, 'iterations': 52}. Best is trial 7 with value: 0.0024254674077817157.\u001b[0m\n"
     ]
    },
    {
     "data": {
      "application/vnd.jupyter.widget-view+json": {
       "model_id": "2f64321d84c3460ea34e677728abf469",
       "version_major": 2,
       "version_minor": 0
      },
      "text/plain": [
       "  0%|          | 0/62 [00:00<?, ?it/s]"
      ]
     },
     "metadata": {},
     "output_type": "display_data"
    },
    {
     "name": "stdout",
     "output_type": "stream",
     "text": [
      "\u001b[32m[I 2023-03-11 14:28:07,887]\u001b[0m Trial 10 finished with value: 0.0023547246083880807 and parameters: {'factors': 243, 'regularization': 0.09731753840284488, 'iterations': 62}. Best is trial 7 with value: 0.0024254674077817157.\u001b[0m\n"
     ]
    },
    {
     "data": {
      "application/vnd.jupyter.widget-view+json": {
       "model_id": "bfd1d690f5f84db9bb82bf39aae26b30",
       "version_major": 2,
       "version_minor": 0
      },
      "text/plain": [
       "  0%|          | 0/59 [00:00<?, ?it/s]"
      ]
     },
     "metadata": {},
     "output_type": "display_data"
    },
    {
     "name": "stdout",
     "output_type": "stream",
     "text": [
      "\u001b[32m[I 2023-03-11 14:28:34,526]\u001b[0m Trial 11 finished with value: 0.0023850429509853525 and parameters: {'factors': 256, 'regularization': 0.09856737816278613, 'iterations': 59}. Best is trial 7 with value: 0.0024254674077817157.\u001b[0m\n"
     ]
    },
    {
     "data": {
      "application/vnd.jupyter.widget-view+json": {
       "model_id": "e0ef76470a4144bab601447759ba26ef",
       "version_major": 2,
       "version_minor": 0
      },
      "text/plain": [
       "  0%|          | 0/63 [00:00<?, ?it/s]"
      ]
     },
     "metadata": {},
     "output_type": "display_data"
    },
    {
     "name": "stdout",
     "output_type": "stream",
     "text": [
      "\u001b[32m[I 2023-03-11 14:29:02,845]\u001b[0m Trial 12 finished with value: 0.002354724608388081 and parameters: {'factors': 244, 'regularization': 0.09849837568794109, 'iterations': 63}. Best is trial 7 with value: 0.0024254674077817157.\u001b[0m\n"
     ]
    },
    {
     "data": {
      "application/vnd.jupyter.widget-view+json": {
       "model_id": "7eb050cf0ea2443d8e9290ca597a3405",
       "version_major": 2,
       "version_minor": 0
      },
      "text/plain": [
       "  0%|          | 0/45 [00:00<?, ?it/s]"
      ]
     },
     "metadata": {},
     "output_type": "display_data"
    },
    {
     "name": "stdout",
     "output_type": "stream",
     "text": [
      "\u001b[32m[I 2023-03-11 14:29:11,246]\u001b[0m Trial 13 finished with value: 0.0011824153612935808 and parameters: {'factors': 22, 'regularization': 0.0650830024682132, 'iterations': 45}. Best is trial 7 with value: 0.0024254674077817157.\u001b[0m\n"
     ]
    },
    {
     "data": {
      "application/vnd.jupyter.widget-view+json": {
       "model_id": "d8f952943219447e90e052dbb68ed7bb",
       "version_major": 2,
       "version_minor": 0
      },
      "text/plain": [
       "  0%|          | 0/55 [00:00<?, ?it/s]"
      ]
     },
     "metadata": {},
     "output_type": "display_data"
    },
    {
     "name": "stdout",
     "output_type": "stream",
     "text": [
      "\u001b[32m[I 2023-03-11 14:29:25,166]\u001b[0m Trial 14 finished with value: 0.001970692268822639 and parameters: {'factors': 102, 'regularization': 0.08615015769276313, 'iterations': 55}. Best is trial 7 with value: 0.0024254674077817157.\u001b[0m\n"
     ]
    },
    {
     "data": {
      "application/vnd.jupyter.widget-view+json": {
       "model_id": "099ed8902c754766868128a3a2844502",
       "version_major": 2,
       "version_minor": 0
      },
      "text/plain": [
       "  0%|          | 0/39 [00:00<?, ?it/s]"
      ]
     },
     "metadata": {},
     "output_type": "display_data"
    },
    {
     "name": "stdout",
     "output_type": "stream",
     "text": [
      "\u001b[32m[I 2023-03-11 14:29:48,796]\u001b[0m Trial 15 finished with value: 0.0024759979787771676 and parameters: {'factors': 256, 'regularization': 0.06362935610053393, 'iterations': 39}. Best is trial 15 with value: 0.0024759979787771676.\u001b[0m\n"
     ]
    },
    {
     "data": {
      "application/vnd.jupyter.widget-view+json": {
       "model_id": "db5a60dae294400ca87e77c70d682e15",
       "version_major": 2,
       "version_minor": 0
      },
      "text/plain": [
       "  0%|          | 0/39 [00:00<?, ?it/s]"
      ]
     },
     "metadata": {},
     "output_type": "display_data"
    },
    {
     "name": "stdout",
     "output_type": "stream",
     "text": [
      "\u001b[32m[I 2023-03-11 14:30:09,965]\u001b[0m Trial 16 finished with value: 0.0023244062657908084 and parameters: {'factors': 218, 'regularization': 0.06203859664320829, 'iterations': 39}. Best is trial 15 with value: 0.0024759979787771676.\u001b[0m\n"
     ]
    },
    {
     "data": {
      "application/vnd.jupyter.widget-view+json": {
       "model_id": "4d863cd071cc46b2b4f1d2fb021718bc",
       "version_major": 2,
       "version_minor": 0
      },
      "text/plain": [
       "  0%|          | 0/32 [00:00<?, ?it/s]"
      ]
     },
     "metadata": {},
     "output_type": "display_data"
    },
    {
     "name": "stdout",
     "output_type": "stream",
     "text": [
      "\u001b[32m[I 2023-03-11 14:30:30,843]\u001b[0m Trial 17 finished with value: 0.0023041940373926284 and parameters: {'factors': 227, 'regularization': 0.046879284143831246, 'iterations': 32}. Best is trial 15 with value: 0.0024759979787771676.\u001b[0m\n"
     ]
    },
    {
     "data": {
      "application/vnd.jupyter.widget-view+json": {
       "model_id": "8a8483952f6647f2ab9f5f51c86e031a",
       "version_major": 2,
       "version_minor": 0
      },
      "text/plain": [
       "  0%|          | 0/46 [00:00<?, ?it/s]"
      ]
     },
     "metadata": {},
     "output_type": "display_data"
    },
    {
     "name": "stdout",
     "output_type": "stream",
     "text": [
      "\u001b[32m[I 2023-03-11 14:30:49,864]\u001b[0m Trial 18 finished with value: 0.0022637695805962648 and parameters: {'factors': 191, 'regularization': 0.07082121305787151, 'iterations': 46}. Best is trial 15 with value: 0.0024759979787771676.\u001b[0m\n"
     ]
    },
    {
     "data": {
      "application/vnd.jupyter.widget-view+json": {
       "model_id": "1acf0004ed8b4e32a88392237b8b432c",
       "version_major": 2,
       "version_minor": 0
      },
      "text/plain": [
       "  0%|          | 0/42 [00:00<?, ?it/s]"
      ]
     },
     "metadata": {},
     "output_type": "display_data"
    },
    {
     "name": "stdout",
     "output_type": "stream",
     "text": [
      "\u001b[32m[I 2023-03-11 14:31:00,509]\u001b[0m Trial 19 finished with value: 0.0017180394138453744 and parameters: {'factors': 70, 'regularization': 0.044990067731481544, 'iterations': 42}. Best is trial 15 with value: 0.0024759979787771676.\u001b[0m\n"
     ]
    },
    {
     "data": {
      "application/vnd.jupyter.widget-view+json": {
       "model_id": "ee3e980e6c55441e9db77acc80e5b2c2",
       "version_major": 2,
       "version_minor": 0
      },
      "text/plain": [
       "  0%|          | 0/29 [00:00<?, ?it/s]"
      ]
     },
     "metadata": {},
     "output_type": "display_data"
    },
    {
     "name": "stdout",
     "output_type": "stream",
     "text": [
      "\u001b[32m[I 2023-03-11 14:31:17,086]\u001b[0m Trial 20 finished with value: 0.002233451237998993 and parameters: {'factors': 186, 'regularization': 0.06287168910172083, 'iterations': 29}. Best is trial 15 with value: 0.0024759979787771676.\u001b[0m\n"
     ]
    },
    {
     "data": {
      "application/vnd.jupyter.widget-view+json": {
       "model_id": "4194e7052c80484dbf6d72baa6a95c1e",
       "version_major": 2,
       "version_minor": 0
      },
      "text/plain": [
       "  0%|          | 0/56 [00:00<?, ?it/s]"
      ]
     },
     "metadata": {},
     "output_type": "display_data"
    },
    {
     "name": "stdout",
     "output_type": "stream",
     "text": [
      "\u001b[32m[I 2023-03-11 14:31:43,546]\u001b[0m Trial 21 finished with value: 0.0023648307225871716 and parameters: {'factors': 249, 'regularization': 0.0910298452169326, 'iterations': 56}. Best is trial 15 with value: 0.0024759979787771676.\u001b[0m\n"
     ]
    },
    {
     "data": {
      "application/vnd.jupyter.widget-view+json": {
       "model_id": "9aabe30d5bd84750bd8650bb52435af1",
       "version_major": 2,
       "version_minor": 0
      },
      "text/plain": [
       "  0%|          | 0/48 [00:00<?, ?it/s]"
      ]
     },
     "metadata": {},
     "output_type": "display_data"
    },
    {
     "name": "stdout",
     "output_type": "stream",
     "text": [
      "\u001b[32m[I 2023-03-11 14:32:09,075]\u001b[0m Trial 22 finished with value: 0.0023446184941889906 and parameters: {'factors': 254, 'regularization': 0.07612431464284393, 'iterations': 48}. Best is trial 15 with value: 0.0024759979787771676.\u001b[0m\n"
     ]
    },
    {
     "data": {
      "application/vnd.jupyter.widget-view+json": {
       "model_id": "1607cd006b0a422c82d2c9ce0b4be8b2",
       "version_major": 2,
       "version_minor": 0
      },
      "text/plain": [
       "  0%|          | 0/59 [00:00<?, ?it/s]"
      ]
     },
     "metadata": {},
     "output_type": "display_data"
    },
    {
     "name": "stdout",
     "output_type": "stream",
     "text": [
      "\u001b[32m[I 2023-03-11 14:32:34,695]\u001b[0m Trial 23 finished with value: 0.002253663466397174 and parameters: {'factors': 228, 'regularization': 0.08798928653177325, 'iterations': 59}. Best is trial 15 with value: 0.0024759979787771676.\u001b[0m\n"
     ]
    },
    {
     "data": {
      "application/vnd.jupyter.widget-view+json": {
       "model_id": "111f59c1f118447b9b699d5b96131453",
       "version_major": 2,
       "version_minor": 0
      },
      "text/plain": [
       "  0%|          | 0/41 [00:00<?, ?it/s]"
      ]
     },
     "metadata": {},
     "output_type": "display_data"
    },
    {
     "name": "stdout",
     "output_type": "stream",
     "text": [
      "\u001b[32m[I 2023-03-11 14:32:58,618]\u001b[0m Trial 24 finished with value: 0.0023850429509853534 and parameters: {'factors': 256, 'regularization': 0.07931236438729866, 'iterations': 41}. Best is trial 15 with value: 0.0024759979787771676.\u001b[0m\n"
     ]
    },
    {
     "data": {
      "application/vnd.jupyter.widget-view+json": {
       "model_id": "777c96cd86164d31934bb753cf17a321",
       "version_major": 2,
       "version_minor": 0
      },
      "text/plain": [
       "  0%|          | 0/41 [00:00<?, ?it/s]"
      ]
     },
     "metadata": {},
     "output_type": "display_data"
    },
    {
     "name": "stdout",
     "output_type": "stream",
     "text": [
      "\u001b[32m[I 2023-03-11 14:33:20,066]\u001b[0m Trial 25 finished with value: 0.002334512379989899 and parameters: {'factors': 212, 'regularization': 0.07740419850765616, 'iterations': 41}. Best is trial 15 with value: 0.0024759979787771676.\u001b[0m\n"
     ]
    },
    {
     "data": {
      "application/vnd.jupyter.widget-view+json": {
       "model_id": "e1829ccd1edf4e43a39fd772f5c7426d",
       "version_major": 2,
       "version_minor": 0
      },
      "text/plain": [
       "  0%|          | 0/35 [00:00<?, ?it/s]"
      ]
     },
     "metadata": {},
     "output_type": "display_data"
    },
    {
     "name": "stdout",
     "output_type": "stream",
     "text": [
      "\u001b[32m[I 2023-03-11 14:33:41,509]\u001b[0m Trial 26 finished with value: 0.002324406265790809 and parameters: {'factors': 230, 'regularization': 0.06804962617667659, 'iterations': 35}. Best is trial 15 with value: 0.0024759979787771676.\u001b[0m\n"
     ]
    },
    {
     "data": {
      "application/vnd.jupyter.widget-view+json": {
       "model_id": "6c55b71a004448fcbf8b3abc5e66c4d0",
       "version_major": 2,
       "version_minor": 0
      },
      "text/plain": [
       "  0%|          | 0/29 [00:00<?, ?it/s]"
      ]
     },
     "metadata": {},
     "output_type": "display_data"
    },
    {
     "name": "stdout",
     "output_type": "stream",
     "text": [
      "\u001b[32m[I 2023-03-11 14:33:59,929]\u001b[0m Trial 27 finished with value: 0.002283981808994447 and parameters: {'factors': 204, 'regularization': 0.0581453210702831, 'iterations': 29}. Best is trial 15 with value: 0.0024759979787771676.\u001b[0m\n"
     ]
    },
    {
     "data": {
      "application/vnd.jupyter.widget-view+json": {
       "model_id": "f353c603e78649858c18467021e2c4c4",
       "version_major": 2,
       "version_minor": 0
      },
      "text/plain": [
       "  0%|          | 0/36 [00:00<?, ?it/s]"
      ]
     },
     "metadata": {},
     "output_type": "display_data"
    },
    {
     "name": "stdout",
     "output_type": "stream",
     "text": [
      "\u001b[32m[I 2023-03-11 14:34:22,564]\u001b[0m Trial 28 finished with value: 0.0023345123799898997 and parameters: {'factors': 235, 'regularization': 0.07977571705062679, 'iterations': 36}. Best is trial 15 with value: 0.0024759979787771676.\u001b[0m\n"
     ]
    },
    {
     "data": {
      "application/vnd.jupyter.widget-view+json": {
       "model_id": "76e6b5d7642e4102b6e1d322f2181620",
       "version_major": 2,
       "version_minor": 0
      },
      "text/plain": [
       "  0%|          | 0/32 [00:00<?, ?it/s]"
      ]
     },
     "metadata": {},
     "output_type": "display_data"
    },
    {
     "name": "stdout",
     "output_type": "stream",
     "text": [
      "\u001b[32m[I 2023-03-11 14:34:30,323]\u001b[0m Trial 29 finished with value: 0.0009701869631126819 and parameters: {'factors': 16, 'regularization': 0.08530903110609173, 'iterations': 32}. Best is trial 15 with value: 0.0024759979787771676.\u001b[0m\n"
     ]
    },
    {
     "data": {
      "application/vnd.jupyter.widget-view+json": {
       "model_id": "d4f48173bfde4a20b7af3c21d6e99f93",
       "version_major": 2,
       "version_minor": 0
      },
      "text/plain": [
       "  0%|          | 0/42 [00:00<?, ?it/s]"
      ]
     },
     "metadata": {},
     "output_type": "display_data"
    },
    {
     "name": "stdout",
     "output_type": "stream",
     "text": [
      "\u001b[32m[I 2023-03-11 14:34:43,902]\u001b[0m Trial 30 finished with value: 0.0019302678120262763 and parameters: {'factors': 105, 'regularization': 0.07286901623392529, 'iterations': 42}. Best is trial 15 with value: 0.0024759979787771676.\u001b[0m\n"
     ]
    },
    {
     "data": {
      "application/vnd.jupyter.widget-view+json": {
       "model_id": "90c85781db5549cdad502ce4021dad79",
       "version_major": 2,
       "version_minor": 0
      },
      "text/plain": [
       "  0%|          | 0/52 [00:00<?, ?it/s]"
      ]
     },
     "metadata": {},
     "output_type": "display_data"
    },
    {
     "name": "stdout",
     "output_type": "stream",
     "text": [
      "\u001b[32m[I 2023-03-11 14:35:10,493]\u001b[0m Trial 31 finished with value: 0.002385042950985353 and parameters: {'factors': 256, 'regularization': 0.09364616609781733, 'iterations': 52}. Best is trial 15 with value: 0.0024759979787771676.\u001b[0m\n"
     ]
    },
    {
     "data": {
      "application/vnd.jupyter.widget-view+json": {
       "model_id": "4d8e80080bbe4dd2847515439877f722",
       "version_major": 2,
       "version_minor": 0
      },
      "text/plain": [
       "  0%|          | 0/44 [00:00<?, ?it/s]"
      ]
     },
     "metadata": {},
     "output_type": "display_data"
    },
    {
     "name": "stdout",
     "output_type": "stream",
     "text": [
      "\u001b[32m[I 2023-03-11 14:35:35,863]\u001b[0m Trial 32 finished with value: 0.002395149065184443 and parameters: {'factors': 255, 'regularization': 0.08257136162606342, 'iterations': 44}. Best is trial 15 with value: 0.0024759979787771676.\u001b[0m\n"
     ]
    },
    {
     "data": {
      "application/vnd.jupyter.widget-view+json": {
       "model_id": "146116baa94e4d729a7ab64350508147",
       "version_major": 2,
       "version_minor": 0
      },
      "text/plain": [
       "  0%|          | 0/45 [00:00<?, ?it/s]"
      ]
     },
     "metadata": {},
     "output_type": "display_data"
    },
    {
     "name": "stdout",
     "output_type": "stream",
     "text": [
      "\u001b[32m[I 2023-03-11 14:36:00,750]\u001b[0m Trial 33 finished with value: 0.002374936836786261 and parameters: {'factors': 239, 'regularization': 0.08169216574448732, 'iterations': 45}. Best is trial 15 with value: 0.0024759979787771676.\u001b[0m\n"
     ]
    },
    {
     "data": {
      "application/vnd.jupyter.widget-view+json": {
       "model_id": "3f8670990dd340fc8d0f7a2f1bd401c3",
       "version_major": 2,
       "version_minor": 0
      },
      "text/plain": [
       "  0%|          | 0/37 [00:00<?, ?it/s]"
      ]
     },
     "metadata": {},
     "output_type": "display_data"
    },
    {
     "name": "stdout",
     "output_type": "stream",
     "text": [
      "\u001b[32m[I 2023-03-11 14:36:19,097]\u001b[0m Trial 34 finished with value: 0.002102071753410816 and parameters: {'factors': 173, 'regularization': 0.08244262301635853, 'iterations': 37}. Best is trial 15 with value: 0.0024759979787771676.\u001b[0m\n"
     ]
    },
    {
     "data": {
      "application/vnd.jupyter.widget-view+json": {
       "model_id": "4887bd112f1f48b2ba960d9fe542fcdb",
       "version_major": 2,
       "version_minor": 0
      },
      "text/plain": [
       "  0%|          | 0/40 [00:00<?, ?it/s]"
      ]
     },
     "metadata": {},
     "output_type": "display_data"
    },
    {
     "name": "stdout",
     "output_type": "stream",
     "text": [
      "\u001b[32m[I 2023-03-11 14:36:35,583]\u001b[0m Trial 35 finished with value: 0.0020515411824153637 and parameters: {'factors': 137, 'regularization': 0.0679144638072739, 'iterations': 40}. Best is trial 15 with value: 0.0024759979787771676.\u001b[0m\n",
      "EarlyStopping Exceeded: No new best scores on iters 20\n"
     ]
    }
   ],
   "source": [
    "precision_objective = Objective(csr_train, interactions.valid, precision)\n",
    "precision_optimizer = OptunaMaximizer(precision_objective, \"ALS precision maximize\")\n",
    "precision_best_trial = precision_optimizer.optimize(Config.ITERATIONS, Config.STOP_ITERATION)"
   ]
  },
  {
   "cell_type": "code",
   "execution_count": 11,
   "metadata": {},
   "outputs": [
    {
     "name": "stderr",
     "output_type": "stream",
     "text": [
      "\u001b[32m[I 2023-03-11 14:36:35,664]\u001b[0m A new study created in memory with name: ALS recall maximize\u001b[0m\n",
      "/home/aveitsme/miniconda3/envs/core/lib/python3.10/site-packages/optuna/progress_bar.py:56: ExperimentalWarning: Progress bar is experimental (supported from v1.2.0). The interface can change in the future.\n",
      "  self._init_valid()\n"
     ]
    },
    {
     "data": {
      "application/vnd.jupyter.widget-view+json": {
       "model_id": "ee9c4c116ff24b3c948677d0d699914c",
       "version_major": 2,
       "version_minor": 0
      },
      "text/plain": [
       "  0%|          | 0/100 [00:00<?, ?it/s]"
      ]
     },
     "metadata": {},
     "output_type": "display_data"
    },
    {
     "data": {
      "application/vnd.jupyter.widget-view+json": {
       "model_id": "68cfdcaa0d49457ea9869236f620f441",
       "version_major": 2,
       "version_minor": 0
      },
      "text/plain": [
       "  0%|          | 0/56 [00:00<?, ?it/s]"
      ]
     },
     "metadata": {},
     "output_type": "display_data"
    },
    {
     "name": "stdout",
     "output_type": "stream",
     "text": [
      "\u001b[32m[I 2023-03-11 14:37:02,393]\u001b[0m Trial 0 finished with value: 0.01037806531237557 and parameters: {'factors': 234, 'regularization': 0.032987659441796865, 'iterations': 56}. Best is trial 0 with value: 0.01037806531237557.\u001b[0m\n"
     ]
    },
    {
     "data": {
      "application/vnd.jupyter.widget-view+json": {
       "model_id": "747bc0bc012d4e8792aa6f4b3098e495",
       "version_major": 2,
       "version_minor": 0
      },
      "text/plain": [
       "  0%|          | 0/31 [00:00<?, ?it/s]"
      ]
     },
     "metadata": {},
     "output_type": "display_data"
    },
    {
     "name": "stdout",
     "output_type": "stream",
     "text": [
      "\u001b[32m[I 2023-03-11 14:37:11,768]\u001b[0m Trial 1 finished with value: 0.006002649118353141 and parameters: {'factors': 34, 'regularization': 0.0028637352198565696, 'iterations': 31}. Best is trial 0 with value: 0.01037806531237557.\u001b[0m\n"
     ]
    },
    {
     "data": {
      "application/vnd.jupyter.widget-view+json": {
       "model_id": "273a97be6b7e4a8ab2c69890df7d7d05",
       "version_major": 2,
       "version_minor": 0
      },
      "text/plain": [
       "  0%|          | 0/27 [00:00<?, ?it/s]"
      ]
     },
     "metadata": {},
     "output_type": "display_data"
    },
    {
     "name": "stdout",
     "output_type": "stream",
     "text": [
      "\u001b[32m[I 2023-03-11 14:37:25,003]\u001b[0m Trial 2 finished with value: 0.008654645141507194 and parameters: {'factors': 122, 'regularization': 0.06081223370252223, 'iterations': 27}. Best is trial 0 with value: 0.01037806531237557.\u001b[0m\n"
     ]
    },
    {
     "data": {
      "application/vnd.jupyter.widget-view+json": {
       "model_id": "1165a78a6edf4cc7a916ff409acdb7d2",
       "version_major": 2,
       "version_minor": 0
      },
      "text/plain": [
       "  0%|          | 0/13 [00:00<?, ?it/s]"
      ]
     },
     "metadata": {},
     "output_type": "display_data"
    },
    {
     "name": "stdout",
     "output_type": "stream",
     "text": [
      "\u001b[32m[I 2023-03-11 14:37:36,934]\u001b[0m Trial 3 finished with value: 0.00909165914092645 and parameters: {'factors': 108, 'regularization': 0.005734634761465523, 'iterations': 13}. Best is trial 0 with value: 0.01037806531237557.\u001b[0m\n"
     ]
    },
    {
     "data": {
      "application/vnd.jupyter.widget-view+json": {
       "model_id": "e941731ffb634e49abbb48ddaa9c5a6f",
       "version_major": 2,
       "version_minor": 0
      },
      "text/plain": [
       "  0%|          | 0/26 [00:00<?, ?it/s]"
      ]
     },
     "metadata": {},
     "output_type": "display_data"
    },
    {
     "name": "stdout",
     "output_type": "stream",
     "text": [
      "\u001b[32m[I 2023-03-11 14:37:45,346]\u001b[0m Trial 4 finished with value: 0.003739129603202367 and parameters: {'factors': 14, 'regularization': 0.012990881035676582, 'iterations': 26}. Best is trial 0 with value: 0.01037806531237557.\u001b[0m\n"
     ]
    },
    {
     "data": {
      "application/vnd.jupyter.widget-view+json": {
       "model_id": "2783c7d6fb3443c1a5e5350995de6cc2",
       "version_major": 2,
       "version_minor": 0
      },
      "text/plain": [
       "  0%|          | 0/42 [00:00<?, ?it/s]"
      ]
     },
     "metadata": {},
     "output_type": "display_data"
    },
    {
     "name": "stdout",
     "output_type": "stream",
     "text": [
      "\u001b[32m[I 2023-03-11 14:37:57,730]\u001b[0m Trial 5 finished with value: 0.0076143146898578935 and parameters: {'factors': 65, 'regularization': 0.005037014081657871, 'iterations': 42}. Best is trial 0 with value: 0.01037806531237557.\u001b[0m\n"
     ]
    },
    {
     "data": {
      "application/vnd.jupyter.widget-view+json": {
       "model_id": "6705ab39f97f42499954dba69f891939",
       "version_major": 2,
       "version_minor": 0
      },
      "text/plain": [
       "  0%|          | 0/42 [00:00<?, ?it/s]"
      ]
     },
     "metadata": {},
     "output_type": "display_data"
    },
    {
     "name": "stdout",
     "output_type": "stream",
     "text": [
      "\u001b[32m[I 2023-03-11 14:38:06,039]\u001b[0m Trial 6 finished with value: 0.0034151026184771815 and parameters: {'factors': 9, 'regularization': 0.019683676588139656, 'iterations': 42}. Best is trial 0 with value: 0.01037806531237557.\u001b[0m\n"
     ]
    },
    {
     "data": {
      "application/vnd.jupyter.widget-view+json": {
       "model_id": "bc8b0057ab0947b4969fb3f40c57b74e",
       "version_major": 2,
       "version_minor": 0
      },
      "text/plain": [
       "  0%|          | 0/55 [00:00<?, ?it/s]"
      ]
     },
     "metadata": {},
     "output_type": "display_data"
    },
    {
     "name": "stdout",
     "output_type": "stream",
     "text": [
      "\u001b[32m[I 2023-03-11 14:38:33,017]\u001b[0m Trial 7 finished with value: 0.010571204383735966 and parameters: {'factors': 243, 'regularization': 0.029945197328019858, 'iterations': 55}. Best is trial 7 with value: 0.010571204383735966.\u001b[0m\n"
     ]
    },
    {
     "data": {
      "application/vnd.jupyter.widget-view+json": {
       "model_id": "c3d4cfd787b14669887f5ed0d226bccb",
       "version_major": 2,
       "version_minor": 0
      },
      "text/plain": [
       "  0%|          | 0/13 [00:00<?, ?it/s]"
      ]
     },
     "metadata": {},
     "output_type": "display_data"
    },
    {
     "name": "stdout",
     "output_type": "stream",
     "text": [
      "\u001b[32m[I 2023-03-11 14:38:49,035]\u001b[0m Trial 8 finished with value: 0.010864209200490154 and parameters: {'factors': 199, 'regularization': 0.04786881952027468, 'iterations': 13}. Best is trial 8 with value: 0.010864209200490154.\u001b[0m\n"
     ]
    },
    {
     "data": {
      "application/vnd.jupyter.widget-view+json": {
       "model_id": "af68aa4801594d7b966cfab9f2b10c43",
       "version_major": 2,
       "version_minor": 0
      },
      "text/plain": [
       "  0%|          | 0/25 [00:00<?, ?it/s]"
      ]
     },
     "metadata": {},
     "output_type": "display_data"
    },
    {
     "name": "stdout",
     "output_type": "stream",
     "text": [
      "\u001b[32m[I 2023-03-11 14:38:57,698]\u001b[0m Trial 9 finished with value: 0.006626518588368007 and parameters: {'factors': 44, 'regularization': 0.007682823070652539, 'iterations': 25}. Best is trial 8 with value: 0.010864209200490154.\u001b[0m\n"
     ]
    },
    {
     "data": {
      "application/vnd.jupyter.widget-view+json": {
       "model_id": "07a9007967c44b47a1fac3a88febcbab",
       "version_major": 2,
       "version_minor": 0
      },
      "text/plain": [
       "  0%|          | 0/10 [00:00<?, ?it/s]"
      ]
     },
     "metadata": {},
     "output_type": "display_data"
    },
    {
     "name": "stdout",
     "output_type": "stream",
     "text": [
      "\u001b[32m[I 2023-03-11 14:39:12,340]\u001b[0m Trial 10 finished with value: 0.010758369557005234 and parameters: {'factors': 187, 'regularization': 0.08969970461137287, 'iterations': 10}. Best is trial 8 with value: 0.010864209200490154.\u001b[0m\n"
     ]
    },
    {
     "data": {
      "application/vnd.jupyter.widget-view+json": {
       "model_id": "3026aedb1a89482a9913867d1ddd0001",
       "version_major": 2,
       "version_minor": 0
      },
      "text/plain": [
       "  0%|          | 0/8 [00:00<?, ?it/s]"
      ]
     },
     "metadata": {},
     "output_type": "display_data"
    },
    {
     "name": "stdout",
     "output_type": "stream",
     "text": [
      "\u001b[32m[I 2023-03-11 14:39:27,004]\u001b[0m Trial 11 finished with value: 0.01123692979301873 and parameters: {'factors': 193, 'regularization': 0.08928528173225378, 'iterations': 8}. Best is trial 11 with value: 0.01123692979301873.\u001b[0m\n"
     ]
    },
    {
     "data": {
      "application/vnd.jupyter.widget-view+json": {
       "model_id": "0698dd7be42245859e6bcf5e251aa03f",
       "version_major": 2,
       "version_minor": 0
      },
      "text/plain": [
       "  0%|          | 0/16 [00:00<?, ?it/s]"
      ]
     },
     "metadata": {},
     "output_type": "display_data"
    },
    {
     "name": "stdout",
     "output_type": "stream",
     "text": [
      "\u001b[32m[I 2023-03-11 14:39:42,130]\u001b[0m Trial 12 finished with value: 0.009612892160896207 and parameters: {'factors': 179, 'regularization': 0.0628642210861179, 'iterations': 16}. Best is trial 11 with value: 0.01123692979301873.\u001b[0m\n"
     ]
    },
    {
     "data": {
      "application/vnd.jupyter.widget-view+json": {
       "model_id": "1e0d8ca5e37249338bf76258d9a43eff",
       "version_major": 2,
       "version_minor": 0
      },
      "text/plain": [
       "  0%|          | 0/17 [00:00<?, ?it/s]"
      ]
     },
     "metadata": {},
     "output_type": "display_data"
    },
    {
     "name": "stdout",
     "output_type": "stream",
     "text": [
      "\u001b[32m[I 2023-03-11 14:39:58,750]\u001b[0m Trial 13 finished with value: 0.010758215312283024 and parameters: {'factors': 192, 'regularization': 0.09134927308257812, 'iterations': 17}. Best is trial 11 with value: 0.01123692979301873.\u001b[0m\n"
     ]
    },
    {
     "data": {
      "application/vnd.jupyter.widget-view+json": {
       "model_id": "242931796a094fa8a52db64191b91585",
       "version_major": 2,
       "version_minor": 0
      },
      "text/plain": [
       "  0%|          | 0/9 [00:00<?, ?it/s]"
      ]
     },
     "metadata": {},
     "output_type": "display_data"
    },
    {
     "name": "stdout",
     "output_type": "stream",
     "text": [
      "\u001b[32m[I 2023-03-11 14:40:14,509]\u001b[0m Trial 14 finished with value: 0.010031530285446408 and parameters: {'factors': 154, 'regularization': 0.04832667548800227, 'iterations': 9}. Best is trial 11 with value: 0.01123692979301873.\u001b[0m\n"
     ]
    },
    {
     "data": {
      "application/vnd.jupyter.widget-view+json": {
       "model_id": "e1f58fa71fea4e5aa3e42f1794036a83",
       "version_major": 2,
       "version_minor": 0
      },
      "text/plain": [
       "  0%|          | 0/18 [00:00<?, ?it/s]"
      ]
     },
     "metadata": {},
     "output_type": "display_data"
    },
    {
     "name": "stdout",
     "output_type": "stream",
     "text": [
      "\u001b[32m[I 2023-03-11 14:40:32,925]\u001b[0m Trial 15 finished with value: 0.011172004543656898 and parameters: {'factors': 215, 'regularization': 0.09939327815219752, 'iterations': 18}. Best is trial 11 with value: 0.01123692979301873.\u001b[0m\n"
     ]
    },
    {
     "data": {
      "application/vnd.jupyter.widget-view+json": {
       "model_id": "6884feec92934f3ea0741619640ab8fb",
       "version_major": 2,
       "version_minor": 0
      },
      "text/plain": [
       "  0%|          | 0/21 [00:00<?, ?it/s]"
      ]
     },
     "metadata": {},
     "output_type": "display_data"
    },
    {
     "name": "stdout",
     "output_type": "stream",
     "text": [
      "\u001b[32m[I 2023-03-11 14:40:52,085]\u001b[0m Trial 16 finished with value: 0.011324442078610851 and parameters: {'factors': 220, 'regularization': 0.09900993001318334, 'iterations': 21}. Best is trial 16 with value: 0.011324442078610851.\u001b[0m\n"
     ]
    },
    {
     "data": {
      "application/vnd.jupyter.widget-view+json": {
       "model_id": "26baff0008b641f48ef27f687dc6e467",
       "version_major": 2,
       "version_minor": 0
      },
      "text/plain": [
       "  0%|          | 0/64 [00:00<?, ?it/s]"
      ]
     },
     "metadata": {},
     "output_type": "display_data"
    },
    {
     "name": "stdout",
     "output_type": "stream",
     "text": [
      "\u001b[32m[I 2023-03-11 14:41:13,946]\u001b[0m Trial 17 finished with value: 0.008938836555056872 and parameters: {'factors': 154, 'regularization': 0.07993427471847603, 'iterations': 64}. Best is trial 16 with value: 0.011324442078610851.\u001b[0m\n"
     ]
    },
    {
     "data": {
      "application/vnd.jupyter.widget-view+json": {
       "model_id": "9c02117d2644451fbc65566fdf75a4c7",
       "version_major": 2,
       "version_minor": 0
      },
      "text/plain": [
       "  0%|          | 0/20 [00:00<?, ?it/s]"
      ]
     },
     "metadata": {},
     "output_type": "display_data"
    },
    {
     "name": "stdout",
     "output_type": "stream",
     "text": [
      "\u001b[32m[I 2023-03-11 14:41:34,051]\u001b[0m Trial 18 finished with value: 0.011929687522652787 and parameters: {'factors': 256, 'regularization': 0.08021396361374135, 'iterations': 20}. Best is trial 18 with value: 0.011929687522652787.\u001b[0m\n"
     ]
    },
    {
     "data": {
      "application/vnd.jupyter.widget-view+json": {
       "model_id": "5e6b7df68d6c4170bb524506ee9c778b",
       "version_major": 2,
       "version_minor": 0
      },
      "text/plain": [
       "  0%|          | 0/37 [00:00<?, ?it/s]"
      ]
     },
     "metadata": {},
     "output_type": "display_data"
    },
    {
     "name": "stdout",
     "output_type": "stream",
     "text": [
      "\u001b[32m[I 2023-03-11 14:41:58,220]\u001b[0m Trial 19 finished with value: 0.01078101422467264 and parameters: {'factors': 250, 'regularization': 0.07629400917812927, 'iterations': 37}. Best is trial 18 with value: 0.011929687522652787.\u001b[0m\n"
     ]
    },
    {
     "data": {
      "application/vnd.jupyter.widget-view+json": {
       "model_id": "ac280963caed4da2abeab58b91b0b273",
       "version_major": 2,
       "version_minor": 0
      },
      "text/plain": [
       "  0%|          | 0/22 [00:00<?, ?it/s]"
      ]
     },
     "metadata": {},
     "output_type": "display_data"
    },
    {
     "name": "stdout",
     "output_type": "stream",
     "text": [
      "\u001b[32m[I 2023-03-11 14:42:16,746]\u001b[0m Trial 20 finished with value: 0.011062905148301817 and parameters: {'factors': 224, 'regularization': 0.09760465513560704, 'iterations': 22}. Best is trial 18 with value: 0.011929687522652787.\u001b[0m\n"
     ]
    },
    {
     "data": {
      "application/vnd.jupyter.widget-view+json": {
       "model_id": "372948be0a0c46f091859062b0615908",
       "version_major": 2,
       "version_minor": 0
      },
      "text/plain": [
       "  0%|          | 0/8 [00:00<?, ?it/s]"
      ]
     },
     "metadata": {},
     "output_type": "display_data"
    },
    {
     "name": "stdout",
     "output_type": "stream",
     "text": [
      "\u001b[32m[I 2023-03-11 14:42:32,843]\u001b[0m Trial 21 finished with value: 0.01275051726668705 and parameters: {'factors': 222, 'regularization': 0.08337907598996913, 'iterations': 8}. Best is trial 21 with value: 0.01275051726668705.\u001b[0m\n"
     ]
    },
    {
     "data": {
      "application/vnd.jupyter.widget-view+json": {
       "model_id": "ea2d638dfd4f442abde1d036fad833a2",
       "version_major": 2,
       "version_minor": 0
      },
      "text/plain": [
       "  0%|          | 0/21 [00:00<?, ?it/s]"
      ]
     },
     "metadata": {},
     "output_type": "display_data"
    },
    {
     "name": "stdout",
     "output_type": "stream",
     "text": [
      "\u001b[32m[I 2023-03-11 14:42:54,023]\u001b[0m Trial 22 finished with value: 0.011774560520633416 and parameters: {'factors': 250, 'regularization': 0.07631911873053487, 'iterations': 21}. Best is trial 21 with value: 0.01275051726668705.\u001b[0m\n"
     ]
    },
    {
     "data": {
      "application/vnd.jupyter.widget-view+json": {
       "model_id": "85a945eadbf04d858f778a4cdf05b1d5",
       "version_major": 2,
       "version_minor": 0
      },
      "text/plain": [
       "  0%|          | 0/31 [00:00<?, ?it/s]"
      ]
     },
     "metadata": {},
     "output_type": "display_data"
    },
    {
     "name": "stdout",
     "output_type": "stream",
     "text": [
      "\u001b[32m[I 2023-03-11 14:43:16,379]\u001b[0m Trial 23 finished with value: 0.011426998693294802 and parameters: {'factors': 240, 'regularization': 0.07653929653548222, 'iterations': 31}. Best is trial 21 with value: 0.01275051726668705.\u001b[0m\n"
     ]
    },
    {
     "data": {
      "application/vnd.jupyter.widget-view+json": {
       "model_id": "66ab5314de264117abd050ff9648ab5f",
       "version_major": 2,
       "version_minor": 0
      },
      "text/plain": [
       "  0%|          | 0/20 [00:00<?, ?it/s]"
      ]
     },
     "metadata": {},
     "output_type": "display_data"
    },
    {
     "name": "stdout",
     "output_type": "stream",
     "text": [
      "\u001b[32m[I 2023-03-11 14:43:36,327]\u001b[0m Trial 24 finished with value: 0.012003873064246112 and parameters: {'factors': 255, 'regularization': 0.06532055497985378, 'iterations': 20}. Best is trial 21 with value: 0.01275051726668705.\u001b[0m\n"
     ]
    },
    {
     "data": {
      "application/vnd.jupyter.widget-view+json": {
       "model_id": "5f2eeca23ce446e58bff2f5359c29e24",
       "version_major": 2,
       "version_minor": 0
      },
      "text/plain": [
       "  0%|          | 0/32 [00:00<?, ?it/s]"
      ]
     },
     "metadata": {},
     "output_type": "display_data"
    },
    {
     "name": "stdout",
     "output_type": "stream",
     "text": [
      "\u001b[32m[I 2023-03-11 14:43:53,162]\u001b[0m Trial 25 finished with value: 0.009461825440855255 and parameters: {'factors': 166, 'regularization': 0.066993532669693, 'iterations': 32}. Best is trial 21 with value: 0.01275051726668705.\u001b[0m\n"
     ]
    },
    {
     "data": {
      "application/vnd.jupyter.widget-view+json": {
       "model_id": "2f32d7321a0b43359d111bbb9de72eba",
       "version_major": 2,
       "version_minor": 0
      },
      "text/plain": [
       "  0%|          | 0/14 [00:00<?, ?it/s]"
      ]
     },
     "metadata": {},
     "output_type": "display_data"
    },
    {
     "name": "stdout",
     "output_type": "stream",
     "text": [
      "\u001b[32m[I 2023-03-11 14:44:11,618]\u001b[0m Trial 26 finished with value: 0.011389162042269675 and parameters: {'factors': 211, 'regularization': 0.08452428179686311, 'iterations': 14}. Best is trial 21 with value: 0.01275051726668705.\u001b[0m\n"
     ]
    },
    {
     "data": {
      "application/vnd.jupyter.widget-view+json": {
       "model_id": "4e4989d9b6504569ba8a6856686df322",
       "version_major": 2,
       "version_minor": 0
      },
      "text/plain": [
       "  0%|          | 0/37 [00:00<?, ?it/s]"
      ]
     },
     "metadata": {},
     "output_type": "display_data"
    },
    {
     "name": "stdout",
     "output_type": "stream",
     "text": [
      "\u001b[32m[I 2023-03-11 14:44:35,949]\u001b[0m Trial 27 finished with value: 0.01120995136077413 and parameters: {'factors': 255, 'regularization': 0.06946287034391599, 'iterations': 37}. Best is trial 21 with value: 0.01275051726668705.\u001b[0m\n"
     ]
    },
    {
     "data": {
      "application/vnd.jupyter.widget-view+json": {
       "model_id": "7af8b5cc636f4ca0a39ee0ae106046f4",
       "version_major": 2,
       "version_minor": 0
      },
      "text/plain": [
       "  0%|          | 0/20 [00:00<?, ?it/s]"
      ]
     },
     "metadata": {},
     "output_type": "display_data"
    },
    {
     "name": "stdout",
     "output_type": "stream",
     "text": [
      "\u001b[32m[I 2023-03-11 14:44:55,338]\u001b[0m Trial 28 finished with value: 0.01086581222382132 and parameters: {'factors': 231, 'regularization': 0.0581591759396126, 'iterations': 20}. Best is trial 21 with value: 0.01275051726668705.\u001b[0m\n"
     ]
    },
    {
     "data": {
      "application/vnd.jupyter.widget-view+json": {
       "model_id": "bcfbb612446b4a279a0f1eca59964653",
       "version_major": 2,
       "version_minor": 0
      },
      "text/plain": [
       "  0%|          | 0/25 [00:00<?, ?it/s]"
      ]
     },
     "metadata": {},
     "output_type": "display_data"
    },
    {
     "name": "stdout",
     "output_type": "stream",
     "text": [
      "\u001b[32m[I 2023-03-11 14:45:06,708]\u001b[0m Trial 29 finished with value: 0.007620660598174493 and parameters: {'factors': 85, 'regularization': 0.055113720038443705, 'iterations': 25}. Best is trial 21 with value: 0.01275051726668705.\u001b[0m\n"
     ]
    },
    {
     "data": {
      "application/vnd.jupyter.widget-view+json": {
       "model_id": "a9ed7cc9e2624df7b9c795c3696ab75a",
       "version_major": 2,
       "version_minor": 0
      },
      "text/plain": [
       "  0%|          | 0/12 [00:00<?, ?it/s]"
      ]
     },
     "metadata": {},
     "output_type": "display_data"
    },
    {
     "name": "stdout",
     "output_type": "stream",
     "text": [
      "\u001b[32m[I 2023-03-11 14:45:24,081]\u001b[0m Trial 30 finished with value: 0.011864807473700854 and parameters: {'factors': 230, 'regularization': 0.06972661124145667, 'iterations': 12}. Best is trial 21 with value: 0.01275051726668705.\u001b[0m\n"
     ]
    },
    {
     "data": {
      "application/vnd.jupyter.widget-view+json": {
       "model_id": "a8bd26a0ef3f4ebf9be84b2429ee1a60",
       "version_major": 2,
       "version_minor": 0
      },
      "text/plain": [
       "  0%|          | 0/12 [00:00<?, ?it/s]"
      ]
     },
     "metadata": {},
     "output_type": "display_data"
    },
    {
     "name": "stdout",
     "output_type": "stream",
     "text": [
      "\u001b[32m[I 2023-03-11 14:45:40,978]\u001b[0m Trial 31 finished with value: 0.011813933497864774 and parameters: {'factors': 209, 'regularization': 0.07045370193663082, 'iterations': 12}. Best is trial 21 with value: 0.01275051726668705.\u001b[0m\n"
     ]
    },
    {
     "data": {
      "application/vnd.jupyter.widget-view+json": {
       "model_id": "9770a2b0ff234c529c70349348558b05",
       "version_major": 2,
       "version_minor": 0
      },
      "text/plain": [
       "  0%|          | 0/8 [00:00<?, ?it/s]"
      ]
     },
     "metadata": {},
     "output_type": "display_data"
    },
    {
     "name": "stdout",
     "output_type": "stream",
     "text": [
      "\u001b[32m[I 2023-03-11 14:45:58,675]\u001b[0m Trial 32 finished with value: 0.01270469522617072 and parameters: {'factors': 235, 'regularization': 0.0837229630184759, 'iterations': 8}. Best is trial 21 with value: 0.01275051726668705.\u001b[0m\n"
     ]
    },
    {
     "data": {
      "application/vnd.jupyter.widget-view+json": {
       "model_id": "f80d40c62507453b9ae571ebf187b0bc",
       "version_major": 2,
       "version_minor": 0
      },
      "text/plain": [
       "  0%|          | 0/16 [00:00<?, ?it/s]"
      ]
     },
     "metadata": {},
     "output_type": "display_data"
    },
    {
     "name": "stdout",
     "output_type": "stream",
     "text": [
      "\u001b[32m[I 2023-03-11 14:46:17,845]\u001b[0m Trial 33 finished with value: 0.011874987204699181 and parameters: {'factors': 237, 'regularization': 0.08296959647883295, 'iterations': 16}. Best is trial 21 with value: 0.01275051726668705.\u001b[0m\n"
     ]
    },
    {
     "data": {
      "application/vnd.jupyter.widget-view+json": {
       "model_id": "c67546142aa94780b77e5040ab2985e5",
       "version_major": 2,
       "version_minor": 0
      },
      "text/plain": [
       "  0%|          | 0/8 [00:00<?, ?it/s]"
      ]
     },
     "metadata": {},
     "output_type": "display_data"
    },
    {
     "name": "stdout",
     "output_type": "stream",
     "text": [
      "\u001b[32m[I 2023-03-11 14:46:36,254]\u001b[0m Trial 34 finished with value: 0.013394277105747546 and parameters: {'factors': 255, 'regularization': 0.08431402755067025, 'iterations': 8}. Best is trial 34 with value: 0.013394277105747546.\u001b[0m\n"
     ]
    },
    {
     "data": {
      "application/vnd.jupyter.widget-view+json": {
       "model_id": "33efb19027c342f592e00dca50948c0d",
       "version_major": 2,
       "version_minor": 0
      },
      "text/plain": [
       "  0%|          | 0/10 [00:00<?, ?it/s]"
      ]
     },
     "metadata": {},
     "output_type": "display_data"
    },
    {
     "name": "stdout",
     "output_type": "stream",
     "text": [
      "\u001b[32m[I 2023-03-11 14:46:51,011]\u001b[0m Trial 35 finished with value: 0.009849349320041592 and parameters: {'factors': 131, 'regularization': 0.08735481451311423, 'iterations': 10}. Best is trial 34 with value: 0.013394277105747546.\u001b[0m\n"
     ]
    },
    {
     "data": {
      "application/vnd.jupyter.widget-view+json": {
       "model_id": "a2c6e80b4d994067a901d77b06753cd0",
       "version_major": 2,
       "version_minor": 0
      },
      "text/plain": [
       "  0%|          | 0/8 [00:00<?, ?it/s]"
      ]
     },
     "metadata": {},
     "output_type": "display_data"
    },
    {
     "name": "stdout",
     "output_type": "stream",
     "text": [
      "\u001b[32m[I 2023-03-11 14:47:06,301]\u001b[0m Trial 36 finished with value: 0.011954666943297568 and parameters: {'factors': 207, 'regularization': 0.09308498669073799, 'iterations': 8}. Best is trial 34 with value: 0.013394277105747546.\u001b[0m\n"
     ]
    },
    {
     "data": {
      "application/vnd.jupyter.widget-view+json": {
       "model_id": "ebc81856d31d400888142b83f4a0fa84",
       "version_major": 2,
       "version_minor": 0
      },
      "text/plain": [
       "  0%|          | 0/14 [00:00<?, ?it/s]"
      ]
     },
     "metadata": {},
     "output_type": "display_data"
    },
    {
     "name": "stdout",
     "output_type": "stream",
     "text": [
      "\u001b[32m[I 2023-03-11 14:47:24,911]\u001b[0m Trial 37 finished with value: 0.012195190974877689 and parameters: {'factors': 230, 'regularization': 0.08474194930238024, 'iterations': 14}. Best is trial 34 with value: 0.013394277105747546.\u001b[0m\n"
     ]
    },
    {
     "data": {
      "application/vnd.jupyter.widget-view+json": {
       "model_id": "9c91a5a705464a8da42411caead1f41a",
       "version_major": 2,
       "version_minor": 0
      },
      "text/plain": [
       "  0%|          | 0/52 [00:00<?, ?it/s]"
      ]
     },
     "metadata": {},
     "output_type": "display_data"
    },
    {
     "name": "stdout",
     "output_type": "stream",
     "text": [
      "\u001b[32m[I 2023-03-11 14:47:50,142]\u001b[0m Trial 38 finished with value: 0.010750791373580662 and parameters: {'factors': 230, 'regularization': 0.09484154352657688, 'iterations': 52}. Best is trial 34 with value: 0.013394277105747546.\u001b[0m\n"
     ]
    },
    {
     "data": {
      "application/vnd.jupyter.widget-view+json": {
       "model_id": "e1c1f2cdf8ae4ee68e9f12c2831f986d",
       "version_major": 2,
       "version_minor": 0
      },
      "text/plain": [
       "  0%|          | 0/14 [00:00<?, ?it/s]"
      ]
     },
     "metadata": {},
     "output_type": "display_data"
    },
    {
     "name": "stdout",
     "output_type": "stream",
     "text": [
      "\u001b[32m[I 2023-03-11 14:48:05,992]\u001b[0m Trial 39 finished with value: 0.010158425455292563 and parameters: {'factors': 177, 'regularization': 0.08589564305031941, 'iterations': 14}. Best is trial 34 with value: 0.013394277105747546.\u001b[0m\n"
     ]
    },
    {
     "data": {
      "application/vnd.jupyter.widget-view+json": {
       "model_id": "0b9773cef6fb49f189d477eb1f687e40",
       "version_major": 2,
       "version_minor": 0
      },
      "text/plain": [
       "  0%|          | 0/46 [00:00<?, ?it/s]"
      ]
     },
     "metadata": {},
     "output_type": "display_data"
    },
    {
     "name": "stdout",
     "output_type": "stream",
     "text": [
      "\u001b[32m[I 2023-03-11 14:48:24,601]\u001b[0m Trial 40 finished with value: 0.00943647518053784 and parameters: {'factors': 133, 'regularization': 0.09466321983787658, 'iterations': 46}. Best is trial 34 with value: 0.013394277105747546.\u001b[0m\n"
     ]
    },
    {
     "data": {
      "application/vnd.jupyter.widget-view+json": {
       "model_id": "e40f58708b884e038bbcacd762de28e1",
       "version_major": 2,
       "version_minor": 0
      },
      "text/plain": [
       "  0%|          | 0/11 [00:00<?, ?it/s]"
      ]
     },
     "metadata": {},
     "output_type": "display_data"
    },
    {
     "name": "stdout",
     "output_type": "stream",
     "text": [
      "\u001b[32m[I 2023-03-11 14:48:42,632]\u001b[0m Trial 41 finished with value: 0.012696409760583586 and parameters: {'factors': 241, 'regularization': 0.08358524858222653, 'iterations': 11}. Best is trial 34 with value: 0.013394277105747546.\u001b[0m\n"
     ]
    },
    {
     "data": {
      "application/vnd.jupyter.widget-view+json": {
       "model_id": "aa02ed085c804fe990a82c474d5e2536",
       "version_major": 2,
       "version_minor": 0
      },
      "text/plain": [
       "  0%|          | 0/11 [00:00<?, ?it/s]"
      ]
     },
     "metadata": {},
     "output_type": "display_data"
    },
    {
     "name": "stdout",
     "output_type": "stream",
     "text": [
      "\u001b[32m[I 2023-03-11 14:49:00,549]\u001b[0m Trial 42 finished with value: 0.012468428348923548 and parameters: {'factors': 241, 'regularization': 0.08316540407971336, 'iterations': 11}. Best is trial 34 with value: 0.013394277105747546.\u001b[0m\n"
     ]
    },
    {
     "data": {
      "application/vnd.jupyter.widget-view+json": {
       "model_id": "f2ff384fb29b4c718658bc9788adb0dc",
       "version_major": 2,
       "version_minor": 0
      },
      "text/plain": [
       "  0%|          | 0/11 [00:00<?, ?it/s]"
      ]
     },
     "metadata": {},
     "output_type": "display_data"
    },
    {
     "name": "stdout",
     "output_type": "stream",
     "text": [
      "\u001b[32m[I 2023-03-11 14:49:17,880]\u001b[0m Trial 43 finished with value: 0.012493954308001808 and parameters: {'factors': 239, 'regularization': 0.07298625839261312, 'iterations': 11}. Best is trial 34 with value: 0.013394277105747546.\u001b[0m\n"
     ]
    },
    {
     "data": {
      "application/vnd.jupyter.widget-view+json": {
       "model_id": "7a9d0afe368242968516b81c1775af90",
       "version_major": 2,
       "version_minor": 0
      },
      "text/plain": [
       "  0%|          | 0/8 [00:00<?, ?it/s]"
      ]
     },
     "metadata": {},
     "output_type": "display_data"
    },
    {
     "name": "stdout",
     "output_type": "stream",
     "text": [
      "\u001b[32m[I 2023-03-11 14:49:34,091]\u001b[0m Trial 44 finished with value: 0.011472775582174272 and parameters: {'factors': 202, 'regularization': 0.08934174502101706, 'iterations': 8}. Best is trial 34 with value: 0.013394277105747546.\u001b[0m\n"
     ]
    },
    {
     "data": {
      "application/vnd.jupyter.widget-view+json": {
       "model_id": "af1eeec65e704dc8b2c2905112476962",
       "version_major": 2,
       "version_minor": 0
      },
      "text/plain": [
       "  0%|          | 0/12 [00:00<?, ?it/s]"
      ]
     },
     "metadata": {},
     "output_type": "display_data"
    },
    {
     "name": "stdout",
     "output_type": "stream",
     "text": [
      "\u001b[32m[I 2023-03-11 14:49:52,273]\u001b[0m Trial 45 finished with value: 0.011559442045798795 and parameters: {'factors': 223, 'regularization': 0.07274078912057444, 'iterations': 12}. Best is trial 34 with value: 0.013394277105747546.\u001b[0m\n"
     ]
    },
    {
     "data": {
      "application/vnd.jupyter.widget-view+json": {
       "model_id": "94e5dd89496447e9a262e97955c82769",
       "version_major": 2,
       "version_minor": 0
      },
      "text/plain": [
       "  0%|          | 0/16 [00:00<?, ?it/s]"
      ]
     },
     "metadata": {},
     "output_type": "display_data"
    },
    {
     "name": "stdout",
     "output_type": "stream",
     "text": [
      "\u001b[32m[I 2023-03-11 14:50:12,324]\u001b[0m Trial 46 finished with value: 0.011771309511329722 and parameters: {'factors': 242, 'regularization': 0.07840826301174278, 'iterations': 16}. Best is trial 34 with value: 0.013394277105747546.\u001b[0m\n"
     ]
    },
    {
     "data": {
      "application/vnd.jupyter.widget-view+json": {
       "model_id": "9dc15c6ae65348c79947efd0988c5c2e",
       "version_major": 2,
       "version_minor": 0
      },
      "text/plain": [
       "  0%|          | 0/8 [00:00<?, ?it/s]"
      ]
     },
     "metadata": {},
     "output_type": "display_data"
    },
    {
     "name": "stdout",
     "output_type": "stream",
     "text": [
      "\u001b[32m[I 2023-03-11 14:50:28,612]\u001b[0m Trial 47 finished with value: 0.012239921523650681 and parameters: {'factors': 215, 'regularization': 0.07342828181384153, 'iterations': 8}. Best is trial 34 with value: 0.013394277105747546.\u001b[0m\n"
     ]
    },
    {
     "data": {
      "application/vnd.jupyter.widget-view+json": {
       "model_id": "536dc7e51a9e4af0a3ad7d4bf63d67bc",
       "version_major": 2,
       "version_minor": 0
      },
      "text/plain": [
       "  0%|          | 0/10 [00:00<?, ?it/s]"
      ]
     },
     "metadata": {},
     "output_type": "display_data"
    },
    {
     "name": "stdout",
     "output_type": "stream",
     "text": [
      "\u001b[32m[I 2023-03-11 14:50:40,362]\u001b[0m Trial 48 finished with value: 0.00977221658247429 and parameters: {'factors': 110, 'regularization': 0.09052319480609278, 'iterations': 10}. Best is trial 34 with value: 0.013394277105747546.\u001b[0m\n"
     ]
    },
    {
     "data": {
      "application/vnd.jupyter.widget-view+json": {
       "model_id": "573a384994a74286a99fa583b5a93f33",
       "version_major": 2,
       "version_minor": 0
      },
      "text/plain": [
       "  0%|          | 0/18 [00:00<?, ?it/s]"
      ]
     },
     "metadata": {},
     "output_type": "display_data"
    },
    {
     "name": "stdout",
     "output_type": "stream",
     "text": [
      "\u001b[32m[I 2023-03-11 14:50:56,193]\u001b[0m Trial 49 finished with value: 0.010639785653681564 and parameters: {'factors': 183, 'regularization': 0.08309509939723111, 'iterations': 18}. Best is trial 34 with value: 0.013394277105747546.\u001b[0m\n"
     ]
    },
    {
     "data": {
      "application/vnd.jupyter.widget-view+json": {
       "model_id": "eb3f394c0d5042c1aec0650e486660c1",
       "version_major": 2,
       "version_minor": 0
      },
      "text/plain": [
       "  0%|          | 0/29 [00:00<?, ?it/s]"
      ]
     },
     "metadata": {},
     "output_type": "display_data"
    },
    {
     "name": "stdout",
     "output_type": "stream",
     "text": [
      "\u001b[32m[I 2023-03-11 14:51:14,021]\u001b[0m Trial 50 finished with value: 0.01086620344452583 and parameters: {'factors': 198, 'regularization': 0.08104707262852519, 'iterations': 29}. Best is trial 34 with value: 0.013394277105747546.\u001b[0m\n"
     ]
    },
    {
     "data": {
      "application/vnd.jupyter.widget-view+json": {
       "model_id": "fc39d86ef9244e1f95e69013cefcb7f1",
       "version_major": 2,
       "version_minor": 0
      },
      "text/plain": [
       "  0%|          | 0/11 [00:00<?, ?it/s]"
      ]
     },
     "metadata": {},
     "output_type": "display_data"
    },
    {
     "name": "stdout",
     "output_type": "stream",
     "text": [
      "\u001b[32m[I 2023-03-11 14:51:31,432]\u001b[0m Trial 51 finished with value: 0.01271471351232759 and parameters: {'factors': 242, 'regularization': 0.08768695257512416, 'iterations': 11}. Best is trial 34 with value: 0.013394277105747546.\u001b[0m\n"
     ]
    },
    {
     "data": {
      "application/vnd.jupyter.widget-view+json": {
       "model_id": "b607ba0a331a484f8ec06962e31ef37c",
       "version_major": 2,
       "version_minor": 0
      },
      "text/plain": [
       "  0%|          | 0/14 [00:00<?, ?it/s]"
      ]
     },
     "metadata": {},
     "output_type": "display_data"
    },
    {
     "name": "stdout",
     "output_type": "stream",
     "text": [
      "\u001b[32m[I 2023-03-11 14:51:50,061]\u001b[0m Trial 52 finished with value: 0.01239436311821355 and parameters: {'factors': 244, 'regularization': 0.08741060089339941, 'iterations': 14}. Best is trial 34 with value: 0.013394277105747546.\u001b[0m\n"
     ]
    },
    {
     "data": {
      "application/vnd.jupyter.widget-view+json": {
       "model_id": "04535aec019a4d30b5b5f528713e1147",
       "version_major": 2,
       "version_minor": 0
      },
      "text/plain": [
       "  0%|          | 0/10 [00:00<?, ?it/s]"
      ]
     },
     "metadata": {},
     "output_type": "display_data"
    },
    {
     "name": "stdout",
     "output_type": "stream",
     "text": [
      "\u001b[32m[I 2023-03-11 14:52:06,039]\u001b[0m Trial 53 finished with value: 0.011878734369891522 and parameters: {'factors': 220, 'regularization': 0.09340844808662657, 'iterations': 10}. Best is trial 34 with value: 0.013394277105747546.\u001b[0m\n"
     ]
    },
    {
     "data": {
      "application/vnd.jupyter.widget-view+json": {
       "model_id": "92b08abed7fa46999562b4190db9f38d",
       "version_major": 2,
       "version_minor": 0
      },
      "text/plain": [
       "  0%|          | 0/15 [00:00<?, ?it/s]"
      ]
     },
     "metadata": {},
     "output_type": "display_data"
    },
    {
     "name": "stdout",
     "output_type": "stream",
     "text": [
      "\u001b[32m[I 2023-03-11 14:52:25,518]\u001b[0m Trial 54 finished with value: 0.012604390956325399 and parameters: {'factors': 246, 'regularization': 0.0795730926831978, 'iterations': 15}. Best is trial 34 with value: 0.013394277105747546.\u001b[0m\n",
      "EarlyStopping Exceeded: No new best scores on iters 20\n"
     ]
    }
   ],
   "source": [
    "recall_objective = Objective(csr_train, interactions.valid, recall)\n",
    "recall_optimizer = OptunaMaximizer(recall_objective, \"ALS recall maximize\")\n",
    "recall_best_trial = recall_optimizer.optimize(Config.ITERATIONS, Config.STOP_ITERATION)"
   ]
  },
  {
   "cell_type": "code",
   "execution_count": 12,
   "metadata": {},
   "outputs": [
    {
     "data": {
      "application/vnd.jupyter.widget-view+json": {
       "model_id": "ba9df9f48c3341da80cdbe7cd45f9e79",
       "version_major": 2,
       "version_minor": 0
      },
      "text/plain": [
       "  0%|          | 0/39 [00:00<?, ?it/s]"
      ]
     },
     "metadata": {},
     "output_type": "display_data"
    }
   ],
   "source": [
    "precision_model = AlternatingLeastSquares(**precision_best_trial.params)\n",
    "precision_model.fit(csr_train)"
   ]
  },
  {
   "cell_type": "code",
   "execution_count": 13,
   "metadata": {},
   "outputs": [
    {
     "data": {
      "application/vnd.jupyter.widget-view+json": {
       "model_id": "a720baf6db5a47d19baa9e1d70f66ad6",
       "version_major": 2,
       "version_minor": 0
      },
      "text/plain": [
       "  0%|          | 0/8 [00:00<?, ?it/s]"
      ]
     },
     "metadata": {},
     "output_type": "display_data"
    }
   ],
   "source": [
    "recall_model = AlternatingLeastSquares(**recall_best_trial.params)\n",
    "recall_model.fit(csr_train)"
   ]
  },
  {
   "cell_type": "code",
   "execution_count": 14,
   "metadata": {},
   "outputs": [],
   "source": [
    "models = {\n",
    "    \"recall_model\": recall_model,\n",
    "    \"precision_model\": precision_model\n",
    "}"
   ]
  },
  {
   "cell_type": "code",
   "execution_count": 15,
   "metadata": {},
   "outputs": [],
   "source": [
    "metrics = {\n",
    "    \"precision\": precision,\n",
    "    \"recall\": recall\n",
    "}"
   ]
  },
  {
   "cell_type": "code",
   "execution_count": 16,
   "metadata": {},
   "outputs": [
    {
     "name": "stdout",
     "output_type": "stream",
     "text": [
      "Model 'recall_model':\n",
      "\tMetric precision@10: 0.0018301528847226843\n",
      "\tMetric recall@10: 0.00969147252207179\n",
      "Model 'precision_model':\n",
      "\tMetric precision@10: 0.0015734851021091366\n",
      "\tMetric recall@10: 0.008407195601705145\n"
     ]
    }
   ],
   "source": [
    "for model_name, model in models.items():\n",
    "    pred = pd.DataFrame(interactions.test[\"user_id\"].drop_duplicates())\n",
    "    print(f\"Model '{model_name}':\")\n",
    "    pred[\"item_id\"] = pred[\"user_id\"].apply(\n",
    "        lambda user_id: \n",
    "            model.recommend(\n",
    "                user_id, \n",
    "                csr_train[user_id],\n",
    "                N=Config.K,\n",
    "                filter_already_liked_items=True\n",
    "            )[0]\n",
    "    )\n",
    "    pred = pred.explode(\"item_id\")\n",
    "    for metric_name, metric in metrics.items():\n",
    "        metric_val = interactions.test[\"user_id\"].drop_duplicates().apply(\n",
    "            lambda user_id: \n",
    "                metric.calculate(\n",
    "                    pred[pred[\"user_id\"] == user_id][\"item_id\"],\n",
    "                    interactions.test[interactions.test[\"user_id\"] == user_id][\"item_id\"]\n",
    "                )\n",
    "        ).mean()\n",
    "        print(f\"\\tMetric {metric_name}@{Config.K}: {metric_val}\")"
   ]
  },
  {
   "cell_type": "code",
   "execution_count": 19,
   "metadata": {},
   "outputs": [],
   "source": [
    "with (Config.MODEL_PATH / \"als_trial.pickle\").open(\"wb\") as file_object:\n",
    "    pickle.dump(recall_best_trial, file_object)"
   ]
  }
 ],
 "metadata": {
  "kernelspec": {
   "display_name": "core",
   "language": "python",
   "name": "python3"
  },
  "language_info": {
   "codemirror_mode": {
    "name": "ipython",
    "version": 3
   },
   "file_extension": ".py",
   "mimetype": "text/x-python",
   "name": "python",
   "nbconvert_exporter": "python",
   "pygments_lexer": "ipython3",
   "version": "3.10.9"
  },
  "orig_nbformat": 4,
  "vscode": {
   "interpreter": {
    "hash": "009d69282f0b7257078526d54b136153003b0cf2c7ed5bb47bc5d27e99d5a7ba"
   }
  }
 },
 "nbformat": 4,
 "nbformat_minor": 2
}

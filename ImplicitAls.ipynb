{
 "cells": [
  {
   "cell_type": "code",
   "execution_count": 1,
   "metadata": {},
   "outputs": [],
   "source": [
    "import pickle\n",
    "import pandas as pd\n",
    "\n",
    "from implicit.als import AlternatingLeastSquares\n",
    "from scipy.sparse import csr_matrix\n",
    "from typing import Callable\n",
    "from src.config import Config\n",
    "from src.dataset import Interactions\n",
    "from src.metrics import PrecisionAtK, RecallAtK, FOneScoreAtK\n",
    "from src.optimizer import OptunaMaximizer"
   ]
  },
  {
   "cell_type": "code",
   "execution_count": 2,
   "metadata": {},
   "outputs": [],
   "source": [
    "with Config.PREPROCESSED_INTERACTIONS_PATH.open(\"rb\") as file_object:\n",
    "    interactions = Interactions(pickle.load(file_object))"
   ]
  },
  {
   "cell_type": "code",
   "execution_count": 3,
   "metadata": {},
   "outputs": [],
   "source": [
    "interactions.train = interactions.train[[\"user_id\", \"item_id\", \"interest_score\"]]\n",
    "interactions.test = interactions.test[[\"user_id\", \"item_id\", \"interest_score\"]]\n",
    "interactions.valid = interactions.valid[[\"user_id\", \"item_id\", \"interest_score\"]]"
   ]
  },
  {
   "cell_type": "code",
   "execution_count": 4,
   "metadata": {},
   "outputs": [
    {
     "data": {
      "text/html": [
       "<div>\n",
       "<style scoped>\n",
       "    .dataframe tbody tr th:only-of-type {\n",
       "        vertical-align: middle;\n",
       "    }\n",
       "\n",
       "    .dataframe tbody tr th {\n",
       "        vertical-align: top;\n",
       "    }\n",
       "\n",
       "    .dataframe thead th {\n",
       "        text-align: right;\n",
       "    }\n",
       "</style>\n",
       "<table border=\"1\" class=\"dataframe\">\n",
       "  <thead>\n",
       "    <tr style=\"text-align: right;\">\n",
       "      <th></th>\n",
       "      <th>user_id</th>\n",
       "      <th>item_id</th>\n",
       "      <th>interest_score</th>\n",
       "    </tr>\n",
       "  </thead>\n",
       "  <tbody>\n",
       "    <tr>\n",
       "      <th>0</th>\n",
       "      <td>126706</td>\n",
       "      <td>14433</td>\n",
       "      <td>0.400</td>\n",
       "    </tr>\n",
       "    <tr>\n",
       "      <th>1</th>\n",
       "      <td>127290</td>\n",
       "      <td>140952</td>\n",
       "      <td>0.290</td>\n",
       "    </tr>\n",
       "    <tr>\n",
       "      <th>2</th>\n",
       "      <td>66991</td>\n",
       "      <td>198453</td>\n",
       "      <td>0.445</td>\n",
       "    </tr>\n",
       "    <tr>\n",
       "      <th>3</th>\n",
       "      <td>46791</td>\n",
       "      <td>83486</td>\n",
       "      <td>0.615</td>\n",
       "    </tr>\n",
       "    <tr>\n",
       "      <th>4</th>\n",
       "      <td>79313</td>\n",
       "      <td>188770</td>\n",
       "      <td>0.940</td>\n",
       "    </tr>\n",
       "    <tr>\n",
       "      <th>...</th>\n",
       "      <td>...</td>\n",
       "      <td>...</td>\n",
       "      <td>...</td>\n",
       "    </tr>\n",
       "    <tr>\n",
       "      <th>1532993</th>\n",
       "      <td>153908</td>\n",
       "      <td>98585</td>\n",
       "      <td>0.220</td>\n",
       "    </tr>\n",
       "    <tr>\n",
       "      <th>1532994</th>\n",
       "      <td>154008</td>\n",
       "      <td>251969</td>\n",
       "      <td>0.020</td>\n",
       "    </tr>\n",
       "    <tr>\n",
       "      <th>1532995</th>\n",
       "      <td>154892</td>\n",
       "      <td>298192</td>\n",
       "      <td>0.840</td>\n",
       "    </tr>\n",
       "    <tr>\n",
       "      <th>1532996</th>\n",
       "      <td>156948</td>\n",
       "      <td>38118</td>\n",
       "      <td>0.890</td>\n",
       "    </tr>\n",
       "    <tr>\n",
       "      <th>1532997</th>\n",
       "      <td>158041</td>\n",
       "      <td>208145</td>\n",
       "      <td>0.720</td>\n",
       "    </tr>\n",
       "  </tbody>\n",
       "</table>\n",
       "<p>1505202 rows × 3 columns</p>\n",
       "</div>"
      ],
      "text/plain": [
       "         user_id  item_id  interest_score\n",
       "0         126706    14433           0.400\n",
       "1         127290   140952           0.290\n",
       "2          66991   198453           0.445\n",
       "3          46791    83486           0.615\n",
       "4          79313   188770           0.940\n",
       "...          ...      ...             ...\n",
       "1532993   153908    98585           0.220\n",
       "1532994   154008   251969           0.020\n",
       "1532995   154892   298192           0.840\n",
       "1532996   156948    38118           0.890\n",
       "1532997   158041   208145           0.720\n",
       "\n",
       "[1505202 rows x 3 columns]"
      ]
     },
     "execution_count": 4,
     "metadata": {},
     "output_type": "execute_result"
    }
   ],
   "source": [
    "interactions.train"
   ]
  },
  {
   "cell_type": "code",
   "execution_count": 5,
   "metadata": {},
   "outputs": [
    {
     "data": {
      "text/html": [
       "<div>\n",
       "<style scoped>\n",
       "    .dataframe tbody tr th:only-of-type {\n",
       "        vertical-align: middle;\n",
       "    }\n",
       "\n",
       "    .dataframe tbody tr th {\n",
       "        vertical-align: top;\n",
       "    }\n",
       "\n",
       "    .dataframe thead th {\n",
       "        text-align: right;\n",
       "    }\n",
       "</style>\n",
       "<table border=\"1\" class=\"dataframe\">\n",
       "  <thead>\n",
       "    <tr style=\"text-align: right;\">\n",
       "      <th></th>\n",
       "      <th>user_id</th>\n",
       "      <th>item_id</th>\n",
       "      <th>interest_score</th>\n",
       "    </tr>\n",
       "  </thead>\n",
       "  <tbody>\n",
       "    <tr>\n",
       "      <th>1517914</th>\n",
       "      <td>38753</td>\n",
       "      <td>135245</td>\n",
       "      <td>0.000</td>\n",
       "    </tr>\n",
       "    <tr>\n",
       "      <th>1517915</th>\n",
       "      <td>101642</td>\n",
       "      <td>319500</td>\n",
       "      <td>0.835</td>\n",
       "    </tr>\n",
       "    <tr>\n",
       "      <th>1517916</th>\n",
       "      <td>13548</td>\n",
       "      <td>251184</td>\n",
       "      <td>0.000</td>\n",
       "    </tr>\n",
       "    <tr>\n",
       "      <th>1517917</th>\n",
       "      <td>130425</td>\n",
       "      <td>193445</td>\n",
       "      <td>0.490</td>\n",
       "    </tr>\n",
       "    <tr>\n",
       "      <th>1517918</th>\n",
       "      <td>93986</td>\n",
       "      <td>80733</td>\n",
       "      <td>0.235</td>\n",
       "    </tr>\n",
       "    <tr>\n",
       "      <th>...</th>\n",
       "      <td>...</td>\n",
       "      <td>...</td>\n",
       "      <td>...</td>\n",
       "    </tr>\n",
       "    <tr>\n",
       "      <th>1530838</th>\n",
       "      <td>141930</td>\n",
       "      <td>219928</td>\n",
       "      <td>0.450</td>\n",
       "    </tr>\n",
       "    <tr>\n",
       "      <th>1530839</th>\n",
       "      <td>53358</td>\n",
       "      <td>42887</td>\n",
       "      <td>0.290</td>\n",
       "    </tr>\n",
       "    <tr>\n",
       "      <th>1530840</th>\n",
       "      <td>151170</td>\n",
       "      <td>284652</td>\n",
       "      <td>0.135</td>\n",
       "    </tr>\n",
       "    <tr>\n",
       "      <th>1530841</th>\n",
       "      <td>141293</td>\n",
       "      <td>273421</td>\n",
       "      <td>0.240</td>\n",
       "    </tr>\n",
       "    <tr>\n",
       "      <th>1530842</th>\n",
       "      <td>65459</td>\n",
       "      <td>109030</td>\n",
       "      <td>0.365</td>\n",
       "    </tr>\n",
       "  </tbody>\n",
       "</table>\n",
       "<p>12929 rows × 3 columns</p>\n",
       "</div>"
      ],
      "text/plain": [
       "         user_id  item_id  interest_score\n",
       "1517914    38753   135245           0.000\n",
       "1517915   101642   319500           0.835\n",
       "1517916    13548   251184           0.000\n",
       "1517917   130425   193445           0.490\n",
       "1517918    93986    80733           0.235\n",
       "...          ...      ...             ...\n",
       "1530838   141930   219928           0.450\n",
       "1530839    53358    42887           0.290\n",
       "1530840   151170   284652           0.135\n",
       "1530841   141293   273421           0.240\n",
       "1530842    65459   109030           0.365\n",
       "\n",
       "[12929 rows x 3 columns]"
      ]
     },
     "execution_count": 5,
     "metadata": {},
     "output_type": "execute_result"
    }
   ],
   "source": [
    "interactions.test"
   ]
  },
  {
   "cell_type": "code",
   "execution_count": 6,
   "metadata": {},
   "outputs": [
    {
     "data": {
      "text/html": [
       "<div>\n",
       "<style scoped>\n",
       "    .dataframe tbody tr th:only-of-type {\n",
       "        vertical-align: middle;\n",
       "    }\n",
       "\n",
       "    .dataframe tbody tr th {\n",
       "        vertical-align: top;\n",
       "    }\n",
       "\n",
       "    .dataframe thead th {\n",
       "        text-align: right;\n",
       "    }\n",
       "</style>\n",
       "<table border=\"1\" class=\"dataframe\">\n",
       "  <thead>\n",
       "    <tr style=\"text-align: right;\">\n",
       "      <th></th>\n",
       "      <th>user_id</th>\n",
       "      <th>item_id</th>\n",
       "      <th>interest_score</th>\n",
       "    </tr>\n",
       "  </thead>\n",
       "  <tbody>\n",
       "    <tr>\n",
       "      <th>1503047</th>\n",
       "      <td>22032</td>\n",
       "      <td>287219</td>\n",
       "      <td>0.275</td>\n",
       "    </tr>\n",
       "    <tr>\n",
       "      <th>1503048</th>\n",
       "      <td>84214</td>\n",
       "      <td>121609</td>\n",
       "      <td>1.000</td>\n",
       "    </tr>\n",
       "    <tr>\n",
       "      <th>1503049</th>\n",
       "      <td>28992</td>\n",
       "      <td>11482</td>\n",
       "      <td>0.110</td>\n",
       "    </tr>\n",
       "    <tr>\n",
       "      <th>1503050</th>\n",
       "      <td>23345</td>\n",
       "      <td>281921</td>\n",
       "      <td>1.000</td>\n",
       "    </tr>\n",
       "    <tr>\n",
       "      <th>1503051</th>\n",
       "      <td>49466</td>\n",
       "      <td>2880</td>\n",
       "      <td>0.010</td>\n",
       "    </tr>\n",
       "    <tr>\n",
       "      <th>...</th>\n",
       "      <td>...</td>\n",
       "      <td>...</td>\n",
       "      <td>...</td>\n",
       "    </tr>\n",
       "    <tr>\n",
       "      <th>1517909</th>\n",
       "      <td>138587</td>\n",
       "      <td>291806</td>\n",
       "      <td>0.000</td>\n",
       "    </tr>\n",
       "    <tr>\n",
       "      <th>1517910</th>\n",
       "      <td>158991</td>\n",
       "      <td>99669</td>\n",
       "      <td>0.815</td>\n",
       "    </tr>\n",
       "    <tr>\n",
       "      <th>1517911</th>\n",
       "      <td>77232</td>\n",
       "      <td>142149</td>\n",
       "      <td>0.020</td>\n",
       "    </tr>\n",
       "    <tr>\n",
       "      <th>1517912</th>\n",
       "      <td>17843</td>\n",
       "      <td>174535</td>\n",
       "      <td>0.060</td>\n",
       "    </tr>\n",
       "    <tr>\n",
       "      <th>1517913</th>\n",
       "      <td>104746</td>\n",
       "      <td>55913</td>\n",
       "      <td>0.050</td>\n",
       "    </tr>\n",
       "  </tbody>\n",
       "</table>\n",
       "<p>14867 rows × 3 columns</p>\n",
       "</div>"
      ],
      "text/plain": [
       "         user_id  item_id  interest_score\n",
       "1503047    22032   287219           0.275\n",
       "1503048    84214   121609           1.000\n",
       "1503049    28992    11482           0.110\n",
       "1503050    23345   281921           1.000\n",
       "1503051    49466     2880           0.010\n",
       "...          ...      ...             ...\n",
       "1517909   138587   291806           0.000\n",
       "1517910   158991    99669           0.815\n",
       "1517911    77232   142149           0.020\n",
       "1517912    17843   174535           0.060\n",
       "1517913   104746    55913           0.050\n",
       "\n",
       "[14867 rows x 3 columns]"
      ]
     },
     "execution_count": 6,
     "metadata": {},
     "output_type": "execute_result"
    }
   ],
   "source": [
    "interactions.valid"
   ]
  },
  {
   "cell_type": "code",
   "execution_count": 7,
   "metadata": {},
   "outputs": [
    {
     "data": {
      "text/plain": [
       "<159613x321752 sparse matrix of type '<class 'numpy.float32'>'\n",
       "\twith 1505202 stored elements in Compressed Sparse Row format>"
      ]
     },
     "execution_count": 7,
     "metadata": {},
     "output_type": "execute_result"
    }
   ],
   "source": [
    "csr_train = csr_matrix(\n",
    "    (interactions.train[\"interest_score\"], \n",
    "    (interactions.train[\"user_id\"], interactions.train[\"item_id\"]))\n",
    ")\n",
    "csr_train"
   ]
  },
  {
   "cell_type": "code",
   "execution_count": 8,
   "metadata": {},
   "outputs": [],
   "source": [
    "class Objective:\n",
    "    def __init__(self, train: csr_matrix, valid: pd.DataFrame, metric: Callable):\n",
    "        self.train = train\n",
    "        self.valid = valid\n",
    "        self.metric = metric\n",
    "\n",
    "    def __call__(self, trial) -> float:\n",
    "        search_space = {\n",
    "            \"factors\": trial.suggest_int(\"factors\", 4, 256),\n",
    "            \"regularization\": trial.suggest_float(\"regularization\", 1e-8, 0.1),\n",
    "            \"iterations\": trial.suggest_int(\"iterations\", 8, 64)\n",
    "        }\n",
    "        model = AlternatingLeastSquares(**search_space)\n",
    "        model.fit(self.train)\n",
    "        predictions = pd.DataFrame(self.valid[\"user_id\"].drop_duplicates())\n",
    "        predictions[\"item_id\"] = predictions[\"user_id\"].apply(\n",
    "            lambda user_id: \n",
    "                model.recommend(\n",
    "                    user_id, \n",
    "                    self.train[user_id],\n",
    "                    N=Config.K,\n",
    "                    filter_already_liked_items=True\n",
    "                )[0]\n",
    "        )\n",
    "        predictions = predictions.explode(\"item_id\")\n",
    "        return self.valid[\"user_id\"].drop_duplicates().apply(\n",
    "            lambda user_id: \n",
    "                self.metric.calculate(\n",
    "                    predictions[predictions[\"user_id\"] == user_id][\"item_id\"],\n",
    "                    self.valid[self.valid[\"user_id\"] == user_id][\"item_id\"]\n",
    "                )\n",
    "        ).mean()"
   ]
  },
  {
   "cell_type": "code",
   "execution_count": 9,
   "metadata": {},
   "outputs": [],
   "source": [
    "recall = RecallAtK(Config.K)\n",
    "precision = PrecisionAtK(Config.K)\n",
    "fscore = FOneScoreAtK(Config.K)"
   ]
  },
  {
   "cell_type": "code",
   "execution_count": 10,
   "metadata": {},
   "outputs": [
    {
     "name": "stderr",
     "output_type": "stream",
     "text": [
      "\u001b[32m[I 2023-02-25 16:46:10,183]\u001b[0m A new study created in memory with name: ALS fscore maximize\u001b[0m\n",
      "/home/aveitsme/miniconda3/envs/core/lib/python3.10/site-packages/optuna/progress_bar.py:56: ExperimentalWarning: Progress bar is experimental (supported from v1.2.0). The interface can change in the future.\n",
      "  self._init_valid()\n"
     ]
    },
    {
     "data": {
      "application/vnd.jupyter.widget-view+json": {
       "model_id": "7cafe62d2d6a4a54ae4ed46c7cc9fae8",
       "version_major": 2,
       "version_minor": 0
      },
      "text/plain": [
       "  0%|          | 0/100 [00:00<?, ?it/s]"
      ]
     },
     "metadata": {},
     "output_type": "display_data"
    },
    {
     "data": {
      "application/vnd.jupyter.widget-view+json": {
       "model_id": "6d0638ad643e4748bdfb5d559fde2427",
       "version_major": 2,
       "version_minor": 0
      },
      "text/plain": [
       "  0%|          | 0/20 [00:00<?, ?it/s]"
      ]
     },
     "metadata": {},
     "output_type": "display_data"
    },
    {
     "name": "stdout",
     "output_type": "stream",
     "text": [
      "\u001b[32m[I 2023-02-25 16:46:31,008]\u001b[0m Trial 0 finished with value: 0.0037711276860178285 and parameters: {'factors': 224, 'regularization': 0.04394813418473055, 'iterations': 20}. Best is trial 0 with value: 0.0037711276860178285.\u001b[0m\n"
     ]
    },
    {
     "data": {
      "application/vnd.jupyter.widget-view+json": {
       "model_id": "9a44561c31fa466c86336628aab4879a",
       "version_major": 2,
       "version_minor": 0
      },
      "text/plain": [
       "  0%|          | 0/22 [00:00<?, ?it/s]"
      ]
     },
     "metadata": {},
     "output_type": "display_data"
    },
    {
     "name": "stdout",
     "output_type": "stream",
     "text": [
      "\u001b[32m[I 2023-02-25 16:46:41,627]\u001b[0m Trial 1 finished with value: 0.0021678296352911973 and parameters: {'factors': 44, 'regularization': 0.03795467007038043, 'iterations': 22}. Best is trial 0 with value: 0.0037711276860178285.\u001b[0m\n"
     ]
    },
    {
     "data": {
      "application/vnd.jupyter.widget-view+json": {
       "model_id": "7c65d531fcfb405ca8f4b5df3bc84edd",
       "version_major": 2,
       "version_minor": 0
      },
      "text/plain": [
       "  0%|          | 0/17 [00:00<?, ?it/s]"
      ]
     },
     "metadata": {},
     "output_type": "display_data"
    },
    {
     "name": "stdout",
     "output_type": "stream",
     "text": [
      "\u001b[32m[I 2023-02-25 16:46:50,989]\u001b[0m Trial 2 finished with value: 0.0016313797812854151 and parameters: {'factors': 23, 'regularization': 0.031215456035373786, 'iterations': 17}. Best is trial 0 with value: 0.0037711276860178285.\u001b[0m\n"
     ]
    },
    {
     "data": {
      "application/vnd.jupyter.widget-view+json": {
       "model_id": "09b572ed83ba46b28974f20a00465b8b",
       "version_major": 2,
       "version_minor": 0
      },
      "text/plain": [
       "  0%|          | 0/58 [00:00<?, ?it/s]"
      ]
     },
     "metadata": {},
     "output_type": "display_data"
    },
    {
     "name": "stdout",
     "output_type": "stream",
     "text": [
      "\u001b[32m[I 2023-02-25 16:47:13,985]\u001b[0m Trial 3 finished with value: 0.0030255666667356068 and parameters: {'factors': 161, 'regularization': 0.009269317369011362, 'iterations': 58}. Best is trial 0 with value: 0.0037711276860178285.\u001b[0m\n"
     ]
    },
    {
     "data": {
      "application/vnd.jupyter.widget-view+json": {
       "model_id": "6130082bd97340efb9de8806c2acb3c0",
       "version_major": 2,
       "version_minor": 0
      },
      "text/plain": [
       "  0%|          | 0/40 [00:00<?, ?it/s]"
      ]
     },
     "metadata": {},
     "output_type": "display_data"
    },
    {
     "name": "stdout",
     "output_type": "stream",
     "text": [
      "\u001b[32m[I 2023-02-25 16:47:25,278]\u001b[0m Trial 4 finished with value: 0.002291209620243109 and parameters: {'factors': 55, 'regularization': 0.09594610742585946, 'iterations': 40}. Best is trial 0 with value: 0.0037711276860178285.\u001b[0m\n"
     ]
    },
    {
     "data": {
      "application/vnd.jupyter.widget-view+json": {
       "model_id": "b1cf347f8f95436ab811430c8c9d77fa",
       "version_major": 2,
       "version_minor": 0
      },
      "text/plain": [
       "  0%|          | 0/60 [00:00<?, ?it/s]"
      ]
     },
     "metadata": {},
     "output_type": "display_data"
    },
    {
     "name": "stdout",
     "output_type": "stream",
     "text": [
      "\u001b[32m[I 2023-02-25 16:47:55,554]\u001b[0m Trial 5 finished with value: 0.0034058992229952733 and parameters: {'factors': 244, 'regularization': 0.0953590114735066, 'iterations': 60}. Best is trial 0 with value: 0.0037711276860178285.\u001b[0m\n"
     ]
    },
    {
     "data": {
      "application/vnd.jupyter.widget-view+json": {
       "model_id": "6e99a22db66c47c399e370c1d9680a93",
       "version_major": 2,
       "version_minor": 0
      },
      "text/plain": [
       "  0%|          | 0/47 [00:00<?, ?it/s]"
      ]
     },
     "metadata": {},
     "output_type": "display_data"
    },
    {
     "name": "stdout",
     "output_type": "stream",
     "text": [
      "\u001b[32m[I 2023-02-25 16:48:18,842]\u001b[0m Trial 6 finished with value: 0.0032168466476831968 and parameters: {'factors': 198, 'regularization': 0.014381722654009268, 'iterations': 47}. Best is trial 0 with value: 0.0037711276860178285.\u001b[0m\n"
     ]
    },
    {
     "data": {
      "application/vnd.jupyter.widget-view+json": {
       "model_id": "653061716190413c9934b32318883897",
       "version_major": 2,
       "version_minor": 0
      },
      "text/plain": [
       "  0%|          | 0/21 [00:00<?, ?it/s]"
      ]
     },
     "metadata": {},
     "output_type": "display_data"
    },
    {
     "name": "stdout",
     "output_type": "stream",
     "text": [
      "\u001b[32m[I 2023-02-25 16:48:34,460]\u001b[0m Trial 7 finished with value: 0.0033062889448347605 and parameters: {'factors': 135, 'regularization': 0.06930429480496277, 'iterations': 21}. Best is trial 0 with value: 0.0037711276860178285.\u001b[0m\n"
     ]
    },
    {
     "data": {
      "application/vnd.jupyter.widget-view+json": {
       "model_id": "3670a487d745417a9bdaac7a681b1345",
       "version_major": 2,
       "version_minor": 0
      },
      "text/plain": [
       "  0%|          | 0/54 [00:00<?, ?it/s]"
      ]
     },
     "metadata": {},
     "output_type": "display_data"
    },
    {
     "name": "stdout",
     "output_type": "stream",
     "text": [
      "\u001b[32m[I 2023-02-25 16:49:03,453]\u001b[0m Trial 8 finished with value: 0.0034795565191488883 and parameters: {'factors': 249, 'regularization': 0.09930492856650443, 'iterations': 54}. Best is trial 0 with value: 0.0037711276860178285.\u001b[0m\n"
     ]
    },
    {
     "data": {
      "application/vnd.jupyter.widget-view+json": {
       "model_id": "b6a7a9affb7f495eba8a5e7a32201482",
       "version_major": 2,
       "version_minor": 0
      },
      "text/plain": [
       "  0%|          | 0/39 [00:00<?, ?it/s]"
      ]
     },
     "metadata": {},
     "output_type": "display_data"
    },
    {
     "name": "stdout",
     "output_type": "stream",
     "text": [
      "\u001b[32m[I 2023-02-25 16:49:22,372]\u001b[0m Trial 9 finished with value: 0.0029883595018775373 and parameters: {'factors': 134, 'regularization': 0.029618739061623132, 'iterations': 39}. Best is trial 0 with value: 0.0037711276860178285.\u001b[0m\n"
     ]
    },
    {
     "data": {
      "application/vnd.jupyter.widget-view+json": {
       "model_id": "ae2fb2367528479a8712c207af09c524",
       "version_major": 2,
       "version_minor": 0
      },
      "text/plain": [
       "  0%|          | 0/8 [00:00<?, ?it/s]"
      ]
     },
     "metadata": {},
     "output_type": "display_data"
    },
    {
     "name": "stdout",
     "output_type": "stream",
     "text": [
      "\u001b[32m[I 2023-02-25 16:49:38,588]\u001b[0m Trial 10 finished with value: 0.0036963853394575423 and parameters: {'factors': 196, 'regularization': 0.06063412065073561, 'iterations': 8}. Best is trial 0 with value: 0.0037711276860178285.\u001b[0m\n"
     ]
    },
    {
     "data": {
      "application/vnd.jupyter.widget-view+json": {
       "model_id": "2a9feab416d14b55ac0505b08724ca9a",
       "version_major": 2,
       "version_minor": 0
      },
      "text/plain": [
       "  0%|          | 0/10 [00:00<?, ?it/s]"
      ]
     },
     "metadata": {},
     "output_type": "display_data"
    },
    {
     "name": "stdout",
     "output_type": "stream",
     "text": [
      "\u001b[32m[I 2023-02-25 16:49:55,725]\u001b[0m Trial 11 finished with value: 0.00370612205456235 and parameters: {'factors': 201, 'regularization': 0.055871196042856106, 'iterations': 10}. Best is trial 0 with value: 0.0037711276860178285.\u001b[0m\n"
     ]
    },
    {
     "data": {
      "application/vnd.jupyter.widget-view+json": {
       "model_id": "99a2c20770544378892eba1d45dd530c",
       "version_major": 2,
       "version_minor": 0
      },
      "text/plain": [
       "  0%|          | 0/9 [00:00<?, ?it/s]"
      ]
     },
     "metadata": {},
     "output_type": "display_data"
    },
    {
     "name": "stdout",
     "output_type": "stream",
     "text": [
      "\u001b[32m[I 2023-02-25 16:50:12,893]\u001b[0m Trial 12 finished with value: 0.0038953871612066463 and parameters: {'factors': 202, 'regularization': 0.05003965593477887, 'iterations': 9}. Best is trial 12 with value: 0.0038953871612066463.\u001b[0m\n"
     ]
    },
    {
     "data": {
      "application/vnd.jupyter.widget-view+json": {
       "model_id": "cf9160cb875c4c97a9769002cb8913d9",
       "version_major": 2,
       "version_minor": 0
      },
      "text/plain": [
       "  0%|          | 0/30 [00:00<?, ?it/s]"
      ]
     },
     "metadata": {},
     "output_type": "display_data"
    },
    {
     "name": "stdout",
     "output_type": "stream",
     "text": [
      "\u001b[32m[I 2023-02-25 16:50:26,198]\u001b[0m Trial 13 finished with value: 0.0027365103603573583 and parameters: {'factors': 90, 'regularization': 0.04518704126160224, 'iterations': 30}. Best is trial 12 with value: 0.0038953871612066463.\u001b[0m\n"
     ]
    },
    {
     "data": {
      "application/vnd.jupyter.widget-view+json": {
       "model_id": "fc806e82dbcb4b8290cec74cdc449667",
       "version_major": 2,
       "version_minor": 0
      },
      "text/plain": [
       "  0%|          | 0/29 [00:00<?, ?it/s]"
      ]
     },
     "metadata": {},
     "output_type": "display_data"
    },
    {
     "name": "stdout",
     "output_type": "stream",
     "text": [
      "\u001b[32m[I 2023-02-25 16:50:48,189]\u001b[0m Trial 14 finished with value: 0.0035138789923005133 and parameters: {'factors': 223, 'regularization': 0.06942577069977496, 'iterations': 29}. Best is trial 12 with value: 0.0038953871612066463.\u001b[0m\n"
     ]
    },
    {
     "data": {
      "application/vnd.jupyter.widget-view+json": {
       "model_id": "88fb5b7cf5b64587be432e2056e00356",
       "version_major": 2,
       "version_minor": 0
      },
      "text/plain": [
       "  0%|          | 0/14 [00:00<?, ?it/s]"
      ]
     },
     "metadata": {},
     "output_type": "display_data"
    },
    {
     "name": "stdout",
     "output_type": "stream",
     "text": [
      "\u001b[32m[I 2023-02-25 16:51:04,704]\u001b[0m Trial 15 finished with value: 0.003659895134250221 and parameters: {'factors': 178, 'regularization': 0.0437687058459858, 'iterations': 14}. Best is trial 12 with value: 0.0038953871612066463.\u001b[0m\n"
     ]
    },
    {
     "data": {
      "application/vnd.jupyter.widget-view+json": {
       "model_id": "f1302f83563a4ea7970504512dfd4b5a",
       "version_major": 2,
       "version_minor": 0
      },
      "text/plain": [
       "  0%|          | 0/28 [00:00<?, ?it/s]"
      ]
     },
     "metadata": {},
     "output_type": "display_data"
    },
    {
     "name": "stdout",
     "output_type": "stream",
     "text": [
      "\u001b[32m[I 2023-02-25 16:51:26,998]\u001b[0m Trial 16 finished with value: 0.003530291297618324 and parameters: {'factors': 225, 'regularization': 0.02249098631621895, 'iterations': 28}. Best is trial 12 with value: 0.0038953871612066463.\u001b[0m\n"
     ]
    },
    {
     "data": {
      "application/vnd.jupyter.widget-view+json": {
       "model_id": "d2e85c16cb124e608d082ea7eeebf491",
       "version_major": 2,
       "version_minor": 0
      },
      "text/plain": [
       "  0%|          | 0/17 [00:00<?, ?it/s]"
      ]
     },
     "metadata": {},
     "output_type": "display_data"
    },
    {
     "name": "stdout",
     "output_type": "stream",
     "text": [
      "\u001b[32m[I 2023-02-25 16:51:46,487]\u001b[0m Trial 17 finished with value: 0.003479150908661371 and parameters: {'factors': 161, 'regularization': 0.052011257408706435, 'iterations': 17}. Best is trial 12 with value: 0.0038953871612066463.\u001b[0m\n"
     ]
    },
    {
     "data": {
      "application/vnd.jupyter.widget-view+json": {
       "model_id": "ce537d3e79354494afcc0aa0d87c8ae0",
       "version_major": 2,
       "version_minor": 0
      },
      "text/plain": [
       "  0%|          | 0/23 [00:00<?, ?it/s]"
      ]
     },
     "metadata": {},
     "output_type": "display_data"
    },
    {
     "name": "stdout",
     "output_type": "stream",
     "text": [
      "\u001b[32m[I 2023-02-25 16:52:01,456]\u001b[0m Trial 18 finished with value: 0.0029970029441861086 and parameters: {'factors': 101, 'regularization': 0.03723093572372116, 'iterations': 23}. Best is trial 12 with value: 0.0038953871612066463.\u001b[0m\n"
     ]
    },
    {
     "data": {
      "application/vnd.jupyter.widget-view+json": {
       "model_id": "5794b44430f4429d9f374785b574c628",
       "version_major": 2,
       "version_minor": 0
      },
      "text/plain": [
       "  0%|          | 0/12 [00:00<?, ?it/s]"
      ]
     },
     "metadata": {},
     "output_type": "display_data"
    },
    {
     "name": "stdout",
     "output_type": "stream",
     "text": [
      "\u001b[32m[I 2023-02-25 16:52:20,078]\u001b[0m Trial 19 finished with value: 0.0038487257213577746 and parameters: {'factors': 220, 'regularization': 0.0009570907264827705, 'iterations': 12}. Best is trial 12 with value: 0.0038953871612066463.\u001b[0m\n"
     ]
    },
    {
     "data": {
      "application/vnd.jupyter.widget-view+json": {
       "model_id": "d490cc620ced4315b5a1351981986ea9",
       "version_major": 2,
       "version_minor": 0
      },
      "text/plain": [
       "  0%|          | 0/11 [00:00<?, ?it/s]"
      ]
     },
     "metadata": {},
     "output_type": "display_data"
    },
    {
     "name": "stdout",
     "output_type": "stream",
     "text": [
      "\u001b[32m[I 2023-02-25 16:52:36,513]\u001b[0m Trial 20 finished with value: 0.00352043735570921 and parameters: {'factors': 160, 'regularization': 0.00389744463790596, 'iterations': 11}. Best is trial 12 with value: 0.0038953871612066463.\u001b[0m\n"
     ]
    },
    {
     "data": {
      "application/vnd.jupyter.widget-view+json": {
       "model_id": "7407dc1d948b46cc915d989de2027127",
       "version_major": 2,
       "version_minor": 0
      },
      "text/plain": [
       "  0%|          | 0/17 [00:00<?, ?it/s]"
      ]
     },
     "metadata": {},
     "output_type": "display_data"
    },
    {
     "name": "stdout",
     "output_type": "stream",
     "text": [
      "\u001b[32m[I 2023-02-25 16:52:56,163]\u001b[0m Trial 21 finished with value: 0.003741202494812757 and parameters: {'factors': 223, 'regularization': 0.01768231994341553, 'iterations': 17}. Best is trial 12 with value: 0.0038953871612066463.\u001b[0m\n"
     ]
    },
    {
     "data": {
      "application/vnd.jupyter.widget-view+json": {
       "model_id": "cdde4e65a13c4eab968b0871ec6a660f",
       "version_major": 2,
       "version_minor": 0
      },
      "text/plain": [
       "  0%|          | 0/8 [00:00<?, ?it/s]"
      ]
     },
     "metadata": {},
     "output_type": "display_data"
    },
    {
     "name": "stdout",
     "output_type": "stream",
     "text": [
      "\u001b[32m[I 2023-02-25 16:53:15,448]\u001b[0m Trial 22 finished with value: 0.004119656087899378 and parameters: {'factors': 249, 'regularization': 0.022900050791574235, 'iterations': 8}. Best is trial 22 with value: 0.004119656087899378.\u001b[0m\n"
     ]
    },
    {
     "data": {
      "application/vnd.jupyter.widget-view+json": {
       "model_id": "b352a08b6e14416aa3ae5d10c8695f70",
       "version_major": 2,
       "version_minor": 0
      },
      "text/plain": [
       "  0%|          | 0/8 [00:00<?, ?it/s]"
      ]
     },
     "metadata": {},
     "output_type": "display_data"
    },
    {
     "name": "stdout",
     "output_type": "stream",
     "text": [
      "\u001b[32m[I 2023-02-25 16:53:34,342]\u001b[0m Trial 23 finished with value: 0.004055502557400192 and parameters: {'factors': 249, 'regularization': 0.0023609876042906723, 'iterations': 8}. Best is trial 22 with value: 0.004119656087899378.\u001b[0m\n"
     ]
    },
    {
     "data": {
      "application/vnd.jupyter.widget-view+json": {
       "model_id": "b03d7d742cfd4e659e183e03c42ddd31",
       "version_major": 2,
       "version_minor": 0
      },
      "text/plain": [
       "  0%|          | 0/8 [00:00<?, ?it/s]"
      ]
     },
     "metadata": {},
     "output_type": "display_data"
    },
    {
     "name": "stdout",
     "output_type": "stream",
     "text": [
      "\u001b[32m[I 2023-02-25 16:53:53,713]\u001b[0m Trial 24 finished with value: 0.004166360059091773 and parameters: {'factors': 249, 'regularization': 0.00913256292268738, 'iterations': 8}. Best is trial 24 with value: 0.004166360059091773.\u001b[0m\n"
     ]
    },
    {
     "data": {
      "application/vnd.jupyter.widget-view+json": {
       "model_id": "b848bb082e9a405f97cee3bcfcd98cfa",
       "version_major": 2,
       "version_minor": 0
      },
      "text/plain": [
       "  0%|          | 0/13 [00:00<?, ?it/s]"
      ]
     },
     "metadata": {},
     "output_type": "display_data"
    },
    {
     "name": "stdout",
     "output_type": "stream",
     "text": [
      "\u001b[32m[I 2023-02-25 16:54:14,381]\u001b[0m Trial 25 finished with value: 0.004110651693519981 and parameters: {'factors': 248, 'regularization': 0.009011927998720921, 'iterations': 13}. Best is trial 24 with value: 0.004166360059091773.\u001b[0m\n"
     ]
    },
    {
     "data": {
      "application/vnd.jupyter.widget-view+json": {
       "model_id": "aa256905f7c746578f6f154a51021eee",
       "version_major": 2,
       "version_minor": 0
      },
      "text/plain": [
       "  0%|          | 0/15 [00:00<?, ?it/s]"
      ]
     },
     "metadata": {},
     "output_type": "display_data"
    },
    {
     "name": "stdout",
     "output_type": "stream",
     "text": [
      "\u001b[32m[I 2023-02-25 16:54:35,797]\u001b[0m Trial 26 finished with value: 0.0037823828562700214 and parameters: {'factors': 245, 'regularization': 0.010112379320506711, 'iterations': 15}. Best is trial 24 with value: 0.004166360059091773.\u001b[0m\n"
     ]
    },
    {
     "data": {
      "application/vnd.jupyter.widget-view+json": {
       "model_id": "c404124d0d184a868595ee6e445b2870",
       "version_major": 2,
       "version_minor": 0
      },
      "text/plain": [
       "  0%|          | 0/25 [00:00<?, ?it/s]"
      ]
     },
     "metadata": {},
     "output_type": "display_data"
    },
    {
     "name": "stdout",
     "output_type": "stream",
     "text": [
      "\u001b[32m[I 2023-02-25 16:54:59,995]\u001b[0m Trial 27 finished with value: 0.00383862184957877 and parameters: {'factors': 255, 'regularization': 0.0218003209509977, 'iterations': 25}. Best is trial 24 with value: 0.004166360059091773.\u001b[0m\n"
     ]
    },
    {
     "data": {
      "application/vnd.jupyter.widget-view+json": {
       "model_id": "684941d55a2144ed9ba6e50789d672e3",
       "version_major": 2,
       "version_minor": 0
      },
      "text/plain": [
       "  0%|          | 0/33 [00:00<?, ?it/s]"
      ]
     },
     "metadata": {},
     "output_type": "display_data"
    },
    {
     "name": "stdout",
     "output_type": "stream",
     "text": [
      "\u001b[32m[I 2023-02-25 16:55:23,615]\u001b[0m Trial 28 finished with value: 0.0035249386518752916 and parameters: {'factors': 234, 'regularization': 0.01156622853036432, 'iterations': 33}. Best is trial 24 with value: 0.004166360059091773.\u001b[0m\n"
     ]
    },
    {
     "data": {
      "application/vnd.jupyter.widget-view+json": {
       "model_id": "0453526467ba4859a1eb69d7fb49fbd1",
       "version_major": 2,
       "version_minor": 0
      },
      "text/plain": [
       "  0%|          | 0/18 [00:00<?, ?it/s]"
      ]
     },
     "metadata": {},
     "output_type": "display_data"
    },
    {
     "name": "stdout",
     "output_type": "stream",
     "text": [
      "\u001b[32m[I 2023-02-25 16:55:43,157]\u001b[0m Trial 29 finished with value: 0.003681692471669809 and parameters: {'factors': 206, 'regularization': 0.020381977210020285, 'iterations': 18}. Best is trial 24 with value: 0.004166360059091773.\u001b[0m\n"
     ]
    },
    {
     "data": {
      "application/vnd.jupyter.widget-view+json": {
       "model_id": "e247d0dbaadd470ba913695454cd2565",
       "version_major": 2,
       "version_minor": 0
      },
      "text/plain": [
       "  0%|          | 0/15 [00:00<?, ?it/s]"
      ]
     },
     "metadata": {},
     "output_type": "display_data"
    },
    {
     "name": "stdout",
     "output_type": "stream",
     "text": [
      "\u001b[32m[I 2023-02-25 16:55:59,612]\u001b[0m Trial 30 finished with value: 0.003521113977579029 and parameters: {'factors': 180, 'regularization': 0.006477319396331343, 'iterations': 15}. Best is trial 24 with value: 0.004166360059091773.\u001b[0m\n"
     ]
    },
    {
     "data": {
      "application/vnd.jupyter.widget-view+json": {
       "model_id": "7bf4b369697a462caf75c6b20fa8edb8",
       "version_major": 2,
       "version_minor": 0
      },
      "text/plain": [
       "  0%|          | 0/8 [00:00<?, ?it/s]"
      ]
     },
     "metadata": {},
     "output_type": "display_data"
    },
    {
     "name": "stdout",
     "output_type": "stream",
     "text": [
      "\u001b[32m[I 2023-02-25 16:56:17,914]\u001b[0m Trial 31 finished with value: 0.004002724631333153 and parameters: {'factors': 233, 'regularization': 0.003279223109364165, 'iterations': 8}. Best is trial 24 with value: 0.004166360059091773.\u001b[0m\n"
     ]
    },
    {
     "data": {
      "application/vnd.jupyter.widget-view+json": {
       "model_id": "599a94b96b2b47e1aa72a56a660cb54b",
       "version_major": 2,
       "version_minor": 0
      },
      "text/plain": [
       "  0%|          | 0/12 [00:00<?, ?it/s]"
      ]
     },
     "metadata": {},
     "output_type": "display_data"
    },
    {
     "name": "stdout",
     "output_type": "stream",
     "text": [
      "\u001b[32m[I 2023-02-25 16:56:39,156]\u001b[0m Trial 32 finished with value: 0.0040411251046142595 and parameters: {'factors': 251, 'regularization': 0.00038512999450197394, 'iterations': 12}. Best is trial 24 with value: 0.004166360059091773.\u001b[0m\n"
     ]
    },
    {
     "data": {
      "application/vnd.jupyter.widget-view+json": {
       "model_id": "3c42eafadfa443a881fb9212efa51c1b",
       "version_major": 2,
       "version_minor": 0
      },
      "text/plain": [
       "  0%|          | 0/8 [00:00<?, ?it/s]"
      ]
     },
     "metadata": {},
     "output_type": "display_data"
    },
    {
     "name": "stdout",
     "output_type": "stream",
     "text": [
      "\u001b[32m[I 2023-02-25 16:56:57,631]\u001b[0m Trial 33 finished with value: 0.004062504969025656 and parameters: {'factors': 239, 'regularization': 0.014112859896404917, 'iterations': 8}. Best is trial 24 with value: 0.004166360059091773.\u001b[0m\n"
     ]
    },
    {
     "data": {
      "application/vnd.jupyter.widget-view+json": {
       "model_id": "befa39ae611f49a5896df0ab04e5a975",
       "version_major": 2,
       "version_minor": 0
      },
      "text/plain": [
       "  0%|          | 0/13 [00:00<?, ?it/s]"
      ]
     },
     "metadata": {},
     "output_type": "display_data"
    },
    {
     "name": "stdout",
     "output_type": "stream",
     "text": [
      "\u001b[32m[I 2023-02-25 16:57:38,182]\u001b[0m Trial 34 finished with value: 0.0037559422406616607 and parameters: {'factors': 216, 'regularization': 0.015958975709651907, 'iterations': 13}. Best is trial 24 with value: 0.004166360059091773.\u001b[0m\n"
     ]
    },
    {
     "data": {
      "application/vnd.jupyter.widget-view+json": {
       "model_id": "d647f9768f444454a7b6c8ae6902312f",
       "version_major": 2,
       "version_minor": 0
      },
      "text/plain": [
       "  0%|          | 0/19 [00:00<?, ?it/s]"
      ]
     },
     "metadata": {},
     "output_type": "display_data"
    },
    {
     "name": "stdout",
     "output_type": "stream",
     "text": [
      "\u001b[32m[I 2023-02-25 16:59:36,089]\u001b[0m Trial 35 finished with value: 0.003673891137245022 and parameters: {'factors': 236, 'regularization': 0.010734742516410132, 'iterations': 19}. Best is trial 24 with value: 0.004166360059091773.\u001b[0m\n"
     ]
    },
    {
     "data": {
      "application/vnd.jupyter.widget-view+json": {
       "model_id": "3f4ecc2bb1204a568dfdee3e6d8ea5f2",
       "version_major": 2,
       "version_minor": 0
      },
      "text/plain": [
       "  0%|          | 0/25 [00:00<?, ?it/s]"
      ]
     },
     "metadata": {},
     "output_type": "display_data"
    },
    {
     "name": "stdout",
     "output_type": "stream",
     "text": [
      "\u001b[32m[I 2023-02-25 17:01:00,400]\u001b[0m Trial 36 finished with value: 0.003391341396929664 and parameters: {'factors': 183, 'regularization': 0.026657105216099444, 'iterations': 25}. Best is trial 24 with value: 0.004166360059091773.\u001b[0m\n"
     ]
    },
    {
     "data": {
      "application/vnd.jupyter.widget-view+json": {
       "model_id": "2a80ed3f339744469d2b3886565e2b75",
       "version_major": 2,
       "version_minor": 0
      },
      "text/plain": [
       "  0%|          | 0/14 [00:00<?, ?it/s]"
      ]
     },
     "metadata": {},
     "output_type": "display_data"
    },
    {
     "name": "stdout",
     "output_type": "stream",
     "text": [
      "\u001b[32m[I 2023-02-25 17:01:20,056]\u001b[0m Trial 37 finished with value: 0.001712540503010224 and parameters: {'factors': 26, 'regularization': 0.015615250753531117, 'iterations': 14}. Best is trial 24 with value: 0.004166360059091773.\u001b[0m\n"
     ]
    },
    {
     "data": {
      "application/vnd.jupyter.widget-view+json": {
       "model_id": "606526454f714e7aae46a24c0d226678",
       "version_major": 2,
       "version_minor": 0
      },
      "text/plain": [
       "  0%|          | 0/46 [00:00<?, ?it/s]"
      ]
     },
     "metadata": {},
     "output_type": "display_data"
    },
    {
     "name": "stdout",
     "output_type": "stream",
     "text": [
      "\u001b[32m[I 2023-02-25 17:01:48,949]\u001b[0m Trial 38 finished with value: 0.003453419184688233 and parameters: {'factors': 236, 'regularization': 0.007851710542025601, 'iterations': 46}. Best is trial 24 with value: 0.004166360059091773.\u001b[0m\n"
     ]
    },
    {
     "data": {
      "application/vnd.jupyter.widget-view+json": {
       "model_id": "76396595bca8402a8752465d6083841c",
       "version_major": 2,
       "version_minor": 0
      },
      "text/plain": [
       "  0%|          | 0/21 [00:00<?, ?it/s]"
      ]
     },
     "metadata": {},
     "output_type": "display_data"
    },
    {
     "name": "stdout",
     "output_type": "stream",
     "text": [
      "\u001b[32m[I 2023-02-25 17:02:10,827]\u001b[0m Trial 39 finished with value: 0.0037264170253526498 and parameters: {'factors': 256, 'regularization': 0.026320497155938673, 'iterations': 21}. Best is trial 24 with value: 0.004166360059091773.\u001b[0m\n"
     ]
    },
    {
     "data": {
      "application/vnd.jupyter.widget-view+json": {
       "model_id": "87926d64e36d4905a2d95ab4ec9ddccc",
       "version_major": 2,
       "version_minor": 0
      },
      "text/plain": [
       "  0%|          | 0/11 [00:00<?, ?it/s]"
      ]
     },
     "metadata": {},
     "output_type": "display_data"
    },
    {
     "name": "stdout",
     "output_type": "stream",
     "text": [
      "\u001b[32m[I 2023-02-25 17:02:29,745]\u001b[0m Trial 40 finished with value: 0.0038881049685418937 and parameters: {'factors': 214, 'regularization': 0.013431169241718176, 'iterations': 11}. Best is trial 24 with value: 0.004166360059091773.\u001b[0m\n"
     ]
    },
    {
     "data": {
      "application/vnd.jupyter.widget-view+json": {
       "model_id": "da42bf0b979e4dfd94756ab44fe96270",
       "version_major": 2,
       "version_minor": 0
      },
      "text/plain": [
       "  0%|          | 0/8 [00:00<?, ?it/s]"
      ]
     },
     "metadata": {},
     "output_type": "display_data"
    },
    {
     "name": "stdout",
     "output_type": "stream",
     "text": [
      "\u001b[32m[I 2023-02-25 17:02:49,009]\u001b[0m Trial 41 finished with value: 0.004258197826611783 and parameters: {'factors': 239, 'regularization': 0.0075828654164829135, 'iterations': 8}. Best is trial 41 with value: 0.004258197826611783.\u001b[0m\n"
     ]
    },
    {
     "data": {
      "application/vnd.jupyter.widget-view+json": {
       "model_id": "d103ae6a6c5c4b2fab47962939a25e33",
       "version_major": 2,
       "version_minor": 0
      },
      "text/plain": [
       "  0%|          | 0/64 [00:00<?, ?it/s]"
      ]
     },
     "metadata": {},
     "output_type": "display_data"
    },
    {
     "name": "stdout",
     "output_type": "stream",
     "text": [
      "\u001b[32m[I 2023-02-25 17:03:19,525]\u001b[0m Trial 42 finished with value: 0.0033913291137183782 and parameters: {'factors': 237, 'regularization': 0.007099351459082101, 'iterations': 64}. Best is trial 41 with value: 0.004258197826611783.\u001b[0m\n"
     ]
    },
    {
     "data": {
      "application/vnd.jupyter.widget-view+json": {
       "model_id": "f00e646229144764ac99071e61f642c8",
       "version_major": 2,
       "version_minor": 0
      },
      "text/plain": [
       "  0%|          | 0/8 [00:00<?, ?it/s]"
      ]
     },
     "metadata": {},
     "output_type": "display_data"
    },
    {
     "name": "stdout",
     "output_type": "stream",
     "text": [
      "\u001b[32m[I 2023-02-25 17:03:37,652]\u001b[0m Trial 43 finished with value: 0.0038243656505640893 and parameters: {'factors': 211, 'regularization': 0.018207936094893726, 'iterations': 8}. Best is trial 41 with value: 0.004258197826611783.\u001b[0m\n"
     ]
    },
    {
     "data": {
      "application/vnd.jupyter.widget-view+json": {
       "model_id": "b6d506d092b6454bb067a77aeb435bb7",
       "version_major": 2,
       "version_minor": 0
      },
      "text/plain": [
       "  0%|          | 0/11 [00:00<?, ?it/s]"
      ]
     },
     "metadata": {},
     "output_type": "display_data"
    },
    {
     "name": "stdout",
     "output_type": "stream",
     "text": [
      "\u001b[32m[I 2023-02-25 17:03:55,091]\u001b[0m Trial 44 finished with value: 0.0036221450438455195 and parameters: {'factors': 189, 'regularization': 0.012552744424817883, 'iterations': 11}. Best is trial 41 with value: 0.004258197826611783.\u001b[0m\n"
     ]
    },
    {
     "data": {
      "application/vnd.jupyter.widget-view+json": {
       "model_id": "ef3325e87d3448a8b16effd575c1bf92",
       "version_major": 2,
       "version_minor": 0
      },
      "text/plain": [
       "  0%|          | 0/15 [00:00<?, ?it/s]"
      ]
     },
     "metadata": {},
     "output_type": "display_data"
    },
    {
     "name": "stdout",
     "output_type": "stream",
     "text": [
      "\u001b[32m[I 2023-02-25 17:04:16,267]\u001b[0m Trial 45 finished with value: 0.003912193414167723 and parameters: {'factors': 256, 'regularization': 0.00763340853147295, 'iterations': 15}. Best is trial 41 with value: 0.004258197826611783.\u001b[0m\n"
     ]
    },
    {
     "data": {
      "application/vnd.jupyter.widget-view+json": {
       "model_id": "4095dda7d9e24c0481c7880a17835279",
       "version_major": 2,
       "version_minor": 0
      },
      "text/plain": [
       "  0%|          | 0/10 [00:00<?, ?it/s]"
      ]
     },
     "metadata": {},
     "output_type": "display_data"
    },
    {
     "name": "stdout",
     "output_type": "stream",
     "text": [
      "\u001b[32m[I 2023-02-25 17:04:28,172]\u001b[0m Trial 46 finished with value: 0.0029532183899235805 and parameters: {'factors': 84, 'regularization': 0.02332680371799576, 'iterations': 10}. Best is trial 41 with value: 0.004258197826611783.\u001b[0m\n"
     ]
    },
    {
     "data": {
      "application/vnd.jupyter.widget-view+json": {
       "model_id": "2455d4fd28a8482abb71490f2be61ca7",
       "version_major": 2,
       "version_minor": 0
      },
      "text/plain": [
       "  0%|          | 0/46 [00:00<?, ?it/s]"
      ]
     },
     "metadata": {},
     "output_type": "display_data"
    },
    {
     "name": "stdout",
     "output_type": "stream",
     "text": [
      "\u001b[32m[I 2023-02-25 17:04:43,944]\u001b[0m Trial 47 finished with value: 0.002788453819836693 and parameters: {'factors': 116, 'regularization': 0.0322712629782876, 'iterations': 46}. Best is trial 41 with value: 0.004258197826611783.\u001b[0m\n"
     ]
    },
    {
     "data": {
      "application/vnd.jupyter.widget-view+json": {
       "model_id": "34c2c6ba2d574e3b857eb16c5bec7a3e",
       "version_major": 2,
       "version_minor": 0
      },
      "text/plain": [
       "  0%|          | 0/20 [00:00<?, ?it/s]"
      ]
     },
     "metadata": {},
     "output_type": "display_data"
    },
    {
     "name": "stdout",
     "output_type": "stream",
     "text": [
      "\u001b[32m[I 2023-02-25 17:04:55,315]\u001b[0m Trial 48 finished with value: 0.0025261051495403327 and parameters: {'factors': 60, 'regularization': 0.016282335245547383, 'iterations': 20}. Best is trial 41 with value: 0.004258197826611783.\u001b[0m\n"
     ]
    },
    {
     "data": {
      "application/vnd.jupyter.widget-view+json": {
       "model_id": "389203682cf74df696f4362407d3960f",
       "version_major": 2,
       "version_minor": 0
      },
      "text/plain": [
       "  0%|          | 0/8 [00:00<?, ?it/s]"
      ]
     },
     "metadata": {},
     "output_type": "display_data"
    },
    {
     "name": "stdout",
     "output_type": "stream",
     "text": [
      "\u001b[32m[I 2023-02-25 17:05:09,341]\u001b[0m Trial 49 finished with value: 0.0034065947930243 and parameters: {'factors': 144, 'regularization': 0.005831922436686842, 'iterations': 8}. Best is trial 41 with value: 0.004258197826611783.\u001b[0m\n"
     ]
    },
    {
     "data": {
      "application/vnd.jupyter.widget-view+json": {
       "model_id": "6a02315e7c784306a48cfb0e42197643",
       "version_major": 2,
       "version_minor": 0
      },
      "text/plain": [
       "  0%|          | 0/41 [00:00<?, ?it/s]"
      ]
     },
     "metadata": {},
     "output_type": "display_data"
    },
    {
     "name": "stdout",
     "output_type": "stream",
     "text": [
      "\u001b[32m[I 2023-02-25 17:05:33,552]\u001b[0m Trial 50 finished with value: 0.003500085414445833 and parameters: {'factors': 228, 'regularization': 0.012354274123734405, 'iterations': 41}. Best is trial 41 with value: 0.004258197826611783.\u001b[0m\n"
     ]
    },
    {
     "data": {
      "application/vnd.jupyter.widget-view+json": {
       "model_id": "221d9a5bd6d74b5eb9767763084627d8",
       "version_major": 2,
       "version_minor": 0
      },
      "text/plain": [
       "  0%|          | 0/8 [00:00<?, ?it/s]"
      ]
     },
     "metadata": {},
     "output_type": "display_data"
    },
    {
     "name": "stdout",
     "output_type": "stream",
     "text": [
      "\u001b[32m[I 2023-02-25 17:05:52,432]\u001b[0m Trial 51 finished with value: 0.004144060770271455 and parameters: {'factors': 244, 'regularization': 0.002573643236208547, 'iterations': 8}. Best is trial 41 with value: 0.004258197826611783.\u001b[0m\n"
     ]
    },
    {
     "data": {
      "application/vnd.jupyter.widget-view+json": {
       "model_id": "9b3c42392a7741f0bb080d0c3b53e764",
       "version_major": 2,
       "version_minor": 0
      },
      "text/plain": [
       "  0%|          | 0/10 [00:00<?, ?it/s]"
      ]
     },
     "metadata": {},
     "output_type": "display_data"
    },
    {
     "name": "stdout",
     "output_type": "stream",
     "text": [
      "\u001b[32m[I 2023-02-25 17:06:11,692]\u001b[0m Trial 52 finished with value: 0.004105926192476248 and parameters: {'factors': 242, 'regularization': 0.004253478455868043, 'iterations': 10}. Best is trial 41 with value: 0.004258197826611783.\u001b[0m\n"
     ]
    },
    {
     "data": {
      "application/vnd.jupyter.widget-view+json": {
       "model_id": "9ee57709985342f296ed131c289815fe",
       "version_major": 2,
       "version_minor": 0
      },
      "text/plain": [
       "  0%|          | 0/13 [00:00<?, ?it/s]"
      ]
     },
     "metadata": {},
     "output_type": "display_data"
    },
    {
     "name": "stdout",
     "output_type": "stream",
     "text": [
      "\u001b[32m[I 2023-02-25 17:06:31,802]\u001b[0m Trial 53 finished with value: 0.004024796929136248 and parameters: {'factors': 242, 'regularization': 0.0009133635505163382, 'iterations': 13}. Best is trial 41 with value: 0.004258197826611783.\u001b[0m\n"
     ]
    },
    {
     "data": {
      "application/vnd.jupyter.widget-view+json": {
       "model_id": "7817437584514a90b69bbeab370f8d81",
       "version_major": 2,
       "version_minor": 0
      },
      "text/plain": [
       "  0%|          | 0/16 [00:00<?, ?it/s]"
      ]
     },
     "metadata": {},
     "output_type": "display_data"
    },
    {
     "name": "stdout",
     "output_type": "stream",
     "text": [
      "\u001b[32m[I 2023-02-25 17:06:51,439]\u001b[0m Trial 54 finished with value: 0.003778998865957532 and parameters: {'factors': 227, 'regularization': 0.0044424682641703295, 'iterations': 16}. Best is trial 41 with value: 0.004258197826611783.\u001b[0m\n"
     ]
    },
    {
     "data": {
      "application/vnd.jupyter.widget-view+json": {
       "model_id": "3b08143b867145449a9ae718359db479",
       "version_major": 2,
       "version_minor": 0
      },
      "text/plain": [
       "  0%|          | 0/10 [00:00<?, ?it/s]"
      ]
     },
     "metadata": {},
     "output_type": "display_data"
    },
    {
     "name": "stdout",
     "output_type": "stream",
     "text": [
      "\u001b[32m[I 2023-02-25 17:07:11,573]\u001b[0m Trial 55 finished with value: 0.0038525718133385445 and parameters: {'factors': 247, 'regularization': 0.009393528397671071, 'iterations': 10}. Best is trial 41 with value: 0.004258197826611783.\u001b[0m\n"
     ]
    },
    {
     "data": {
      "application/vnd.jupyter.widget-view+json": {
       "model_id": "2af3a9f7ce114e6eae84832a50c2ec6d",
       "version_major": 2,
       "version_minor": 0
      },
      "text/plain": [
       "  0%|          | 0/12 [00:00<?, ?it/s]"
      ]
     },
     "metadata": {},
     "output_type": "display_data"
    },
    {
     "name": "stdout",
     "output_type": "stream",
     "text": [
      "\u001b[32m[I 2023-02-25 17:07:28,420]\u001b[0m Trial 56 finished with value: 0.003694636028803068 and parameters: {'factors': 194, 'regularization': 6.7339154115581e-05, 'iterations': 12}. Best is trial 41 with value: 0.004258197826611783.\u001b[0m\n"
     ]
    },
    {
     "data": {
      "application/vnd.jupyter.widget-view+json": {
       "model_id": "e925fc040cb442149f87a85abce40edd",
       "version_major": 2,
       "version_minor": 0
      },
      "text/plain": [
       "  0%|          | 0/52 [00:00<?, ?it/s]"
      ]
     },
     "metadata": {},
     "output_type": "display_data"
    },
    {
     "name": "stdout",
     "output_type": "stream",
     "text": [
      "\u001b[32m[I 2023-02-25 17:07:53,846]\u001b[0m Trial 57 finished with value: 0.0032174143494127644 and parameters: {'factors': 217, 'regularization': 0.004931034098973119, 'iterations': 52}. Best is trial 41 with value: 0.004258197826611783.\u001b[0m\n"
     ]
    },
    {
     "data": {
      "application/vnd.jupyter.widget-view+json": {
       "model_id": "fef2d074fa914ea0b5eb4597911a5f42",
       "version_major": 2,
       "version_minor": 0
      },
      "text/plain": [
       "  0%|          | 0/10 [00:00<?, ?it/s]"
      ]
     },
     "metadata": {},
     "output_type": "display_data"
    },
    {
     "name": "stdout",
     "output_type": "stream",
     "text": [
      "\u001b[32m[I 2023-02-25 17:08:11,672]\u001b[0m Trial 58 finished with value: 0.003866727836950776 and parameters: {'factors': 203, 'regularization': 0.008683282731974221, 'iterations': 10}. Best is trial 41 with value: 0.004258197826611783.\u001b[0m\n"
     ]
    },
    {
     "data": {
      "application/vnd.jupyter.widget-view+json": {
       "model_id": "309568a60ade4c6aa83a55f89595e873",
       "version_major": 2,
       "version_minor": 0
      },
      "text/plain": [
       "  0%|          | 0/17 [00:00<?, ?it/s]"
      ]
     },
     "metadata": {},
     "output_type": "display_data"
    },
    {
     "name": "stdout",
     "output_type": "stream",
     "text": [
      "\u001b[32m[I 2023-02-25 17:08:32,977]\u001b[0m Trial 59 finished with value: 0.0037243870342860224 and parameters: {'factors': 228, 'regularization': 0.020301595454325024, 'iterations': 17}. Best is trial 41 with value: 0.004258197826611783.\u001b[0m\n"
     ]
    },
    {
     "data": {
      "application/vnd.jupyter.widget-view+json": {
       "model_id": "c0e62e004a774bbdaa0c6906b9d9392b",
       "version_major": 2,
       "version_minor": 0
      },
      "text/plain": [
       "  0%|          | 0/23 [00:00<?, ?it/s]"
      ]
     },
     "metadata": {},
     "output_type": "display_data"
    },
    {
     "name": "stdout",
     "output_type": "stream",
     "text": [
      "\u001b[32m[I 2023-02-25 17:08:55,937]\u001b[0m Trial 60 finished with value: 0.0037022229596914338 and parameters: {'factors': 244, 'regularization': 0.0037327770716060645, 'iterations': 23}. Best is trial 41 with value: 0.004258197826611783.\u001b[0m\n"
     ]
    },
    {
     "data": {
      "application/vnd.jupyter.widget-view+json": {
       "model_id": "ed5cc1adf93e4a2a853fb9bae6456ccd",
       "version_major": 2,
       "version_minor": 0
      },
      "text/plain": [
       "  0%|          | 0/8 [00:00<?, ?it/s]"
      ]
     },
     "metadata": {},
     "output_type": "display_data"
    },
    {
     "name": "stdout",
     "output_type": "stream",
     "text": [
      "\u001b[32m[I 2023-02-25 17:09:16,726]\u001b[0m Trial 61 finished with value: 0.004033995717416129 and parameters: {'factors': 242, 'regularization': 0.014811080425575985, 'iterations': 8}. Best is trial 41 with value: 0.004258197826611783.\u001b[0m\n",
      "EarlyStopping Exceeded: No new best scores on iters 20\n"
     ]
    }
   ],
   "source": [
    "fscore_objective = Objective(csr_train, interactions.valid, fscore)\n",
    "fscore_optimizer = OptunaMaximizer(fscore_objective, \"ALS fscore maximize\")\n",
    "fscore_best_trial = fscore_optimizer.optimize(Config.ITERATIONS, Config.STOP_ITERATION)"
   ]
  },
  {
   "cell_type": "code",
   "execution_count": 11,
   "metadata": {},
   "outputs": [
    {
     "name": "stderr",
     "output_type": "stream",
     "text": [
      "\u001b[32m[I 2023-02-25 17:09:16,824]\u001b[0m A new study created in memory with name: ALS precision maximize\u001b[0m\n",
      "/home/aveitsme/miniconda3/envs/core/lib/python3.10/site-packages/optuna/progress_bar.py:56: ExperimentalWarning: Progress bar is experimental (supported from v1.2.0). The interface can change in the future.\n",
      "  self._init_valid()\n"
     ]
    },
    {
     "data": {
      "application/vnd.jupyter.widget-view+json": {
       "model_id": "df7097eec36846e9a741af996b415b40",
       "version_major": 2,
       "version_minor": 0
      },
      "text/plain": [
       "  0%|          | 0/100 [00:00<?, ?it/s]"
      ]
     },
     "metadata": {},
     "output_type": "display_data"
    },
    {
     "data": {
      "application/vnd.jupyter.widget-view+json": {
       "model_id": "741fc9f3e73d4752a911da1729b8a2bf",
       "version_major": 2,
       "version_minor": 0
      },
      "text/plain": [
       "  0%|          | 0/37 [00:00<?, ?it/s]"
      ]
     },
     "metadata": {},
     "output_type": "display_data"
    },
    {
     "name": "stdout",
     "output_type": "stream",
     "text": [
      "\u001b[32m[I 2023-02-25 17:09:34,370]\u001b[0m Trial 0 finished with value: 0.0020943414352963814 and parameters: {'factors': 143, 'regularization': 0.01044289520634905, 'iterations': 37}. Best is trial 0 with value: 0.0020943414352963814.\u001b[0m\n"
     ]
    },
    {
     "data": {
      "application/vnd.jupyter.widget-view+json": {
       "model_id": "de9910406d324296b30d5d90bd31c024",
       "version_major": 2,
       "version_minor": 0
      },
      "text/plain": [
       "  0%|          | 0/55 [00:00<?, ?it/s]"
      ]
     },
     "metadata": {},
     "output_type": "display_data"
    },
    {
     "name": "stdout",
     "output_type": "stream",
     "text": [
      "\u001b[32m[I 2023-02-25 17:09:44,865]\u001b[0m Trial 1 finished with value: 0.0011432414256893056 and parameters: {'factors': 22, 'regularization': 0.08060133469897891, 'iterations': 55}. Best is trial 0 with value: 0.0020943414352963814.\u001b[0m\n"
     ]
    },
    {
     "data": {
      "application/vnd.jupyter.widget-view+json": {
       "model_id": "6a04b205bdae4fb2b915669b2e2bfe04",
       "version_major": 2,
       "version_minor": 0
      },
      "text/plain": [
       "  0%|          | 0/16 [00:00<?, ?it/s]"
      ]
     },
     "metadata": {},
     "output_type": "display_data"
    },
    {
     "name": "stdout",
     "output_type": "stream",
     "text": [
      "\u001b[32m[I 2023-02-25 17:10:01,171]\u001b[0m Trial 2 finished with value: 0.0023729464886156266 and parameters: {'factors': 171, 'regularization': 0.05489541580486311, 'iterations': 16}. Best is trial 2 with value: 0.0023729464886156266.\u001b[0m\n"
     ]
    },
    {
     "data": {
      "application/vnd.jupyter.widget-view+json": {
       "model_id": "141c192bbff841ef805c5a3bb3dc2657",
       "version_major": 2,
       "version_minor": 0
      },
      "text/plain": [
       "  0%|          | 0/19 [00:00<?, ?it/s]"
      ]
     },
     "metadata": {},
     "output_type": "display_data"
    },
    {
     "name": "stdout",
     "output_type": "stream",
     "text": [
      "\u001b[32m[I 2023-02-25 17:10:11,110]\u001b[0m Trial 3 finished with value: 0.0013257757709674298 and parameters: {'factors': 28, 'regularization': 0.0796399922652827, 'iterations': 19}. Best is trial 2 with value: 0.0023729464886156266.\u001b[0m\n"
     ]
    },
    {
     "data": {
      "application/vnd.jupyter.widget-view+json": {
       "model_id": "c45cc567eb6b4ea7a112583eb2eb9136",
       "version_major": 2,
       "version_minor": 0
      },
      "text/plain": [
       "  0%|          | 0/52 [00:00<?, ?it/s]"
      ]
     },
     "metadata": {},
     "output_type": "display_data"
    },
    {
     "name": "stdout",
     "output_type": "stream",
     "text": [
      "\u001b[32m[I 2023-02-25 17:10:40,511]\u001b[0m Trial 4 finished with value: 0.002478624267460858 and parameters: {'factors': 250, 'regularization': 0.041738615324950365, 'iterations': 52}. Best is trial 4 with value: 0.002478624267460858.\u001b[0m\n"
     ]
    },
    {
     "data": {
      "application/vnd.jupyter.widget-view+json": {
       "model_id": "6229f35b791d465fa1948c3947e5a152",
       "version_major": 2,
       "version_minor": 0
      },
      "text/plain": [
       "  0%|          | 0/50 [00:00<?, ?it/s]"
      ]
     },
     "metadata": {},
     "output_type": "display_data"
    },
    {
     "name": "stdout",
     "output_type": "stream",
     "text": [
      "\u001b[32m[I 2023-02-25 17:10:56,168]\u001b[0m Trial 5 finished with value: 0.0020655202228840454 and parameters: {'factors': 95, 'regularization': 0.09170614780063091, 'iterations': 50}. Best is trial 4 with value: 0.002478624267460858.\u001b[0m\n"
     ]
    },
    {
     "data": {
      "application/vnd.jupyter.widget-view+json": {
       "model_id": "f49bdd3c751943839b58c82989842275",
       "version_major": 2,
       "version_minor": 0
      },
      "text/plain": [
       "  0%|          | 0/26 [00:00<?, ?it/s]"
      ]
     },
     "metadata": {},
     "output_type": "display_data"
    },
    {
     "name": "stdout",
     "output_type": "stream",
     "text": [
      "\u001b[32m[I 2023-02-25 17:11:16,605]\u001b[0m Trial 6 finished with value: 0.0024498030550485226 and parameters: {'factors': 208, 'regularization': 0.023148615314195025, 'iterations': 26}. Best is trial 4 with value: 0.002478624267460858.\u001b[0m\n"
     ]
    },
    {
     "data": {
      "application/vnd.jupyter.widget-view+json": {
       "model_id": "c5c529af78684cd9aa6b76ffd2821aab",
       "version_major": 2,
       "version_minor": 0
      },
      "text/plain": [
       "  0%|          | 0/8 [00:00<?, ?it/s]"
      ]
     },
     "metadata": {},
     "output_type": "display_data"
    },
    {
     "name": "stdout",
     "output_type": "stream",
     "text": [
      "\u001b[32m[I 2023-02-25 17:11:33,952]\u001b[0m Trial 7 finished with value: 0.0023249111345950684 and parameters: {'factors': 161, 'regularization': 0.02298143387482129, 'iterations': 8}. Best is trial 4 with value: 0.002478624267460858.\u001b[0m\n"
     ]
    },
    {
     "data": {
      "application/vnd.jupyter.widget-view+json": {
       "model_id": "7d6bb3291bf244c4929ccc08f19ddbdf",
       "version_major": 2,
       "version_minor": 0
      },
      "text/plain": [
       "  0%|          | 0/34 [00:00<?, ?it/s]"
      ]
     },
     "metadata": {},
     "output_type": "display_data"
    },
    {
     "name": "stdout",
     "output_type": "stream",
     "text": [
      "\u001b[32m[I 2023-02-25 17:11:55,748]\u001b[0m Trial 8 finished with value: 0.00223844749735806 and parameters: {'factors': 193, 'regularization': 0.08682559584209806, 'iterations': 34}. Best is trial 4 with value: 0.002478624267460858.\u001b[0m\n"
     ]
    },
    {
     "data": {
      "application/vnd.jupyter.widget-view+json": {
       "model_id": "2aefcf399cfe45309ca62b4da0211932",
       "version_major": 2,
       "version_minor": 0
      },
      "text/plain": [
       "  0%|          | 0/15 [00:00<?, ?it/s]"
      ]
     },
     "metadata": {},
     "output_type": "display_data"
    },
    {
     "name": "stdout",
     "output_type": "stream",
     "text": [
      "\u001b[32m[I 2023-02-25 17:12:05,273]\u001b[0m Trial 9 finished with value: 0.0009511000096070695 and parameters: {'factors': 13, 'regularization': 0.08578832077289732, 'iterations': 15}. Best is trial 4 with value: 0.002478624267460858.\u001b[0m\n"
     ]
    },
    {
     "data": {
      "application/vnd.jupyter.widget-view+json": {
       "model_id": "0afe6f1bcbbd4b98aa9a555a1bae16db",
       "version_major": 2,
       "version_minor": 0
      },
      "text/plain": [
       "  0%|          | 0/63 [00:00<?, ?it/s]"
      ]
     },
     "metadata": {},
     "output_type": "display_data"
    },
    {
     "name": "stdout",
     "output_type": "stream",
     "text": [
      "\u001b[32m[I 2023-02-25 17:12:35,850]\u001b[0m Trial 10 finished with value: 0.002267268709770396 and parameters: {'factors': 242, 'regularization': 0.052445168176269936, 'iterations': 63}. Best is trial 4 with value: 0.002478624267460858.\u001b[0m\n"
     ]
    },
    {
     "data": {
      "application/vnd.jupyter.widget-view+json": {
       "model_id": "c2c052aa347d497ba183649c382e1416",
       "version_major": 2,
       "version_minor": 0
      },
      "text/plain": [
       "  0%|          | 0/33 [00:00<?, ?it/s]"
      ]
     },
     "metadata": {},
     "output_type": "display_data"
    },
    {
     "name": "stdout",
     "output_type": "stream",
     "text": [
      "\u001b[32m[I 2023-02-25 17:13:00,134]\u001b[0m Trial 11 finished with value: 0.0024594101258526343 and parameters: {'factors': 251, 'regularization': 0.031668518161873174, 'iterations': 33}. Best is trial 4 with value: 0.002478624267460858.\u001b[0m\n"
     ]
    },
    {
     "data": {
      "application/vnd.jupyter.widget-view+json": {
       "model_id": "717b2c67b31d42e1940ea7255beb39d5",
       "version_major": 2,
       "version_minor": 0
      },
      "text/plain": [
       "  0%|          | 0/44 [00:00<?, ?it/s]"
      ]
     },
     "metadata": {},
     "output_type": "display_data"
    },
    {
     "name": "stdout",
     "output_type": "stream",
     "text": [
      "\u001b[32m[I 2023-02-25 17:13:28,702]\u001b[0m Trial 12 finished with value: 0.0023729464886156283 and parameters: {'factors': 248, 'regularization': 0.038990163910128196, 'iterations': 44}. Best is trial 4 with value: 0.002478624267460858.\u001b[0m\n"
     ]
    },
    {
     "data": {
      "application/vnd.jupyter.widget-view+json": {
       "model_id": "830c281a8624423c9d8cbee9fd214bcd",
       "version_major": 2,
       "version_minor": 0
      },
      "text/plain": [
       "  0%|          | 0/35 [00:00<?, ?it/s]"
      ]
     },
     "metadata": {},
     "output_type": "display_data"
    },
    {
     "name": "stdout",
     "output_type": "stream",
     "text": [
      "\u001b[32m[I 2023-02-25 17:13:43,572]\u001b[0m Trial 13 finished with value: 0.002017484868863486 and parameters: {'factors': 104, 'regularization': 0.0353553058080688, 'iterations': 35}. Best is trial 4 with value: 0.002478624267460858.\u001b[0m\n"
     ]
    },
    {
     "data": {
      "application/vnd.jupyter.widget-view+json": {
       "model_id": "2fff1877d52d44999580e6860cc4b9b2",
       "version_major": 2,
       "version_minor": 0
      },
      "text/plain": [
       "  0%|          | 0/43 [00:00<?, ?it/s]"
      ]
     },
     "metadata": {},
     "output_type": "display_data"
    },
    {
     "name": "stdout",
     "output_type": "stream",
     "text": [
      "\u001b[32m[I 2023-02-25 17:14:08,092]\u001b[0m Trial 14 finished with value: 0.0023056969929868437 and parameters: {'factors': 225, 'regularization': 0.0007786193492834645, 'iterations': 43}. Best is trial 4 with value: 0.002478624267460858.\u001b[0m\n"
     ]
    },
    {
     "data": {
      "application/vnd.jupyter.widget-view+json": {
       "model_id": "adcedfc6daa1488b8095624030e8ab73",
       "version_major": 2,
       "version_minor": 0
      },
      "text/plain": [
       "  0%|          | 0/63 [00:00<?, ?it/s]"
      ]
     },
     "metadata": {},
     "output_type": "display_data"
    },
    {
     "name": "stdout",
     "output_type": "stream",
     "text": [
      "\u001b[32m[I 2023-02-25 17:14:39,433]\u001b[0m Trial 15 finished with value: 0.002526659621481417 and parameters: {'factors': 256, 'regularization': 0.06272092240521708, 'iterations': 63}. Best is trial 15 with value: 0.002526659621481417.\u001b[0m\n"
     ]
    },
    {
     "data": {
      "application/vnd.jupyter.widget-view+json": {
       "model_id": "5073cc39320d46d9bb491c8b8ec9874f",
       "version_major": 2,
       "version_minor": 0
      },
      "text/plain": [
       "  0%|          | 0/64 [00:00<?, ?it/s]"
      ]
     },
     "metadata": {},
     "output_type": "display_data"
    },
    {
     "name": "stdout",
     "output_type": "stream",
     "text": [
      "\u001b[32m[I 2023-02-25 17:15:06,175]\u001b[0m Trial 16 finished with value: 0.002094341435296381 and parameters: {'factors': 195, 'regularization': 0.0658883083249547, 'iterations': 64}. Best is trial 15 with value: 0.002526659621481417.\u001b[0m\n"
     ]
    },
    {
     "data": {
      "application/vnd.jupyter.widget-view+json": {
       "model_id": "6693519d2c2a438a8cfa3e1f8d350b5c",
       "version_major": 2,
       "version_minor": 0
      },
      "text/plain": [
       "  0%|          | 0/55 [00:00<?, ?it/s]"
      ]
     },
     "metadata": {},
     "output_type": "display_data"
    },
    {
     "name": "stdout",
     "output_type": "stream",
     "text": [
      "\u001b[32m[I 2023-02-25 17:15:19,829]\u001b[0m Trial 17 finished with value: 0.00173887981554424 and parameters: {'factors': 74, 'regularization': 0.06567956835808796, 'iterations': 55}. Best is trial 15 with value: 0.002526659621481417.\u001b[0m\n"
     ]
    },
    {
     "data": {
      "application/vnd.jupyter.widget-view+json": {
       "model_id": "95e9eda9df65431b893bf46ffdf1a66f",
       "version_major": 2,
       "version_minor": 0
      },
      "text/plain": [
       "  0%|          | 0/57 [00:00<?, ?it/s]"
      ]
     },
     "metadata": {},
     "output_type": "display_data"
    },
    {
     "name": "stdout",
     "output_type": "stream",
     "text": [
      "\u001b[32m[I 2023-02-25 17:15:46,043]\u001b[0m Trial 18 finished with value: 0.0022480545681621725 and parameters: {'factors': 210, 'regularization': 0.04582549200219618, 'iterations': 57}. Best is trial 15 with value: 0.002526659621481417.\u001b[0m\n"
     ]
    },
    {
     "data": {
      "application/vnd.jupyter.widget-view+json": {
       "model_id": "5f2c0fd362fd4b2aae9be25fcc1a90b0",
       "version_major": 2,
       "version_minor": 0
      },
      "text/plain": [
       "  0%|          | 0/50 [00:00<?, ?it/s]"
      ]
     },
     "metadata": {},
     "output_type": "display_data"
    },
    {
     "name": "stdout",
     "output_type": "stream",
     "text": [
      "\u001b[32m[I 2023-02-25 17:16:13,108]\u001b[0m Trial 19 finished with value: 0.0023537323470074036 and parameters: {'factors': 225, 'regularization': 0.09833218683799966, 'iterations': 50}. Best is trial 15 with value: 0.002526659621481417.\u001b[0m\n"
     ]
    },
    {
     "data": {
      "application/vnd.jupyter.widget-view+json": {
       "model_id": "821f96014b3c45cb8ed8d60baf2ef2f4",
       "version_major": 2,
       "version_minor": 0
      },
      "text/plain": [
       "  0%|          | 0/59 [00:00<?, ?it/s]"
      ]
     },
     "metadata": {},
     "output_type": "display_data"
    },
    {
     "name": "stdout",
     "output_type": "stream",
     "text": [
      "\u001b[32m[I 2023-02-25 17:16:35,532]\u001b[0m Trial 20 finished with value: 0.0020943414352963814 and parameters: {'factors': 171, 'regularization': 0.06202554341797159, 'iterations': 59}. Best is trial 15 with value: 0.002526659621481417.\u001b[0m\n"
     ]
    },
    {
     "data": {
      "application/vnd.jupyter.widget-view+json": {
       "model_id": "d33673922adc406b95de87808937c0de",
       "version_major": 2,
       "version_minor": 0
      },
      "text/plain": [
       "  0%|          | 0/26 [00:00<?, ?it/s]"
      ]
     },
     "metadata": {},
     "output_type": "display_data"
    },
    {
     "name": "stdout",
     "output_type": "stream",
     "text": [
      "\u001b[32m[I 2023-02-25 17:16:58,420]\u001b[0m Trial 21 finished with value: 0.0024690171966567473 and parameters: {'factors': 254, 'regularization': 0.041727723968832515, 'iterations': 26}. Best is trial 15 with value: 0.002526659621481417.\u001b[0m\n"
     ]
    },
    {
     "data": {
      "application/vnd.jupyter.widget-view+json": {
       "model_id": "ad948c6a13c6425bb6458ffc84bf4731",
       "version_major": 2,
       "version_minor": 0
      },
      "text/plain": [
       "  0%|          | 0/25 [00:00<?, ?it/s]"
      ]
     },
     "metadata": {},
     "output_type": "display_data"
    },
    {
     "name": "stdout",
     "output_type": "stream",
     "text": [
      "\u001b[32m[I 2023-02-25 17:17:20,173]\u001b[0m Trial 22 finished with value: 0.002469017196656746 and parameters: {'factors': 230, 'regularization': 0.045430535675808334, 'iterations': 25}. Best is trial 15 with value: 0.002526659621481417.\u001b[0m\n"
     ]
    },
    {
     "data": {
      "application/vnd.jupyter.widget-view+json": {
       "model_id": "572a4a3ccbe54fd6a92915d9908a4ecb",
       "version_major": 2,
       "version_minor": 0
      },
      "text/plain": [
       "  0%|          | 0/28 [00:00<?, ?it/s]"
      ]
     },
     "metadata": {},
     "output_type": "display_data"
    },
    {
     "name": "stdout",
     "output_type": "stream",
     "text": [
      "\u001b[32m[I 2023-02-25 17:17:42,977]\u001b[0m Trial 23 finished with value: 0.0023633394178115157 and parameters: {'factors': 235, 'regularization': 0.058122887071858746, 'iterations': 28}. Best is trial 15 with value: 0.002526659621481417.\u001b[0m\n"
     ]
    },
    {
     "data": {
      "application/vnd.jupyter.widget-view+json": {
       "model_id": "c7e75a9b7b8c4fb7b82efdaef203c99f",
       "version_major": 2,
       "version_minor": 0
      },
      "text/plain": [
       "  0%|          | 0/48 [00:00<?, ?it/s]"
      ]
     },
     "metadata": {},
     "output_type": "display_data"
    },
    {
     "name": "stdout",
     "output_type": "stream",
     "text": [
      "\u001b[32m[I 2023-02-25 17:18:12,464]\u001b[0m Trial 24 finished with value: 0.0023537323470074045 and parameters: {'factors': 251, 'regularization': 0.04699802292748977, 'iterations': 48}. Best is trial 15 with value: 0.002526659621481417.\u001b[0m\n"
     ]
    },
    {
     "data": {
      "application/vnd.jupyter.widget-view+json": {
       "model_id": "af459030f42c4e25837bd0b5ef341349",
       "version_major": 2,
       "version_minor": 0
      },
      "text/plain": [
       "  0%|          | 0/41 [00:00<?, ?it/s]"
      ]
     },
     "metadata": {},
     "output_type": "display_data"
    },
    {
     "name": "stdout",
     "output_type": "stream",
     "text": [
      "\u001b[32m[I 2023-02-25 17:18:36,072]\u001b[0m Trial 25 finished with value: 0.0022480545681621725 and parameters: {'factors': 208, 'regularization': 0.07166280260947805, 'iterations': 41}. Best is trial 15 with value: 0.002526659621481417.\u001b[0m\n"
     ]
    },
    {
     "data": {
      "application/vnd.jupyter.widget-view+json": {
       "model_id": "dc00010b9cf64655b64b334279afdfb4",
       "version_major": 2,
       "version_minor": 0
      },
      "text/plain": [
       "  0%|          | 0/60 [00:00<?, ?it/s]"
      ]
     },
     "metadata": {},
     "output_type": "display_data"
    },
    {
     "name": "stdout",
     "output_type": "stream",
     "text": [
      "\u001b[32m[I 2023-02-25 17:19:07,283]\u001b[0m Trial 26 finished with value: 0.002344125276203292 and parameters: {'factors': 251, 'regularization': 0.04116518019122218, 'iterations': 60}. Best is trial 15 with value: 0.002526659621481417.\u001b[0m\n"
     ]
    },
    {
     "data": {
      "application/vnd.jupyter.widget-view+json": {
       "model_id": "33bd732cc88841b4be238618645ba709",
       "version_major": 2,
       "version_minor": 0
      },
      "text/plain": [
       "  0%|          | 0/53 [00:00<?, ?it/s]"
      ]
     },
     "metadata": {},
     "output_type": "display_data"
    },
    {
     "name": "stdout",
     "output_type": "stream",
     "text": [
      "\u001b[32m[I 2023-02-25 17:19:30,136]\u001b[0m Trial 27 finished with value: 0.002180805072533388 and parameters: {'factors': 184, 'regularization': 0.05232829807068884, 'iterations': 53}. Best is trial 15 with value: 0.002526659621481417.\u001b[0m\n"
     ]
    },
    {
     "data": {
      "application/vnd.jupyter.widget-view+json": {
       "model_id": "725afea44f444f89b9563528969b39cc",
       "version_major": 2,
       "version_minor": 0
      },
      "text/plain": [
       "  0%|          | 0/47 [00:00<?, ?it/s]"
      ]
     },
     "metadata": {},
     "output_type": "display_data"
    },
    {
     "name": "stdout",
     "output_type": "stream",
     "text": [
      "\u001b[32m[I 2023-02-25 17:19:49,219]\u001b[0m Trial 28 finished with value: 0.0020847343644922697 and parameters: {'factors': 134, 'regularization': 0.05582007694155028, 'iterations': 47}. Best is trial 15 with value: 0.002526659621481417.\u001b[0m\n"
     ]
    },
    {
     "data": {
      "application/vnd.jupyter.widget-view+json": {
       "model_id": "8b28d778165648d391181d721c15887a",
       "version_major": 2,
       "version_minor": 0
      },
      "text/plain": [
       "  0%|          | 0/40 [00:00<?, ?it/s]"
      ]
     },
     "metadata": {},
     "output_type": "display_data"
    },
    {
     "name": "stdout",
     "output_type": "stream",
     "text": [
      "\u001b[32m[I 2023-02-25 17:20:01,956]\u001b[0m Trial 29 finished with value: 0.0015467383994620014 and parameters: {'factors': 50, 'regularization': 0.03191582319508307, 'iterations': 40}. Best is trial 15 with value: 0.002526659621481417.\u001b[0m\n"
     ]
    },
    {
     "data": {
      "application/vnd.jupyter.widget-view+json": {
       "model_id": "1270df7e9ef5475fab58607d96465c08",
       "version_major": 2,
       "version_minor": 0
      },
      "text/plain": [
       "  0%|          | 0/61 [00:00<?, ?it/s]"
      ]
     },
     "metadata": {},
     "output_type": "display_data"
    },
    {
     "name": "stdout",
     "output_type": "stream",
     "text": [
      "\u001b[32m[I 2023-02-25 17:20:22,196]\u001b[0m Trial 30 finished with value: 0.0021039485061004927 and parameters: {'factors': 150, 'regularization': 0.07261149660699522, 'iterations': 61}. Best is trial 15 with value: 0.002526659621481417.\u001b[0m\n"
     ]
    },
    {
     "data": {
      "application/vnd.jupyter.widget-view+json": {
       "model_id": "a9ee9ce59ffe4439a6380c78ae55576b",
       "version_major": 2,
       "version_minor": 0
      },
      "text/plain": [
       "  0%|          | 0/24 [00:00<?, ?it/s]"
      ]
     },
     "metadata": {},
     "output_type": "display_data"
    },
    {
     "name": "stdout",
     "output_type": "stream",
     "text": [
      "\u001b[32m[I 2023-02-25 17:20:43,291]\u001b[0m Trial 31 finished with value: 0.0024498030550485226 and parameters: {'factors': 223, 'regularization': 0.04468320160254175, 'iterations': 24}. Best is trial 15 with value: 0.002526659621481417.\u001b[0m\n"
     ]
    },
    {
     "data": {
      "application/vnd.jupyter.widget-view+json": {
       "model_id": "ab9aba6c6b5547fba21345236d949efa",
       "version_major": 2,
       "version_minor": 0
      },
      "text/plain": [
       "  0%|          | 0/23 [00:00<?, ?it/s]"
      ]
     },
     "metadata": {},
     "output_type": "display_data"
    },
    {
     "name": "stdout",
     "output_type": "stream",
     "text": [
      "\u001b[32m[I 2023-02-25 17:21:05,496]\u001b[0m Trial 32 finished with value: 0.0024017677010279635 and parameters: {'factors': 229, 'regularization': 0.04742574995430715, 'iterations': 23}. Best is trial 15 with value: 0.002526659621481417.\u001b[0m\n"
     ]
    },
    {
     "data": {
      "application/vnd.jupyter.widget-view+json": {
       "model_id": "fd2df304fd674a268f1854bda2793179",
       "version_major": 2,
       "version_minor": 0
      },
      "text/plain": [
       "  0%|          | 0/30 [00:00<?, ?it/s]"
      ]
     },
     "metadata": {},
     "output_type": "display_data"
    },
    {
     "name": "stdout",
     "output_type": "stream",
     "text": [
      "\u001b[32m[I 2023-02-25 17:21:29,887]\u001b[0m Trial 33 finished with value: 0.0024498030550485226 and parameters: {'factors': 255, 'regularization': 0.051369258325612725, 'iterations': 30}. Best is trial 15 with value: 0.002526659621481417.\u001b[0m\n"
     ]
    },
    {
     "data": {
      "application/vnd.jupyter.widget-view+json": {
       "model_id": "e41079664cd5440699058d6828665783",
       "version_major": 2,
       "version_minor": 0
      },
      "text/plain": [
       "  0%|          | 0/19 [00:00<?, ?it/s]"
      ]
     },
     "metadata": {},
     "output_type": "display_data"
    },
    {
     "name": "stdout",
     "output_type": "stream",
     "text": [
      "\u001b[32m[I 2023-02-25 17:21:50,342]\u001b[0m Trial 34 finished with value: 0.0024786242674608577 and parameters: {'factors': 211, 'regularization': 0.05940959960077833, 'iterations': 19}. Best is trial 15 with value: 0.002526659621481417.\u001b[0m\n"
     ]
    },
    {
     "data": {
      "application/vnd.jupyter.widget-view+json": {
       "model_id": "916f4864eada4777be48eed945d3790e",
       "version_major": 2,
       "version_minor": 0
      },
      "text/plain": [
       "  0%|          | 0/19 [00:00<?, ?it/s]"
      ]
     },
     "metadata": {},
     "output_type": "display_data"
    },
    {
     "name": "stdout",
     "output_type": "stream",
     "text": [
      "\u001b[32m[I 2023-02-25 17:22:10,366]\u001b[0m Trial 35 finished with value: 0.0024498030550485217 and parameters: {'factors': 214, 'regularization': 0.059080796121788764, 'iterations': 19}. Best is trial 15 with value: 0.002526659621481417.\u001b[0m\n",
      "EarlyStopping Exceeded: No new best scores on iters 20\n"
     ]
    }
   ],
   "source": [
    "precision_objective = Objective(csr_train, interactions.valid, precision)\n",
    "precision_optimizer = OptunaMaximizer(precision_objective, \"ALS precision maximize\")\n",
    "precision_best_trial = precision_optimizer.optimize(Config.ITERATIONS, Config.STOP_ITERATION)"
   ]
  },
  {
   "cell_type": "code",
   "execution_count": 12,
   "metadata": {},
   "outputs": [
    {
     "name": "stderr",
     "output_type": "stream",
     "text": [
      "\u001b[32m[I 2023-02-25 17:22:10,438]\u001b[0m A new study created in memory with name: ALS recall maximize\u001b[0m\n",
      "/home/aveitsme/miniconda3/envs/core/lib/python3.10/site-packages/optuna/progress_bar.py:56: ExperimentalWarning: Progress bar is experimental (supported from v1.2.0). The interface can change in the future.\n",
      "  self._init_valid()\n"
     ]
    },
    {
     "data": {
      "application/vnd.jupyter.widget-view+json": {
       "model_id": "a9cab143eb42452185442cf8ef8b4a39",
       "version_major": 2,
       "version_minor": 0
      },
      "text/plain": [
       "  0%|          | 0/100 [00:00<?, ?it/s]"
      ]
     },
     "metadata": {},
     "output_type": "display_data"
    },
    {
     "data": {
      "application/vnd.jupyter.widget-view+json": {
       "model_id": "04004ca3410b464e8427f7c9f2c84338",
       "version_major": 2,
       "version_minor": 0
      },
      "text/plain": [
       "  0%|          | 0/59 [00:00<?, ?it/s]"
      ]
     },
     "metadata": {},
     "output_type": "display_data"
    },
    {
     "name": "stdout",
     "output_type": "stream",
     "text": [
      "\u001b[32m[I 2023-02-25 17:22:31,996]\u001b[0m Trial 0 finished with value: 0.00873427491318259 and parameters: {'factors': 133, 'regularization': 0.06830735063505491, 'iterations': 59}. Best is trial 0 with value: 0.00873427491318259.\u001b[0m\n"
     ]
    },
    {
     "data": {
      "application/vnd.jupyter.widget-view+json": {
       "model_id": "b467dfa347204e4a8c4f7a07bbfb42f0",
       "version_major": 2,
       "version_minor": 0
      },
      "text/plain": [
       "  0%|          | 0/15 [00:00<?, ?it/s]"
      ]
     },
     "metadata": {},
     "output_type": "display_data"
    },
    {
     "name": "stdout",
     "output_type": "stream",
     "text": [
      "\u001b[32m[I 2023-02-25 17:22:43,518]\u001b[0m Trial 1 finished with value: 0.00764392223045792 and parameters: {'factors': 71, 'regularization': 0.06527703512301525, 'iterations': 15}. Best is trial 0 with value: 0.00873427491318259.\u001b[0m\n"
     ]
    },
    {
     "data": {
      "application/vnd.jupyter.widget-view+json": {
       "model_id": "6029a585c2a44e1082dd9534e5026714",
       "version_major": 2,
       "version_minor": 0
      },
      "text/plain": [
       "  0%|          | 0/45 [00:00<?, ?it/s]"
      ]
     },
     "metadata": {},
     "output_type": "display_data"
    },
    {
     "name": "stdout",
     "output_type": "stream",
     "text": [
      "\u001b[32m[I 2023-02-25 17:23:04,754]\u001b[0m Trial 2 finished with value: 0.00912267486145861 and parameters: {'factors': 166, 'regularization': 0.0397693862518553, 'iterations': 45}. Best is trial 2 with value: 0.00912267486145861.\u001b[0m\n"
     ]
    },
    {
     "data": {
      "application/vnd.jupyter.widget-view+json": {
       "model_id": "ae79c24a6751418697c09cca548e741b",
       "version_major": 2,
       "version_minor": 0
      },
      "text/plain": [
       "  0%|          | 0/56 [00:00<?, ?it/s]"
      ]
     },
     "metadata": {},
     "output_type": "display_data"
    },
    {
     "name": "stdout",
     "output_type": "stream",
     "text": [
      "\u001b[32m[I 2023-02-25 17:23:32,160]\u001b[0m Trial 3 finished with value: 0.010102448122430831 and parameters: {'factors': 213, 'regularization': 0.012025692752186767, 'iterations': 56}. Best is trial 3 with value: 0.010102448122430831.\u001b[0m\n"
     ]
    },
    {
     "data": {
      "application/vnd.jupyter.widget-view+json": {
       "model_id": "79459e4e43aa4f8faabe04e15d57ec35",
       "version_major": 2,
       "version_minor": 0
      },
      "text/plain": [
       "  0%|          | 0/33 [00:00<?, ?it/s]"
      ]
     },
     "metadata": {},
     "output_type": "display_data"
    },
    {
     "name": "stdout",
     "output_type": "stream",
     "text": [
      "\u001b[32m[I 2023-02-25 17:23:54,405]\u001b[0m Trial 4 finished with value: 0.010052105242565425 and parameters: {'factors': 203, 'regularization': 0.015385162573588485, 'iterations': 33}. Best is trial 3 with value: 0.010102448122430831.\u001b[0m\n"
     ]
    },
    {
     "data": {
      "application/vnd.jupyter.widget-view+json": {
       "model_id": "3420ffb78dd84d2695424459b208ea3e",
       "version_major": 2,
       "version_minor": 0
      },
      "text/plain": [
       "  0%|          | 0/30 [00:00<?, ?it/s]"
      ]
     },
     "metadata": {},
     "output_type": "display_data"
    },
    {
     "name": "stdout",
     "output_type": "stream",
     "text": [
      "\u001b[32m[I 2023-02-25 17:24:06,734]\u001b[0m Trial 5 finished with value: 0.007095646171806224 and parameters: {'factors': 58, 'regularization': 0.02768057520282767, 'iterations': 30}. Best is trial 3 with value: 0.010102448122430831.\u001b[0m\n"
     ]
    },
    {
     "data": {
      "application/vnd.jupyter.widget-view+json": {
       "model_id": "b0c86cad4ea54cda8966d2a8a7b20bc8",
       "version_major": 2,
       "version_minor": 0
      },
      "text/plain": [
       "  0%|          | 0/51 [00:00<?, ?it/s]"
      ]
     },
     "metadata": {},
     "output_type": "display_data"
    },
    {
     "name": "stdout",
     "output_type": "stream",
     "text": [
      "\u001b[32m[I 2023-02-25 17:24:31,704]\u001b[0m Trial 6 finished with value: 0.009666538035487149 and parameters: {'factors': 208, 'regularization': 0.05170365759404326, 'iterations': 51}. Best is trial 3 with value: 0.010102448122430831.\u001b[0m\n"
     ]
    },
    {
     "data": {
      "application/vnd.jupyter.widget-view+json": {
       "model_id": "563726947f52411db8b2f58d9a807cc0",
       "version_major": 2,
       "version_minor": 0
      },
      "text/plain": [
       "  0%|          | 0/38 [00:00<?, ?it/s]"
      ]
     },
     "metadata": {},
     "output_type": "display_data"
    },
    {
     "name": "stdout",
     "output_type": "stream",
     "text": [
      "\u001b[32m[I 2023-02-25 17:24:51,876]\u001b[0m Trial 7 finished with value: 0.00968345036279036 and parameters: {'factors': 190, 'regularization': 0.05335456681615634, 'iterations': 38}. Best is trial 3 with value: 0.010102448122430831.\u001b[0m\n"
     ]
    },
    {
     "data": {
      "application/vnd.jupyter.widget-view+json": {
       "model_id": "cb1037137d1e439b9761c2ece29dc813",
       "version_major": 2,
       "version_minor": 0
      },
      "text/plain": [
       "  0%|          | 0/18 [00:00<?, ?it/s]"
      ]
     },
     "metadata": {},
     "output_type": "display_data"
    },
    {
     "name": "stdout",
     "output_type": "stream",
     "text": [
      "\u001b[32m[I 2023-02-25 17:25:12,372]\u001b[0m Trial 8 finished with value: 0.011639447725767256 and parameters: {'factors': 240, 'regularization': 0.07357281658702457, 'iterations': 18}. Best is trial 8 with value: 0.011639447725767256.\u001b[0m\n"
     ]
    },
    {
     "data": {
      "application/vnd.jupyter.widget-view+json": {
       "model_id": "8f360d9be74a4cc8beab41bf04e883ba",
       "version_major": 2,
       "version_minor": 0
      },
      "text/plain": [
       "  0%|          | 0/48 [00:00<?, ?it/s]"
      ]
     },
     "metadata": {},
     "output_type": "display_data"
    },
    {
     "name": "stdout",
     "output_type": "stream",
     "text": [
      "\u001b[32m[I 2023-02-25 17:25:30,984]\u001b[0m Trial 9 finished with value: 0.00919191283359311 and parameters: {'factors': 135, 'regularization': 0.07796683281972748, 'iterations': 48}. Best is trial 8 with value: 0.011639447725767256.\u001b[0m\n"
     ]
    },
    {
     "data": {
      "application/vnd.jupyter.widget-view+json": {
       "model_id": "b35fa9a2a6614f29bd7cc446d9a7d4a3",
       "version_major": 2,
       "version_minor": 0
      },
      "text/plain": [
       "  0%|          | 0/8 [00:00<?, ?it/s]"
      ]
     },
     "metadata": {},
     "output_type": "display_data"
    },
    {
     "name": "stdout",
     "output_type": "stream",
     "text": [
      "\u001b[32m[I 2023-02-25 17:25:39,854]\u001b[0m Trial 10 finished with value: 0.0038194616007973595 and parameters: {'factors': 7, 'regularization': 0.08791086947686297, 'iterations': 8}. Best is trial 8 with value: 0.011639447725767256.\u001b[0m\n"
     ]
    },
    {
     "data": {
      "application/vnd.jupyter.widget-view+json": {
       "model_id": "2807ff635ac4484ab7bbef8d70d7cba9",
       "version_major": 2,
       "version_minor": 0
      },
      "text/plain": [
       "  0%|          | 0/64 [00:00<?, ?it/s]"
      ]
     },
     "metadata": {},
     "output_type": "display_data"
    },
    {
     "name": "stdout",
     "output_type": "stream",
     "text": [
      "\u001b[32m[I 2023-02-25 17:26:11,997]\u001b[0m Trial 11 finished with value: 0.01029898339510214 and parameters: {'factors': 252, 'regularization': 0.007658995396108079, 'iterations': 64}. Best is trial 8 with value: 0.011639447725767256.\u001b[0m\n"
     ]
    },
    {
     "data": {
      "application/vnd.jupyter.widget-view+json": {
       "model_id": "4bd92ad3f876457598c3e9484d638170",
       "version_major": 2,
       "version_minor": 0
      },
      "text/plain": [
       "  0%|          | 0/22 [00:00<?, ?it/s]"
      ]
     },
     "metadata": {},
     "output_type": "display_data"
    },
    {
     "name": "stdout",
     "output_type": "stream",
     "text": [
      "\u001b[32m[I 2023-02-25 17:26:34,047]\u001b[0m Trial 12 finished with value: 0.011722171814159516 and parameters: {'factors': 255, 'regularization': 0.09964332410614413, 'iterations': 22}. Best is trial 12 with value: 0.011722171814159516.\u001b[0m\n"
     ]
    },
    {
     "data": {
      "application/vnd.jupyter.widget-view+json": {
       "model_id": "0ed8935f62f947cab1373cf1aab04d81",
       "version_major": 2,
       "version_minor": 0
      },
      "text/plain": [
       "  0%|          | 0/22 [00:00<?, ?it/s]"
      ]
     },
     "metadata": {},
     "output_type": "display_data"
    },
    {
     "name": "stdout",
     "output_type": "stream",
     "text": [
      "\u001b[32m[I 2023-02-25 17:26:58,003]\u001b[0m Trial 13 finished with value: 0.011722498348484638 and parameters: {'factors': 244, 'regularization': 0.09863970160229307, 'iterations': 22}. Best is trial 13 with value: 0.011722498348484638.\u001b[0m\n"
     ]
    },
    {
     "data": {
      "application/vnd.jupyter.widget-view+json": {
       "model_id": "ab8338b99d2a436f83dff76d106700bd",
       "version_major": 2,
       "version_minor": 0
      },
      "text/plain": [
       "  0%|          | 0/26 [00:00<?, ?it/s]"
      ]
     },
     "metadata": {},
     "output_type": "display_data"
    },
    {
     "name": "stdout",
     "output_type": "stream",
     "text": [
      "\u001b[32m[I 2023-02-25 17:27:21,212]\u001b[0m Trial 14 finished with value: 0.011341078229337552 and parameters: {'factors': 243, 'regularization': 0.0997707841272003, 'iterations': 26}. Best is trial 13 with value: 0.011722498348484638.\u001b[0m\n"
     ]
    },
    {
     "data": {
      "application/vnd.jupyter.widget-view+json": {
       "model_id": "f7c82e0dfeba46adb2c4eaaf16656acd",
       "version_major": 2,
       "version_minor": 0
      },
      "text/plain": [
       "  0%|          | 0/24 [00:00<?, ?it/s]"
      ]
     },
     "metadata": {},
     "output_type": "display_data"
    },
    {
     "name": "stdout",
     "output_type": "stream",
     "text": [
      "\u001b[32m[I 2023-02-25 17:27:41,917]\u001b[0m Trial 15 finished with value: 0.009816250667917496 and parameters: {'factors': 169, 'regularization': 0.09847262192088317, 'iterations': 24}. Best is trial 13 with value: 0.011722498348484638.\u001b[0m\n"
     ]
    },
    {
     "data": {
      "application/vnd.jupyter.widget-view+json": {
       "model_id": "8dfaf76abe494042b65caf720a5d4b42",
       "version_major": 2,
       "version_minor": 0
      },
      "text/plain": [
       "  0%|          | 0/18 [00:00<?, ?it/s]"
      ]
     },
     "metadata": {},
     "output_type": "display_data"
    },
    {
     "name": "stdout",
     "output_type": "stream",
     "text": [
      "\u001b[32m[I 2023-02-25 17:28:04,319]\u001b[0m Trial 16 finished with value: 0.012335585478047894 and parameters: {'factors': 255, 'regularization': 0.08857829386959218, 'iterations': 18}. Best is trial 16 with value: 0.012335585478047894.\u001b[0m\n"
     ]
    },
    {
     "data": {
      "application/vnd.jupyter.widget-view+json": {
       "model_id": "2797c5a76d8b472aa8533f49be1b4e91",
       "version_major": 2,
       "version_minor": 0
      },
      "text/plain": [
       "  0%|          | 0/8 [00:00<?, ?it/s]"
      ]
     },
     "metadata": {},
     "output_type": "display_data"
    },
    {
     "name": "stdout",
     "output_type": "stream",
     "text": [
      "\u001b[32m[I 2023-02-25 17:28:16,844]\u001b[0m Trial 17 finished with value: 0.008724417241685952 and parameters: {'factors': 101, 'regularization': 0.08642830966961979, 'iterations': 8}. Best is trial 16 with value: 0.012335585478047894.\u001b[0m\n"
     ]
    },
    {
     "data": {
      "application/vnd.jupyter.widget-view+json": {
       "model_id": "1aaf28a1f7df4a05aa42b0f1ef9bae36",
       "version_major": 2,
       "version_minor": 0
      },
      "text/plain": [
       "  0%|          | 0/40 [00:00<?, ?it/s]"
      ]
     },
     "metadata": {},
     "output_type": "display_data"
    },
    {
     "name": "stdout",
     "output_type": "stream",
     "text": [
      "\u001b[32m[I 2023-02-25 17:28:58,122]\u001b[0m Trial 18 finished with value: 0.00951340399654359 and parameters: {'factors': 174, 'regularization': 0.0845223307902383, 'iterations': 40}. Best is trial 16 with value: 0.012335585478047894.\u001b[0m\n"
     ]
    },
    {
     "data": {
      "application/vnd.jupyter.widget-view+json": {
       "model_id": "0716e046000749a08079bd1902d3a171",
       "version_major": 2,
       "version_minor": 0
      },
      "text/plain": [
       "  0%|          | 0/17 [00:00<?, ?it/s]"
      ]
     },
     "metadata": {},
     "output_type": "display_data"
    },
    {
     "name": "stdout",
     "output_type": "stream",
     "text": [
      "\u001b[32m[I 2023-02-25 17:29:17,355]\u001b[0m Trial 19 finished with value: 0.01098383621800857 and parameters: {'factors': 226, 'regularization': 0.05769230149642314, 'iterations': 17}. Best is trial 16 with value: 0.012335585478047894.\u001b[0m\n"
     ]
    },
    {
     "data": {
      "application/vnd.jupyter.widget-view+json": {
       "model_id": "cb2daa09dba34c77b69d836864fda599",
       "version_major": 2,
       "version_minor": 0
      },
      "text/plain": [
       "  0%|          | 0/29 [00:00<?, ?it/s]"
      ]
     },
     "metadata": {},
     "output_type": "display_data"
    },
    {
     "name": "stdout",
     "output_type": "stream",
     "text": [
      "\u001b[32m[I 2023-02-25 17:29:36,652]\u001b[0m Trial 20 finished with value: 0.009045443993565813 and parameters: {'factors': 153, 'regularization': 0.0816723938159066, 'iterations': 29}. Best is trial 16 with value: 0.012335585478047894.\u001b[0m\n"
     ]
    },
    {
     "data": {
      "application/vnd.jupyter.widget-view+json": {
       "model_id": "f796bcba10c74ba69428451138a0f750",
       "version_major": 2,
       "version_minor": 0
      },
      "text/plain": [
       "  0%|          | 0/22 [00:00<?, ?it/s]"
      ]
     },
     "metadata": {},
     "output_type": "display_data"
    },
    {
     "name": "stdout",
     "output_type": "stream",
     "text": [
      "\u001b[32m[I 2023-02-25 17:29:59,338]\u001b[0m Trial 21 finished with value: 0.011904967537582708 and parameters: {'factors': 255, 'regularization': 0.09511802078512549, 'iterations': 22}. Best is trial 16 with value: 0.012335585478047894.\u001b[0m\n"
     ]
    },
    {
     "data": {
      "application/vnd.jupyter.widget-view+json": {
       "model_id": "1f8bdda703634ed08eb798b718c92d44",
       "version_major": 2,
       "version_minor": 0
      },
      "text/plain": [
       "  0%|          | 0/13 [00:00<?, ?it/s]"
      ]
     },
     "metadata": {},
     "output_type": "display_data"
    },
    {
     "name": "stdout",
     "output_type": "stream",
     "text": [
      "\u001b[32m[I 2023-02-25 17:30:18,310]\u001b[0m Trial 22 finished with value: 0.011816155964849404 and parameters: {'factors': 227, 'regularization': 0.09085885956502954, 'iterations': 13}. Best is trial 16 with value: 0.012335585478047894.\u001b[0m\n"
     ]
    },
    {
     "data": {
      "application/vnd.jupyter.widget-view+json": {
       "model_id": "e24a6120af3c431db8a9f2a49e8831a2",
       "version_major": 2,
       "version_minor": 0
      },
      "text/plain": [
       "  0%|          | 0/13 [00:00<?, ?it/s]"
      ]
     },
     "metadata": {},
     "output_type": "display_data"
    },
    {
     "name": "stdout",
     "output_type": "stream",
     "text": [
      "\u001b[32m[I 2023-02-25 17:30:37,652]\u001b[0m Trial 23 finished with value: 0.011875694330541099 and parameters: {'factors': 230, 'regularization': 0.08947324860527422, 'iterations': 13}. Best is trial 16 with value: 0.012335585478047894.\u001b[0m\n"
     ]
    },
    {
     "data": {
      "application/vnd.jupyter.widget-view+json": {
       "model_id": "c7c7834ec60049fc985948b975edf3d4",
       "version_major": 2,
       "version_minor": 0
      },
      "text/plain": [
       "  0%|          | 0/12 [00:00<?, ?it/s]"
      ]
     },
     "metadata": {},
     "output_type": "display_data"
    },
    {
     "name": "stdout",
     "output_type": "stream",
     "text": [
      "\u001b[32m[I 2023-02-25 17:30:54,866]\u001b[0m Trial 24 finished with value: 0.011243703670930113 and parameters: {'factors': 191, 'regularization': 0.07644361239286665, 'iterations': 12}. Best is trial 16 with value: 0.012335585478047894.\u001b[0m\n"
     ]
    },
    {
     "data": {
      "application/vnd.jupyter.widget-view+json": {
       "model_id": "eb1696d5a4ef473dbc170f44ffc441b5",
       "version_major": 2,
       "version_minor": 0
      },
      "text/plain": [
       "  0%|          | 0/20 [00:00<?, ?it/s]"
      ]
     },
     "metadata": {},
     "output_type": "display_data"
    },
    {
     "name": "stdout",
     "output_type": "stream",
     "text": [
      "\u001b[32m[I 2023-02-25 17:31:15,246]\u001b[0m Trial 25 finished with value: 0.010899432945018498 and parameters: {'factors': 225, 'regularization': 0.06699588554791222, 'iterations': 20}. Best is trial 16 with value: 0.012335585478047894.\u001b[0m\n"
     ]
    },
    {
     "data": {
      "application/vnd.jupyter.widget-view+json": {
       "model_id": "ce00aab966744c0db2e8f11739d96925",
       "version_major": 2,
       "version_minor": 0
      },
      "text/plain": [
       "  0%|          | 0/11 [00:00<?, ?it/s]"
      ]
     },
     "metadata": {},
     "output_type": "display_data"
    },
    {
     "name": "stdout",
     "output_type": "stream",
     "text": [
      "\u001b[32m[I 2023-02-25 17:31:35,396]\u001b[0m Trial 26 finished with value: 0.011694066106713816 and parameters: {'factors': 227, 'regularization': 0.08933005873247656, 'iterations': 11}. Best is trial 16 with value: 0.012335585478047894.\u001b[0m\n"
     ]
    },
    {
     "data": {
      "application/vnd.jupyter.widget-view+json": {
       "model_id": "42532e4735e7452fbf8b57ef6bcf8cd0",
       "version_major": 2,
       "version_minor": 0
      },
      "text/plain": [
       "  0%|          | 0/28 [00:00<?, ?it/s]"
      ]
     },
     "metadata": {},
     "output_type": "display_data"
    },
    {
     "name": "stdout",
     "output_type": "stream",
     "text": [
      "\u001b[32m[I 2023-02-25 17:31:50,740]\u001b[0m Trial 27 finished with value: 0.008909325362034558 and parameters: {'factors': 107, 'regularization': 0.09190794236090842, 'iterations': 28}. Best is trial 16 with value: 0.012335585478047894.\u001b[0m\n"
     ]
    },
    {
     "data": {
      "application/vnd.jupyter.widget-view+json": {
       "model_id": "f13f05e790884a2da123ab1b6eda2581",
       "version_major": 2,
       "version_minor": 0
      },
      "text/plain": [
       "  0%|          | 0/17 [00:00<?, ?it/s]"
      ]
     },
     "metadata": {},
     "output_type": "display_data"
    },
    {
     "name": "stdout",
     "output_type": "stream",
     "text": [
      "\u001b[32m[I 2023-02-25 17:32:12,786]\u001b[0m Trial 28 finished with value: 0.012555568631069764 and parameters: {'factors': 256, 'regularization': 0.07962439968895031, 'iterations': 17}. Best is trial 28 with value: 0.012555568631069764.\u001b[0m\n"
     ]
    },
    {
     "data": {
      "application/vnd.jupyter.widget-view+json": {
       "model_id": "f41ce74319fa4810851932f02953b430",
       "version_major": 2,
       "version_minor": 0
      },
      "text/plain": [
       "  0%|          | 0/34 [00:00<?, ?it/s]"
      ]
     },
     "metadata": {},
     "output_type": "display_data"
    },
    {
     "name": "stdout",
     "output_type": "stream",
     "text": [
      "\u001b[32m[I 2023-02-25 17:32:38,784]\u001b[0m Trial 29 finished with value: 0.011324732978830394 and parameters: {'factors': 255, 'regularization': 0.07054504820392145, 'iterations': 34}. Best is trial 28 with value: 0.012555568631069764.\u001b[0m\n"
     ]
    },
    {
     "data": {
      "application/vnd.jupyter.widget-view+json": {
       "model_id": "8257a837be9449b094f5fb1c8785abf2",
       "version_major": 2,
       "version_minor": 0
      },
      "text/plain": [
       "  0%|          | 0/20 [00:00<?, ?it/s]"
      ]
     },
     "metadata": {},
     "output_type": "display_data"
    },
    {
     "name": "stdout",
     "output_type": "stream",
     "text": [
      "\u001b[32m[I 2023-02-25 17:32:57,940]\u001b[0m Trial 30 finished with value: 0.010486231885982106 and parameters: {'factors': 192, 'regularization': 0.07934602139896624, 'iterations': 20}. Best is trial 28 with value: 0.012555568631069764.\u001b[0m\n"
     ]
    },
    {
     "data": {
      "application/vnd.jupyter.widget-view+json": {
       "model_id": "221997e9d98744de91b2e7502b18d514",
       "version_major": 2,
       "version_minor": 0
      },
      "text/plain": [
       "  0%|          | 0/16 [00:00<?, ?it/s]"
      ]
     },
     "metadata": {},
     "output_type": "display_data"
    },
    {
     "name": "stdout",
     "output_type": "stream",
     "text": [
      "\u001b[32m[I 2023-02-25 17:33:18,025]\u001b[0m Trial 31 finished with value: 0.011705135925762307 and parameters: {'factors': 235, 'regularization': 0.08306956056091466, 'iterations': 16}. Best is trial 28 with value: 0.012555568631069764.\u001b[0m\n"
     ]
    },
    {
     "data": {
      "application/vnd.jupyter.widget-view+json": {
       "model_id": "6b49b3adb60445e1b69abe1365551c1b",
       "version_major": 2,
       "version_minor": 0
      },
      "text/plain": [
       "  0%|          | 0/14 [00:00<?, ?it/s]"
      ]
     },
     "metadata": {},
     "output_type": "display_data"
    },
    {
     "name": "stdout",
     "output_type": "stream",
     "text": [
      "\u001b[32m[I 2023-02-25 17:33:38,402]\u001b[0m Trial 32 finished with value: 0.011528284438015568 and parameters: {'factors': 213, 'regularization': 0.09410142248252243, 'iterations': 14}. Best is trial 28 with value: 0.012555568631069764.\u001b[0m\n"
     ]
    },
    {
     "data": {
      "application/vnd.jupyter.widget-view+json": {
       "model_id": "563b615348ec482c89e3e58a6ce5c789",
       "version_major": 2,
       "version_minor": 0
      },
      "text/plain": [
       "  0%|          | 0/24 [00:00<?, ?it/s]"
      ]
     },
     "metadata": {},
     "output_type": "display_data"
    },
    {
     "name": "stdout",
     "output_type": "stream",
     "text": [
      "\u001b[32m[I 2023-02-25 17:34:01,543]\u001b[0m Trial 33 finished with value: 0.011417633968300823 and parameters: {'factors': 238, 'regularization': 0.0732462649230482, 'iterations': 24}. Best is trial 28 with value: 0.012555568631069764.\u001b[0m\n"
     ]
    },
    {
     "data": {
      "application/vnd.jupyter.widget-view+json": {
       "model_id": "1f6ac6a946654168b2a8f5ede5c0f797",
       "version_major": 2,
       "version_minor": 0
      },
      "text/plain": [
       "  0%|          | 0/11 [00:00<?, ?it/s]"
      ]
     },
     "metadata": {},
     "output_type": "display_data"
    },
    {
     "name": "stdout",
     "output_type": "stream",
     "text": [
      "\u001b[32m[I 2023-02-25 17:34:21,579]\u001b[0m Trial 34 finished with value: 0.012687388733959009 and parameters: {'factors': 256, 'regularization': 0.06272298266457865, 'iterations': 11}. Best is trial 34 with value: 0.012687388733959009.\u001b[0m\n"
     ]
    },
    {
     "data": {
      "application/vnd.jupyter.widget-view+json": {
       "model_id": "b14f218052654e1a9dddc2f261f109ba",
       "version_major": 2,
       "version_minor": 0
      },
      "text/plain": [
       "  0%|          | 0/18 [00:00<?, ?it/s]"
      ]
     },
     "metadata": {},
     "output_type": "display_data"
    },
    {
     "name": "stdout",
     "output_type": "stream",
     "text": [
      "\u001b[32m[I 2023-02-25 17:34:44,196]\u001b[0m Trial 35 finished with value: 0.011941415428541952 and parameters: {'factors': 256, 'regularization': 0.06375151150867077, 'iterations': 18}. Best is trial 34 with value: 0.012687388733959009.\u001b[0m\n"
     ]
    },
    {
     "data": {
      "application/vnd.jupyter.widget-view+json": {
       "model_id": "469747865ca344489bcbe16fc41eb43a",
       "version_major": 2,
       "version_minor": 0
      },
      "text/plain": [
       "  0%|          | 0/9 [00:00<?, ?it/s]"
      ]
     },
     "metadata": {},
     "output_type": "display_data"
    },
    {
     "name": "stdout",
     "output_type": "stream",
     "text": [
      "\u001b[32m[I 2023-02-25 17:35:02,227]\u001b[0m Trial 36 finished with value: 0.012066483062736305 and parameters: {'factors': 215, 'regularization': 0.060220272391813115, 'iterations': 9}. Best is trial 34 with value: 0.012687388733959009.\u001b[0m\n"
     ]
    },
    {
     "data": {
      "application/vnd.jupyter.widget-view+json": {
       "model_id": "40c6868ba8e34c1a90f27bbdd7c7cbb5",
       "version_major": 2,
       "version_minor": 0
      },
      "text/plain": [
       "  0%|          | 0/10 [00:00<?, ?it/s]"
      ]
     },
     "metadata": {},
     "output_type": "display_data"
    },
    {
     "name": "stdout",
     "output_type": "stream",
     "text": [
      "\u001b[32m[I 2023-02-25 17:35:20,524]\u001b[0m Trial 37 finished with value: 0.011321223236152625 and parameters: {'factors': 214, 'regularization': 0.0621792375589135, 'iterations': 10}. Best is trial 34 with value: 0.012687388733959009.\u001b[0m\n"
     ]
    },
    {
     "data": {
      "application/vnd.jupyter.widget-view+json": {
       "model_id": "06665c0fc14540c2851afebc431eb78a",
       "version_major": 2,
       "version_minor": 0
      },
      "text/plain": [
       "  0%|          | 0/8 [00:00<?, ?it/s]"
      ]
     },
     "metadata": {},
     "output_type": "display_data"
    },
    {
     "name": "stdout",
     "output_type": "stream",
     "text": [
      "\u001b[32m[I 2023-02-25 17:35:38,032]\u001b[0m Trial 38 finished with value: 0.011064428667584593 and parameters: {'factors': 201, 'regularization': 0.04725496849268797, 'iterations': 8}. Best is trial 34 with value: 0.012687388733959009.\u001b[0m\n"
     ]
    },
    {
     "data": {
      "application/vnd.jupyter.widget-view+json": {
       "model_id": "579a863e014f4369908c9d5db8e284be",
       "version_major": 2,
       "version_minor": 0
      },
      "text/plain": [
       "  0%|          | 0/15 [00:00<?, ?it/s]"
      ]
     },
     "metadata": {},
     "output_type": "display_data"
    },
    {
     "name": "stdout",
     "output_type": "stream",
     "text": [
      "\u001b[32m[I 2023-02-25 17:35:49,180]\u001b[0m Trial 39 finished with value: 0.006551924087590337 and parameters: {'factors': 50, 'regularization': 0.06782924861379358, 'iterations': 15}. Best is trial 34 with value: 0.012687388733959009.\u001b[0m\n"
     ]
    },
    {
     "data": {
      "application/vnd.jupyter.widget-view+json": {
       "model_id": "7ef7e71ae320499f994deb81e42f47d8",
       "version_major": 2,
       "version_minor": 0
      },
      "text/plain": [
       "  0%|          | 0/43 [00:00<?, ?it/s]"
      ]
     },
     "metadata": {},
     "output_type": "display_data"
    },
    {
     "name": "stdout",
     "output_type": "stream",
     "text": [
      "\u001b[32m[I 2023-02-25 17:36:10,920]\u001b[0m Trial 40 finished with value: 0.009153279204436858 and parameters: {'factors': 181, 'regularization': 0.061068487991474636, 'iterations': 43}. Best is trial 34 with value: 0.012687388733959009.\u001b[0m\n"
     ]
    },
    {
     "data": {
      "application/vnd.jupyter.widget-view+json": {
       "model_id": "5ddce51baa744e4984f39fc9c498dc94",
       "version_major": 2,
       "version_minor": 0
      },
      "text/plain": [
       "  0%|          | 0/18 [00:00<?, ?it/s]"
      ]
     },
     "metadata": {},
     "output_type": "display_data"
    },
    {
     "name": "stdout",
     "output_type": "stream",
     "text": [
      "\u001b[32m[I 2023-02-25 17:36:33,560]\u001b[0m Trial 41 finished with value: 0.011565141954468497 and parameters: {'factors': 243, 'regularization': 0.06398202926743365, 'iterations': 18}. Best is trial 34 with value: 0.012687388733959009.\u001b[0m\n"
     ]
    },
    {
     "data": {
      "application/vnd.jupyter.widget-view+json": {
       "model_id": "d2327a2b86e146f098d459e4769996fd",
       "version_major": 2,
       "version_minor": 0
      },
      "text/plain": [
       "  0%|          | 0/11 [00:00<?, ?it/s]"
      ]
     },
     "metadata": {},
     "output_type": "display_data"
    },
    {
     "name": "stdout",
     "output_type": "stream",
     "text": [
      "\u001b[32m[I 2023-02-25 17:36:53,079]\u001b[0m Trial 42 finished with value: 0.011639795194291301 and parameters: {'factors': 222, 'regularization': 0.07023290215126596, 'iterations': 11}. Best is trial 34 with value: 0.012687388733959009.\u001b[0m\n"
     ]
    },
    {
     "data": {
      "application/vnd.jupyter.widget-view+json": {
       "model_id": "dd0fecff5ae94b3f83e0bf3618e6a938",
       "version_major": 2,
       "version_minor": 0
      },
      "text/plain": [
       "  0%|          | 0/19 [00:00<?, ?it/s]"
      ]
     },
     "metadata": {},
     "output_type": "display_data"
    },
    {
     "name": "stdout",
     "output_type": "stream",
     "text": [
      "\u001b[32m[I 2023-02-25 17:37:14,994]\u001b[0m Trial 43 finished with value: 0.011922206259537665 and parameters: {'factors': 256, 'regularization': 0.055985121158803705, 'iterations': 19}. Best is trial 34 with value: 0.012687388733959009.\u001b[0m\n"
     ]
    },
    {
     "data": {
      "application/vnd.jupyter.widget-view+json": {
       "model_id": "b1db2022b3404dc09519d1821af96e54",
       "version_major": 2,
       "version_minor": 0
      },
      "text/plain": [
       "  0%|          | 0/15 [00:00<?, ?it/s]"
      ]
     },
     "metadata": {},
     "output_type": "display_data"
    },
    {
     "name": "stdout",
     "output_type": "stream",
     "text": [
      "\u001b[32m[I 2023-02-25 17:37:35,363]\u001b[0m Trial 44 finished with value: 0.011078296016810764 and parameters: {'factors': 204, 'regularization': 0.048487662902681104, 'iterations': 15}. Best is trial 34 with value: 0.012687388733959009.\u001b[0m\n"
     ]
    },
    {
     "data": {
      "application/vnd.jupyter.widget-view+json": {
       "model_id": "66154757315b4acb9a7153ddf0046489",
       "version_major": 2,
       "version_minor": 0
      },
      "text/plain": [
       "  0%|          | 0/32 [00:00<?, ?it/s]"
      ]
     },
     "metadata": {},
     "output_type": "display_data"
    },
    {
     "name": "stdout",
     "output_type": "stream",
     "text": [
      "\u001b[32m[I 2023-02-25 17:37:53,918]\u001b[0m Trial 45 finished with value: 0.008938776075388623 and parameters: {'factors': 152, 'regularization': 0.07585293023794538, 'iterations': 32}. Best is trial 34 with value: 0.012687388733959009.\u001b[0m\n"
     ]
    },
    {
     "data": {
      "application/vnd.jupyter.widget-view+json": {
       "model_id": "396f852cec874c52a7d91e5531b58d4a",
       "version_major": 2,
       "version_minor": 0
      },
      "text/plain": [
       "  0%|          | 0/53 [00:00<?, ?it/s]"
      ]
     },
     "metadata": {},
     "output_type": "display_data"
    },
    {
     "name": "stdout",
     "output_type": "stream",
     "text": [
      "\u001b[32m[I 2023-02-25 17:38:26,529]\u001b[0m Trial 46 finished with value: 0.009853739705070284 and parameters: {'factors': 242, 'regularization': 0.06574454204395805, 'iterations': 53}. Best is trial 34 with value: 0.012687388733959009.\u001b[0m\n"
     ]
    },
    {
     "data": {
      "application/vnd.jupyter.widget-view+json": {
       "model_id": "70a2c88c9457461299da7dcf89877b50",
       "version_major": 2,
       "version_minor": 0
      },
      "text/plain": [
       "  0%|          | 0/10 [00:00<?, ?it/s]"
      ]
     },
     "metadata": {},
     "output_type": "display_data"
    },
    {
     "name": "stdout",
     "output_type": "stream",
     "text": [
      "\u001b[32m[I 2023-02-25 17:38:47,733]\u001b[0m Trial 47 finished with value: 0.012208251473550733 and parameters: {'factors': 246, 'regularization': 0.08095853944960593, 'iterations': 10}. Best is trial 34 with value: 0.012687388733959009.\u001b[0m\n"
     ]
    },
    {
     "data": {
      "application/vnd.jupyter.widget-view+json": {
       "model_id": "d6fb5c34f68240c69e50d6ea5957cabc",
       "version_major": 2,
       "version_minor": 0
      },
      "text/plain": [
       "  0%|          | 0/10 [00:00<?, ?it/s]"
      ]
     },
     "metadata": {},
     "output_type": "display_data"
    },
    {
     "name": "stdout",
     "output_type": "stream",
     "text": [
      "\u001b[32m[I 2023-02-25 17:39:06,686]\u001b[0m Trial 48 finished with value: 0.011188946486525506 and parameters: {'factors': 218, 'regularization': 0.07981526019000298, 'iterations': 10}. Best is trial 34 with value: 0.012687388733959009.\u001b[0m\n"
     ]
    },
    {
     "data": {
      "application/vnd.jupyter.widget-view+json": {
       "model_id": "736648aeb4e0432eb5cd7cae9c3718bd",
       "version_major": 2,
       "version_minor": 0
      },
      "text/plain": [
       "  0%|          | 0/8 [00:00<?, ?it/s]"
      ]
     },
     "metadata": {},
     "output_type": "display_data"
    },
    {
     "name": "stdout",
     "output_type": "stream",
     "text": [
      "\u001b[32m[I 2023-02-25 17:39:27,859]\u001b[0m Trial 49 finished with value: 0.012726699024974556 and parameters: {'factors': 245, 'regularization': 0.07438002604327433, 'iterations': 8}. Best is trial 49 with value: 0.012726699024974556.\u001b[0m\n"
     ]
    },
    {
     "data": {
      "application/vnd.jupyter.widget-view+json": {
       "model_id": "fb2417f3d7044de6a737e8cfd628fd0c",
       "version_major": 2,
       "version_minor": 0
      },
      "text/plain": [
       "  0%|          | 0/13 [00:00<?, ?it/s]"
      ]
     },
     "metadata": {},
     "output_type": "display_data"
    },
    {
     "name": "stdout",
     "output_type": "stream",
     "text": [
      "\u001b[32m[I 2023-02-25 17:39:47,921]\u001b[0m Trial 50 finished with value: 0.012200088929121498 and parameters: {'factors': 244, 'regularization': 0.08531925789836803, 'iterations': 13}. Best is trial 49 with value: 0.012726699024974556.\u001b[0m\n"
     ]
    },
    {
     "data": {
      "application/vnd.jupyter.widget-view+json": {
       "model_id": "9f419e9adc094285a9b092c2d9fbf804",
       "version_major": 2,
       "version_minor": 0
      },
      "text/plain": [
       "  0%|          | 0/12 [00:00<?, ?it/s]"
      ]
     },
     "metadata": {},
     "output_type": "display_data"
    },
    {
     "name": "stdout",
     "output_type": "stream",
     "text": [
      "\u001b[32m[I 2023-02-25 17:40:10,116]\u001b[0m Trial 51 finished with value: 0.01227676401057923 and parameters: {'factors': 247, 'regularization': 0.08585874679553449, 'iterations': 12}. Best is trial 49 with value: 0.012726699024974556.\u001b[0m\n"
     ]
    },
    {
     "data": {
      "application/vnd.jupyter.widget-view+json": {
       "model_id": "e6774f68e42b46f29bb73d8ed0273b77",
       "version_major": 2,
       "version_minor": 0
      },
      "text/plain": [
       "  0%|          | 0/16 [00:00<?, ?it/s]"
      ]
     },
     "metadata": {},
     "output_type": "display_data"
    },
    {
     "name": "stdout",
     "output_type": "stream",
     "text": [
      "\u001b[32m[I 2023-02-25 17:40:31,674]\u001b[0m Trial 52 finished with value: 0.011691829135627772 and parameters: {'factors': 234, 'regularization': 0.08206722376384264, 'iterations': 16}. Best is trial 49 with value: 0.012726699024974556.\u001b[0m\n"
     ]
    },
    {
     "data": {
      "application/vnd.jupyter.widget-view+json": {
       "model_id": "5d70eb2329f145ee8d8e8795a9220928",
       "version_major": 2,
       "version_minor": 0
      },
      "text/plain": [
       "  0%|          | 0/8 [00:00<?, ?it/s]"
      ]
     },
     "metadata": {},
     "output_type": "display_data"
    },
    {
     "name": "stdout",
     "output_type": "stream",
     "text": [
      "\u001b[32m[I 2023-02-25 17:40:52,366]\u001b[0m Trial 53 finished with value: 0.013415980248998914 and parameters: {'factors': 245, 'regularization': 0.07369519710331379, 'iterations': 8}. Best is trial 53 with value: 0.013415980248998914.\u001b[0m\n"
     ]
    },
    {
     "data": {
      "application/vnd.jupyter.widget-view+json": {
       "model_id": "4bc298b6062b4372b1df1c2242904066",
       "version_major": 2,
       "version_minor": 0
      },
      "text/plain": [
       "  0%|          | 0/8 [00:00<?, ?it/s]"
      ]
     },
     "metadata": {},
     "output_type": "display_data"
    },
    {
     "name": "stdout",
     "output_type": "stream",
     "text": [
      "\u001b[32m[I 2023-02-25 17:41:11,227]\u001b[0m Trial 54 finished with value: 0.012666233769966118 and parameters: {'factors': 234, 'regularization': 0.07759494467680286, 'iterations': 8}. Best is trial 53 with value: 0.013415980248998914.\u001b[0m\n"
     ]
    },
    {
     "data": {
      "application/vnd.jupyter.widget-view+json": {
       "model_id": "f6d8f40bc5334593a087a99de442de39",
       "version_major": 2,
       "version_minor": 0
      },
      "text/plain": [
       "  0%|          | 0/8 [00:00<?, ?it/s]"
      ]
     },
     "metadata": {},
     "output_type": "display_data"
    },
    {
     "name": "stdout",
     "output_type": "stream",
     "text": [
      "\u001b[32m[I 2023-02-25 17:41:20,055]\u001b[0m Trial 55 finished with value: 0.0037320242257075763 and parameters: {'factors': 13, 'regularization': 0.07348933231601269, 'iterations': 8}. Best is trial 53 with value: 0.013415980248998914.\u001b[0m\n"
     ]
    },
    {
     "data": {
      "application/vnd.jupyter.widget-view+json": {
       "model_id": "4f902e0a7dd2499c81e515206fa45ed6",
       "version_major": 2,
       "version_minor": 0
      },
      "text/plain": [
       "  0%|          | 0/8 [00:00<?, ?it/s]"
      ]
     },
     "metadata": {},
     "output_type": "display_data"
    },
    {
     "name": "stdout",
     "output_type": "stream",
     "text": [
      "\u001b[32m[I 2023-02-25 17:41:38,114]\u001b[0m Trial 56 finished with value: 0.012486324706879036 and parameters: {'factors': 237, 'regularization': 0.07763917318468291, 'iterations': 8}. Best is trial 53 with value: 0.013415980248998914.\u001b[0m\n"
     ]
    },
    {
     "data": {
      "application/vnd.jupyter.widget-view+json": {
       "model_id": "280d4e4b66e647d280d3fdbb5aeebc03",
       "version_major": 2,
       "version_minor": 0
      },
      "text/plain": [
       "  0%|          | 0/8 [00:00<?, ?it/s]"
      ]
     },
     "metadata": {},
     "output_type": "display_data"
    },
    {
     "name": "stdout",
     "output_type": "stream",
     "text": [
      "\u001b[32m[I 2023-02-25 17:41:54,456]\u001b[0m Trial 57 finished with value: 0.011682499151876614 and parameters: {'factors': 200, 'regularization': 0.07633260539560005, 'iterations': 8}. Best is trial 53 with value: 0.013415980248998914.\u001b[0m\n"
     ]
    },
    {
     "data": {
      "application/vnd.jupyter.widget-view+json": {
       "model_id": "4f7b976da9e74f2aaf832bf8f2e617f5",
       "version_major": 2,
       "version_minor": 0
      },
      "text/plain": [
       "  0%|          | 0/60 [00:00<?, ?it/s]"
      ]
     },
     "metadata": {},
     "output_type": "display_data"
    },
    {
     "name": "stdout",
     "output_type": "stream",
     "text": [
      "\u001b[32m[I 2023-02-25 17:42:25,247]\u001b[0m Trial 58 finished with value: 0.010241954035546121 and parameters: {'factors': 234, 'regularization': 0.07350055886411926, 'iterations': 60}. Best is trial 53 with value: 0.013415980248998914.\u001b[0m\n"
     ]
    },
    {
     "data": {
      "application/vnd.jupyter.widget-view+json": {
       "model_id": "bfe959d2b28d4b819224ad61fc44a1d2",
       "version_major": 2,
       "version_minor": 0
      },
      "text/plain": [
       "  0%|          | 0/14 [00:00<?, ?it/s]"
      ]
     },
     "metadata": {},
     "output_type": "display_data"
    },
    {
     "name": "stdout",
     "output_type": "stream",
     "text": [
      "\u001b[32m[I 2023-02-25 17:42:39,372]\u001b[0m Trial 59 finished with value: 0.009078268352093891 and parameters: {'factors': 122, 'regularization': 0.07044787989806262, 'iterations': 14}. Best is trial 53 with value: 0.013415980248998914.\u001b[0m\n"
     ]
    },
    {
     "data": {
      "application/vnd.jupyter.widget-view+json": {
       "model_id": "e3a23a5c988e48feb2645ff3d12c7610",
       "version_major": 2,
       "version_minor": 0
      },
      "text/plain": [
       "  0%|          | 0/11 [00:00<?, ?it/s]"
      ]
     },
     "metadata": {},
     "output_type": "display_data"
    },
    {
     "name": "stdout",
     "output_type": "stream",
     "text": [
      "\u001b[32m[I 2023-02-25 17:42:59,674]\u001b[0m Trial 60 finished with value: 0.0121414171752821 and parameters: {'factors': 234, 'regularization': 0.07702743608771898, 'iterations': 11}. Best is trial 53 with value: 0.013415980248998914.\u001b[0m\n"
     ]
    },
    {
     "data": {
      "application/vnd.jupyter.widget-view+json": {
       "model_id": "8e078cf3ad2c436f974a69fdb85b89f5",
       "version_major": 2,
       "version_minor": 0
      },
      "text/plain": [
       "  0%|          | 0/12 [00:00<?, ?it/s]"
      ]
     },
     "metadata": {},
     "output_type": "display_data"
    },
    {
     "name": "stdout",
     "output_type": "stream",
     "text": [
      "\u001b[32m[I 2023-02-25 17:43:20,532]\u001b[0m Trial 61 finished with value: 0.011904290849063769 and parameters: {'factors': 248, 'regularization': 0.08762987118210346, 'iterations': 12}. Best is trial 53 with value: 0.013415980248998914.\u001b[0m\n"
     ]
    },
    {
     "data": {
      "application/vnd.jupyter.widget-view+json": {
       "model_id": "f45b49b5e5d54bea8904b33315ff1cbc",
       "version_major": 2,
       "version_minor": 0
      },
      "text/plain": [
       "  0%|          | 0/8 [00:00<?, ?it/s]"
      ]
     },
     "metadata": {},
     "output_type": "display_data"
    },
    {
     "name": "stdout",
     "output_type": "stream",
     "text": [
      "\u001b[32m[I 2023-02-25 17:43:38,942]\u001b[0m Trial 62 finished with value: 0.012799772547346757 and parameters: {'factors': 238, 'regularization': 0.07933927231060323, 'iterations': 8}. Best is trial 53 with value: 0.013415980248998914.\u001b[0m\n"
     ]
    },
    {
     "data": {
      "application/vnd.jupyter.widget-view+json": {
       "model_id": "59a7decf87904387811c209496ef8e8c",
       "version_major": 2,
       "version_minor": 0
      },
      "text/plain": [
       "  0%|          | 0/8 [00:00<?, ?it/s]"
      ]
     },
     "metadata": {},
     "output_type": "display_data"
    },
    {
     "name": "stdout",
     "output_type": "stream",
     "text": [
      "\u001b[32m[I 2023-02-25 17:43:58,228]\u001b[0m Trial 63 finished with value: 0.012282512190044132 and parameters: {'factors': 223, 'regularization': 0.07877861532857336, 'iterations': 8}. Best is trial 53 with value: 0.013415980248998914.\u001b[0m\n"
     ]
    },
    {
     "data": {
      "application/vnd.jupyter.widget-view+json": {
       "model_id": "1ee00f18fe9a417c92a689c941adaa30",
       "version_major": 2,
       "version_minor": 0
      },
      "text/plain": [
       "  0%|          | 0/10 [00:00<?, ?it/s]"
      ]
     },
     "metadata": {},
     "output_type": "display_data"
    },
    {
     "name": "stdout",
     "output_type": "stream",
     "text": [
      "\u001b[32m[I 2023-02-25 17:44:17,139]\u001b[0m Trial 64 finished with value: 0.011669318021993592 and parameters: {'factors': 209, 'regularization': 0.07000524867071953, 'iterations': 10}. Best is trial 53 with value: 0.013415980248998914.\u001b[0m\n"
     ]
    },
    {
     "data": {
      "application/vnd.jupyter.widget-view+json": {
       "model_id": "a5bff7fa916e4313a6b22af64d0eab00",
       "version_major": 2,
       "version_minor": 0
      },
      "text/plain": [
       "  0%|          | 0/14 [00:00<?, ?it/s]"
      ]
     },
     "metadata": {},
     "output_type": "display_data"
    },
    {
     "name": "stdout",
     "output_type": "stream",
     "text": [
      "\u001b[32m[I 2023-02-25 17:44:37,368]\u001b[0m Trial 65 finished with value: 0.01159026003511545 and parameters: {'factors': 236, 'regularization': 0.06649105860239862, 'iterations': 14}. Best is trial 53 with value: 0.013415980248998914.\u001b[0m\n"
     ]
    },
    {
     "data": {
      "application/vnd.jupyter.widget-view+json": {
       "model_id": "38fa497b8a6548fb98429f5da1feb9b6",
       "version_major": 2,
       "version_minor": 0
      },
      "text/plain": [
       "  0%|          | 0/10 [00:00<?, ?it/s]"
      ]
     },
     "metadata": {},
     "output_type": "display_data"
    },
    {
     "name": "stdout",
     "output_type": "stream",
     "text": [
      "\u001b[32m[I 2023-02-25 17:44:57,120]\u001b[0m Trial 66 finished with value: 0.012208442289982304 and parameters: {'factors': 230, 'regularization': 0.08387206762705603, 'iterations': 10}. Best is trial 53 with value: 0.013415980248998914.\u001b[0m\n"
     ]
    },
    {
     "data": {
      "application/vnd.jupyter.widget-view+json": {
       "model_id": "c362356790d94306ae4c4644c5fd94c5",
       "version_major": 2,
       "version_minor": 0
      },
      "text/plain": [
       "  0%|          | 0/16 [00:00<?, ?it/s]"
      ]
     },
     "metadata": {},
     "output_type": "display_data"
    },
    {
     "name": "stdout",
     "output_type": "stream",
     "text": [
      "\u001b[32m[I 2023-02-25 17:45:19,190]\u001b[0m Trial 67 finished with value: 0.01171097924771585 and parameters: {'factors': 248, 'regularization': 0.07402546170963699, 'iterations': 16}. Best is trial 53 with value: 0.013415980248998914.\u001b[0m\n"
     ]
    },
    {
     "data": {
      "application/vnd.jupyter.widget-view+json": {
       "model_id": "1717f73c7dec47dbbfefa7deda840103",
       "version_major": 2,
       "version_minor": 0
      },
      "text/plain": [
       "  0%|          | 0/12 [00:00<?, ?it/s]"
      ]
     },
     "metadata": {},
     "output_type": "display_data"
    },
    {
     "name": "stdout",
     "output_type": "stream",
     "text": [
      "\u001b[32m[I 2023-02-25 17:45:37,456]\u001b[0m Trial 68 finished with value: 0.012557769324749822 and parameters: {'factors': 224, 'regularization': 0.07941045270153002, 'iterations': 12}. Best is trial 53 with value: 0.013415980248998914.\u001b[0m\n"
     ]
    },
    {
     "data": {
      "application/vnd.jupyter.widget-view+json": {
       "model_id": "af3a2ae0a42244789a9d316346c0fcdc",
       "version_major": 2,
       "version_minor": 0
      },
      "text/plain": [
       "  0%|          | 0/12 [00:00<?, ?it/s]"
      ]
     },
     "metadata": {},
     "output_type": "display_data"
    },
    {
     "name": "stdout",
     "output_type": "stream",
     "text": [
      "\u001b[32m[I 2023-02-25 17:45:49,327]\u001b[0m Trial 69 finished with value: 0.007442768120426876 and parameters: {'factors': 71, 'regularization': 0.08412081188784354, 'iterations': 12}. Best is trial 53 with value: 0.013415980248998914.\u001b[0m\n"
     ]
    },
    {
     "data": {
      "application/vnd.jupyter.widget-view+json": {
       "model_id": "20fc4c4055864b4e98cb271a128bc9d0",
       "version_major": 2,
       "version_minor": 0
      },
      "text/plain": [
       "  0%|          | 0/38 [00:00<?, ?it/s]"
      ]
     },
     "metadata": {},
     "output_type": "display_data"
    },
    {
     "name": "stdout",
     "output_type": "stream",
     "text": [
      "\u001b[32m[I 2023-02-25 17:46:12,887]\u001b[0m Trial 70 finished with value: 0.0107031090566973 and parameters: {'factors': 221, 'regularization': 0.08166452532392318, 'iterations': 38}. Best is trial 53 with value: 0.013415980248998914.\u001b[0m\n"
     ]
    },
    {
     "data": {
      "application/vnd.jupyter.widget-view+json": {
       "model_id": "b137c3ec78894924bacc79fef311abad",
       "version_major": 2,
       "version_minor": 0
      },
      "text/plain": [
       "  0%|          | 0/8 [00:00<?, ?it/s]"
      ]
     },
     "metadata": {},
     "output_type": "display_data"
    },
    {
     "name": "stdout",
     "output_type": "stream",
     "text": [
      "\u001b[32m[I 2023-02-25 17:46:31,555]\u001b[0m Trial 71 finished with value: 0.012391246764145216 and parameters: {'factors': 240, 'regularization': 0.07823096783354283, 'iterations': 8}. Best is trial 53 with value: 0.013415980248998914.\u001b[0m\n"
     ]
    },
    {
     "data": {
      "application/vnd.jupyter.widget-view+json": {
       "model_id": "34b63ecdb7c646909909bb6afbfbd510",
       "version_major": 2,
       "version_minor": 0
      },
      "text/plain": [
       "  0%|          | 0/13 [00:00<?, ?it/s]"
      ]
     },
     "metadata": {},
     "output_type": "display_data"
    },
    {
     "name": "stdout",
     "output_type": "stream",
     "text": [
      "\u001b[32m[I 2023-02-25 17:46:52,047]\u001b[0m Trial 72 finished with value: 0.011925906871386746 and parameters: {'factors': 250, 'regularization': 0.07105968486608927, 'iterations': 13}. Best is trial 53 with value: 0.013415980248998914.\u001b[0m\n"
     ]
    },
    {
     "data": {
      "application/vnd.jupyter.widget-view+json": {
       "model_id": "346b3fdc7c7a440e94e2a88dac526363",
       "version_major": 2,
       "version_minor": 0
      },
      "text/plain": [
       "  0%|          | 0/10 [00:00<?, ?it/s]"
      ]
     },
     "metadata": {},
     "output_type": "display_data"
    },
    {
     "name": "stdout",
     "output_type": "stream",
     "text": [
      "\u001b[32m[I 2023-02-25 17:47:11,644]\u001b[0m Trial 73 finished with value: 0.012054916107899103 and parameters: {'factors': 229, 'regularization': 0.07605414774879986, 'iterations': 10}. Best is trial 53 with value: 0.013415980248998914.\u001b[0m\n",
      "EarlyStopping Exceeded: No new best scores on iters 20\n"
     ]
    }
   ],
   "source": [
    "recall_objective = Objective(csr_train, interactions.valid, recall)\n",
    "recall_optimizer = OptunaMaximizer(recall_objective, \"ALS recall maximize\")\n",
    "recall_best_trial = recall_optimizer.optimize(Config.ITERATIONS, Config.STOP_ITERATION)"
   ]
  },
  {
   "cell_type": "code",
   "execution_count": 13,
   "metadata": {},
   "outputs": [
    {
     "data": {
      "application/vnd.jupyter.widget-view+json": {
       "model_id": "4d6dba6b3a36431bab6ab26cc21a61a3",
       "version_major": 2,
       "version_minor": 0
      },
      "text/plain": [
       "  0%|          | 0/63 [00:00<?, ?it/s]"
      ]
     },
     "metadata": {},
     "output_type": "display_data"
    }
   ],
   "source": [
    "precision_model = AlternatingLeastSquares(**precision_best_trial.params)\n",
    "precision_model.fit(csr_train)"
   ]
  },
  {
   "cell_type": "code",
   "execution_count": 14,
   "metadata": {},
   "outputs": [
    {
     "data": {
      "application/vnd.jupyter.widget-view+json": {
       "model_id": "52a39febcac649de9a7e65ba84d1adbd",
       "version_major": 2,
       "version_minor": 0
      },
      "text/plain": [
       "  0%|          | 0/8 [00:00<?, ?it/s]"
      ]
     },
     "metadata": {},
     "output_type": "display_data"
    }
   ],
   "source": [
    "recall_model = AlternatingLeastSquares(**recall_best_trial.params)\n",
    "recall_model.fit(csr_train)"
   ]
  },
  {
   "cell_type": "code",
   "execution_count": 15,
   "metadata": {},
   "outputs": [
    {
     "data": {
      "application/vnd.jupyter.widget-view+json": {
       "model_id": "0d476c33584d43ad9086f6e57e9b04f6",
       "version_major": 2,
       "version_minor": 0
      },
      "text/plain": [
       "  0%|          | 0/8 [00:00<?, ?it/s]"
      ]
     },
     "metadata": {},
     "output_type": "display_data"
    }
   ],
   "source": [
    "fscore_model = AlternatingLeastSquares(**fscore_best_trial.params)\n",
    "fscore_model.fit(csr_train)"
   ]
  },
  {
   "cell_type": "code",
   "execution_count": 16,
   "metadata": {},
   "outputs": [],
   "source": [
    "models = {\n",
    "    \"fscore_model\": fscore_model,\n",
    "    \"recall_model\": recall_model,\n",
    "    \"precision_model\": precision_model\n",
    "}"
   ]
  },
  {
   "cell_type": "code",
   "execution_count": 17,
   "metadata": {},
   "outputs": [],
   "source": [
    "metrics = {\n",
    "    \"precision\": precision,\n",
    "    \"recall\": recall\n",
    "}"
   ]
  },
  {
   "cell_type": "code",
   "execution_count": 18,
   "metadata": {},
   "outputs": [
    {
     "name": "stdout",
     "output_type": "stream",
     "text": [
      "Model 'fscore_model':\n",
      "\tMetric precision@10: 0.0018104817363684472\n",
      "\tMetric recall@10: 0.0095555761807747\n",
      "Model 'recall_model':\n",
      "\tMetric precision@10: 0.0019798835362625734\n",
      "\tMetric recall@10: 0.010332467074129329\n",
      "Model 'precision_model':\n",
      "\tMetric precision@10: 0.0015669666490206434\n",
      "\tMetric recall@10: 0.008093229046114172\n"
     ]
    }
   ],
   "source": [
    "for model_name, model in models.items():\n",
    "    pred = pd.DataFrame(interactions.test[\"user_id\"].drop_duplicates())\n",
    "    print(f\"Model '{model_name}':\")\n",
    "    pred[\"item_id\"] = pred[\"user_id\"].apply(\n",
    "        lambda user_id: \n",
    "            model.recommend(\n",
    "                user_id, \n",
    "                csr_train[user_id],\n",
    "                N=Config.K,\n",
    "                filter_already_liked_items=True\n",
    "            )[0]\n",
    "    )\n",
    "    pred = pred.explode(\"item_id\")\n",
    "    for metric_name, metric in metrics.items():\n",
    "        metric_val = interactions.test[\"user_id\"].drop_duplicates().apply(\n",
    "            lambda user_id: \n",
    "                metric.calculate(\n",
    "                    pred[pred[\"user_id\"] == user_id][\"item_id\"],\n",
    "                    interactions.test[interactions.test[\"user_id\"] == user_id][\"item_id\"]\n",
    "                )\n",
    "        ).mean()\n",
    "        print(f\"\\tMetric {metric_name}@{Config.K}: {metric_val}\")"
   ]
  },
  {
   "cell_type": "code",
   "execution_count": 20,
   "metadata": {},
   "outputs": [],
   "source": [
    "with Config.IMPLICIT_ALS_PATH.open(\"wb\") as file_object:\n",
    "    pickle.dump(recall_model, file_object)"
   ]
  }
 ],
 "metadata": {
  "kernelspec": {
   "display_name": "core",
   "language": "python",
   "name": "python3"
  },
  "language_info": {
   "codemirror_mode": {
    "name": "ipython",
    "version": 3
   },
   "file_extension": ".py",
   "mimetype": "text/x-python",
   "name": "python",
   "nbconvert_exporter": "python",
   "pygments_lexer": "ipython3",
   "version": "3.10.9"
  },
  "orig_nbformat": 4,
  "vscode": {
   "interpreter": {
    "hash": "009d69282f0b7257078526d54b136153003b0cf2c7ed5bb47bc5d27e99d5a7ba"
   }
  }
 },
 "nbformat": 4,
 "nbformat_minor": 2
}

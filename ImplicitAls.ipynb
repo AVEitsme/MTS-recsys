{
 "cells": [
  {
   "cell_type": "code",
   "execution_count": 1,
   "metadata": {},
   "outputs": [],
   "source": [
    "import pickle\n",
    "import pandas as pd\n",
    "\n",
    "from implicit.als import AlternatingLeastSquares\n",
    "from scipy.sparse import csr_matrix\n",
    "from typing import Callable\n",
    "from src.config import Config\n",
    "from src.dataset import DatasetProcessor\n",
    "from src.metrics import PrecisionAtK, RecallAtK\n",
    "from src.optimizer import OptunaMaximizer"
   ]
  },
  {
   "cell_type": "code",
   "execution_count": 2,
   "metadata": {},
   "outputs": [],
   "source": [
    "with Config.PREPROCESSED_INTERACTIONS_PATH.open(\"rb\") as file_object:\n",
    "    interactions = pickle.load(file_object)"
   ]
  },
  {
   "cell_type": "code",
   "execution_count": 3,
   "metadata": {},
   "outputs": [
    {
     "data": {
      "text/html": [
       "<div>\n",
       "<style scoped>\n",
       "    .dataframe tbody tr th:only-of-type {\n",
       "        vertical-align: middle;\n",
       "    }\n",
       "\n",
       "    .dataframe tbody tr th {\n",
       "        vertical-align: top;\n",
       "    }\n",
       "\n",
       "    .dataframe thead th {\n",
       "        text-align: right;\n",
       "    }\n",
       "</style>\n",
       "<table border=\"1\" class=\"dataframe\">\n",
       "  <thead>\n",
       "    <tr style=\"text-align: right;\">\n",
       "      <th></th>\n",
       "      <th>user_id</th>\n",
       "      <th>item_id</th>\n",
       "      <th>progress</th>\n",
       "      <th>rating</th>\n",
       "      <th>start_date</th>\n",
       "      <th>interest_score</th>\n",
       "    </tr>\n",
       "  </thead>\n",
       "  <tbody>\n",
       "    <tr>\n",
       "      <th>0</th>\n",
       "      <td>126706</td>\n",
       "      <td>14433</td>\n",
       "      <td>80</td>\n",
       "      <td>NaN</td>\n",
       "      <td>2018-01-01</td>\n",
       "      <td>0.400</td>\n",
       "    </tr>\n",
       "    <tr>\n",
       "      <th>1</th>\n",
       "      <td>127290</td>\n",
       "      <td>140952</td>\n",
       "      <td>58</td>\n",
       "      <td>NaN</td>\n",
       "      <td>2018-01-01</td>\n",
       "      <td>0.290</td>\n",
       "    </tr>\n",
       "    <tr>\n",
       "      <th>2</th>\n",
       "      <td>66991</td>\n",
       "      <td>198453</td>\n",
       "      <td>89</td>\n",
       "      <td>NaN</td>\n",
       "      <td>2018-01-01</td>\n",
       "      <td>0.445</td>\n",
       "    </tr>\n",
       "    <tr>\n",
       "      <th>3</th>\n",
       "      <td>46791</td>\n",
       "      <td>83486</td>\n",
       "      <td>23</td>\n",
       "      <td>5.0</td>\n",
       "      <td>2018-01-01</td>\n",
       "      <td>0.615</td>\n",
       "    </tr>\n",
       "    <tr>\n",
       "      <th>4</th>\n",
       "      <td>79313</td>\n",
       "      <td>188770</td>\n",
       "      <td>88</td>\n",
       "      <td>5.0</td>\n",
       "      <td>2018-01-01</td>\n",
       "      <td>0.940</td>\n",
       "    </tr>\n",
       "    <tr>\n",
       "      <th>...</th>\n",
       "      <td>...</td>\n",
       "      <td>...</td>\n",
       "      <td>...</td>\n",
       "      <td>...</td>\n",
       "      <td>...</td>\n",
       "      <td>...</td>\n",
       "    </tr>\n",
       "    <tr>\n",
       "      <th>1532993</th>\n",
       "      <td>153908</td>\n",
       "      <td>98585</td>\n",
       "      <td>44</td>\n",
       "      <td>NaN</td>\n",
       "      <td>2019-02-11</td>\n",
       "      <td>0.220</td>\n",
       "    </tr>\n",
       "    <tr>\n",
       "      <th>1532994</th>\n",
       "      <td>154008</td>\n",
       "      <td>251969</td>\n",
       "      <td>4</td>\n",
       "      <td>NaN</td>\n",
       "      <td>2018-04-08</td>\n",
       "      <td>0.020</td>\n",
       "    </tr>\n",
       "    <tr>\n",
       "      <th>1532995</th>\n",
       "      <td>154892</td>\n",
       "      <td>298192</td>\n",
       "      <td>68</td>\n",
       "      <td>5.0</td>\n",
       "      <td>2019-02-16</td>\n",
       "      <td>0.840</td>\n",
       "    </tr>\n",
       "    <tr>\n",
       "      <th>1532996</th>\n",
       "      <td>156948</td>\n",
       "      <td>38118</td>\n",
       "      <td>78</td>\n",
       "      <td>5.0</td>\n",
       "      <td>2018-08-19</td>\n",
       "      <td>0.890</td>\n",
       "    </tr>\n",
       "    <tr>\n",
       "      <th>1532997</th>\n",
       "      <td>158041</td>\n",
       "      <td>208145</td>\n",
       "      <td>64</td>\n",
       "      <td>4.0</td>\n",
       "      <td>2019-06-16</td>\n",
       "      <td>0.720</td>\n",
       "    </tr>\n",
       "  </tbody>\n",
       "</table>\n",
       "<p>1532998 rows × 6 columns</p>\n",
       "</div>"
      ],
      "text/plain": [
       "         user_id  item_id  progress  rating start_date  interest_score\n",
       "0         126706    14433        80     NaN 2018-01-01           0.400\n",
       "1         127290   140952        58     NaN 2018-01-01           0.290\n",
       "2          66991   198453        89     NaN 2018-01-01           0.445\n",
       "3          46791    83486        23     5.0 2018-01-01           0.615\n",
       "4          79313   188770        88     5.0 2018-01-01           0.940\n",
       "...          ...      ...       ...     ...        ...             ...\n",
       "1532993   153908    98585        44     NaN 2019-02-11           0.220\n",
       "1532994   154008   251969         4     NaN 2018-04-08           0.020\n",
       "1532995   154892   298192        68     5.0 2019-02-16           0.840\n",
       "1532996   156948    38118        78     5.0 2018-08-19           0.890\n",
       "1532997   158041   208145        64     4.0 2019-06-16           0.720\n",
       "\n",
       "[1532998 rows x 6 columns]"
      ]
     },
     "execution_count": 3,
     "metadata": {},
     "output_type": "execute_result"
    }
   ],
   "source": [
    "interactions"
   ]
  },
  {
   "cell_type": "code",
   "execution_count": 4,
   "metadata": {},
   "outputs": [],
   "source": [
    "train, test = DatasetProcessor.split_train_test(interactions, \"start_date\", Config.TEST_DAYS)\n",
    "train, valid = DatasetProcessor.split_train_test(train, \"start_date\", Config.TEST_DAYS * 2)\n",
    "train = train[[\"user_id\", \"item_id\", \"interest_score\"]]\n",
    "test = test[[\"user_id\", \"item_id\", \"interest_score\"]]\n",
    "valid = valid[[\"user_id\", \"item_id\", \"interest_score\"]]"
   ]
  },
  {
   "cell_type": "code",
   "execution_count": 5,
   "metadata": {},
   "outputs": [
    {
     "data": {
      "text/html": [
       "<div>\n",
       "<style scoped>\n",
       "    .dataframe tbody tr th:only-of-type {\n",
       "        vertical-align: middle;\n",
       "    }\n",
       "\n",
       "    .dataframe tbody tr th {\n",
       "        vertical-align: top;\n",
       "    }\n",
       "\n",
       "    .dataframe thead th {\n",
       "        text-align: right;\n",
       "    }\n",
       "</style>\n",
       "<table border=\"1\" class=\"dataframe\">\n",
       "  <thead>\n",
       "    <tr style=\"text-align: right;\">\n",
       "      <th></th>\n",
       "      <th>user_id</th>\n",
       "      <th>item_id</th>\n",
       "      <th>interest_score</th>\n",
       "    </tr>\n",
       "  </thead>\n",
       "  <tbody>\n",
       "    <tr>\n",
       "      <th>0</th>\n",
       "      <td>126706</td>\n",
       "      <td>14433</td>\n",
       "      <td>0.400</td>\n",
       "    </tr>\n",
       "    <tr>\n",
       "      <th>1</th>\n",
       "      <td>127290</td>\n",
       "      <td>140952</td>\n",
       "      <td>0.290</td>\n",
       "    </tr>\n",
       "    <tr>\n",
       "      <th>2</th>\n",
       "      <td>66991</td>\n",
       "      <td>198453</td>\n",
       "      <td>0.445</td>\n",
       "    </tr>\n",
       "    <tr>\n",
       "      <th>3</th>\n",
       "      <td>46791</td>\n",
       "      <td>83486</td>\n",
       "      <td>0.615</td>\n",
       "    </tr>\n",
       "    <tr>\n",
       "      <th>4</th>\n",
       "      <td>79313</td>\n",
       "      <td>188770</td>\n",
       "      <td>0.940</td>\n",
       "    </tr>\n",
       "    <tr>\n",
       "      <th>...</th>\n",
       "      <td>...</td>\n",
       "      <td>...</td>\n",
       "      <td>...</td>\n",
       "    </tr>\n",
       "    <tr>\n",
       "      <th>1532993</th>\n",
       "      <td>153908</td>\n",
       "      <td>98585</td>\n",
       "      <td>0.220</td>\n",
       "    </tr>\n",
       "    <tr>\n",
       "      <th>1532994</th>\n",
       "      <td>154008</td>\n",
       "      <td>251969</td>\n",
       "      <td>0.020</td>\n",
       "    </tr>\n",
       "    <tr>\n",
       "      <th>1532995</th>\n",
       "      <td>154892</td>\n",
       "      <td>298192</td>\n",
       "      <td>0.840</td>\n",
       "    </tr>\n",
       "    <tr>\n",
       "      <th>1532996</th>\n",
       "      <td>156948</td>\n",
       "      <td>38118</td>\n",
       "      <td>0.890</td>\n",
       "    </tr>\n",
       "    <tr>\n",
       "      <th>1532997</th>\n",
       "      <td>158041</td>\n",
       "      <td>208145</td>\n",
       "      <td>0.720</td>\n",
       "    </tr>\n",
       "  </tbody>\n",
       "</table>\n",
       "<p>1505202 rows × 3 columns</p>\n",
       "</div>"
      ],
      "text/plain": [
       "         user_id  item_id  interest_score\n",
       "0         126706    14433           0.400\n",
       "1         127290   140952           0.290\n",
       "2          66991   198453           0.445\n",
       "3          46791    83486           0.615\n",
       "4          79313   188770           0.940\n",
       "...          ...      ...             ...\n",
       "1532993   153908    98585           0.220\n",
       "1532994   154008   251969           0.020\n",
       "1532995   154892   298192           0.840\n",
       "1532996   156948    38118           0.890\n",
       "1532997   158041   208145           0.720\n",
       "\n",
       "[1505202 rows x 3 columns]"
      ]
     },
     "execution_count": 5,
     "metadata": {},
     "output_type": "execute_result"
    }
   ],
   "source": [
    "train"
   ]
  },
  {
   "cell_type": "code",
   "execution_count": 6,
   "metadata": {},
   "outputs": [
    {
     "data": {
      "text/html": [
       "<div>\n",
       "<style scoped>\n",
       "    .dataframe tbody tr th:only-of-type {\n",
       "        vertical-align: middle;\n",
       "    }\n",
       "\n",
       "    .dataframe tbody tr th {\n",
       "        vertical-align: top;\n",
       "    }\n",
       "\n",
       "    .dataframe thead th {\n",
       "        text-align: right;\n",
       "    }\n",
       "</style>\n",
       "<table border=\"1\" class=\"dataframe\">\n",
       "  <thead>\n",
       "    <tr style=\"text-align: right;\">\n",
       "      <th></th>\n",
       "      <th>user_id</th>\n",
       "      <th>item_id</th>\n",
       "      <th>interest_score</th>\n",
       "    </tr>\n",
       "  </thead>\n",
       "  <tbody>\n",
       "    <tr>\n",
       "      <th>1517914</th>\n",
       "      <td>38753</td>\n",
       "      <td>135245</td>\n",
       "      <td>0.000</td>\n",
       "    </tr>\n",
       "    <tr>\n",
       "      <th>1517915</th>\n",
       "      <td>101642</td>\n",
       "      <td>319500</td>\n",
       "      <td>0.835</td>\n",
       "    </tr>\n",
       "    <tr>\n",
       "      <th>1517916</th>\n",
       "      <td>13548</td>\n",
       "      <td>251184</td>\n",
       "      <td>0.000</td>\n",
       "    </tr>\n",
       "    <tr>\n",
       "      <th>1517917</th>\n",
       "      <td>130425</td>\n",
       "      <td>193445</td>\n",
       "      <td>0.490</td>\n",
       "    </tr>\n",
       "    <tr>\n",
       "      <th>1517918</th>\n",
       "      <td>93986</td>\n",
       "      <td>80733</td>\n",
       "      <td>0.235</td>\n",
       "    </tr>\n",
       "    <tr>\n",
       "      <th>...</th>\n",
       "      <td>...</td>\n",
       "      <td>...</td>\n",
       "      <td>...</td>\n",
       "    </tr>\n",
       "    <tr>\n",
       "      <th>1530838</th>\n",
       "      <td>141930</td>\n",
       "      <td>219928</td>\n",
       "      <td>0.450</td>\n",
       "    </tr>\n",
       "    <tr>\n",
       "      <th>1530839</th>\n",
       "      <td>53358</td>\n",
       "      <td>42887</td>\n",
       "      <td>0.290</td>\n",
       "    </tr>\n",
       "    <tr>\n",
       "      <th>1530840</th>\n",
       "      <td>151170</td>\n",
       "      <td>284652</td>\n",
       "      <td>0.135</td>\n",
       "    </tr>\n",
       "    <tr>\n",
       "      <th>1530841</th>\n",
       "      <td>141293</td>\n",
       "      <td>273421</td>\n",
       "      <td>0.240</td>\n",
       "    </tr>\n",
       "    <tr>\n",
       "      <th>1530842</th>\n",
       "      <td>65459</td>\n",
       "      <td>109030</td>\n",
       "      <td>0.365</td>\n",
       "    </tr>\n",
       "  </tbody>\n",
       "</table>\n",
       "<p>12929 rows × 3 columns</p>\n",
       "</div>"
      ],
      "text/plain": [
       "         user_id  item_id  interest_score\n",
       "1517914    38753   135245           0.000\n",
       "1517915   101642   319500           0.835\n",
       "1517916    13548   251184           0.000\n",
       "1517917   130425   193445           0.490\n",
       "1517918    93986    80733           0.235\n",
       "...          ...      ...             ...\n",
       "1530838   141930   219928           0.450\n",
       "1530839    53358    42887           0.290\n",
       "1530840   151170   284652           0.135\n",
       "1530841   141293   273421           0.240\n",
       "1530842    65459   109030           0.365\n",
       "\n",
       "[12929 rows x 3 columns]"
      ]
     },
     "execution_count": 6,
     "metadata": {},
     "output_type": "execute_result"
    }
   ],
   "source": [
    "test"
   ]
  },
  {
   "cell_type": "code",
   "execution_count": 7,
   "metadata": {},
   "outputs": [
    {
     "data": {
      "text/html": [
       "<div>\n",
       "<style scoped>\n",
       "    .dataframe tbody tr th:only-of-type {\n",
       "        vertical-align: middle;\n",
       "    }\n",
       "\n",
       "    .dataframe tbody tr th {\n",
       "        vertical-align: top;\n",
       "    }\n",
       "\n",
       "    .dataframe thead th {\n",
       "        text-align: right;\n",
       "    }\n",
       "</style>\n",
       "<table border=\"1\" class=\"dataframe\">\n",
       "  <thead>\n",
       "    <tr style=\"text-align: right;\">\n",
       "      <th></th>\n",
       "      <th>user_id</th>\n",
       "      <th>item_id</th>\n",
       "      <th>interest_score</th>\n",
       "    </tr>\n",
       "  </thead>\n",
       "  <tbody>\n",
       "    <tr>\n",
       "      <th>1503047</th>\n",
       "      <td>22032</td>\n",
       "      <td>287219</td>\n",
       "      <td>0.275</td>\n",
       "    </tr>\n",
       "    <tr>\n",
       "      <th>1503048</th>\n",
       "      <td>84214</td>\n",
       "      <td>121609</td>\n",
       "      <td>1.000</td>\n",
       "    </tr>\n",
       "    <tr>\n",
       "      <th>1503049</th>\n",
       "      <td>28992</td>\n",
       "      <td>11482</td>\n",
       "      <td>0.110</td>\n",
       "    </tr>\n",
       "    <tr>\n",
       "      <th>1503050</th>\n",
       "      <td>23345</td>\n",
       "      <td>281921</td>\n",
       "      <td>1.000</td>\n",
       "    </tr>\n",
       "    <tr>\n",
       "      <th>1503051</th>\n",
       "      <td>49466</td>\n",
       "      <td>2880</td>\n",
       "      <td>0.010</td>\n",
       "    </tr>\n",
       "    <tr>\n",
       "      <th>...</th>\n",
       "      <td>...</td>\n",
       "      <td>...</td>\n",
       "      <td>...</td>\n",
       "    </tr>\n",
       "    <tr>\n",
       "      <th>1517909</th>\n",
       "      <td>138587</td>\n",
       "      <td>291806</td>\n",
       "      <td>0.000</td>\n",
       "    </tr>\n",
       "    <tr>\n",
       "      <th>1517910</th>\n",
       "      <td>158991</td>\n",
       "      <td>99669</td>\n",
       "      <td>0.815</td>\n",
       "    </tr>\n",
       "    <tr>\n",
       "      <th>1517911</th>\n",
       "      <td>77232</td>\n",
       "      <td>142149</td>\n",
       "      <td>0.020</td>\n",
       "    </tr>\n",
       "    <tr>\n",
       "      <th>1517912</th>\n",
       "      <td>17843</td>\n",
       "      <td>174535</td>\n",
       "      <td>0.060</td>\n",
       "    </tr>\n",
       "    <tr>\n",
       "      <th>1517913</th>\n",
       "      <td>104746</td>\n",
       "      <td>55913</td>\n",
       "      <td>0.050</td>\n",
       "    </tr>\n",
       "  </tbody>\n",
       "</table>\n",
       "<p>14867 rows × 3 columns</p>\n",
       "</div>"
      ],
      "text/plain": [
       "         user_id  item_id  interest_score\n",
       "1503047    22032   287219           0.275\n",
       "1503048    84214   121609           1.000\n",
       "1503049    28992    11482           0.110\n",
       "1503050    23345   281921           1.000\n",
       "1503051    49466     2880           0.010\n",
       "...          ...      ...             ...\n",
       "1517909   138587   291806           0.000\n",
       "1517910   158991    99669           0.815\n",
       "1517911    77232   142149           0.020\n",
       "1517912    17843   174535           0.060\n",
       "1517913   104746    55913           0.050\n",
       "\n",
       "[14867 rows x 3 columns]"
      ]
     },
     "execution_count": 7,
     "metadata": {},
     "output_type": "execute_result"
    }
   ],
   "source": [
    "valid"
   ]
  },
  {
   "cell_type": "code",
   "execution_count": 8,
   "metadata": {},
   "outputs": [
    {
     "data": {
      "text/plain": [
       "<159613x321752 sparse matrix of type '<class 'numpy.float32'>'\n",
       "\twith 1505202 stored elements in Compressed Sparse Row format>"
      ]
     },
     "execution_count": 8,
     "metadata": {},
     "output_type": "execute_result"
    }
   ],
   "source": [
    "csr_train = csr_matrix(\n",
    "    (train[\"interest_score\"], (train[\"user_id\"], train[\"item_id\"]))\n",
    ")\n",
    "csr_train"
   ]
  },
  {
   "cell_type": "code",
   "execution_count": 9,
   "metadata": {},
   "outputs": [],
   "source": [
    "class Objective:\n",
    "    def __init__(self, train: csr_matrix, valid: pd.DataFrame, metric: Callable):\n",
    "        self.train = train\n",
    "        self.valid = valid\n",
    "        self.metric = metric\n",
    "\n",
    "    def __call__(self, trial) -> float:\n",
    "        search_space = {\n",
    "            \"factors\": trial.suggest_int(\"factors\", 4, 256),\n",
    "            \"regularization\": trial.suggest_float(\"regularization\", 1e-8, 0.1),\n",
    "            \"iterations\": trial.suggest_int(\"iterations\", 8, 64)\n",
    "        }\n",
    "        model = AlternatingLeastSquares(**search_space)\n",
    "        model.fit(self.train)\n",
    "        predictions = pd.DataFrame(self.valid[\"user_id\"].drop_duplicates())\n",
    "        predictions[\"item_id\"] = predictions[\"user_id\"].apply(\n",
    "            lambda user_id: \n",
    "                model.recommend(\n",
    "                    user_id, \n",
    "                    self.train[user_id],\n",
    "                    N=Config.K,\n",
    "                    filter_already_liked_items=True\n",
    "                )[0]\n",
    "        )\n",
    "        predictions = predictions.explode(\"item_id\")\n",
    "        return self.valid[\"user_id\"].apply(\n",
    "            lambda user: \n",
    "                self.metric.calculate(\n",
    "                    predictions[predictions[\"user_id\"] == user][\"item_id\"],\n",
    "                    test[test[\"user_id\"] == user][\"item_id\"]\n",
    "                )\n",
    "        ).mean()"
   ]
  },
  {
   "cell_type": "code",
   "execution_count": 10,
   "metadata": {},
   "outputs": [],
   "source": [
    "recall = RecallAtK(Config.K)\n",
    "precision = PrecisionAtK(Config.K)"
   ]
  },
  {
   "cell_type": "code",
   "execution_count": 11,
   "metadata": {},
   "outputs": [
    {
     "name": "stderr",
     "output_type": "stream",
     "text": [
      "\u001b[32m[I 2023-02-21 21:14:18,412]\u001b[0m A new study created in memory with name: ALS precision maximize\u001b[0m\n",
      "/home/aveitsme/miniconda3/envs/core/lib/python3.10/site-packages/optuna/progress_bar.py:56: ExperimentalWarning: Progress bar is experimental (supported from v1.2.0). The interface can change in the future.\n",
      "  self._init_valid()\n"
     ]
    },
    {
     "data": {
      "application/vnd.jupyter.widget-view+json": {
       "model_id": "eaa184cbec424e708d1fceb1f212ac43",
       "version_major": 2,
       "version_minor": 0
      },
      "text/plain": [
       "  0%|          | 0/50 [00:00<?, ?it/s]"
      ]
     },
     "metadata": {},
     "output_type": "display_data"
    },
    {
     "data": {
      "application/vnd.jupyter.widget-view+json": {
       "model_id": "1e11d2ea662f40a5b911232ba4d790c5",
       "version_major": 2,
       "version_minor": 0
      },
      "text/plain": [
       "  0%|          | 0/60 [00:00<?, ?it/s]"
      ]
     },
     "metadata": {},
     "output_type": "display_data"
    },
    {
     "name": "stdout",
     "output_type": "stream",
     "text": [
      "\u001b[32m[I 2023-02-21 21:14:56,715]\u001b[0m Trial 0 finished with value: 0.0024752808232999333 and parameters: {'factors': 59, 'regularization': 0.03583772580478882, 'iterations': 60}. Best is trial 0 with value: 0.0024752808232999333.\u001b[0m\n"
     ]
    },
    {
     "data": {
      "application/vnd.jupyter.widget-view+json": {
       "model_id": "9ecc2fc91530481c955d0809e82d3e11",
       "version_major": 2,
       "version_minor": 0
      },
      "text/plain": [
       "  0%|          | 0/16 [00:00<?, ?it/s]"
      ]
     },
     "metadata": {},
     "output_type": "display_data"
    },
    {
     "name": "stdout",
     "output_type": "stream",
     "text": [
      "\u001b[32m[I 2023-02-21 21:16:38,909]\u001b[0m Trial 1 finished with value: 0.002717427860361891 and parameters: {'factors': 248, 'regularization': 0.014791039334287047, 'iterations': 16}. Best is trial 1 with value: 0.002717427860361891.\u001b[0m\n"
     ]
    },
    {
     "data": {
      "application/vnd.jupyter.widget-view+json": {
       "model_id": "94e89ddfcb61451d85d6410aad21f60d",
       "version_major": 2,
       "version_minor": 0
      },
      "text/plain": [
       "  0%|          | 0/29 [00:00<?, ?it/s]"
      ]
     },
     "metadata": {},
     "output_type": "display_data"
    },
    {
     "name": "stdout",
     "output_type": "stream",
     "text": [
      "\u001b[32m[I 2023-02-21 21:18:05,232]\u001b[0m Trial 2 finished with value: 0.002999932736934167 and parameters: {'factors': 192, 'regularization': 0.06735920132829787, 'iterations': 29}. Best is trial 2 with value: 0.002999932736934167.\u001b[0m\n"
     ]
    },
    {
     "data": {
      "application/vnd.jupyter.widget-view+json": {
       "model_id": "1a0c80e912fc413c8d102ddcbc64ec7b",
       "version_major": 2,
       "version_minor": 0
      },
      "text/plain": [
       "  0%|          | 0/31 [00:00<?, ?it/s]"
      ]
     },
     "metadata": {},
     "output_type": "display_data"
    },
    {
     "name": "stdout",
     "output_type": "stream",
     "text": [
      "\u001b[32m[I 2023-02-21 21:19:53,475]\u001b[0m Trial 3 finished with value: 0.0027779646196273776 and parameters: {'factors': 239, 'regularization': 0.06819102975013004, 'iterations': 31}. Best is trial 2 with value: 0.002999932736934167.\u001b[0m\n"
     ]
    },
    {
     "data": {
      "application/vnd.jupyter.widget-view+json": {
       "model_id": "a0f56721b26149d2a302746a45e5ef5a",
       "version_major": 2,
       "version_minor": 0
      },
      "text/plain": [
       "  0%|          | 0/53 [00:00<?, ?it/s]"
      ]
     },
     "metadata": {},
     "output_type": "display_data"
    },
    {
     "name": "stdout",
     "output_type": "stream",
     "text": [
      "\u001b[32m[I 2023-02-21 21:21:25,506]\u001b[0m Trial 4 finished with value: 0.002576175422075749 and parameters: {'factors': 78, 'regularization': 0.08056762803262783, 'iterations': 53}. Best is trial 2 with value: 0.002999932736934167.\u001b[0m\n"
     ]
    },
    {
     "data": {
      "application/vnd.jupyter.widget-view+json": {
       "model_id": "b72df7b07b6a48c68eb2c839d7e436a9",
       "version_major": 2,
       "version_minor": 0
      },
      "text/plain": [
       "  0%|          | 0/53 [00:00<?, ?it/s]"
      ]
     },
     "metadata": {},
     "output_type": "display_data"
    },
    {
     "name": "stdout",
     "output_type": "stream",
     "text": [
      "\u001b[32m[I 2023-02-21 21:24:15,305]\u001b[0m Trial 5 finished with value: 0.0029326696710836224 and parameters: {'factors': 145, 'regularization': 0.02778078706857992, 'iterations': 53}. Best is trial 2 with value: 0.002999932736934167.\u001b[0m\n"
     ]
    },
    {
     "data": {
      "application/vnd.jupyter.widget-view+json": {
       "model_id": "2561e83ba0fa4054b1a41c0dca7e7c43",
       "version_major": 2,
       "version_minor": 0
      },
      "text/plain": [
       "  0%|          | 0/33 [00:00<?, ?it/s]"
      ]
     },
     "metadata": {},
     "output_type": "display_data"
    },
    {
     "name": "stdout",
     "output_type": "stream",
     "text": [
      "\u001b[32m[I 2023-02-21 21:24:29,671]\u001b[0m Trial 6 finished with value: 0.0025559965023205854 and parameters: {'factors': 117, 'regularization': 0.005396825793810861, 'iterations': 33}. Best is trial 2 with value: 0.002999932736934167.\u001b[0m\n"
     ]
    },
    {
     "data": {
      "application/vnd.jupyter.widget-view+json": {
       "model_id": "d5fa68a8068e44ed96ecef58a6564fdb",
       "version_major": 2,
       "version_minor": 0
      },
      "text/plain": [
       "  0%|          | 0/34 [00:00<?, ?it/s]"
      ]
     },
     "metadata": {},
     "output_type": "display_data"
    },
    {
     "name": "stdout",
     "output_type": "stream",
     "text": [
      "\u001b[32m[I 2023-02-21 21:24:38,391]\u001b[0m Trial 7 finished with value: 0.0022734916257483063 and parameters: {'factors': 18, 'regularization': 0.08316781329657846, 'iterations': 34}. Best is trial 2 with value: 0.002999932736934167.\u001b[0m\n"
     ]
    },
    {
     "data": {
      "application/vnd.jupyter.widget-view+json": {
       "model_id": "0f723d192ac343748cb272bf162f5769",
       "version_major": 2,
       "version_minor": 0
      },
      "text/plain": [
       "  0%|          | 0/37 [00:00<?, ?it/s]"
      ]
     },
     "metadata": {},
     "output_type": "display_data"
    },
    {
     "name": "stdout",
     "output_type": "stream",
     "text": [
      "\u001b[32m[I 2023-02-21 21:24:51,856]\u001b[0m Trial 8 finished with value: 0.0025963543418309116 and parameters: {'factors': 99, 'regularization': 0.0980265463340844, 'iterations': 37}. Best is trial 2 with value: 0.002999932736934167.\u001b[0m\n"
     ]
    },
    {
     "data": {
      "application/vnd.jupyter.widget-view+json": {
       "model_id": "eb12b130d63c4897b9e6486f106f0cb3",
       "version_major": 2,
       "version_minor": 0
      },
      "text/plain": [
       "  0%|          | 0/39 [00:00<?, ?it/s]"
      ]
     },
     "metadata": {},
     "output_type": "display_data"
    },
    {
     "name": "stdout",
     "output_type": "stream",
     "text": [
      "\u001b[32m[I 2023-02-21 21:25:05,866]\u001b[0m Trial 9 finished with value: 0.002993206430349111 and parameters: {'factors': 104, 'regularization': 0.03783694371020796, 'iterations': 39}. Best is trial 2 with value: 0.002999932736934167.\u001b[0m\n"
     ]
    },
    {
     "data": {
      "application/vnd.jupyter.widget-view+json": {
       "model_id": "9054f9cf1bfc4f398b7a1849a2e83bf1",
       "version_major": 2,
       "version_minor": 0
      },
      "text/plain": [
       "  0%|          | 0/8 [00:00<?, ?it/s]"
      ]
     },
     "metadata": {},
     "output_type": "display_data"
    },
    {
     "name": "stdout",
     "output_type": "stream",
     "text": [
      "\u001b[32m[I 2023-02-21 21:25:21,115]\u001b[0m Trial 10 finished with value: 0.0028452276854779193 and parameters: {'factors': 183, 'regularization': 0.05447786856628104, 'iterations': 8}. Best is trial 2 with value: 0.002999932736934167.\u001b[0m\n"
     ]
    },
    {
     "data": {
      "application/vnd.jupyter.widget-view+json": {
       "model_id": "ec09f051d2a54f188c085454535a0f86",
       "version_major": 2,
       "version_minor": 0
      },
      "text/plain": [
       "  0%|          | 0/21 [00:00<?, ?it/s]"
      ]
     },
     "metadata": {},
     "output_type": "display_data"
    },
    {
     "name": "stdout",
     "output_type": "stream",
     "text": [
      "\u001b[32m[I 2023-02-21 21:25:37,995]\u001b[0m Trial 11 finished with value: 0.002912490751328462 and parameters: {'factors': 178, 'regularization': 0.0488676091827696, 'iterations': 21}. Best is trial 2 with value: 0.002999932736934167.\u001b[0m\n"
     ]
    },
    {
     "data": {
      "application/vnd.jupyter.widget-view+json": {
       "model_id": "14ebe1a9b6864a1faa8ff5fa666d65a1",
       "version_major": 2,
       "version_minor": 0
      },
      "text/plain": [
       "  0%|          | 0/44 [00:00<?, ?it/s]"
      ]
     },
     "metadata": {},
     "output_type": "display_data"
    },
    {
     "name": "stdout",
     "output_type": "stream",
     "text": [
      "\u001b[32m[I 2023-02-21 21:25:58,472]\u001b[0m Trial 12 finished with value: 0.002650164794511349 and parameters: {'factors': 187, 'regularization': 0.05295882610394445, 'iterations': 44}. Best is trial 2 with value: 0.002999932736934167.\u001b[0m\n",
      "EarlyStopping Exceeded: No new best scores on iters 10\n"
     ]
    }
   ],
   "source": [
    "precision_objective = Objective(csr_train, valid, precision)\n",
    "precision_optimizer = OptunaMaximizer(precision_objective, \"ALS precision maximize\")\n",
    "precision_best_trial = precision_optimizer.optimize(Config.ITERATIONS, Config.STOP_ITERATION)"
   ]
  },
  {
   "cell_type": "code",
   "execution_count": 12,
   "metadata": {},
   "outputs": [
    {
     "name": "stderr",
     "output_type": "stream",
     "text": [
      "\u001b[32m[I 2023-02-21 21:25:58,563]\u001b[0m A new study created in memory with name: ALS recall maximize\u001b[0m\n",
      "/home/aveitsme/miniconda3/envs/core/lib/python3.10/site-packages/optuna/progress_bar.py:56: ExperimentalWarning: Progress bar is experimental (supported from v1.2.0). The interface can change in the future.\n",
      "  self._init_valid()\n"
     ]
    },
    {
     "data": {
      "application/vnd.jupyter.widget-view+json": {
       "model_id": "1dbef9485edc4806b870a134445ce935",
       "version_major": 2,
       "version_minor": 0
      },
      "text/plain": [
       "  0%|          | 0/50 [00:00<?, ?it/s]"
      ]
     },
     "metadata": {},
     "output_type": "display_data"
    },
    {
     "data": {
      "application/vnd.jupyter.widget-view+json": {
       "model_id": "bdcf7a25127e41b59fd48171deb47f94",
       "version_major": 2,
       "version_minor": 0
      },
      "text/plain": [
       "  0%|          | 0/19 [00:00<?, ?it/s]"
      ]
     },
     "metadata": {},
     "output_type": "display_data"
    },
    {
     "name": "stdout",
     "output_type": "stream",
     "text": [
      "\u001b[32m[I 2023-02-21 21:26:10,250]\u001b[0m Trial 0 finished with value: 0.007753072489322144 and parameters: {'factors': 65, 'regularization': 0.0948623418988534, 'iterations': 19}. Best is trial 0 with value: 0.007753072489322144.\u001b[0m\n"
     ]
    },
    {
     "data": {
      "application/vnd.jupyter.widget-view+json": {
       "model_id": "37110903ba794a0c846ac84416b30c58",
       "version_major": 2,
       "version_minor": 0
      },
      "text/plain": [
       "  0%|          | 0/17 [00:00<?, ?it/s]"
      ]
     },
     "metadata": {},
     "output_type": "display_data"
    },
    {
     "name": "stdout",
     "output_type": "stream",
     "text": [
      "\u001b[32m[I 2023-02-21 21:26:27,768]\u001b[0m Trial 1 finished with value: 0.010017261275080595 and parameters: {'factors': 197, 'regularization': 0.09219463578048416, 'iterations': 17}. Best is trial 1 with value: 0.010017261275080595.\u001b[0m\n"
     ]
    },
    {
     "data": {
      "application/vnd.jupyter.widget-view+json": {
       "model_id": "debf13dbede54f8589b0250fa7a4eeb0",
       "version_major": 2,
       "version_minor": 0
      },
      "text/plain": [
       "  0%|          | 0/62 [00:00<?, ?it/s]"
      ]
     },
     "metadata": {},
     "output_type": "display_data"
    },
    {
     "name": "stdout",
     "output_type": "stream",
     "text": [
      "\u001b[32m[I 2023-02-21 21:26:41,931]\u001b[0m Trial 2 finished with value: 0.007029499950062269 and parameters: {'factors': 86, 'regularization': 0.0817107907573585, 'iterations': 62}. Best is trial 1 with value: 0.010017261275080595.\u001b[0m\n"
     ]
    },
    {
     "data": {
      "application/vnd.jupyter.widget-view+json": {
       "model_id": "d87ec7b70648466fada751bac40d9959",
       "version_major": 2,
       "version_minor": 0
      },
      "text/plain": [
       "  0%|          | 0/20 [00:00<?, ?it/s]"
      ]
     },
     "metadata": {},
     "output_type": "display_data"
    },
    {
     "name": "stdout",
     "output_type": "stream",
     "text": [
      "\u001b[32m[I 2023-02-21 21:26:52,247]\u001b[0m Trial 3 finished with value: 0.007102178574824274 and parameters: {'factors': 52, 'regularization': 0.027884326559990107, 'iterations': 20}. Best is trial 1 with value: 0.010017261275080595.\u001b[0m\n"
     ]
    },
    {
     "data": {
      "application/vnd.jupyter.widget-view+json": {
       "model_id": "65d7ae4aab3b47d68b863e2f823aaf2c",
       "version_major": 2,
       "version_minor": 0
      },
      "text/plain": [
       "  0%|          | 0/15 [00:00<?, ?it/s]"
      ]
     },
     "metadata": {},
     "output_type": "display_data"
    },
    {
     "name": "stdout",
     "output_type": "stream",
     "text": [
      "\u001b[32m[I 2023-02-21 21:27:09,774]\u001b[0m Trial 4 finished with value: 0.009188920986862725 and parameters: {'factors': 205, 'regularization': 0.008972640602755941, 'iterations': 15}. Best is trial 1 with value: 0.010017261275080595.\u001b[0m\n"
     ]
    },
    {
     "data": {
      "application/vnd.jupyter.widget-view+json": {
       "model_id": "55851538fb194c2c82e90ab87ce51ee8",
       "version_major": 2,
       "version_minor": 0
      },
      "text/plain": [
       "  0%|          | 0/16 [00:00<?, ?it/s]"
      ]
     },
     "metadata": {},
     "output_type": "display_data"
    },
    {
     "name": "stdout",
     "output_type": "stream",
     "text": [
      "\u001b[32m[I 2023-02-21 21:27:22,864]\u001b[0m Trial 5 finished with value: 0.008396075368821965 and parameters: {'factors': 110, 'regularization': 0.07978480706655185, 'iterations': 16}. Best is trial 1 with value: 0.010017261275080595.\u001b[0m\n"
     ]
    },
    {
     "data": {
      "application/vnd.jupyter.widget-view+json": {
       "model_id": "00932ac6c7864430ba21cc956cf3bc56",
       "version_major": 2,
       "version_minor": 0
      },
      "text/plain": [
       "  0%|          | 0/36 [00:00<?, ?it/s]"
      ]
     },
     "metadata": {},
     "output_type": "display_data"
    },
    {
     "name": "stdout",
     "output_type": "stream",
     "text": [
      "\u001b[32m[I 2023-02-21 21:27:41,416]\u001b[0m Trial 6 finished with value: 0.01060341084892103 and parameters: {'factors': 172, 'regularization': 0.033765587757901026, 'iterations': 36}. Best is trial 6 with value: 0.01060341084892103.\u001b[0m\n"
     ]
    },
    {
     "data": {
      "application/vnd.jupyter.widget-view+json": {
       "model_id": "ff7d738af8594bdfbb33caa666fd4832",
       "version_major": 2,
       "version_minor": 0
      },
      "text/plain": [
       "  0%|          | 0/22 [00:00<?, ?it/s]"
      ]
     },
     "metadata": {},
     "output_type": "display_data"
    },
    {
     "name": "stdout",
     "output_type": "stream",
     "text": [
      "\u001b[32m[I 2023-02-21 21:27:53,840]\u001b[0m Trial 7 finished with value: 0.007706468793697123 and parameters: {'factors': 95, 'regularization': 0.06229437908321385, 'iterations': 22}. Best is trial 6 with value: 0.01060341084892103.\u001b[0m\n"
     ]
    },
    {
     "data": {
      "application/vnd.jupyter.widget-view+json": {
       "model_id": "702830fdcdb241f886d717463e436869",
       "version_major": 2,
       "version_minor": 0
      },
      "text/plain": [
       "  0%|          | 0/35 [00:00<?, ?it/s]"
      ]
     },
     "metadata": {},
     "output_type": "display_data"
    },
    {
     "name": "stdout",
     "output_type": "stream",
     "text": [
      "\u001b[32m[I 2023-02-21 21:28:05,989]\u001b[0m Trial 8 finished with value: 0.007884301411912903 and parameters: {'factors': 78, 'regularization': 0.011191689291008946, 'iterations': 35}. Best is trial 6 with value: 0.01060341084892103.\u001b[0m\n"
     ]
    },
    {
     "data": {
      "application/vnd.jupyter.widget-view+json": {
       "model_id": "34c0d26a80fa41b09e0d67ba077d644e",
       "version_major": 2,
       "version_minor": 0
      },
      "text/plain": [
       "  0%|          | 0/20 [00:00<?, ?it/s]"
      ]
     },
     "metadata": {},
     "output_type": "display_data"
    },
    {
     "name": "stdout",
     "output_type": "stream",
     "text": [
      "\u001b[32m[I 2023-02-21 21:28:26,429]\u001b[0m Trial 9 finished with value: 0.009590461107243235 and parameters: {'factors': 235, 'regularization': 0.05849662009934217, 'iterations': 20}. Best is trial 6 with value: 0.01060341084892103.\u001b[0m\n"
     ]
    },
    {
     "data": {
      "application/vnd.jupyter.widget-view+json": {
       "model_id": "c98fe3d3455e42e79a016fd47ca3ff17",
       "version_major": 2,
       "version_minor": 0
      },
      "text/plain": [
       "  0%|          | 0/50 [00:00<?, ?it/s]"
      ]
     },
     "metadata": {},
     "output_type": "display_data"
    },
    {
     "name": "stdout",
     "output_type": "stream",
     "text": [
      "\u001b[32m[I 2023-02-21 21:28:35,764]\u001b[0m Trial 10 finished with value: 0.005117779482674535 and parameters: {'factors': 9, 'regularization': 0.0375343482955951, 'iterations': 50}. Best is trial 6 with value: 0.01060341084892103.\u001b[0m\n"
     ]
    },
    {
     "data": {
      "application/vnd.jupyter.widget-view+json": {
       "model_id": "0e7d20fe366e4f0daf9992685e4e9054",
       "version_major": 2,
       "version_minor": 0
      },
      "text/plain": [
       "  0%|          | 0/34 [00:00<?, ?it/s]"
      ]
     },
     "metadata": {},
     "output_type": "display_data"
    },
    {
     "name": "stdout",
     "output_type": "stream",
     "text": [
      "\u001b[32m[I 2023-02-21 21:28:54,783]\u001b[0m Trial 11 finished with value: 0.009156730805348541 and parameters: {'factors': 174, 'regularization': 0.04391978907583533, 'iterations': 34}. Best is trial 6 with value: 0.01060341084892103.\u001b[0m\n"
     ]
    },
    {
     "data": {
      "application/vnd.jupyter.widget-view+json": {
       "model_id": "95f58a9ee0d946cf993716d393eaa0fb",
       "version_major": 2,
       "version_minor": 0
      },
      "text/plain": [
       "  0%|          | 0/8 [00:00<?, ?it/s]"
      ]
     },
     "metadata": {},
     "output_type": "display_data"
    },
    {
     "name": "stdout",
     "output_type": "stream",
     "text": [
      "\u001b[32m[I 2023-02-21 21:29:10,277]\u001b[0m Trial 12 finished with value: 0.010924538604971768 and parameters: {'factors': 166, 'regularization': 0.09963978621255527, 'iterations': 8}. Best is trial 12 with value: 0.010924538604971768.\u001b[0m\n"
     ]
    },
    {
     "data": {
      "application/vnd.jupyter.widget-view+json": {
       "model_id": "21de86bc6db14103b0781810e4f4221f",
       "version_major": 2,
       "version_minor": 0
      },
      "text/plain": [
       "  0%|          | 0/8 [00:00<?, ?it/s]"
      ]
     },
     "metadata": {},
     "output_type": "display_data"
    },
    {
     "name": "stdout",
     "output_type": "stream",
     "text": [
      "\u001b[32m[I 2023-02-21 21:29:25,302]\u001b[0m Trial 13 finished with value: 0.009288141288544854 and parameters: {'factors': 149, 'regularization': 0.06497280287627577, 'iterations': 8}. Best is trial 12 with value: 0.010924538604971768.\u001b[0m\n"
     ]
    },
    {
     "data": {
      "application/vnd.jupyter.widget-view+json": {
       "model_id": "223a7d88282d418b962b48f5bc853627",
       "version_major": 2,
       "version_minor": 0
      },
      "text/plain": [
       "  0%|          | 0/45 [00:00<?, ?it/s]"
      ]
     },
     "metadata": {},
     "output_type": "display_data"
    },
    {
     "name": "stdout",
     "output_type": "stream",
     "text": [
      "\u001b[32m[I 2023-02-21 21:29:45,990]\u001b[0m Trial 14 finished with value: 0.008627878589874955 and parameters: {'factors': 146, 'regularization': 0.029640300935685218, 'iterations': 45}. Best is trial 12 with value: 0.010924538604971768.\u001b[0m\n"
     ]
    },
    {
     "data": {
      "application/vnd.jupyter.widget-view+json": {
       "model_id": "d56a418ddc0341efb1036d9efc602d07",
       "version_major": 2,
       "version_minor": 0
      },
      "text/plain": [
       "  0%|          | 0/27 [00:00<?, ?it/s]"
      ]
     },
     "metadata": {},
     "output_type": "display_data"
    },
    {
     "name": "stdout",
     "output_type": "stream",
     "text": [
      "\u001b[32m[I 2023-02-21 21:30:09,935]\u001b[0m Trial 15 finished with value: 0.009770025830764377 and parameters: {'factors': 248, 'regularization': 0.05447601459215451, 'iterations': 27}. Best is trial 12 with value: 0.010924538604971768.\u001b[0m\n"
     ]
    },
    {
     "data": {
      "application/vnd.jupyter.widget-view+json": {
       "model_id": "bbd670b3a96d460fafbd865c30bf3af1",
       "version_major": 2,
       "version_minor": 0
      },
      "text/plain": [
       "  0%|          | 0/47 [00:00<?, ?it/s]"
      ]
     },
     "metadata": {},
     "output_type": "display_data"
    },
    {
     "name": "stdout",
     "output_type": "stream",
     "text": [
      "\u001b[32m[I 2023-02-21 21:30:31,615]\u001b[0m Trial 16 finished with value: 0.009882494918144333 and parameters: {'factors': 177, 'regularization': 0.07461224682801348, 'iterations': 47}. Best is trial 12 with value: 0.010924538604971768.\u001b[0m\n"
     ]
    },
    {
     "data": {
      "application/vnd.jupyter.widget-view+json": {
       "model_id": "ddb93b1f934c48149b3f3dfc6c2fbe87",
       "version_major": 2,
       "version_minor": 0
      },
      "text/plain": [
       "  0%|          | 0/63 [00:00<?, ?it/s]"
      ]
     },
     "metadata": {},
     "output_type": "display_data"
    },
    {
     "name": "stdout",
     "output_type": "stream",
     "text": [
      "\u001b[32m[I 2023-02-21 21:30:49,959]\u001b[0m Trial 17 finished with value: 0.008841679049185612 and parameters: {'factors': 124, 'regularization': 0.0971354040147796, 'iterations': 63}. Best is trial 12 with value: 0.010924538604971768.\u001b[0m\n"
     ]
    },
    {
     "data": {
      "application/vnd.jupyter.widget-view+json": {
       "model_id": "d68850697f494e219783d43a8c789168",
       "version_major": 2,
       "version_minor": 0
      },
      "text/plain": [
       "  0%|          | 0/41 [00:00<?, ?it/s]"
      ]
     },
     "metadata": {},
     "output_type": "display_data"
    },
    {
     "name": "stdout",
     "output_type": "stream",
     "text": [
      "\u001b[32m[I 2023-02-21 21:31:14,123]\u001b[0m Trial 18 finished with value: 0.008704634192291422 and parameters: {'factors': 223, 'regularization': 0.04745639476905117, 'iterations': 41}. Best is trial 12 with value: 0.010924538604971768.\u001b[0m\n"
     ]
    },
    {
     "data": {
      "application/vnd.jupyter.widget-view+json": {
       "model_id": "04ac6de0bda5490ca54d948f3b20cb4e",
       "version_major": 2,
       "version_minor": 0
      },
      "text/plain": [
       "  0%|          | 0/56 [00:00<?, ?it/s]"
      ]
     },
     "metadata": {},
     "output_type": "display_data"
    },
    {
     "name": "stdout",
     "output_type": "stream",
     "text": [
      "\u001b[32m[I 2023-02-21 21:31:35,930]\u001b[0m Trial 19 finished with value: 0.008304695573478777 and parameters: {'factors': 167, 'regularization': 0.07218739676794197, 'iterations': 56}. Best is trial 12 with value: 0.010924538604971768.\u001b[0m\n"
     ]
    },
    {
     "data": {
      "application/vnd.jupyter.widget-view+json": {
       "model_id": "4f750a27c8eb4068a4c55b491ef60885",
       "version_major": 2,
       "version_minor": 0
      },
      "text/plain": [
       "  0%|          | 0/30 [00:00<?, ?it/s]"
      ]
     },
     "metadata": {},
     "output_type": "display_data"
    },
    {
     "name": "stdout",
     "output_type": "stream",
     "text": [
      "\u001b[32m[I 2023-02-21 21:31:56,869]\u001b[0m Trial 20 finished with value: 0.008832827113246835 and parameters: {'factors': 199, 'regularization': 0.08793453606429749, 'iterations': 30}. Best is trial 12 with value: 0.010924538604971768.\u001b[0m\n"
     ]
    },
    {
     "data": {
      "application/vnd.jupyter.widget-view+json": {
       "model_id": "c8074e4254ce44958608065c176df225",
       "version_major": 2,
       "version_minor": 0
      },
      "text/plain": [
       "  0%|          | 0/8 [00:00<?, ?it/s]"
      ]
     },
     "metadata": {},
     "output_type": "display_data"
    },
    {
     "name": "stdout",
     "output_type": "stream",
     "text": [
      "\u001b[32m[I 2023-02-21 21:32:14,272]\u001b[0m Trial 21 finished with value: 0.011404314503460246 and parameters: {'factors': 200, 'regularization': 0.09807384401645601, 'iterations': 8}. Best is trial 21 with value: 0.011404314503460246.\u001b[0m\n"
     ]
    },
    {
     "data": {
      "application/vnd.jupyter.widget-view+json": {
       "model_id": "7e4acd4dcbf24e1c8fdb2c54000d205b",
       "version_major": 2,
       "version_minor": 0
      },
      "text/plain": [
       "  0%|          | 0/8 [00:00<?, ?it/s]"
      ]
     },
     "metadata": {},
     "output_type": "display_data"
    },
    {
     "name": "stdout",
     "output_type": "stream",
     "text": [
      "\u001b[32m[I 2023-02-21 21:32:29,483]\u001b[0m Trial 22 finished with value: 0.008449791615527806 and parameters: {'factors': 144, 'regularization': 0.08635397057276926, 'iterations': 8}. Best is trial 21 with value: 0.011404314503460246.\u001b[0m\n"
     ]
    },
    {
     "data": {
      "application/vnd.jupyter.widget-view+json": {
       "model_id": "ef30d3db977c4955a29d2774d958d59e",
       "version_major": 2,
       "version_minor": 0
      },
      "text/plain": [
       "  0%|          | 0/11 [00:00<?, ?it/s]"
      ]
     },
     "metadata": {},
     "output_type": "display_data"
    },
    {
     "name": "stdout",
     "output_type": "stream",
     "text": [
      "\u001b[32m[I 2023-02-21 21:32:48,383]\u001b[0m Trial 23 finished with value: 0.010431489655610178 and parameters: {'factors': 213, 'regularization': 0.09496149438746018, 'iterations': 11}. Best is trial 21 with value: 0.011404314503460246.\u001b[0m\n"
     ]
    },
    {
     "data": {
      "application/vnd.jupyter.widget-view+json": {
       "model_id": "2f99941b3f4d474b9655117f99412996",
       "version_major": 2,
       "version_minor": 0
      },
      "text/plain": [
       "  0%|          | 0/29 [00:00<?, ?it/s]"
      ]
     },
     "metadata": {},
     "output_type": "display_data"
    },
    {
     "name": "stdout",
     "output_type": "stream",
     "text": [
      "\u001b[32m[I 2023-02-21 21:33:07,646]\u001b[0m Trial 24 finished with value: 0.010246312397048915 and parameters: {'factors': 182, 'regularization': 0.09766598116763801, 'iterations': 29}. Best is trial 21 with value: 0.011404314503460246.\u001b[0m\n"
     ]
    },
    {
     "data": {
      "application/vnd.jupyter.widget-view+json": {
       "model_id": "4da8599484194e15842f1ab8dcf8a7bc",
       "version_major": 2,
       "version_minor": 0
      },
      "text/plain": [
       "  0%|          | 0/13 [00:00<?, ?it/s]"
      ]
     },
     "metadata": {},
     "output_type": "display_data"
    },
    {
     "name": "stdout",
     "output_type": "stream",
     "text": [
      "\u001b[32m[I 2023-02-21 21:33:23,711]\u001b[0m Trial 25 finished with value: 0.009509024752517036 and parameters: {'factors': 160, 'regularization': 0.09946132054890841, 'iterations': 13}. Best is trial 21 with value: 0.011404314503460246.\u001b[0m\n"
     ]
    },
    {
     "data": {
      "application/vnd.jupyter.widget-view+json": {
       "model_id": "3969540a88e94546be17f10883a2869c",
       "version_major": 2,
       "version_minor": 0
      },
      "text/plain": [
       "  0%|          | 0/40 [00:00<?, ?it/s]"
      ]
     },
     "metadata": {},
     "output_type": "display_data"
    },
    {
     "name": "stdout",
     "output_type": "stream",
     "text": [
      "\u001b[32m[I 2023-02-21 21:33:40,205]\u001b[0m Trial 26 finished with value: 0.008871343225954112 and parameters: {'factors': 127, 'regularization': 0.0860939450510295, 'iterations': 40}. Best is trial 21 with value: 0.011404314503460246.\u001b[0m\n"
     ]
    },
    {
     "data": {
      "application/vnd.jupyter.widget-view+json": {
       "model_id": "419c07e0dca440f8b8abf7495f388741",
       "version_major": 2,
       "version_minor": 0
      },
      "text/plain": [
       "  0%|          | 0/24 [00:00<?, ?it/s]"
      ]
     },
     "metadata": {},
     "output_type": "display_data"
    },
    {
     "name": "stdout",
     "output_type": "stream",
     "text": [
      "\u001b[32m[I 2023-02-21 21:34:03,353]\u001b[0m Trial 27 finished with value: 0.010511440981609802 and parameters: {'factors': 252, 'regularization': 0.07566923011478209, 'iterations': 24}. Best is trial 21 with value: 0.011404314503460246.\u001b[0m\n"
     ]
    },
    {
     "data": {
      "application/vnd.jupyter.widget-view+json": {
       "model_id": "5682bbeb7a6f4bda8c76514c782be64b",
       "version_major": 2,
       "version_minor": 0
      },
      "text/plain": [
       "  0%|          | 0/12 [00:00<?, ?it/s]"
      ]
     },
     "metadata": {},
     "output_type": "display_data"
    },
    {
     "name": "stdout",
     "output_type": "stream",
     "text": [
      "\u001b[32m[I 2023-02-21 21:34:22,723]\u001b[0m Trial 28 finished with value: 0.010078919085443595 and parameters: {'factors': 226, 'regularization': 0.06772303347100911, 'iterations': 12}. Best is trial 21 with value: 0.011404314503460246.\u001b[0m\n"
     ]
    },
    {
     "data": {
      "application/vnd.jupyter.widget-view+json": {
       "model_id": "c16c0b1fe7c04cd8b3bc7c6527373216",
       "version_major": 2,
       "version_minor": 0
      },
      "text/plain": [
       "  0%|          | 0/53 [00:00<?, ?it/s]"
      ]
     },
     "metadata": {},
     "output_type": "display_data"
    },
    {
     "name": "stdout",
     "output_type": "stream",
     "text": [
      "\u001b[32m[I 2023-02-21 21:34:46,233]\u001b[0m Trial 29 finished with value: 0.008596569234223101 and parameters: {'factors': 190, 'regularization': 0.09985623744814402, 'iterations': 53}. Best is trial 21 with value: 0.011404314503460246.\u001b[0m\n"
     ]
    },
    {
     "data": {
      "application/vnd.jupyter.widget-view+json": {
       "model_id": "811f5cccef0844019cd35415f61bdb8e",
       "version_major": 2,
       "version_minor": 0
      },
      "text/plain": [
       "  0%|          | 0/8 [00:00<?, ?it/s]"
      ]
     },
     "metadata": {},
     "output_type": "display_data"
    },
    {
     "name": "stdout",
     "output_type": "stream",
     "text": [
      "\u001b[32m[I 2023-02-21 21:35:01,903]\u001b[0m Trial 30 finished with value: 0.009020726924473475 and parameters: {'factors': 159, 'regularization': 0.09053485732499203, 'iterations': 8}. Best is trial 21 with value: 0.011404314503460246.\u001b[0m\n"
     ]
    },
    {
     "data": {
      "application/vnd.jupyter.widget-view+json": {
       "model_id": "dcdc492cec9e43e8a91e7f4bc66de352",
       "version_major": 2,
       "version_minor": 0
      },
      "text/plain": [
       "  0%|          | 0/25 [00:00<?, ?it/s]"
      ]
     },
     "metadata": {},
     "output_type": "display_data"
    },
    {
     "name": "stdout",
     "output_type": "stream",
     "text": [
      "\u001b[32m[I 2023-02-21 21:35:25,758]\u001b[0m Trial 31 finished with value: 0.010030910436170402 and parameters: {'factors': 251, 'regularization': 0.07871978908718259, 'iterations': 25}. Best is trial 21 with value: 0.011404314503460246.\u001b[0m\n",
      "EarlyStopping Exceeded: No new best scores on iters 10\n"
     ]
    }
   ],
   "source": [
    "recall_objective = Objective(csr_train, valid, recall)\n",
    "recall_optimizer = OptunaMaximizer(recall_objective, \"ALS recall maximize\")\n",
    "recall_best_trial = recall_optimizer.optimize(Config.ITERATIONS, Config.STOP_ITERATION)"
   ]
  }
 ],
 "metadata": {
  "kernelspec": {
   "display_name": "core",
   "language": "python",
   "name": "python3"
  },
  "language_info": {
   "codemirror_mode": {
    "name": "ipython",
    "version": 3
   },
   "file_extension": ".py",
   "mimetype": "text/x-python",
   "name": "python",
   "nbconvert_exporter": "python",
   "pygments_lexer": "ipython3",
   "version": "3.10.9"
  },
  "orig_nbformat": 4,
  "vscode": {
   "interpreter": {
    "hash": "009d69282f0b7257078526d54b136153003b0cf2c7ed5bb47bc5d27e99d5a7ba"
   }
  }
 },
 "nbformat": 4,
 "nbformat_minor": 2
}

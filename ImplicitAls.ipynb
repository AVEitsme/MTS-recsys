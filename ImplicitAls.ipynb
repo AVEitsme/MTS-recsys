{
 "cells": [
  {
   "cell_type": "code",
   "execution_count": 1,
   "metadata": {},
   "outputs": [],
   "source": [
    "import pickle\n",
    "import pandas as pd\n",
    "\n",
    "from implicit.als import AlternatingLeastSquares\n",
    "from scipy.sparse import csr_matrix\n",
    "from typing import Callable\n",
    "from src.config import Config\n",
    "from src.dataset import Interactions\n",
    "from src.metrics import PrecisionAtK, RecallAtK, FOneScoreAtK\n",
    "from src.optimizer import OptunaMaximizer"
   ]
  },
  {
   "cell_type": "code",
   "execution_count": 2,
   "metadata": {},
   "outputs": [],
   "source": [
    "with Config.PREPROCESSED_INTERACTIONS_PATH.open(\"rb\") as file_object:\n",
    "    interactions = Interactions(pickle.load(file_object))"
   ]
  },
  {
   "cell_type": "code",
   "execution_count": 3,
   "metadata": {},
   "outputs": [],
   "source": [
    "interactions.train = interactions.train[[\"user_id\", \"item_id\", \"interest_score\"]]\n",
    "interactions.test = interactions.test[[\"user_id\", \"item_id\", \"interest_score\"]]\n",
    "interactions.valid = interactions.valid[[\"user_id\", \"item_id\", \"interest_score\"]]"
   ]
  },
  {
   "cell_type": "code",
   "execution_count": 4,
   "metadata": {},
   "outputs": [
    {
     "data": {
      "text/html": [
       "<div>\n",
       "<style scoped>\n",
       "    .dataframe tbody tr th:only-of-type {\n",
       "        vertical-align: middle;\n",
       "    }\n",
       "\n",
       "    .dataframe tbody tr th {\n",
       "        vertical-align: top;\n",
       "    }\n",
       "\n",
       "    .dataframe thead th {\n",
       "        text-align: right;\n",
       "    }\n",
       "</style>\n",
       "<table border=\"1\" class=\"dataframe\">\n",
       "  <thead>\n",
       "    <tr style=\"text-align: right;\">\n",
       "      <th></th>\n",
       "      <th>user_id</th>\n",
       "      <th>item_id</th>\n",
       "      <th>interest_score</th>\n",
       "    </tr>\n",
       "  </thead>\n",
       "  <tbody>\n",
       "    <tr>\n",
       "      <th>0</th>\n",
       "      <td>126706</td>\n",
       "      <td>14433</td>\n",
       "      <td>0.400</td>\n",
       "    </tr>\n",
       "    <tr>\n",
       "      <th>1</th>\n",
       "      <td>127290</td>\n",
       "      <td>140952</td>\n",
       "      <td>0.290</td>\n",
       "    </tr>\n",
       "    <tr>\n",
       "      <th>2</th>\n",
       "      <td>66991</td>\n",
       "      <td>198453</td>\n",
       "      <td>0.445</td>\n",
       "    </tr>\n",
       "    <tr>\n",
       "      <th>3</th>\n",
       "      <td>46791</td>\n",
       "      <td>83486</td>\n",
       "      <td>0.615</td>\n",
       "    </tr>\n",
       "    <tr>\n",
       "      <th>4</th>\n",
       "      <td>79313</td>\n",
       "      <td>188770</td>\n",
       "      <td>0.940</td>\n",
       "    </tr>\n",
       "    <tr>\n",
       "      <th>...</th>\n",
       "      <td>...</td>\n",
       "      <td>...</td>\n",
       "      <td>...</td>\n",
       "    </tr>\n",
       "    <tr>\n",
       "      <th>1532993</th>\n",
       "      <td>153908</td>\n",
       "      <td>98585</td>\n",
       "      <td>0.220</td>\n",
       "    </tr>\n",
       "    <tr>\n",
       "      <th>1532994</th>\n",
       "      <td>154008</td>\n",
       "      <td>251969</td>\n",
       "      <td>0.020</td>\n",
       "    </tr>\n",
       "    <tr>\n",
       "      <th>1532995</th>\n",
       "      <td>154892</td>\n",
       "      <td>298192</td>\n",
       "      <td>0.840</td>\n",
       "    </tr>\n",
       "    <tr>\n",
       "      <th>1532996</th>\n",
       "      <td>156948</td>\n",
       "      <td>38118</td>\n",
       "      <td>0.890</td>\n",
       "    </tr>\n",
       "    <tr>\n",
       "      <th>1532997</th>\n",
       "      <td>158041</td>\n",
       "      <td>208145</td>\n",
       "      <td>0.720</td>\n",
       "    </tr>\n",
       "  </tbody>\n",
       "</table>\n",
       "<p>1505202 rows × 3 columns</p>\n",
       "</div>"
      ],
      "text/plain": [
       "         user_id  item_id  interest_score\n",
       "0         126706    14433           0.400\n",
       "1         127290   140952           0.290\n",
       "2          66991   198453           0.445\n",
       "3          46791    83486           0.615\n",
       "4          79313   188770           0.940\n",
       "...          ...      ...             ...\n",
       "1532993   153908    98585           0.220\n",
       "1532994   154008   251969           0.020\n",
       "1532995   154892   298192           0.840\n",
       "1532996   156948    38118           0.890\n",
       "1532997   158041   208145           0.720\n",
       "\n",
       "[1505202 rows x 3 columns]"
      ]
     },
     "execution_count": 4,
     "metadata": {},
     "output_type": "execute_result"
    }
   ],
   "source": [
    "interactions.train"
   ]
  },
  {
   "cell_type": "code",
   "execution_count": 5,
   "metadata": {},
   "outputs": [
    {
     "data": {
      "text/html": [
       "<div>\n",
       "<style scoped>\n",
       "    .dataframe tbody tr th:only-of-type {\n",
       "        vertical-align: middle;\n",
       "    }\n",
       "\n",
       "    .dataframe tbody tr th {\n",
       "        vertical-align: top;\n",
       "    }\n",
       "\n",
       "    .dataframe thead th {\n",
       "        text-align: right;\n",
       "    }\n",
       "</style>\n",
       "<table border=\"1\" class=\"dataframe\">\n",
       "  <thead>\n",
       "    <tr style=\"text-align: right;\">\n",
       "      <th></th>\n",
       "      <th>user_id</th>\n",
       "      <th>item_id</th>\n",
       "      <th>interest_score</th>\n",
       "    </tr>\n",
       "  </thead>\n",
       "  <tbody>\n",
       "    <tr>\n",
       "      <th>1517914</th>\n",
       "      <td>38753</td>\n",
       "      <td>135245</td>\n",
       "      <td>0.000</td>\n",
       "    </tr>\n",
       "    <tr>\n",
       "      <th>1517915</th>\n",
       "      <td>101642</td>\n",
       "      <td>319500</td>\n",
       "      <td>0.835</td>\n",
       "    </tr>\n",
       "    <tr>\n",
       "      <th>1517916</th>\n",
       "      <td>13548</td>\n",
       "      <td>251184</td>\n",
       "      <td>0.000</td>\n",
       "    </tr>\n",
       "    <tr>\n",
       "      <th>1517917</th>\n",
       "      <td>130425</td>\n",
       "      <td>193445</td>\n",
       "      <td>0.490</td>\n",
       "    </tr>\n",
       "    <tr>\n",
       "      <th>1517918</th>\n",
       "      <td>93986</td>\n",
       "      <td>80733</td>\n",
       "      <td>0.235</td>\n",
       "    </tr>\n",
       "    <tr>\n",
       "      <th>...</th>\n",
       "      <td>...</td>\n",
       "      <td>...</td>\n",
       "      <td>...</td>\n",
       "    </tr>\n",
       "    <tr>\n",
       "      <th>1530838</th>\n",
       "      <td>141930</td>\n",
       "      <td>219928</td>\n",
       "      <td>0.450</td>\n",
       "    </tr>\n",
       "    <tr>\n",
       "      <th>1530839</th>\n",
       "      <td>53358</td>\n",
       "      <td>42887</td>\n",
       "      <td>0.290</td>\n",
       "    </tr>\n",
       "    <tr>\n",
       "      <th>1530840</th>\n",
       "      <td>151170</td>\n",
       "      <td>284652</td>\n",
       "      <td>0.135</td>\n",
       "    </tr>\n",
       "    <tr>\n",
       "      <th>1530841</th>\n",
       "      <td>141293</td>\n",
       "      <td>273421</td>\n",
       "      <td>0.240</td>\n",
       "    </tr>\n",
       "    <tr>\n",
       "      <th>1530842</th>\n",
       "      <td>65459</td>\n",
       "      <td>109030</td>\n",
       "      <td>0.365</td>\n",
       "    </tr>\n",
       "  </tbody>\n",
       "</table>\n",
       "<p>12929 rows × 3 columns</p>\n",
       "</div>"
      ],
      "text/plain": [
       "         user_id  item_id  interest_score\n",
       "1517914    38753   135245           0.000\n",
       "1517915   101642   319500           0.835\n",
       "1517916    13548   251184           0.000\n",
       "1517917   130425   193445           0.490\n",
       "1517918    93986    80733           0.235\n",
       "...          ...      ...             ...\n",
       "1530838   141930   219928           0.450\n",
       "1530839    53358    42887           0.290\n",
       "1530840   151170   284652           0.135\n",
       "1530841   141293   273421           0.240\n",
       "1530842    65459   109030           0.365\n",
       "\n",
       "[12929 rows x 3 columns]"
      ]
     },
     "execution_count": 5,
     "metadata": {},
     "output_type": "execute_result"
    }
   ],
   "source": [
    "interactions.test"
   ]
  },
  {
   "cell_type": "code",
   "execution_count": 6,
   "metadata": {},
   "outputs": [
    {
     "data": {
      "text/html": [
       "<div>\n",
       "<style scoped>\n",
       "    .dataframe tbody tr th:only-of-type {\n",
       "        vertical-align: middle;\n",
       "    }\n",
       "\n",
       "    .dataframe tbody tr th {\n",
       "        vertical-align: top;\n",
       "    }\n",
       "\n",
       "    .dataframe thead th {\n",
       "        text-align: right;\n",
       "    }\n",
       "</style>\n",
       "<table border=\"1\" class=\"dataframe\">\n",
       "  <thead>\n",
       "    <tr style=\"text-align: right;\">\n",
       "      <th></th>\n",
       "      <th>user_id</th>\n",
       "      <th>item_id</th>\n",
       "      <th>interest_score</th>\n",
       "    </tr>\n",
       "  </thead>\n",
       "  <tbody>\n",
       "    <tr>\n",
       "      <th>1503047</th>\n",
       "      <td>22032</td>\n",
       "      <td>287219</td>\n",
       "      <td>0.275</td>\n",
       "    </tr>\n",
       "    <tr>\n",
       "      <th>1503048</th>\n",
       "      <td>84214</td>\n",
       "      <td>121609</td>\n",
       "      <td>1.000</td>\n",
       "    </tr>\n",
       "    <tr>\n",
       "      <th>1503049</th>\n",
       "      <td>28992</td>\n",
       "      <td>11482</td>\n",
       "      <td>0.110</td>\n",
       "    </tr>\n",
       "    <tr>\n",
       "      <th>1503050</th>\n",
       "      <td>23345</td>\n",
       "      <td>281921</td>\n",
       "      <td>1.000</td>\n",
       "    </tr>\n",
       "    <tr>\n",
       "      <th>1503051</th>\n",
       "      <td>49466</td>\n",
       "      <td>2880</td>\n",
       "      <td>0.010</td>\n",
       "    </tr>\n",
       "    <tr>\n",
       "      <th>...</th>\n",
       "      <td>...</td>\n",
       "      <td>...</td>\n",
       "      <td>...</td>\n",
       "    </tr>\n",
       "    <tr>\n",
       "      <th>1517909</th>\n",
       "      <td>138587</td>\n",
       "      <td>291806</td>\n",
       "      <td>0.000</td>\n",
       "    </tr>\n",
       "    <tr>\n",
       "      <th>1517910</th>\n",
       "      <td>158991</td>\n",
       "      <td>99669</td>\n",
       "      <td>0.815</td>\n",
       "    </tr>\n",
       "    <tr>\n",
       "      <th>1517911</th>\n",
       "      <td>77232</td>\n",
       "      <td>142149</td>\n",
       "      <td>0.020</td>\n",
       "    </tr>\n",
       "    <tr>\n",
       "      <th>1517912</th>\n",
       "      <td>17843</td>\n",
       "      <td>174535</td>\n",
       "      <td>0.060</td>\n",
       "    </tr>\n",
       "    <tr>\n",
       "      <th>1517913</th>\n",
       "      <td>104746</td>\n",
       "      <td>55913</td>\n",
       "      <td>0.050</td>\n",
       "    </tr>\n",
       "  </tbody>\n",
       "</table>\n",
       "<p>14867 rows × 3 columns</p>\n",
       "</div>"
      ],
      "text/plain": [
       "         user_id  item_id  interest_score\n",
       "1503047    22032   287219           0.275\n",
       "1503048    84214   121609           1.000\n",
       "1503049    28992    11482           0.110\n",
       "1503050    23345   281921           1.000\n",
       "1503051    49466     2880           0.010\n",
       "...          ...      ...             ...\n",
       "1517909   138587   291806           0.000\n",
       "1517910   158991    99669           0.815\n",
       "1517911    77232   142149           0.020\n",
       "1517912    17843   174535           0.060\n",
       "1517913   104746    55913           0.050\n",
       "\n",
       "[14867 rows x 3 columns]"
      ]
     },
     "execution_count": 6,
     "metadata": {},
     "output_type": "execute_result"
    }
   ],
   "source": [
    "interactions.valid"
   ]
  },
  {
   "cell_type": "code",
   "execution_count": 7,
   "metadata": {},
   "outputs": [
    {
     "data": {
      "text/plain": [
       "<159613x321752 sparse matrix of type '<class 'numpy.float32'>'\n",
       "\twith 1505202 stored elements in Compressed Sparse Row format>"
      ]
     },
     "execution_count": 7,
     "metadata": {},
     "output_type": "execute_result"
    }
   ],
   "source": [
    "csr_train = csr_matrix(\n",
    "    (interactions.train[\"interest_score\"], \n",
    "    (interactions.train[\"user_id\"], interactions.train[\"item_id\"]))\n",
    ")\n",
    "csr_train"
   ]
  },
  {
   "cell_type": "code",
   "execution_count": 8,
   "metadata": {},
   "outputs": [],
   "source": [
    "class Objective:\n",
    "    def __init__(self, train: csr_matrix, valid: pd.DataFrame, metric: Callable):\n",
    "        self.train = train\n",
    "        self.valid = valid\n",
    "        self.metric = metric\n",
    "\n",
    "    def __call__(self, trial) -> float:\n",
    "        search_space = {\n",
    "            \"factors\": trial.suggest_int(\"factors\", 4, 256),\n",
    "            \"regularization\": trial.suggest_float(\"regularization\", 1e-8, 0.1),\n",
    "            \"iterations\": trial.suggest_int(\"iterations\", 8, 64)\n",
    "        }\n",
    "        model = AlternatingLeastSquares(**search_space)\n",
    "        model.fit(self.train)\n",
    "        predictions = pd.DataFrame(self.valid[\"user_id\"].drop_duplicates())\n",
    "        predictions[\"item_id\"] = predictions[\"user_id\"].apply(\n",
    "            lambda user_id: \n",
    "                model.recommend(\n",
    "                    user_id, \n",
    "                    self.train[user_id],\n",
    "                    N=Config.K,\n",
    "                    filter_already_liked_items=True\n",
    "                )[0]\n",
    "        )\n",
    "        predictions = predictions.explode(\"item_id\")\n",
    "        return self.valid[\"user_id\"].drop_duplicates().apply(\n",
    "            lambda user_id: \n",
    "                self.metric.calculate(\n",
    "                    predictions[predictions[\"user_id\"] == user_id][\"item_id\"],\n",
    "                    self.valid[self.valid[\"user_id\"] == user_id][\"item_id\"]\n",
    "                )\n",
    "        ).mean()"
   ]
  },
  {
   "cell_type": "code",
   "execution_count": 9,
   "metadata": {},
   "outputs": [],
   "source": [
    "recall = RecallAtK(Config.K)\n",
    "precision = PrecisionAtK(Config.K)\n",
    "fscore = FOneScoreAtK(Config.K)"
   ]
  },
  {
   "cell_type": "code",
   "execution_count": 10,
   "metadata": {},
   "outputs": [
    {
     "name": "stderr",
     "output_type": "stream",
     "text": [
      "\u001b[32m[I 2023-02-25 15:52:34,369]\u001b[0m A new study created in memory with name: ALS fscore maximize\u001b[0m\n",
      "/home/aveitsme/miniconda3/envs/core/lib/python3.10/site-packages/optuna/progress_bar.py:56: ExperimentalWarning: Progress bar is experimental (supported from v1.2.0). The interface can change in the future.\n",
      "  self._init_valid()\n"
     ]
    },
    {
     "data": {
      "application/vnd.jupyter.widget-view+json": {
       "model_id": "4a32418863534ccab97933f0586ca053",
       "version_major": 2,
       "version_minor": 0
      },
      "text/plain": [
       "  0%|          | 0/50 [00:00<?, ?it/s]"
      ]
     },
     "metadata": {},
     "output_type": "display_data"
    },
    {
     "data": {
      "application/vnd.jupyter.widget-view+json": {
       "model_id": "fd536e41d3114d0eaf2ad21a70ca81f7",
       "version_major": 2,
       "version_minor": 0
      },
      "text/plain": [
       "  0%|          | 0/45 [00:00<?, ?it/s]"
      ]
     },
     "metadata": {},
     "output_type": "display_data"
    },
    {
     "name": "stdout",
     "output_type": "stream",
     "text": [
      "\u001b[32m[I 2023-02-25 15:52:47,413]\u001b[0m Trial 0 finished with value: 0.0024454396292115294 and parameters: {'factors': 67, 'regularization': 0.023544345955209517, 'iterations': 45}. Best is trial 0 with value: 0.0024454396292115294.\u001b[0m\n"
     ]
    },
    {
     "data": {
      "application/vnd.jupyter.widget-view+json": {
       "model_id": "e94f36f38e624adbab67ba4ad3557183",
       "version_major": 2,
       "version_minor": 0
      },
      "text/plain": [
       "  0%|          | 0/9 [00:00<?, ?it/s]"
      ]
     },
     "metadata": {},
     "output_type": "display_data"
    },
    {
     "name": "stdout",
     "output_type": "stream",
     "text": [
      "\u001b[32m[I 2023-02-25 15:52:59,017]\u001b[0m Trial 1 finished with value: 0.0031452486938747712 and parameters: {'factors': 91, 'regularization': 0.07718918806314636, 'iterations': 9}. Best is trial 1 with value: 0.0031452486938747712.\u001b[0m\n"
     ]
    },
    {
     "data": {
      "application/vnd.jupyter.widget-view+json": {
       "model_id": "c322a089fc6b4f13a1b09378e4e4f37b",
       "version_major": 2,
       "version_minor": 0
      },
      "text/plain": [
       "  0%|          | 0/63 [00:00<?, ?it/s]"
      ]
     },
     "metadata": {},
     "output_type": "display_data"
    },
    {
     "name": "stdout",
     "output_type": "stream",
     "text": [
      "\u001b[32m[I 2023-02-25 15:53:19,438]\u001b[0m Trial 2 finished with value: 0.0030268944938435173 and parameters: {'factors': 147, 'regularization': 0.026397643801676657, 'iterations': 63}. Best is trial 1 with value: 0.0031452486938747712.\u001b[0m\n"
     ]
    },
    {
     "data": {
      "application/vnd.jupyter.widget-view+json": {
       "model_id": "13fbd4443a0e432ea42b4e96ad498d11",
       "version_major": 2,
       "version_minor": 0
      },
      "text/plain": [
       "  0%|          | 0/22 [00:00<?, ?it/s]"
      ]
     },
     "metadata": {},
     "output_type": "display_data"
    },
    {
     "name": "stdout",
     "output_type": "stream",
     "text": [
      "\u001b[32m[I 2023-02-25 15:53:38,400]\u001b[0m Trial 3 finished with value: 0.0036923211231448773 and parameters: {'factors': 215, 'regularization': 0.025891527759573287, 'iterations': 22}. Best is trial 3 with value: 0.0036923211231448773.\u001b[0m\n"
     ]
    },
    {
     "data": {
      "application/vnd.jupyter.widget-view+json": {
       "model_id": "73c0c97588bc43fd9ba671cc7af1c579",
       "version_major": 2,
       "version_minor": 0
      },
      "text/plain": [
       "  0%|          | 0/34 [00:00<?, ?it/s]"
      ]
     },
     "metadata": {},
     "output_type": "display_data"
    },
    {
     "name": "stdout",
     "output_type": "stream",
     "text": [
      "\u001b[32m[I 2023-02-25 15:53:58,547]\u001b[0m Trial 4 finished with value: 0.0035038471268279982 and parameters: {'factors': 203, 'regularization': 0.044963028281097626, 'iterations': 34}. Best is trial 3 with value: 0.0036923211231448773.\u001b[0m\n"
     ]
    },
    {
     "data": {
      "application/vnd.jupyter.widget-view+json": {
       "model_id": "ae4c5fff8aa54770b4d8efa11aa6fc06",
       "version_major": 2,
       "version_minor": 0
      },
      "text/plain": [
       "  0%|          | 0/31 [00:00<?, ?it/s]"
      ]
     },
     "metadata": {},
     "output_type": "display_data"
    },
    {
     "name": "stdout",
     "output_type": "stream",
     "text": [
      "\u001b[32m[I 2023-02-25 15:54:12,816]\u001b[0m Trial 5 finished with value: 0.0029623699845615337 and parameters: {'factors': 128, 'regularization': 0.015582540915115625, 'iterations': 31}. Best is trial 3 with value: 0.0036923211231448773.\u001b[0m\n"
     ]
    },
    {
     "data": {
      "application/vnd.jupyter.widget-view+json": {
       "model_id": "1beb5bd0d4c1433084e27589b747f3a5",
       "version_major": 2,
       "version_minor": 0
      },
      "text/plain": [
       "  0%|          | 0/56 [00:00<?, ?it/s]"
      ]
     },
     "metadata": {},
     "output_type": "display_data"
    },
    {
     "name": "stdout",
     "output_type": "stream",
     "text": [
      "\u001b[32m[I 2023-02-25 15:54:23,991]\u001b[0m Trial 6 finished with value: 0.002404772068436787 and parameters: {'factors': 52, 'regularization': 0.050415612499271185, 'iterations': 56}. Best is trial 3 with value: 0.0036923211231448773.\u001b[0m\n"
     ]
    },
    {
     "data": {
      "application/vnd.jupyter.widget-view+json": {
       "model_id": "8e0f677168854e8fbed2600eb0b002bf",
       "version_major": 2,
       "version_minor": 0
      },
      "text/plain": [
       "  0%|          | 0/49 [00:00<?, ?it/s]"
      ]
     },
     "metadata": {},
     "output_type": "display_data"
    },
    {
     "name": "stdout",
     "output_type": "stream",
     "text": [
      "\u001b[32m[I 2023-02-25 15:54:46,740]\u001b[0m Trial 7 finished with value: 0.0034226179772542716 and parameters: {'factors': 203, 'regularization': 0.08270045179764178, 'iterations': 49}. Best is trial 3 with value: 0.0036923211231448773.\u001b[0m\n"
     ]
    },
    {
     "data": {
      "application/vnd.jupyter.widget-view+json": {
       "model_id": "adbc4292516041c68e275e04f928e8a6",
       "version_major": 2,
       "version_minor": 0
      },
      "text/plain": [
       "  0%|          | 0/9 [00:00<?, ?it/s]"
      ]
     },
     "metadata": {},
     "output_type": "display_data"
    },
    {
     "name": "stdout",
     "output_type": "stream",
     "text": [
      "\u001b[32m[I 2023-02-25 15:54:55,788]\u001b[0m Trial 8 finished with value: 0.0023666205090665383 and parameters: {'factors': 41, 'regularization': 0.09524899452184085, 'iterations': 9}. Best is trial 3 with value: 0.0036923211231448773.\u001b[0m\n"
     ]
    },
    {
     "data": {
      "application/vnd.jupyter.widget-view+json": {
       "model_id": "00efb1bc24884c35a1171b197590def5",
       "version_major": 2,
       "version_minor": 0
      },
      "text/plain": [
       "  0%|          | 0/56 [00:00<?, ?it/s]"
      ]
     },
     "metadata": {},
     "output_type": "display_data"
    },
    {
     "name": "stdout",
     "output_type": "stream",
     "text": [
      "\u001b[32m[I 2023-02-25 15:55:04,630]\u001b[0m Trial 9 finished with value: 0.0013118567002098312 and parameters: {'factors': 15, 'regularization': 0.09064610366311945, 'iterations': 56}. Best is trial 3 with value: 0.0036923211231448773.\u001b[0m\n"
     ]
    },
    {
     "data": {
      "application/vnd.jupyter.widget-view+json": {
       "model_id": "8a08f1201f3e47c2be98a17203d1f78f",
       "version_major": 2,
       "version_minor": 0
      },
      "text/plain": [
       "  0%|          | 0/24 [00:00<?, ?it/s]"
      ]
     },
     "metadata": {},
     "output_type": "display_data"
    },
    {
     "name": "stdout",
     "output_type": "stream",
     "text": [
      "\u001b[32m[I 2023-02-25 15:55:26,809]\u001b[0m Trial 10 finished with value: 0.003821033121626273 and parameters: {'factors': 246, 'regularization': 0.004676921412297544, 'iterations': 24}. Best is trial 10 with value: 0.003821033121626273.\u001b[0m\n"
     ]
    },
    {
     "data": {
      "application/vnd.jupyter.widget-view+json": {
       "model_id": "2b711907f12641d49922ab1d3f115f8f",
       "version_major": 2,
       "version_minor": 0
      },
      "text/plain": [
       "  0%|          | 0/21 [00:00<?, ?it/s]"
      ]
     },
     "metadata": {},
     "output_type": "display_data"
    },
    {
     "name": "stdout",
     "output_type": "stream",
     "text": [
      "\u001b[32m[I 2023-02-25 15:55:47,896]\u001b[0m Trial 11 finished with value: 0.003717673413505389 and parameters: {'factors': 249, 'regularization': 0.0005308831467517941, 'iterations': 21}. Best is trial 10 with value: 0.003821033121626273.\u001b[0m\n"
     ]
    },
    {
     "data": {
      "application/vnd.jupyter.widget-view+json": {
       "model_id": "147505758b40429dad2360c93910a7c0",
       "version_major": 2,
       "version_minor": 0
      },
      "text/plain": [
       "  0%|          | 0/21 [00:00<?, ?it/s]"
      ]
     },
     "metadata": {},
     "output_type": "display_data"
    },
    {
     "name": "stdout",
     "output_type": "stream",
     "text": [
      "\u001b[32m[I 2023-02-25 15:56:09,262]\u001b[0m Trial 12 finished with value: 0.003922383537541398 and parameters: {'factors': 256, 'regularization': 0.0009551818682488875, 'iterations': 21}. Best is trial 12 with value: 0.003922383537541398.\u001b[0m\n"
     ]
    },
    {
     "data": {
      "application/vnd.jupyter.widget-view+json": {
       "model_id": "e3204fc916144733b0c7b749779d5a8b",
       "version_major": 2,
       "version_minor": 0
      },
      "text/plain": [
       "  0%|          | 0/23 [00:00<?, ?it/s]"
      ]
     },
     "metadata": {},
     "output_type": "display_data"
    },
    {
     "name": "stdout",
     "output_type": "stream",
     "text": [
      "\u001b[32m[I 2023-02-25 15:56:31,246]\u001b[0m Trial 13 finished with value: 0.003600285560844687 and parameters: {'factors': 244, 'regularization': 7.89600703643761e-05, 'iterations': 23}. Best is trial 12 with value: 0.003922383537541398.\u001b[0m\n"
     ]
    },
    {
     "data": {
      "application/vnd.jupyter.widget-view+json": {
       "model_id": "0d109faa3c12420caa8b89ee1dee874d",
       "version_major": 2,
       "version_minor": 0
      },
      "text/plain": [
       "  0%|          | 0/18 [00:00<?, ?it/s]"
      ]
     },
     "metadata": {},
     "output_type": "display_data"
    },
    {
     "name": "stdout",
     "output_type": "stream",
     "text": [
      "\u001b[32m[I 2023-02-25 15:56:49,255]\u001b[0m Trial 14 finished with value: 0.0032171734608418974 and parameters: {'factors': 162, 'regularization': 0.009698765456795518, 'iterations': 18}. Best is trial 12 with value: 0.003922383537541398.\u001b[0m\n"
     ]
    },
    {
     "data": {
      "application/vnd.jupyter.widget-view+json": {
       "model_id": "1fa97f6f1700406c9a18981e3228f5f5",
       "version_major": 2,
       "version_minor": 0
      },
      "text/plain": [
       "  0%|          | 0/31 [00:00<?, ?it/s]"
      ]
     },
     "metadata": {},
     "output_type": "display_data"
    },
    {
     "name": "stdout",
     "output_type": "stream",
     "text": [
      "\u001b[32m[I 2023-02-25 15:57:07,474]\u001b[0m Trial 15 finished with value: 0.0032022831834734246 and parameters: {'factors': 177, 'regularization': 0.012400553893159957, 'iterations': 31}. Best is trial 12 with value: 0.003922383537541398.\u001b[0m\n"
     ]
    },
    {
     "data": {
      "application/vnd.jupyter.widget-view+json": {
       "model_id": "95b4e644f92446f69a3a01ca72f0391a",
       "version_major": 2,
       "version_minor": 0
      },
      "text/plain": [
       "  0%|          | 0/41 [00:00<?, ?it/s]"
      ]
     },
     "metadata": {},
     "output_type": "display_data"
    },
    {
     "name": "stdout",
     "output_type": "stream",
     "text": [
      "\u001b[32m[I 2023-02-25 15:57:33,731]\u001b[0m Trial 16 finished with value: 0.0035106708459266196 and parameters: {'factors': 249, 'regularization': 0.037741940780963976, 'iterations': 41}. Best is trial 12 with value: 0.003922383537541398.\u001b[0m\n"
     ]
    },
    {
     "data": {
      "application/vnd.jupyter.widget-view+json": {
       "model_id": "77e17acff50e4f0eb7cf2a2701e32817",
       "version_major": 2,
       "version_minor": 0
      },
      "text/plain": [
       "  0%|          | 0/14 [00:00<?, ?it/s]"
      ]
     },
     "metadata": {},
     "output_type": "display_data"
    },
    {
     "name": "stdout",
     "output_type": "stream",
     "text": [
      "\u001b[32m[I 2023-02-25 15:57:52,485]\u001b[0m Trial 17 finished with value: 0.003819975710015003 and parameters: {'factors': 221, 'regularization': 0.0060958535942887, 'iterations': 14}. Best is trial 12 with value: 0.003922383537541398.\u001b[0m\n"
     ]
    },
    {
     "data": {
      "application/vnd.jupyter.widget-view+json": {
       "model_id": "c531446bbb044bdbae3d32c314105ac2",
       "version_major": 2,
       "version_minor": 0
      },
      "text/plain": [
       "  0%|          | 0/28 [00:00<?, ?it/s]"
      ]
     },
     "metadata": {},
     "output_type": "display_data"
    },
    {
     "name": "stdout",
     "output_type": "stream",
     "text": [
      "\u001b[32m[I 2023-02-25 15:58:06,375]\u001b[0m Trial 18 finished with value: 0.003011547982656685 and parameters: {'factors': 105, 'regularization': 0.014108093755416268, 'iterations': 28}. Best is trial 12 with value: 0.003922383537541398.\u001b[0m\n"
     ]
    },
    {
     "data": {
      "application/vnd.jupyter.widget-view+json": {
       "model_id": "a49408eef79c434f8693ef8e9a8e4304",
       "version_major": 2,
       "version_minor": 0
      },
      "text/plain": [
       "  0%|          | 0/38 [00:00<?, ?it/s]"
      ]
     },
     "metadata": {},
     "output_type": "display_data"
    },
    {
     "name": "stdout",
     "output_type": "stream",
     "text": [
      "\u001b[32m[I 2023-02-25 15:58:25,996]\u001b[0m Trial 19 finished with value: 0.0032988277902834674 and parameters: {'factors': 187, 'regularization': 0.0027385198848864168, 'iterations': 38}. Best is trial 12 with value: 0.003922383537541398.\u001b[0m\n"
     ]
    },
    {
     "data": {
      "application/vnd.jupyter.widget-view+json": {
       "model_id": "821bb05ac5ff4a74a218940c7384fd1d",
       "version_major": 2,
       "version_minor": 0
      },
      "text/plain": [
       "  0%|          | 0/16 [00:00<?, ?it/s]"
      ]
     },
     "metadata": {},
     "output_type": "display_data"
    },
    {
     "name": "stdout",
     "output_type": "stream",
     "text": [
      "\u001b[32m[I 2023-02-25 15:58:44,523]\u001b[0m Trial 20 finished with value: 0.00382468968055457 and parameters: {'factors': 219, 'regularization': 0.019483799841571087, 'iterations': 16}. Best is trial 12 with value: 0.003922383537541398.\u001b[0m\n"
     ]
    },
    {
     "data": {
      "application/vnd.jupyter.widget-view+json": {
       "model_id": "65d984190cf24659b858cc27a36287e0",
       "version_major": 2,
       "version_minor": 0
      },
      "text/plain": [
       "  0%|          | 0/16 [00:00<?, ?it/s]"
      ]
     },
     "metadata": {},
     "output_type": "display_data"
    },
    {
     "name": "stdout",
     "output_type": "stream",
     "text": [
      "\u001b[32m[I 2023-02-25 15:59:04,283]\u001b[0m Trial 21 finished with value: 0.0037601472840087602 and parameters: {'factors': 236, 'regularization': 0.018075167146484737, 'iterations': 16}. Best is trial 12 with value: 0.003922383537541398.\u001b[0m\n"
     ]
    },
    {
     "data": {
      "application/vnd.jupyter.widget-view+json": {
       "model_id": "5a1f25eec30a476882f7a7e2992dea50",
       "version_major": 2,
       "version_minor": 0
      },
      "text/plain": [
       "  0%|          | 0/26 [00:00<?, ?it/s]"
      ]
     },
     "metadata": {},
     "output_type": "display_data"
    },
    {
     "name": "stdout",
     "output_type": "stream",
     "text": [
      "\u001b[32m[I 2023-02-25 15:59:26,956]\u001b[0m Trial 22 finished with value: 0.0036645160196982197 and parameters: {'factors': 256, 'regularization': 0.008097060188307408, 'iterations': 26}. Best is trial 12 with value: 0.003922383537541398.\u001b[0m\n",
      "EarlyStopping Exceeded: No new best scores on iters 10\n"
     ]
    }
   ],
   "source": [
    "fscore_objective = Objective(csr_train, interactions.valid, fscore)\n",
    "fscore_optimizer = OptunaMaximizer(fscore_objective, \"ALS fscore maximize\")\n",
    "fscore_best_trial = fscore_optimizer.optimize(Config.ITERATIONS, Config.STOP_ITERATION)"
   ]
  },
  {
   "cell_type": "code",
   "execution_count": 11,
   "metadata": {},
   "outputs": [
    {
     "name": "stderr",
     "output_type": "stream",
     "text": [
      "\u001b[32m[I 2023-02-25 15:59:27,048]\u001b[0m A new study created in memory with name: ALS precision maximize\u001b[0m\n",
      "/home/aveitsme/miniconda3/envs/core/lib/python3.10/site-packages/optuna/progress_bar.py:56: ExperimentalWarning: Progress bar is experimental (supported from v1.2.0). The interface can change in the future.\n",
      "  self._init_valid()\n"
     ]
    },
    {
     "data": {
      "application/vnd.jupyter.widget-view+json": {
       "model_id": "0730cb169d2242518b4525b5a8d3a0de",
       "version_major": 2,
       "version_minor": 0
      },
      "text/plain": [
       "  0%|          | 0/50 [00:00<?, ?it/s]"
      ]
     },
     "metadata": {},
     "output_type": "display_data"
    },
    {
     "data": {
      "application/vnd.jupyter.widget-view+json": {
       "model_id": "64f1c4b6460d4294ae5f73f9730c15da",
       "version_major": 2,
       "version_minor": 0
      },
      "text/plain": [
       "  0%|          | 0/46 [00:00<?, ?it/s]"
      ]
     },
     "metadata": {},
     "output_type": "display_data"
    },
    {
     "name": "stdout",
     "output_type": "stream",
     "text": [
      "\u001b[32m[I 2023-02-25 15:59:52,850]\u001b[0m Trial 0 finished with value: 0.0022864828513786202 and parameters: {'factors': 233, 'regularization': 0.051641405702684384, 'iterations': 46}. Best is trial 0 with value: 0.0022864828513786202.\u001b[0m\n"
     ]
    },
    {
     "data": {
      "application/vnd.jupyter.widget-view+json": {
       "model_id": "67a2ebea2a674b49806ebaf9cce44916",
       "version_major": 2,
       "version_minor": 0
      },
      "text/plain": [
       "  0%|          | 0/19 [00:00<?, ?it/s]"
      ]
     },
     "metadata": {},
     "output_type": "display_data"
    },
    {
     "name": "stdout",
     "output_type": "stream",
     "text": [
      "\u001b[32m[I 2023-02-25 16:00:03,635]\u001b[0m Trial 1 finished with value: 0.0017869151695648002 and parameters: {'factors': 67, 'regularization': 0.05942730867210251, 'iterations': 19}. Best is trial 0 with value: 0.0022864828513786202.\u001b[0m\n"
     ]
    },
    {
     "data": {
      "application/vnd.jupyter.widget-view+json": {
       "model_id": "b9cb5a03b68e4c9fb6a37aa3d1b2a083",
       "version_major": 2,
       "version_minor": 0
      },
      "text/plain": [
       "  0%|          | 0/30 [00:00<?, ?it/s]"
      ]
     },
     "metadata": {},
     "output_type": "display_data"
    },
    {
     "name": "stdout",
     "output_type": "stream",
     "text": [
      "\u001b[32m[I 2023-02-25 16:00:26,239]\u001b[0m Trial 2 finished with value: 0.002401767701027963 and parameters: {'factors': 227, 'regularization': 0.05589605356079603, 'iterations': 30}. Best is trial 2 with value: 0.002401767701027963.\u001b[0m\n"
     ]
    },
    {
     "data": {
      "application/vnd.jupyter.widget-view+json": {
       "model_id": "57a4ada56b784f798942a75cb84f5d28",
       "version_major": 2,
       "version_minor": 0
      },
      "text/plain": [
       "  0%|          | 0/55 [00:00<?, ?it/s]"
      ]
     },
     "metadata": {},
     "output_type": "display_data"
    },
    {
     "name": "stdout",
     "output_type": "stream",
     "text": [
      "\u001b[32m[I 2023-02-25 16:00:47,395]\u001b[0m Trial 3 finished with value: 0.0020366990104717098 and parameters: {'factors': 141, 'regularization': 0.06763084349704808, 'iterations': 55}. Best is trial 2 with value: 0.002401767701027963.\u001b[0m\n"
     ]
    },
    {
     "data": {
      "application/vnd.jupyter.widget-view+json": {
       "model_id": "44660d854e0c45348924428d02ec4b3c",
       "version_major": 2,
       "version_minor": 0
      },
      "text/plain": [
       "  0%|          | 0/42 [00:00<?, ?it/s]"
      ]
     },
     "metadata": {},
     "output_type": "display_data"
    },
    {
     "name": "stdout",
     "output_type": "stream",
     "text": [
      "\u001b[32m[I 2023-02-25 16:01:00,053]\u001b[0m Trial 4 finished with value: 0.0017869151695648002 and parameters: {'factors': 77, 'regularization': 0.09195301768330291, 'iterations': 42}. Best is trial 2 with value: 0.002401767701027963.\u001b[0m\n"
     ]
    },
    {
     "data": {
      "application/vnd.jupyter.widget-view+json": {
       "model_id": "dd8ef29cd449470098446f67b718f989",
       "version_major": 2,
       "version_minor": 0
      },
      "text/plain": [
       "  0%|          | 0/36 [00:00<?, ?it/s]"
      ]
     },
     "metadata": {},
     "output_type": "display_data"
    },
    {
     "name": "stdout",
     "output_type": "stream",
     "text": [
      "\u001b[32m[I 2023-02-25 16:01:21,228]\u001b[0m Trial 5 finished with value: 0.0023056969929868437 and parameters: {'factors': 194, 'regularization': 0.07897728951009884, 'iterations': 36}. Best is trial 2 with value: 0.002401767701027963.\u001b[0m\n"
     ]
    },
    {
     "data": {
      "application/vnd.jupyter.widget-view+json": {
       "model_id": "8851fc7e24d54b69b5deef0751bbf923",
       "version_major": 2,
       "version_minor": 0
      },
      "text/plain": [
       "  0%|          | 0/17 [00:00<?, ?it/s]"
      ]
     },
     "metadata": {},
     "output_type": "display_data"
    },
    {
     "name": "stdout",
     "output_type": "stream",
     "text": [
      "\u001b[32m[I 2023-02-25 16:01:38,102]\u001b[0m Trial 6 finished with value: 0.002411374771832074 and parameters: {'factors': 183, 'regularization': 0.021366764380982065, 'iterations': 17}. Best is trial 6 with value: 0.002411374771832074.\u001b[0m\n"
     ]
    },
    {
     "data": {
      "application/vnd.jupyter.widget-view+json": {
       "model_id": "2bd46210744c49549f2dce576342011b",
       "version_major": 2,
       "version_minor": 0
      },
      "text/plain": [
       "  0%|          | 0/8 [00:00<?, ?it/s]"
      ]
     },
     "metadata": {},
     "output_type": "display_data"
    },
    {
     "name": "stdout",
     "output_type": "stream",
     "text": [
      "\u001b[32m[I 2023-02-25 16:01:48,392]\u001b[0m Trial 7 finished with value: 0.0018733788068018072 and parameters: {'factors': 62, 'regularization': 0.09485232788156861, 'iterations': 8}. Best is trial 6 with value: 0.002411374771832074.\u001b[0m\n"
     ]
    },
    {
     "data": {
      "application/vnd.jupyter.widget-view+json": {
       "model_id": "892f62b7622b4fdd90c9b93571a2931b",
       "version_major": 2,
       "version_minor": 0
      },
      "text/plain": [
       "  0%|          | 0/38 [00:00<?, ?it/s]"
      ]
     },
     "metadata": {},
     "output_type": "display_data"
    },
    {
     "name": "stdout",
     "output_type": "stream",
     "text": [
      "\u001b[32m[I 2023-02-25 16:01:57,284]\u001b[0m Trial 8 finished with value: 0.0009991353636276282 and parameters: {'factors': 17, 'regularization': 0.06923553501860272, 'iterations': 38}. Best is trial 6 with value: 0.002411374771832074.\u001b[0m\n"
     ]
    },
    {
     "data": {
      "application/vnd.jupyter.widget-view+json": {
       "model_id": "ac22dec39c58485186bdb38a7403291a",
       "version_major": 2,
       "version_minor": 0
      },
      "text/plain": [
       "  0%|          | 0/17 [00:00<?, ?it/s]"
      ]
     },
     "metadata": {},
     "output_type": "display_data"
    },
    {
     "name": "stdout",
     "output_type": "stream",
     "text": [
      "\u001b[32m[I 2023-02-25 16:02:18,400]\u001b[0m Trial 9 finished with value: 0.002603516187914313 and parameters: {'factors': 251, 'regularization': 0.034845368152374066, 'iterations': 17}. Best is trial 9 with value: 0.002603516187914313.\u001b[0m\n"
     ]
    },
    {
     "data": {
      "application/vnd.jupyter.widget-view+json": {
       "model_id": "0fbf7d46d2c24f6494b321bd8f61fe7f",
       "version_major": 2,
       "version_minor": 0
      },
      "text/plain": [
       "  0%|          | 0/64 [00:00<?, ?it/s]"
      ]
     },
     "metadata": {},
     "output_type": "display_data"
    },
    {
     "name": "stdout",
     "output_type": "stream",
     "text": [
      "\u001b[32m[I 2023-02-25 16:02:38,361]\u001b[0m Trial 10 finished with value: 0.002055913152079933 and parameters: {'factors': 142, 'regularization': 0.027666279511627402, 'iterations': 64}. Best is trial 9 with value: 0.002603516187914313.\u001b[0m\n"
     ]
    },
    {
     "data": {
      "application/vnd.jupyter.widget-view+json": {
       "model_id": "fab680392d58455b9527fd3dc5bfa42e",
       "version_major": 2,
       "version_minor": 0
      },
      "text/plain": [
       "  0%|          | 0/19 [00:00<?, ?it/s]"
      ]
     },
     "metadata": {},
     "output_type": "display_data"
    },
    {
     "name": "stdout",
     "output_type": "stream",
     "text": [
      "\u001b[32m[I 2023-02-25 16:02:56,427]\u001b[0m Trial 11 finished with value: 0.002459410125852633 and parameters: {'factors': 184, 'regularization': 0.01897221685426651, 'iterations': 19}. Best is trial 9 with value: 0.002603516187914313.\u001b[0m\n"
     ]
    },
    {
     "data": {
      "application/vnd.jupyter.widget-view+json": {
       "model_id": "61f24621e1a04529a55b14d36312223a",
       "version_major": 2,
       "version_minor": 0
      },
      "text/plain": [
       "  0%|          | 0/23 [00:00<?, ?it/s]"
      ]
     },
     "metadata": {},
     "output_type": "display_data"
    },
    {
     "name": "stdout",
     "output_type": "stream",
     "text": [
      "\u001b[32m[I 2023-02-25 16:03:18,638]\u001b[0m Trial 12 finished with value: 0.002430588913440299 and parameters: {'factors': 249, 'regularization': 0.00522735288071321, 'iterations': 23}. Best is trial 9 with value: 0.002603516187914313.\u001b[0m\n"
     ]
    },
    {
     "data": {
      "application/vnd.jupyter.widget-view+json": {
       "model_id": "5b7c4cdff8f3471bb7097464f238f4b6",
       "version_major": 2,
       "version_minor": 0
      },
      "text/plain": [
       "  0%|          | 0/9 [00:00<?, ?it/s]"
      ]
     },
     "metadata": {},
     "output_type": "display_data"
    },
    {
     "name": "stdout",
     "output_type": "stream",
     "text": [
      "\u001b[32m[I 2023-02-25 16:03:34,380]\u001b[0m Trial 13 finished with value: 0.0024594101258526334 and parameters: {'factors': 185, 'regularization': 0.03601631326129827, 'iterations': 9}. Best is trial 9 with value: 0.002603516187914313.\u001b[0m\n"
     ]
    },
    {
     "data": {
      "application/vnd.jupyter.widget-view+json": {
       "model_id": "8b3e50f413d4467ca4bbfad4f87c4bfb",
       "version_major": 2,
       "version_minor": 0
      },
      "text/plain": [
       "  0%|          | 0/10 [00:00<?, ?it/s]"
      ]
     },
     "metadata": {},
     "output_type": "display_data"
    },
    {
     "name": "stdout",
     "output_type": "stream",
     "text": [
      "\u001b[32m[I 2023-02-25 16:03:51,932]\u001b[0m Trial 14 finished with value: 0.002651551541934872 and parameters: {'factors': 216, 'regularization': 0.038661017304705156, 'iterations': 10}. Best is trial 14 with value: 0.002651551541934872.\u001b[0m\n"
     ]
    },
    {
     "data": {
      "application/vnd.jupyter.widget-view+json": {
       "model_id": "e14f40d99432489b962f0c3cbb5bef2b",
       "version_major": 2,
       "version_minor": 0
      },
      "text/plain": [
       "  0%|          | 0/28 [00:00<?, ?it/s]"
      ]
     },
     "metadata": {},
     "output_type": "display_data"
    },
    {
     "name": "stdout",
     "output_type": "stream",
     "text": [
      "\u001b[32m[I 2023-02-25 16:04:13,351]\u001b[0m Trial 15 finished with value: 0.0023825535594197405 and parameters: {'factors': 214, 'regularization': 0.039812189075535326, 'iterations': 28}. Best is trial 14 with value: 0.002651551541934872.\u001b[0m\n"
     ]
    },
    {
     "data": {
      "application/vnd.jupyter.widget-view+json": {
       "model_id": "a21b19a2abbd42fe9793648598e52fed",
       "version_major": 2,
       "version_minor": 0
      },
      "text/plain": [
       "  0%|          | 0/12 [00:00<?, ?it/s]"
      ]
     },
     "metadata": {},
     "output_type": "display_data"
    },
    {
     "name": "stdout",
     "output_type": "stream",
     "text": [
      "\u001b[32m[I 2023-02-25 16:04:33,074]\u001b[0m Trial 16 finished with value: 0.002747622249975992 and parameters: {'factors': 254, 'regularization': 0.03780094523736985, 'iterations': 12}. Best is trial 16 with value: 0.002747622249975992.\u001b[0m\n"
     ]
    },
    {
     "data": {
      "application/vnd.jupyter.widget-view+json": {
       "model_id": "100f5598244b4536b12533ea482cbdcf",
       "version_major": 2,
       "version_minor": 0
      },
      "text/plain": [
       "  0%|          | 0/12 [00:00<?, ?it/s]"
      ]
     },
     "metadata": {},
     "output_type": "display_data"
    },
    {
     "name": "stdout",
     "output_type": "stream",
     "text": [
      "\u001b[32m[I 2023-02-25 16:04:47,003]\u001b[0m Trial 17 finished with value: 0.0020943414352963823 and parameters: {'factors': 108, 'regularization': 0.0448371849413801, 'iterations': 12}. Best is trial 16 with value: 0.002747622249975992.\u001b[0m\n"
     ]
    },
    {
     "data": {
      "application/vnd.jupyter.widget-view+json": {
       "model_id": "c778ea30567b47a08d5288f1a3a3506e",
       "version_major": 2,
       "version_minor": 0
      },
      "text/plain": [
       "  0%|          | 0/28 [00:00<?, ?it/s]"
      ]
     },
     "metadata": {},
     "output_type": "display_data"
    },
    {
     "name": "stdout",
     "output_type": "stream",
     "text": [
      "\u001b[32m[I 2023-02-25 16:05:04,056]\u001b[0m Trial 18 finished with value: 0.0021808050725333882 and parameters: {'factors': 160, 'regularization': 0.04787008107094696, 'iterations': 28}. Best is trial 16 with value: 0.002747622249975992.\u001b[0m\n"
     ]
    },
    {
     "data": {
      "application/vnd.jupyter.widget-view+json": {
       "model_id": "f0e133222a2f482f947ecf58327aecbb",
       "version_major": 2,
       "version_minor": 0
      },
      "text/plain": [
       "  0%|          | 0/14 [00:00<?, ?it/s]"
      ]
     },
     "metadata": {},
     "output_type": "display_data"
    },
    {
     "name": "stdout",
     "output_type": "stream",
     "text": [
      "\u001b[32m[I 2023-02-25 16:05:23,700]\u001b[0m Trial 19 finished with value: 0.002603516187914313 and parameters: {'factors': 213, 'regularization': 0.011911857645717262, 'iterations': 14}. Best is trial 16 with value: 0.002747622249975992.\u001b[0m\n"
     ]
    },
    {
     "data": {
      "application/vnd.jupyter.widget-view+json": {
       "model_id": "656dc924e2d243b8a0fc7b6a6a2e0bed",
       "version_major": 2,
       "version_minor": 0
      },
      "text/plain": [
       "  0%|          | 0/24 [00:00<?, ?it/s]"
      ]
     },
     "metadata": {},
     "output_type": "display_data"
    },
    {
     "name": "stdout",
     "output_type": "stream",
     "text": [
      "\u001b[32m[I 2023-02-25 16:05:38,341]\u001b[0m Trial 20 finished with value: 0.0019790565856470385 and parameters: {'factors': 105, 'regularization': 0.029166020412027295, 'iterations': 24}. Best is trial 16 with value: 0.002747622249975992.\u001b[0m\n"
     ]
    },
    {
     "data": {
      "application/vnd.jupyter.widget-view+json": {
       "model_id": "c2251e2879464bd9b2ed79ca56b082ee",
       "version_major": 2,
       "version_minor": 0
      },
      "text/plain": [
       "  0%|          | 0/13 [00:00<?, ?it/s]"
      ]
     },
     "metadata": {},
     "output_type": "display_data"
    },
    {
     "name": "stdout",
     "output_type": "stream",
     "text": [
      "\u001b[32m[I 2023-02-25 16:05:59,073]\u001b[0m Trial 21 finished with value: 0.002718801037563655 and parameters: {'factors': 247, 'regularization': 0.036875645306677425, 'iterations': 13}. Best is trial 16 with value: 0.002747622249975992.\u001b[0m\n"
     ]
    },
    {
     "data": {
      "application/vnd.jupyter.widget-view+json": {
       "model_id": "9b07a13f22b0431796ff8efb7f0993a0",
       "version_major": 2,
       "version_minor": 0
      },
      "text/plain": [
       "  0%|          | 0/8 [00:00<?, ?it/s]"
      ]
     },
     "metadata": {},
     "output_type": "display_data"
    },
    {
     "name": "stdout",
     "output_type": "stream",
     "text": [
      "\u001b[32m[I 2023-02-25 16:06:18,609]\u001b[0m Trial 22 finished with value: 0.002853300028821222 and parameters: {'factors': 251, 'regularization': 0.04441816274809956, 'iterations': 8}. Best is trial 22 with value: 0.002853300028821222.\u001b[0m\n"
     ]
    },
    {
     "data": {
      "application/vnd.jupyter.widget-view+json": {
       "model_id": "da2ac57342e64bf0986ca26498169cfd",
       "version_major": 2,
       "version_minor": 0
      },
      "text/plain": [
       "  0%|          | 0/13 [00:00<?, ?it/s]"
      ]
     },
     "metadata": {},
     "output_type": "display_data"
    },
    {
     "name": "stdout",
     "output_type": "stream",
     "text": [
      "\u001b[32m[I 2023-02-25 16:06:38,495]\u001b[0m Trial 23 finished with value: 0.002814871745604775 and parameters: {'factors': 254, 'regularization': 0.043340808103618414, 'iterations': 13}. Best is trial 22 with value: 0.002853300028821222.\u001b[0m\n"
     ]
    },
    {
     "data": {
      "application/vnd.jupyter.widget-view+json": {
       "model_id": "c72f9ecb7e1b401a87e4d31eb268f3ea",
       "version_major": 2,
       "version_minor": 0
      },
      "text/plain": [
       "  0%|          | 0/23 [00:00<?, ?it/s]"
      ]
     },
     "metadata": {},
     "output_type": "display_data"
    },
    {
     "name": "stdout",
     "output_type": "stream",
     "text": [
      "\u001b[32m[I 2023-02-25 16:07:01,664]\u001b[0m Trial 24 finished with value: 0.00258430204630609 and parameters: {'factors': 255, 'regularization': 0.04587713109961723, 'iterations': 23}. Best is trial 22 with value: 0.002853300028821222.\u001b[0m\n"
     ]
    },
    {
     "data": {
      "application/vnd.jupyter.widget-view+json": {
       "model_id": "19d8b5b6b0324cd2a48bb4563c27329a",
       "version_major": 2,
       "version_minor": 0
      },
      "text/plain": [
       "  0%|          | 0/8 [00:00<?, ?it/s]"
      ]
     },
     "metadata": {},
     "output_type": "display_data"
    },
    {
     "name": "stdout",
     "output_type": "stream",
     "text": [
      "\u001b[32m[I 2023-02-25 16:07:19,466]\u001b[0m Trial 25 finished with value: 0.0027091939667595443 and parameters: {'factors': 230, 'regularization': 0.056074208542149395, 'iterations': 8}. Best is trial 22 with value: 0.002853300028821222.\u001b[0m\n"
     ]
    },
    {
     "data": {
      "application/vnd.jupyter.widget-view+json": {
       "model_id": "9113efb782064d409941260130c34d3e",
       "version_major": 2,
       "version_minor": 0
      },
      "text/plain": [
       "  0%|          | 0/15 [00:00<?, ?it/s]"
      ]
     },
     "metadata": {},
     "output_type": "display_data"
    },
    {
     "name": "stdout",
     "output_type": "stream",
     "text": [
      "\u001b[32m[I 2023-02-25 16:07:37,074]\u001b[0m Trial 26 finished with value: 0.00248823133826497 and parameters: {'factors': 204, 'regularization': 0.04691107311325352, 'iterations': 15}. Best is trial 22 with value: 0.002853300028821222.\u001b[0m\n"
     ]
    },
    {
     "data": {
      "application/vnd.jupyter.widget-view+json": {
       "model_id": "e89718c42748448d8c85373061fd677b",
       "version_major": 2,
       "version_minor": 0
      },
      "text/plain": [
       "  0%|          | 0/21 [00:00<?, ?it/s]"
      ]
     },
     "metadata": {},
     "output_type": "display_data"
    },
    {
     "name": "stdout",
     "output_type": "stream",
     "text": [
      "\u001b[32m[I 2023-02-25 16:07:54,037]\u001b[0m Trial 27 finished with value: 0.0022576616389662833 and parameters: {'factors': 167, 'regularization': 0.03071667850114365, 'iterations': 21}. Best is trial 22 with value: 0.002853300028821222.\u001b[0m\n"
     ]
    },
    {
     "data": {
      "application/vnd.jupyter.widget-view+json": {
       "model_id": "63323d13facd4dbf9913713401587992",
       "version_major": 2,
       "version_minor": 0
      },
      "text/plain": [
       "  0%|          | 0/32 [00:00<?, ?it/s]"
      ]
     },
     "metadata": {},
     "output_type": "display_data"
    },
    {
     "name": "stdout",
     "output_type": "stream",
     "text": [
      "\u001b[32m[I 2023-02-25 16:08:17,840]\u001b[0m Trial 28 finished with value: 0.002344125276203292 and parameters: {'factors': 239, 'regularization': 0.04139431717952296, 'iterations': 32}. Best is trial 22 with value: 0.002853300028821222.\u001b[0m\n"
     ]
    },
    {
     "data": {
      "application/vnd.jupyter.widget-view+json": {
       "model_id": "4e56de0f6b1a4ed8be4cf054008ab161",
       "version_major": 2,
       "version_minor": 0
      },
      "text/plain": [
       "  0%|          | 0/45 [00:00<?, ?it/s]"
      ]
     },
     "metadata": {},
     "output_type": "display_data"
    },
    {
     "name": "stdout",
     "output_type": "stream",
     "text": [
      "\u001b[32m[I 2023-02-25 16:08:44,019]\u001b[0m Trial 29 finished with value: 0.0023153040637909567 and parameters: {'factors': 228, 'regularization': 0.051474537225010865, 'iterations': 45}. Best is trial 22 with value: 0.002853300028821222.\u001b[0m\n"
     ]
    },
    {
     "data": {
      "application/vnd.jupyter.widget-view+json": {
       "model_id": "351812d32a0b42b5b9ab510970709d8b",
       "version_major": 2,
       "version_minor": 0
      },
      "text/plain": [
       "  0%|          | 0/52 [00:00<?, ?it/s]"
      ]
     },
     "metadata": {},
     "output_type": "display_data"
    },
    {
     "name": "stdout",
     "output_type": "stream",
     "text": [
      "\u001b[32m[I 2023-02-25 16:09:12,026]\u001b[0m Trial 30 finished with value: 0.0023345182053991793 and parameters: {'factors': 235, 'regularization': 0.02380086566614388, 'iterations': 52}. Best is trial 22 with value: 0.002853300028821222.\u001b[0m\n"
     ]
    },
    {
     "data": {
      "application/vnd.jupyter.widget-view+json": {
       "model_id": "5fd42fcc7c5a4ae6b1519d8a387ae0b4",
       "version_major": 2,
       "version_minor": 0
      },
      "text/plain": [
       "  0%|          | 0/13 [00:00<?, ?it/s]"
      ]
     },
     "metadata": {},
     "output_type": "display_data"
    },
    {
     "name": "stdout",
     "output_type": "stream",
     "text": [
      "\u001b[32m[I 2023-02-25 16:09:33,165]\u001b[0m Trial 31 finished with value: 0.002766836391584215 and parameters: {'factors': 253, 'regularization': 0.0344070289994648, 'iterations': 13}. Best is trial 22 with value: 0.002853300028821222.\u001b[0m\n"
     ]
    },
    {
     "data": {
      "application/vnd.jupyter.widget-view+json": {
       "model_id": "8ad0c95287434bdebd6ea806528ebb62",
       "version_major": 2,
       "version_minor": 0
      },
      "text/plain": [
       "  0%|          | 0/12 [00:00<?, ?it/s]"
      ]
     },
     "metadata": {},
     "output_type": "display_data"
    },
    {
     "name": "stdout",
     "output_type": "stream",
     "text": [
      "\u001b[32m[I 2023-02-25 16:09:53,435]\u001b[0m Trial 32 finished with value: 0.002622730329522537 and parameters: {'factors': 254, 'regularization': 0.033322651661722144, 'iterations': 12}. Best is trial 22 with value: 0.002853300028821222.\u001b[0m\n",
      "EarlyStopping Exceeded: No new best scores on iters 10\n"
     ]
    }
   ],
   "source": [
    "precision_objective = Objective(csr_train, interactions.valid, precision)\n",
    "precision_optimizer = OptunaMaximizer(precision_objective, \"ALS precision maximize\")\n",
    "precision_best_trial = precision_optimizer.optimize(Config.ITERATIONS, Config.STOP_ITERATION)"
   ]
  },
  {
   "cell_type": "code",
   "execution_count": 12,
   "metadata": {},
   "outputs": [
    {
     "name": "stderr",
     "output_type": "stream",
     "text": [
      "\u001b[32m[I 2023-02-25 16:09:53,509]\u001b[0m A new study created in memory with name: ALS recall maximize\u001b[0m\n",
      "/home/aveitsme/miniconda3/envs/core/lib/python3.10/site-packages/optuna/progress_bar.py:56: ExperimentalWarning: Progress bar is experimental (supported from v1.2.0). The interface can change in the future.\n",
      "  self._init_valid()\n"
     ]
    },
    {
     "data": {
      "application/vnd.jupyter.widget-view+json": {
       "model_id": "907c63b4d26b4e3b86dcfe6fff7154f1",
       "version_major": 2,
       "version_minor": 0
      },
      "text/plain": [
       "  0%|          | 0/50 [00:00<?, ?it/s]"
      ]
     },
     "metadata": {},
     "output_type": "display_data"
    },
    {
     "data": {
      "application/vnd.jupyter.widget-view+json": {
       "model_id": "e288802f3ed6477ab147850cd5d7c78f",
       "version_major": 2,
       "version_minor": 0
      },
      "text/plain": [
       "  0%|          | 0/54 [00:00<?, ?it/s]"
      ]
     },
     "metadata": {},
     "output_type": "display_data"
    },
    {
     "name": "stdout",
     "output_type": "stream",
     "text": [
      "\u001b[32m[I 2023-02-25 16:10:08,886]\u001b[0m Trial 0 finished with value: 0.007478991317496458 and parameters: {'factors': 89, 'regularization': 0.004597020171128827, 'iterations': 54}. Best is trial 0 with value: 0.007478991317496458.\u001b[0m\n"
     ]
    },
    {
     "data": {
      "application/vnd.jupyter.widget-view+json": {
       "model_id": "b228dee3750d445f9d855840d342770f",
       "version_major": 2,
       "version_minor": 0
      },
      "text/plain": [
       "  0%|          | 0/35 [00:00<?, ?it/s]"
      ]
     },
     "metadata": {},
     "output_type": "display_data"
    },
    {
     "name": "stdout",
     "output_type": "stream",
     "text": [
      "\u001b[32m[I 2023-02-25 16:10:29,026]\u001b[0m Trial 1 finished with value: 0.009390841062951738 and parameters: {'factors': 145, 'regularization': 0.09163576954207593, 'iterations': 35}. Best is trial 1 with value: 0.009390841062951738.\u001b[0m\n"
     ]
    },
    {
     "data": {
      "application/vnd.jupyter.widget-view+json": {
       "model_id": "035d07782520417985ad6a3a0d8b168b",
       "version_major": 2,
       "version_minor": 0
      },
      "text/plain": [
       "  0%|          | 0/34 [00:00<?, ?it/s]"
      ]
     },
     "metadata": {},
     "output_type": "display_data"
    },
    {
     "name": "stdout",
     "output_type": "stream",
     "text": [
      "\u001b[32m[I 2023-02-25 16:10:54,230]\u001b[0m Trial 2 finished with value: 0.010376610052131236 and parameters: {'factors': 239, 'regularization': 0.04647344988443538, 'iterations': 34}. Best is trial 2 with value: 0.010376610052131236.\u001b[0m\n"
     ]
    },
    {
     "data": {
      "application/vnd.jupyter.widget-view+json": {
       "model_id": "63507937bd174e0a97f3d9d6bb566ab5",
       "version_major": 2,
       "version_minor": 0
      },
      "text/plain": [
       "  0%|          | 0/63 [00:00<?, ?it/s]"
      ]
     },
     "metadata": {},
     "output_type": "display_data"
    },
    {
     "name": "stdout",
     "output_type": "stream",
     "text": [
      "\u001b[32m[I 2023-02-25 16:11:07,181]\u001b[0m Trial 3 finished with value: 0.006835904212803174 and parameters: {'factors': 54, 'regularization': 0.061359600271241835, 'iterations': 63}. Best is trial 2 with value: 0.010376610052131236.\u001b[0m\n"
     ]
    },
    {
     "data": {
      "application/vnd.jupyter.widget-view+json": {
       "model_id": "1eee43347da54294a48a491d40803086",
       "version_major": 2,
       "version_minor": 0
      },
      "text/plain": [
       "  0%|          | 0/41 [00:00<?, ?it/s]"
      ]
     },
     "metadata": {},
     "output_type": "display_data"
    },
    {
     "name": "stdout",
     "output_type": "stream",
     "text": [
      "\u001b[32m[I 2023-02-25 16:11:22,096]\u001b[0m Trial 4 finished with value: 0.008224734610424044 and parameters: {'factors': 98, 'regularization': 0.05917913779098105, 'iterations': 41}. Best is trial 2 with value: 0.010376610052131236.\u001b[0m\n"
     ]
    },
    {
     "data": {
      "application/vnd.jupyter.widget-view+json": {
       "model_id": "f93cd6c7b09f486b8da3f1813cb5e588",
       "version_major": 2,
       "version_minor": 0
      },
      "text/plain": [
       "  0%|          | 0/31 [00:00<?, ?it/s]"
      ]
     },
     "metadata": {},
     "output_type": "display_data"
    },
    {
     "name": "stdout",
     "output_type": "stream",
     "text": [
      "\u001b[32m[I 2023-02-25 16:11:36,737]\u001b[0m Trial 5 finished with value: 0.008112211213493759 and parameters: {'factors': 115, 'regularization': 0.05034495409023184, 'iterations': 31}. Best is trial 2 with value: 0.010376610052131236.\u001b[0m\n"
     ]
    },
    {
     "data": {
      "application/vnd.jupyter.widget-view+json": {
       "model_id": "027aafd81df1468a96c2f63a4dcf575c",
       "version_major": 2,
       "version_minor": 0
      },
      "text/plain": [
       "  0%|          | 0/52 [00:00<?, ?it/s]"
      ]
     },
     "metadata": {},
     "output_type": "display_data"
    },
    {
     "name": "stdout",
     "output_type": "stream",
     "text": [
      "\u001b[32m[I 2023-02-25 16:11:46,670]\u001b[0m Trial 6 finished with value: 0.0035905046827085438 and parameters: {'factors': 11, 'regularization': 0.04922753905322863, 'iterations': 52}. Best is trial 2 with value: 0.010376610052131236.\u001b[0m\n"
     ]
    },
    {
     "data": {
      "application/vnd.jupyter.widget-view+json": {
       "model_id": "2e00b66d22eb42f8b3cbdbcb5880fd05",
       "version_major": 2,
       "version_minor": 0
      },
      "text/plain": [
       "  0%|          | 0/52 [00:00<?, ?it/s]"
      ]
     },
     "metadata": {},
     "output_type": "display_data"
    },
    {
     "name": "stdout",
     "output_type": "stream",
     "text": [
      "\u001b[32m[I 2023-02-25 16:12:07,638]\u001b[0m Trial 7 finished with value: 0.008762978090002782 and parameters: {'factors': 141, 'regularization': 0.054707512857800386, 'iterations': 52}. Best is trial 2 with value: 0.010376610052131236.\u001b[0m\n"
     ]
    },
    {
     "data": {
      "application/vnd.jupyter.widget-view+json": {
       "model_id": "abecfeee380644508e69e73a03c310f9",
       "version_major": 2,
       "version_minor": 0
      },
      "text/plain": [
       "  0%|          | 0/39 [00:00<?, ?it/s]"
      ]
     },
     "metadata": {},
     "output_type": "display_data"
    },
    {
     "name": "stdout",
     "output_type": "stream",
     "text": [
      "\u001b[32m[I 2023-02-25 16:12:33,352]\u001b[0m Trial 8 finished with value: 0.01111577678947263 and parameters: {'factors': 248, 'regularization': 0.06798948581452871, 'iterations': 39}. Best is trial 8 with value: 0.01111577678947263.\u001b[0m\n"
     ]
    },
    {
     "data": {
      "application/vnd.jupyter.widget-view+json": {
       "model_id": "0e0da74d86fe451ca79a8fc5a1c6c1b5",
       "version_major": 2,
       "version_minor": 0
      },
      "text/plain": [
       "  0%|          | 0/21 [00:00<?, ?it/s]"
      ]
     },
     "metadata": {},
     "output_type": "display_data"
    },
    {
     "name": "stdout",
     "output_type": "stream",
     "text": [
      "\u001b[32m[I 2023-02-25 16:12:47,226]\u001b[0m Trial 9 finished with value: 0.009448670838453719 and parameters: {'factors': 121, 'regularization': 0.09152572331371951, 'iterations': 21}. Best is trial 8 with value: 0.01111577678947263.\u001b[0m\n"
     ]
    },
    {
     "data": {
      "application/vnd.jupyter.widget-view+json": {
       "model_id": "3ae7443df7cf4f3f81e8c9b3d1e3bf8d",
       "version_major": 2,
       "version_minor": 0
      },
      "text/plain": [
       "  0%|          | 0/13 [00:00<?, ?it/s]"
      ]
     },
     "metadata": {},
     "output_type": "display_data"
    },
    {
     "name": "stdout",
     "output_type": "stream",
     "text": [
      "\u001b[32m[I 2023-02-25 16:13:07,334]\u001b[0m Trial 10 finished with value: 0.012430830963340458 and parameters: {'factors': 254, 'regularization': 0.0767524002263722, 'iterations': 13}. Best is trial 10 with value: 0.012430830963340458.\u001b[0m\n"
     ]
    },
    {
     "data": {
      "application/vnd.jupyter.widget-view+json": {
       "model_id": "3a77158781ef429ca317f630668c8776",
       "version_major": 2,
       "version_minor": 0
      },
      "text/plain": [
       "  0%|          | 0/14 [00:00<?, ?it/s]"
      ]
     },
     "metadata": {},
     "output_type": "display_data"
    },
    {
     "name": "stdout",
     "output_type": "stream",
     "text": [
      "\u001b[32m[I 2023-02-25 16:13:25,408]\u001b[0m Trial 11 finished with value: 0.012485529142989036 and parameters: {'factors': 227, 'regularization': 0.07524450419156681, 'iterations': 14}. Best is trial 11 with value: 0.012485529142989036.\u001b[0m\n"
     ]
    },
    {
     "data": {
      "application/vnd.jupyter.widget-view+json": {
       "model_id": "54fecb7e891c47e89b3d65ce74036356",
       "version_major": 2,
       "version_minor": 0
      },
      "text/plain": [
       "  0%|          | 0/8 [00:00<?, ?it/s]"
      ]
     },
     "metadata": {},
     "output_type": "display_data"
    },
    {
     "name": "stdout",
     "output_type": "stream",
     "text": [
      "\u001b[32m[I 2023-02-25 16:13:41,750]\u001b[0m Trial 12 finished with value: 0.011529929717916075 and parameters: {'factors': 192, 'regularization': 0.07821163759806458, 'iterations': 8}. Best is trial 11 with value: 0.012485529142989036.\u001b[0m\n"
     ]
    },
    {
     "data": {
      "application/vnd.jupyter.widget-view+json": {
       "model_id": "d9721319857a466196cb3a34f4676e84",
       "version_major": 2,
       "version_minor": 0
      },
      "text/plain": [
       "  0%|          | 0/8 [00:00<?, ?it/s]"
      ]
     },
     "metadata": {},
     "output_type": "display_data"
    },
    {
     "name": "stdout",
     "output_type": "stream",
     "text": [
      "\u001b[32m[I 2023-02-25 16:13:57,966]\u001b[0m Trial 13 finished with value: 0.011454271436018003 and parameters: {'factors': 199, 'regularization': 0.09890392030157963, 'iterations': 8}. Best is trial 11 with value: 0.012485529142989036.\u001b[0m\n"
     ]
    },
    {
     "data": {
      "application/vnd.jupyter.widget-view+json": {
       "model_id": "c4f475abe4c14f889959b812b42dd0a3",
       "version_major": 2,
       "version_minor": 0
      },
      "text/plain": [
       "  0%|          | 0/18 [00:00<?, ?it/s]"
      ]
     },
     "metadata": {},
     "output_type": "display_data"
    },
    {
     "name": "stdout",
     "output_type": "stream",
     "text": [
      "\u001b[32m[I 2023-02-25 16:14:17,204]\u001b[0m Trial 14 finished with value: 0.011137311080269099 and parameters: {'factors': 201, 'regularization': 0.07731197031435888, 'iterations': 18}. Best is trial 11 with value: 0.012485529142989036.\u001b[0m\n"
     ]
    },
    {
     "data": {
      "application/vnd.jupyter.widget-view+json": {
       "model_id": "3854b2ceeb8a4e629007b0802bfa04cd",
       "version_major": 2,
       "version_minor": 0
      },
      "text/plain": [
       "  0%|          | 0/19 [00:00<?, ?it/s]"
      ]
     },
     "metadata": {},
     "output_type": "display_data"
    },
    {
     "name": "stdout",
     "output_type": "stream",
     "text": [
      "\u001b[32m[I 2023-02-25 16:14:39,555]\u001b[0m Trial 15 finished with value: 0.011741995928517207 and parameters: {'factors': 256, 'regularization': 0.07720259768981147, 'iterations': 19}. Best is trial 11 with value: 0.012485529142989036.\u001b[0m\n"
     ]
    },
    {
     "data": {
      "application/vnd.jupyter.widget-view+json": {
       "model_id": "9da8e0b97443457dbc64a24538a47115",
       "version_major": 2,
       "version_minor": 0
      },
      "text/plain": [
       "  0%|          | 0/26 [00:00<?, ?it/s]"
      ]
     },
     "metadata": {},
     "output_type": "display_data"
    },
    {
     "name": "stdout",
     "output_type": "stream",
     "text": [
      "\u001b[32m[I 2023-02-25 16:15:00,429]\u001b[0m Trial 16 finished with value: 0.010429652155301367 and parameters: {'factors': 215, 'regularization': 0.037102535729034186, 'iterations': 26}. Best is trial 11 with value: 0.012485529142989036.\u001b[0m\n"
     ]
    },
    {
     "data": {
      "application/vnd.jupyter.widget-view+json": {
       "model_id": "d7760e91fd0c4ffd9f1285ab4a625e9d",
       "version_major": 2,
       "version_minor": 0
      },
      "text/plain": [
       "  0%|          | 0/15 [00:00<?, ?it/s]"
      ]
     },
     "metadata": {},
     "output_type": "display_data"
    },
    {
     "name": "stdout",
     "output_type": "stream",
     "text": [
      "\u001b[32m[I 2023-02-25 16:15:16,513]\u001b[0m Trial 17 finished with value: 0.010585989463403243 and parameters: {'factors': 173, 'regularization': 0.0723736264954723, 'iterations': 15}. Best is trial 11 with value: 0.012485529142989036.\u001b[0m\n"
     ]
    },
    {
     "data": {
      "application/vnd.jupyter.widget-view+json": {
       "model_id": "03c25010cf284cdd974076846cfa0f61",
       "version_major": 2,
       "version_minor": 0
      },
      "text/plain": [
       "  0%|          | 0/13 [00:00<?, ?it/s]"
      ]
     },
     "metadata": {},
     "output_type": "display_data"
    },
    {
     "name": "stdout",
     "output_type": "stream",
     "text": [
      "\u001b[32m[I 2023-02-25 16:15:35,381]\u001b[0m Trial 18 finished with value: 0.012234692466212432 and parameters: {'factors': 229, 'regularization': 0.08411672095674418, 'iterations': 13}. Best is trial 11 with value: 0.012485529142989036.\u001b[0m\n"
     ]
    },
    {
     "data": {
      "application/vnd.jupyter.widget-view+json": {
       "model_id": "7eadf6459b8c44629fe878791d7cf202",
       "version_major": 2,
       "version_minor": 0
      },
      "text/plain": [
       "  0%|          | 0/25 [00:00<?, ?it/s]"
      ]
     },
     "metadata": {},
     "output_type": "display_data"
    },
    {
     "name": "stdout",
     "output_type": "stream",
     "text": [
      "\u001b[32m[I 2023-02-25 16:15:54,697]\u001b[0m Trial 19 finished with value: 0.010545100321375664 and parameters: {'factors': 169, 'regularization': 0.06901379176484686, 'iterations': 25}. Best is trial 11 with value: 0.012485529142989036.\u001b[0m\n"
     ]
    },
    {
     "data": {
      "application/vnd.jupyter.widget-view+json": {
       "model_id": "317a0fc4fb9545efaa55fb41d1298ba1",
       "version_major": 2,
       "version_minor": 0
      },
      "text/plain": [
       "  0%|          | 0/26 [00:00<?, ?it/s]"
      ]
     },
     "metadata": {},
     "output_type": "display_data"
    },
    {
     "name": "stdout",
     "output_type": "stream",
     "text": [
      "\u001b[32m[I 2023-02-25 16:16:16,214]\u001b[0m Trial 20 finished with value: 0.011120612963238703 and parameters: {'factors': 227, 'regularization': 0.09865752509021025, 'iterations': 26}. Best is trial 11 with value: 0.012485529142989036.\u001b[0m\n"
     ]
    },
    {
     "data": {
      "application/vnd.jupyter.widget-view+json": {
       "model_id": "1372502a3b7b4870977382e3d16dc515",
       "version_major": 2,
       "version_minor": 0
      },
      "text/plain": [
       "  0%|          | 0/13 [00:00<?, ?it/s]"
      ]
     },
     "metadata": {},
     "output_type": "display_data"
    },
    {
     "name": "stdout",
     "output_type": "stream",
     "text": [
      "\u001b[32m[I 2023-02-25 16:16:33,689]\u001b[0m Trial 21 finished with value: 0.011550672544033224 and parameters: {'factors': 217, 'regularization': 0.08392270413682602, 'iterations': 13}. Best is trial 11 with value: 0.012485529142989036.\u001b[0m\n",
      "EarlyStopping Exceeded: No new best scores on iters 10\n"
     ]
    }
   ],
   "source": [
    "recall_objective = Objective(csr_train, interactions.valid, recall)\n",
    "recall_optimizer = OptunaMaximizer(recall_objective, \"ALS recall maximize\")\n",
    "recall_best_trial = recall_optimizer.optimize(Config.ITERATIONS, Config.STOP_ITERATION)"
   ]
  },
  {
   "cell_type": "code",
   "execution_count": 13,
   "metadata": {},
   "outputs": [
    {
     "data": {
      "application/vnd.jupyter.widget-view+json": {
       "model_id": "7263cb46b9324b65ac8f09d2096c5ca7",
       "version_major": 2,
       "version_minor": 0
      },
      "text/plain": [
       "  0%|          | 0/8 [00:00<?, ?it/s]"
      ]
     },
     "metadata": {},
     "output_type": "display_data"
    }
   ],
   "source": [
    "precision_model = AlternatingLeastSquares(**precision_best_trial.params)\n",
    "precision_model.fit(csr_train)"
   ]
  },
  {
   "cell_type": "code",
   "execution_count": 14,
   "metadata": {},
   "outputs": [
    {
     "data": {
      "application/vnd.jupyter.widget-view+json": {
       "model_id": "e572403abb0b4a51a6084c5a106426d6",
       "version_major": 2,
       "version_minor": 0
      },
      "text/plain": [
       "  0%|          | 0/14 [00:00<?, ?it/s]"
      ]
     },
     "metadata": {},
     "output_type": "display_data"
    }
   ],
   "source": [
    "recall_model = AlternatingLeastSquares(**recall_best_trial.params)\n",
    "recall_model.fit(csr_train)"
   ]
  },
  {
   "cell_type": "code",
   "execution_count": 15,
   "metadata": {},
   "outputs": [
    {
     "data": {
      "application/vnd.jupyter.widget-view+json": {
       "model_id": "1b9da5776fb74e59892d0348df033be7",
       "version_major": 2,
       "version_minor": 0
      },
      "text/plain": [
       "  0%|          | 0/21 [00:00<?, ?it/s]"
      ]
     },
     "metadata": {},
     "output_type": "display_data"
    }
   ],
   "source": [
    "fscore_model = AlternatingLeastSquares(**fscore_best_trial.params)\n",
    "fscore_model.fit(csr_train)"
   ]
  },
  {
   "cell_type": "code",
   "execution_count": 18,
   "metadata": {},
   "outputs": [],
   "source": [
    "models = {\n",
    "    \"fscore_model\": fscore_model,\n",
    "    \"recall_model\": recall_model,\n",
    "    \"precision_model\": precision_model\n",
    "}"
   ]
  },
  {
   "cell_type": "code",
   "execution_count": 19,
   "metadata": {},
   "outputs": [],
   "source": [
    "metrics = {\n",
    "    \"precision\": precision,\n",
    "    \"recall\": recall\n",
    "}"
   ]
  },
  {
   "cell_type": "code",
   "execution_count": 21,
   "metadata": {},
   "outputs": [
    {
     "name": "stdout",
     "output_type": "stream",
     "text": [
      "Model 'fscore_model':\n",
      "\tMetric precision@10: 0.0016728427739544705\n",
      "\tMetric recall@10: 0.008561443482698114\n",
      "Model 'recall_model':\n",
      "\tMetric precision@10: 0.001736368448914767\n",
      "\tMetric recall@10: 0.00846431684308868\n",
      "Model 'precision_model':\n",
      "\tMetric precision@10: 0.0019481206987824247\n",
      "\tMetric recall@10: 0.010116979367905784\n"
     ]
    }
   ],
   "source": [
    "for model_name, model in models.items():\n",
    "    pred = pd.DataFrame(interactions.test[\"user_id\"].drop_duplicates())\n",
    "    print(f\"Model '{model_name}':\")\n",
    "    pred[\"item_id\"] = pred[\"user_id\"].apply(\n",
    "        lambda user_id: \n",
    "            model.recommend(\n",
    "                user_id, \n",
    "                csr_train[user_id],\n",
    "                N=Config.K,\n",
    "                filter_already_liked_items=True\n",
    "            )[0]\n",
    "    )\n",
    "    pred = pred.explode(\"item_id\")\n",
    "    for metric_name, metric in metrics.items():\n",
    "        metric_val = interactions.test[\"user_id\"].drop_duplicates().apply(\n",
    "            lambda user_id: \n",
    "                metric.calculate(\n",
    "                    pred[pred[\"user_id\"] == user_id][\"item_id\"],\n",
    "                    interactions.test[interactions.test[\"user_id\"] == user_id][\"item_id\"]\n",
    "                )\n",
    "        ).mean()\n",
    "        print(f\"\\tMetric {metric_name}@{Config.K}: {metric_val}\")"
   ]
  },
  {
   "cell_type": "code",
   "execution_count": null,
   "metadata": {},
   "outputs": [],
   "source": []
  }
 ],
 "metadata": {
  "kernelspec": {
   "display_name": "core",
   "language": "python",
   "name": "python3"
  },
  "language_info": {
   "codemirror_mode": {
    "name": "ipython",
    "version": 3
   },
   "file_extension": ".py",
   "mimetype": "text/x-python",
   "name": "python",
   "nbconvert_exporter": "python",
   "pygments_lexer": "ipython3",
   "version": "3.10.9"
  },
  "orig_nbformat": 4,
  "vscode": {
   "interpreter": {
    "hash": "009d69282f0b7257078526d54b136153003b0cf2c7ed5bb47bc5d27e99d5a7ba"
   }
  }
 },
 "nbformat": 4,
 "nbformat_minor": 2
}

{
 "cells": [
  {
   "cell_type": "code",
   "execution_count": 1,
   "id": "61565ca8",
   "metadata": {},
   "outputs": [],
   "source": [
    "import os\n",
    "import pandas as pd\n",
    "import numpy as np\n",
    "\n",
    "from src.config import Config"
   ]
  },
  {
   "cell_type": "code",
   "execution_count": 2,
   "id": "7d9aff1b",
   "metadata": {},
   "outputs": [],
   "source": [
    "def interactions_object_listing(interactions: pd.Series, objects: pd.Series) -> str:\n",
    "    interactions_unique = interactions.unique()\n",
    "    common_objects = len(np.intersect1d(interactions_unique, objects))\n",
    "    objects_only_in_interactions = len(np.setdiff1d(interactions_unique, objects))\n",
    "    objects_only_with_features = len(np.setdiff1d(objects, interactions_unique))\n",
    "    total_objects = common_objects + objects_only_in_interactions + objects_only_with_features\n",
    "    return f\"Total: {total_objects} (100%)\" \\\n",
    "    f\"\\nObjects with features and interactions: {common_objects} ({common_objects / total_objects * 100:.2f}%)\" \\\n",
    "    f\"\\nObjects with interactions only: {objects_only_in_interactions} ({objects_only_in_interactions / total_objects * 100:.2f}%)\" \\\n",
    "    f\"\\nOnly with features only: {objects_only_with_features} ({objects_only_with_features / total_objects * 100:.2f}%)\""
   ]
  },
  {
   "cell_type": "code",
   "execution_count": 3,
   "id": "ce2e6201",
   "metadata": {},
   "outputs": [],
   "source": [
    "items_df = pd.read_csv(Config.RAW_ITEMS_PATH)\n",
    "users_df = pd.read_csv(Config.RAW_USERS_PATH)\n",
    "interactions_df = pd.read_csv(Config.RAW_INTERACTIONS_PATH)"
   ]
  },
  {
   "cell_type": "markdown",
   "id": "1b3374ec",
   "metadata": {},
   "source": [
    "# Interactions preprocessing"
   ]
  },
  {
   "cell_type": "code",
   "execution_count": 4,
   "id": "65fbf787",
   "metadata": {},
   "outputs": [
    {
     "name": "stdout",
     "output_type": "stream",
     "text": [
      "<class 'pandas.core.frame.DataFrame'>\n",
      "RangeIndex: 1533078 entries, 0 to 1533077\n",
      "Data columns (total 5 columns):\n",
      " #   Column      Non-Null Count    Dtype  \n",
      "---  ------      --------------    -----  \n",
      " 0   user_id     1533078 non-null  int64  \n",
      " 1   item_id     1533078 non-null  int64  \n",
      " 2   progress    1533078 non-null  int64  \n",
      " 3   rating      285356 non-null   float64\n",
      " 4   start_date  1533078 non-null  object \n",
      "dtypes: float64(1), int64(3), object(1)\n",
      "memory usage: 58.5+ MB\n"
     ]
    }
   ],
   "source": [
    "interactions_df.info()"
   ]
  },
  {
   "cell_type": "code",
   "execution_count": 5,
   "id": "f25ae6d5",
   "metadata": {},
   "outputs": [
    {
     "data": {
      "text/plain": [
       "(1533078, 5)"
      ]
     },
     "execution_count": 5,
     "metadata": {},
     "output_type": "execute_result"
    }
   ],
   "source": [
    "interactions_df.shape"
   ]
  },
  {
   "cell_type": "code",
   "execution_count": 6,
   "id": "e0adbc9f",
   "metadata": {},
   "outputs": [],
   "source": [
    "interactions_df[\"start_date\"] = pd.to_datetime(interactions_df[\"start_date\"])"
   ]
  },
  {
   "cell_type": "code",
   "execution_count": 7,
   "id": "4c3987d6",
   "metadata": {},
   "outputs": [],
   "source": [
    "duplicates = interactions_df.duplicated(subset=['user_id', 'item_id'], keep=False)\n",
    "df_duplicates = interactions_df[duplicates].sort_values(by=['user_id', 'start_date'])\n",
    "interactions_df = interactions_df[~duplicates]"
   ]
  },
  {
   "cell_type": "code",
   "execution_count": 8,
   "id": "f119a617",
   "metadata": {},
   "outputs": [
    {
     "data": {
      "text/plain": [
       "(1532918, 5)"
      ]
     },
     "execution_count": 8,
     "metadata": {},
     "output_type": "execute_result"
    }
   ],
   "source": [
    "interactions_df.shape"
   ]
  },
  {
   "cell_type": "code",
   "execution_count": 9,
   "id": "2c516d56",
   "metadata": {},
   "outputs": [
    {
     "name": "stderr",
     "output_type": "stream",
     "text": [
      "/tmp/ipykernel_70540/18232112.py:6: FutureWarning: The frame.append method is deprecated and will be removed from pandas in a future version. Use pandas.concat instead.\n",
      "  interactions_df = interactions_df.append(df_duplicates.reset_index(), ignore_index=True)\n"
     ]
    }
   ],
   "source": [
    "df_duplicates = df_duplicates.groupby(['user_id', 'item_id']).agg({\n",
    "    'progress': 'max',\n",
    "    'rating': 'max',\n",
    "    'start_date': 'min'\n",
    "})\n",
    "interactions_df = interactions_df.append(df_duplicates.reset_index(), ignore_index=True)"
   ]
  },
  {
   "cell_type": "code",
   "execution_count": 10,
   "id": "69953465",
   "metadata": {},
   "outputs": [],
   "source": [
    "interactions_df['progress'] = interactions_df['progress'].astype(np.int8)\n",
    "interactions_df['rating'] = interactions_df['rating'].astype(pd.SparseDtype(np.float32, np.nan))"
   ]
  },
  {
   "cell_type": "code",
   "execution_count": 11,
   "id": "f6bc5f8e",
   "metadata": {},
   "outputs": [
    {
     "name": "stdout",
     "output_type": "stream",
     "text": [
      "<class 'pandas.core.frame.DataFrame'>\n",
      "RangeIndex: 1532998 entries, 0 to 1532997\n",
      "Data columns (total 5 columns):\n",
      " #   Column      Non-Null Count    Dtype               \n",
      "---  ------      --------------    -----               \n",
      " 0   user_id     1532998 non-null  int64               \n",
      " 1   item_id     1532998 non-null  int64               \n",
      " 2   progress    1532998 non-null  int8                \n",
      " 3   rating      285355 non-null   Sparse[float32, nan]\n",
      " 4   start_date  1532998 non-null  datetime64[ns]      \n",
      "dtypes: Sparse[float32, nan](1), datetime64[ns](1), int64(2), int8(1)\n",
      "memory usage: 38.7 MB\n"
     ]
    }
   ],
   "source": [
    "interactions_df.info()"
   ]
  },
  {
   "cell_type": "code",
   "execution_count": 12,
   "id": "060d30d3",
   "metadata": {},
   "outputs": [],
   "source": [
    "interactions_df.to_pickle(Config.PREPROCESSED_INTERACTIONS_PATH)"
   ]
  },
  {
   "cell_type": "markdown",
   "id": "63f01407",
   "metadata": {},
   "source": [
    "# User preprocessing"
   ]
  },
  {
   "cell_type": "code",
   "execution_count": 13,
   "id": "8e3ac15a",
   "metadata": {},
   "outputs": [
    {
     "data": {
      "text/html": [
       "<div>\n",
       "<style scoped>\n",
       "    .dataframe tbody tr th:only-of-type {\n",
       "        vertical-align: middle;\n",
       "    }\n",
       "\n",
       "    .dataframe tbody tr th {\n",
       "        vertical-align: top;\n",
       "    }\n",
       "\n",
       "    .dataframe thead th {\n",
       "        text-align: right;\n",
       "    }\n",
       "</style>\n",
       "<table border=\"1\" class=\"dataframe\">\n",
       "  <thead>\n",
       "    <tr style=\"text-align: right;\">\n",
       "      <th></th>\n",
       "      <th>user_id</th>\n",
       "      <th>age</th>\n",
       "      <th>sex</th>\n",
       "    </tr>\n",
       "  </thead>\n",
       "  <tbody>\n",
       "    <tr>\n",
       "      <th>0</th>\n",
       "      <td>1</td>\n",
       "      <td>45_54</td>\n",
       "      <td>NaN</td>\n",
       "    </tr>\n",
       "    <tr>\n",
       "      <th>1</th>\n",
       "      <td>2</td>\n",
       "      <td>18_24</td>\n",
       "      <td>0.0</td>\n",
       "    </tr>\n",
       "    <tr>\n",
       "      <th>2</th>\n",
       "      <td>3</td>\n",
       "      <td>65_inf</td>\n",
       "      <td>0.0</td>\n",
       "    </tr>\n",
       "    <tr>\n",
       "      <th>3</th>\n",
       "      <td>4</td>\n",
       "      <td>18_24</td>\n",
       "      <td>0.0</td>\n",
       "    </tr>\n",
       "    <tr>\n",
       "      <th>4</th>\n",
       "      <td>5</td>\n",
       "      <td>35_44</td>\n",
       "      <td>0.0</td>\n",
       "    </tr>\n",
       "  </tbody>\n",
       "</table>\n",
       "</div>"
      ],
      "text/plain": [
       "   user_id     age  sex\n",
       "0        1   45_54  NaN\n",
       "1        2   18_24  0.0\n",
       "2        3  65_inf  0.0\n",
       "3        4   18_24  0.0\n",
       "4        5   35_44  0.0"
      ]
     },
     "execution_count": 13,
     "metadata": {},
     "output_type": "execute_result"
    }
   ],
   "source": [
    "users_df.head()"
   ]
  },
  {
   "cell_type": "code",
   "execution_count": 14,
   "id": "c84cfa03",
   "metadata": {},
   "outputs": [
    {
     "name": "stdout",
     "output_type": "stream",
     "text": [
      "<class 'pandas.core.frame.DataFrame'>\n",
      "RangeIndex: 142888 entries, 0 to 142887\n",
      "Data columns (total 3 columns):\n",
      " #   Column   Non-Null Count   Dtype  \n",
      "---  ------   --------------   -----  \n",
      " 0   user_id  142888 non-null  int64  \n",
      " 1   age      142742 non-null  object \n",
      " 2   sex      136626 non-null  float64\n",
      "dtypes: float64(1), int64(1), object(1)\n",
      "memory usage: 3.3+ MB\n"
     ]
    }
   ],
   "source": [
    "users_df.info()"
   ]
  },
  {
   "cell_type": "code",
   "execution_count": 15,
   "id": "11220074",
   "metadata": {},
   "outputs": [
    {
     "data": {
      "text/plain": [
       "user_id    142888\n",
       "age             6\n",
       "sex             2\n",
       "dtype: int64"
      ]
     },
     "execution_count": 15,
     "metadata": {},
     "output_type": "execute_result"
    }
   ],
   "source": [
    "users_df.nunique()"
   ]
  },
  {
   "cell_type": "code",
   "execution_count": 16,
   "id": "7609caa3",
   "metadata": {},
   "outputs": [],
   "source": [
    "users_df['age'] = users_df['age'].astype('category')\n",
    "users_df['sex'] = users_df['sex'].astype(pd.SparseDtype(np.float32, np.nan))"
   ]
  },
  {
   "cell_type": "code",
   "execution_count": 17,
   "id": "233e3fa7",
   "metadata": {},
   "outputs": [
    {
     "name": "stdout",
     "output_type": "stream",
     "text": [
      "<class 'pandas.core.frame.DataFrame'>\n",
      "RangeIndex: 142888 entries, 0 to 142887\n",
      "Data columns (total 3 columns):\n",
      " #   Column   Non-Null Count   Dtype               \n",
      "---  ------   --------------   -----               \n",
      " 0   user_id  142888 non-null  int64               \n",
      " 1   age      142742 non-null  category            \n",
      " 2   sex      136626 non-null  Sparse[float32, nan]\n",
      "dtypes: Sparse[float32, nan](1), category(1), int64(1)\n",
      "memory usage: 2.3 MB\n"
     ]
    }
   ],
   "source": [
    "users_df.info()"
   ]
  },
  {
   "cell_type": "code",
   "execution_count": 18,
   "id": "ccebf6b5",
   "metadata": {},
   "outputs": [
    {
     "name": "stdout",
     "output_type": "stream",
     "text": [
      "Total: 158811 (100%)\n",
      "Objects with features and interactions: 135677 (85.43%)\n",
      "Objects with interactions only: 15923 (10.03%)\n",
      "Only with features only: 7211 (4.54%)\n"
     ]
    }
   ],
   "source": [
    "print(interactions_object_listing(interactions_df[\"user_id\"], users_df[\"user_id\"]))"
   ]
  },
  {
   "cell_type": "code",
   "execution_count": 19,
   "id": "73759b31",
   "metadata": {},
   "outputs": [],
   "source": [
    "users_df.to_pickle(Config.PREPROCESSED_USERS_PATH)"
   ]
  },
  {
   "cell_type": "markdown",
   "id": "f4b01ac0",
   "metadata": {},
   "source": [
    "# Items preprocessing"
   ]
  },
  {
   "cell_type": "code",
   "execution_count": 20,
   "id": "16aa3818",
   "metadata": {},
   "outputs": [
    {
     "data": {
      "text/html": [
       "<div>\n",
       "<style scoped>\n",
       "    .dataframe tbody tr th:only-of-type {\n",
       "        vertical-align: middle;\n",
       "    }\n",
       "\n",
       "    .dataframe tbody tr th {\n",
       "        vertical-align: top;\n",
       "    }\n",
       "\n",
       "    .dataframe thead th {\n",
       "        text-align: right;\n",
       "    }\n",
       "</style>\n",
       "<table border=\"1\" class=\"dataframe\">\n",
       "  <thead>\n",
       "    <tr style=\"text-align: right;\">\n",
       "      <th></th>\n",
       "      <th>id</th>\n",
       "      <th>title</th>\n",
       "      <th>genres</th>\n",
       "      <th>authors</th>\n",
       "      <th>year</th>\n",
       "    </tr>\n",
       "  </thead>\n",
       "  <tbody>\n",
       "    <tr>\n",
       "      <th>0</th>\n",
       "      <td>128115</td>\n",
       "      <td>Ворон-челобитчик</td>\n",
       "      <td>Зарубежные детские книги,Сказки,Зарубежная кла...</td>\n",
       "      <td>Михаил Салтыков-Щедрин</td>\n",
       "      <td>1886</td>\n",
       "    </tr>\n",
       "    <tr>\n",
       "      <th>1</th>\n",
       "      <td>210979</td>\n",
       "      <td>Скрипка Ротшильда</td>\n",
       "      <td>Классическая проза,Литература 19 века,Русская ...</td>\n",
       "      <td>Антон Чехов</td>\n",
       "      <td>1894</td>\n",
       "    </tr>\n",
       "    <tr>\n",
       "      <th>2</th>\n",
       "      <td>95632</td>\n",
       "      <td>Испорченные дети</td>\n",
       "      <td>Зарубежная классика,Классическая проза,Литерат...</td>\n",
       "      <td>Михаил Салтыков-Щедрин</td>\n",
       "      <td>1869</td>\n",
       "    </tr>\n",
       "    <tr>\n",
       "      <th>3</th>\n",
       "      <td>247906</td>\n",
       "      <td>Странный человек</td>\n",
       "      <td>Пьесы и драматургия,Литература 19 века</td>\n",
       "      <td>Михаил Лермонтов</td>\n",
       "      <td>1831</td>\n",
       "    </tr>\n",
       "    <tr>\n",
       "      <th>4</th>\n",
       "      <td>294280</td>\n",
       "      <td>Господа ташкентцы</td>\n",
       "      <td>Зарубежная классика,Классическая проза,Литерат...</td>\n",
       "      <td>Михаил Салтыков-Щедрин</td>\n",
       "      <td>1873</td>\n",
       "    </tr>\n",
       "  </tbody>\n",
       "</table>\n",
       "</div>"
      ],
      "text/plain": [
       "       id              title  \\\n",
       "0  128115   Ворон-челобитчик   \n",
       "1  210979  Скрипка Ротшильда   \n",
       "2   95632   Испорченные дети   \n",
       "3  247906   Странный человек   \n",
       "4  294280  Господа ташкентцы   \n",
       "\n",
       "                                              genres                 authors  \\\n",
       "0  Зарубежные детские книги,Сказки,Зарубежная кла...  Михаил Салтыков-Щедрин   \n",
       "1  Классическая проза,Литература 19 века,Русская ...             Антон Чехов   \n",
       "2  Зарубежная классика,Классическая проза,Литерат...  Михаил Салтыков-Щедрин   \n",
       "3             Пьесы и драматургия,Литература 19 века        Михаил Лермонтов   \n",
       "4  Зарубежная классика,Классическая проза,Литерат...  Михаил Салтыков-Щедрин   \n",
       "\n",
       "   year  \n",
       "0  1886  \n",
       "1  1894  \n",
       "2  1869  \n",
       "3  1831  \n",
       "4  1873  "
      ]
     },
     "execution_count": 20,
     "metadata": {},
     "output_type": "execute_result"
    }
   ],
   "source": [
    "items_df.head()"
   ]
  },
  {
   "cell_type": "code",
   "execution_count": 21,
   "id": "f3d976b6",
   "metadata": {},
   "outputs": [
    {
     "name": "stdout",
     "output_type": "stream",
     "text": [
      "<class 'pandas.core.frame.DataFrame'>\n",
      "RangeIndex: 59599 entries, 0 to 59598\n",
      "Data columns (total 5 columns):\n",
      " #   Column   Non-Null Count  Dtype \n",
      "---  ------   --------------  ----- \n",
      " 0   id       59599 non-null  int64 \n",
      " 1   title    59599 non-null  object\n",
      " 2   genres   59568 non-null  object\n",
      " 3   authors  52714 non-null  object\n",
      " 4   year     46720 non-null  object\n",
      "dtypes: int64(1), object(4)\n",
      "memory usage: 2.3+ MB\n"
     ]
    }
   ],
   "source": [
    "items_df.info()"
   ]
  },
  {
   "cell_type": "code",
   "execution_count": 22,
   "id": "e23b3ce3",
   "metadata": {},
   "outputs": [],
   "source": [
    "def num_bytes_format(num_bytes, float_prec=4):\n",
    "    units = ['bytes', 'Kb', 'Mb', 'Gb', 'Tb', 'Pb', 'Eb']\n",
    "    for unit in units[:-1]:\n",
    "        if abs(num_bytes) < 1000:\n",
    "            return f'{num_bytes:.{float_prec}f} {unit}'\n",
    "        num_bytes /= 1000\n",
    "    return f'{num_bytes:.4f} {units[-1]}'"
   ]
  },
  {
   "cell_type": "code",
   "execution_count": 23,
   "id": "e56ad76b",
   "metadata": {},
   "outputs": [
    {
     "data": {
      "text/plain": [
       "'28.1660 Mb'"
      ]
     },
     "execution_count": 23,
     "metadata": {},
     "output_type": "execute_result"
    }
   ],
   "source": [
    "num_bytes = items_df.memory_usage(deep=True).sum()\n",
    "num_bytes_format(num_bytes)"
   ]
  },
  {
   "cell_type": "code",
   "execution_count": 24,
   "id": "6b5e1c26",
   "metadata": {},
   "outputs": [
    {
     "data": {
      "text/plain": [
       "id         59599\n",
       "title      57358\n",
       "genres     10769\n",
       "authors    17265\n",
       "year        1053\n",
       "dtype: int64"
      ]
     },
     "execution_count": 24,
     "metadata": {},
     "output_type": "execute_result"
    }
   ],
   "source": [
    "items_df.nunique()"
   ]
  },
  {
   "cell_type": "code",
   "execution_count": 25,
   "id": "4a77dfbe",
   "metadata": {},
   "outputs": [
    {
     "data": {
      "text/plain": [
       "2018                   5046\n",
       "2017                   4505\n",
       "2019                   4504\n",
       "2016                   3704\n",
       "2015                   3419\n",
       "                       ... \n",
       "1957, 1966, 1970          1\n",
       "1932, 1976                1\n",
       "1987, 1989                1\n",
       "1929, 1931                1\n",
       "1965,1966,1967,1968       1\n",
       "Name: year, Length: 1053, dtype: int64"
      ]
     },
     "execution_count": 25,
     "metadata": {},
     "output_type": "execute_result"
    }
   ],
   "source": [
    "items_df['year'].value_counts()"
   ]
  },
  {
   "cell_type": "code",
   "execution_count": 26,
   "id": "a5a4d8e6",
   "metadata": {},
   "outputs": [],
   "source": [
    "for col in ['genres', 'authors', 'year']:\n",
    "    items_df[col] = items_df[col].astype('category')"
   ]
  },
  {
   "cell_type": "code",
   "execution_count": 27,
   "id": "ed8e5b71",
   "metadata": {},
   "outputs": [
    {
     "data": {
      "text/plain": [
       "'17.7194 Mb'"
      ]
     },
     "execution_count": 27,
     "metadata": {},
     "output_type": "execute_result"
    }
   ],
   "source": [
    "num_bytes = items_df.memory_usage(deep=True).sum()\n",
    "num_bytes_format(num_bytes)"
   ]
  },
  {
   "cell_type": "code",
   "execution_count": 28,
   "id": "65152e2c",
   "metadata": {},
   "outputs": [
    {
     "name": "stdout",
     "output_type": "stream",
     "text": [
      "Total: 59599 (100%)\n",
      "Objects with features and interactions: 59599 (100.00%)\n",
      "Objects with interactions only: 0 (0.00%)\n",
      "Only with features only: 0 (0.00%)\n"
     ]
    }
   ],
   "source": [
    "print(interactions_object_listing(interactions_df[\"item_id\"], items_df[\"id\"]))"
   ]
  },
  {
   "cell_type": "code",
   "execution_count": 29,
   "id": "803071c9",
   "metadata": {},
   "outputs": [],
   "source": [
    "items_df.to_pickle(Config.PREPROCESSED_ITEMS_PATH)"
   ]
  },
  {
   "cell_type": "code",
   "execution_count": null,
   "id": "b95e7d31",
   "metadata": {},
   "outputs": [],
   "source": []
  }
 ],
 "metadata": {
  "kernelspec": {
   "display_name": "core",
   "language": "python",
   "name": "python3"
  },
  "language_info": {
   "codemirror_mode": {
    "name": "ipython",
    "version": 3
   },
   "file_extension": ".py",
   "mimetype": "text/x-python",
   "name": "python",
   "nbconvert_exporter": "python",
   "pygments_lexer": "ipython3",
   "version": "3.10.9"
  },
  "vscode": {
   "interpreter": {
    "hash": "009d69282f0b7257078526d54b136153003b0cf2c7ed5bb47bc5d27e99d5a7ba"
   }
  }
 },
 "nbformat": 4,
 "nbformat_minor": 5
}
